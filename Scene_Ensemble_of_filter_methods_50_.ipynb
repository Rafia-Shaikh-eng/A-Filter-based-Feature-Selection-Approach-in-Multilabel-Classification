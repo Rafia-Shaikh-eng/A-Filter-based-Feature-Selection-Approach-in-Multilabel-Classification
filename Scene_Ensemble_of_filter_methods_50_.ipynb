{
  "cells": [
    {
      "cell_type": "markdown",
      "metadata": {
        "id": "view-in-github",
        "colab_type": "text"
      },
      "source": [
        "<a href=\"https://colab.research.google.com/github/Rafia-Shaikh-eng/A-Filter-based-Feature-Selection-Approach-in-Multilabel-Classification/blob/main/Scene_Ensemble_of_filter_methods_50_.ipynb\" target=\"_parent\"><img src=\"https://colab.research.google.com/assets/colab-badge.svg\" alt=\"Open In Colab\"/></a>"
      ]
    },
    {
      "cell_type": "code",
      "execution_count": 1,
      "metadata": {
        "colab": {
          "base_uri": "https://localhost:8080/"
        },
        "id": "h31B8Zh6p7iW",
        "outputId": "bff3999a-c2d2-4336-ccfa-ceb969374d2a"
      },
      "outputs": [
        {
          "output_type": "stream",
          "name": "stdout",
          "text": [
            "Collecting scikit-multilearn\n",
            "  Downloading scikit_multilearn-0.2.0-py3-none-any.whl (89 kB)\n",
            "\u001b[?25l     \u001b[90m━━━━━━━━━━━━━━━━━━━━━━━━━━━━━━━━━━━━━━━━\u001b[0m \u001b[32m0.0/89.4 kB\u001b[0m \u001b[31m?\u001b[0m eta \u001b[36m-:--:--\u001b[0m\r\u001b[2K     \u001b[91m━━━━━━━━━━━━━━━━━━━━━━━━━━━━━━━━━━━━\u001b[0m\u001b[91m╸\u001b[0m\u001b[90m━━━\u001b[0m \u001b[32m81.9/89.4 kB\u001b[0m \u001b[31m2.5 MB/s\u001b[0m eta \u001b[36m0:00:01\u001b[0m\r\u001b[2K     \u001b[90m━━━━━━━━━━━━━━━━━━━━━━━━━━━━━━━━━━━━━━━━\u001b[0m \u001b[32m89.4/89.4 kB\u001b[0m \u001b[31m2.2 MB/s\u001b[0m eta \u001b[36m0:00:00\u001b[0m\n",
            "\u001b[?25hInstalling collected packages: scikit-multilearn\n",
            "Successfully installed scikit-multilearn-0.2.0\n",
            "Collecting arff\n",
            "  Downloading arff-0.9.tar.gz (4.7 kB)\n",
            "  Preparing metadata (setup.py) ... \u001b[?25l\u001b[?25hdone\n",
            "Building wheels for collected packages: arff\n",
            "  Building wheel for arff (setup.py) ... \u001b[?25l\u001b[?25hdone\n",
            "  Created wheel for arff: filename=arff-0.9-py3-none-any.whl size=4948 sha256=08799cddfe10f0946e75dd4e752486ad7092a0dea2dcbd367df4aa14e8246da3\n",
            "  Stored in directory: /root/.cache/pip/wheels/0c/39/12/4d8ff491018bce2dd9cc6034298f27399c7f4fd4063187f7be\n",
            "Successfully built arff\n",
            "Installing collected packages: arff\n",
            "Successfully installed arff-0.9\n"
          ]
        }
      ],
      "source": [
        "# if the scikit-multilearn not installed run this cell\n",
        "!pip install scikit-multilearn\n",
        "# !pip install --upgrade scikit-learn scikit-multilearn\n",
        "# most of the datasets in Weka Arff format for this installed this library\n",
        "!pip install arff"
      ]
    },
    {
      "cell_type": "markdown",
      "metadata": {
        "id": "BU5hh7rZp0cv"
      },
      "source": [
        "# 1. Scene dataset"
      ]
    },
    {
      "cell_type": "code",
      "execution_count": null,
      "metadata": {
        "colab": {
          "base_uri": "https://localhost:8080/"
        },
        "id": "Lq3goS6ymEci",
        "outputId": "15c5c8cd-7cf2-4879-e081-f8dd79c77071"
      },
      "outputs": [
        {
          "name": "stdout",
          "output_type": "stream",
          "text": [
            "scene:undivided - exists, not redownloading\n",
            "Actual Dataset\n",
            "(2407, 294) (2407, 6)\n",
            "Coverted into Dataframe\n",
            "(2407, 294) (2407, 6)\n"
          ]
        }
      ],
      "source": [
        "#Load scene Dataset\n",
        "from skmultilearn.dataset import load_dataset\n",
        "x1,y1, _, _ = load_dataset('scene', 'undivided')\n",
        "print(\"Actual Dataset\")\n",
        "print(x1.shape,y1.shape)\n",
        "#change to matrix\n",
        "x1=x1.todense()\n",
        "y1=y1.todense()\n",
        "import pandas as pd\n",
        "#change to dataFrame\n",
        "x1=pd.DataFrame(x1)\n",
        "y1=pd.DataFrame(y1)\n",
        "print(\"Coverted into Dataframe\")\n",
        "print(x1.shape,y1.shape)"
      ]
    },
    {
      "cell_type": "markdown",
      "metadata": {
        "id": "Wxvw_zw5Cx9j"
      },
      "source": [
        "## Feature Selection"
      ]
    },
    {
      "cell_type": "markdown",
      "metadata": {
        "id": "5xgCtm_wmpw9"
      },
      "source": [
        "### mutual information - function"
      ]
    },
    {
      "cell_type": "code",
      "execution_count": null,
      "metadata": {
        "colab": {
          "base_uri": "https://localhost:8080/"
        },
        "id": "yAE242zcm1HP",
        "outputId": "538b02c5-38f0-4d9f-f730-d149121354ed"
      },
      "outputs": [
        {
          "name": "stdout",
          "output_type": "stream",
          "text": [
            "40% features of medical dataset =  147\n"
          ]
        }
      ],
      "source": [
        "# import the required functions and object.\n",
        "from sklearn.feature_selection import mutual_info_classif\n",
        "from sklearn.feature_selection import SelectKBest\n",
        "import numpy as np\n",
        "import pandas as pd\n",
        "\n",
        "# select the number of features you want to retain.\n",
        "select_k1 = round(len(x1.columns)*0.5)\n",
        "print(\"40% features of medical dataset = \",select_k1)\n",
        "\n",
        "# get only the numerical features.\n",
        "numerical_x1 =x1[x1.select_dtypes([np.number]).columns]\n",
        "features_selected_40=[]\n",
        "features_weights=[]\n",
        "for a in range(len(x1.columns)):\n",
        "   features_weights.append(0)\n",
        "for i in range(len(y1.columns)):\n",
        "  # create the SelectKBest with the mutual info strategy.\n",
        "  selection =SelectKBest(mutual_info_classif, k=select_k1).fit(numerical_x1, y1.iloc[:,i])\n",
        "\n",
        "  # display the retained features.\n",
        "  features=list(x1.columns[selection.get_support()])\n",
        "  labels=y1.columns[i]\n",
        "  features_selected_40=[labels, features]\n",
        "  #print(features_selected_40[i])\n",
        "  #calculating weight for each feature\n",
        "  #if a feature is correlate to label count them and than divide it by total labels\n",
        "  for f in features_selected_40[1]:\n",
        "  # for f in features:\n",
        "    for count in range(len(x1.columns)):\n",
        "      if(f==x1.columns[count]):\n",
        "        features_weights[count]+=1\n",
        "list_f_w={}\n",
        "#if a feature is correlate to label count them and than divide it by total labels\n",
        "for i in range(len(x1.columns)):\n",
        "  features_weights[i]=round(features_weights[i]/len(x1.columns),3)\n",
        "  list_f_w.update({x1.columns[i] : features_weights[i]})"
      ]
    },
    {
      "cell_type": "code",
      "execution_count": null,
      "metadata": {
        "id": "xWZu37n9qDEE"
      },
      "outputs": [],
      "source": [
        "#sort weights\n",
        "import operator\n",
        "sorted_list_f_w = sorted(list_f_w.items(), key=operator.itemgetter(1), reverse=True)\n",
        "import collections\n",
        "sorted_dict_f = collections.OrderedDict(sorted_list_f_w)\n",
        "#print(sorted_dict_f)"
      ]
    },
    {
      "cell_type": "code",
      "execution_count": null,
      "metadata": {
        "colab": {
          "base_uri": "https://localhost:8080/"
        },
        "id": "uzhzo63ZeagW",
        "outputId": "635f0d42-d9ad-4b85-a7ac-2b1548ea1fc0"
      },
      "outputs": [
        {
          "name": "stdout",
          "output_type": "stream",
          "text": [
            "[0, 1, 2, 3, 4, 5, 10, 28, 29, 30, 31, 33, 34, 35, 36, 37, 38, 39, 40, 41, 42, 43, 44, 45, 46, 47, 48, 54, 58, 62, 79, 82, 88, 91, 92, 93, 94, 95, 96, 97, 98, 99, 100, 101, 102, 103, 104, 105, 106, 107, 108, 109, 110, 111, 112, 113, 114, 115, 116, 117, 118, 119, 120, 121, 122, 123, 124, 125, 126, 127, 128, 129, 130, 131, 132, 133, 134, 135, 136, 137, 138, 139, 141, 142, 143, 144, 145, 146, 147, 151, 152, 154, 156, 158, 160, 165, 167, 169, 170, 171, 177, 182, 183, 188, 191, 194, 196, 197, 198, 199, 200, 201, 202, 203, 204, 205, 206, 207, 208, 209, 210, 211, 212, 213, 214, 215, 216, 217, 218, 219, 220, 221, 222, 223, 224, 225, 226, 227, 228, 229, 230, 231, 232, 233, 234, 238, 244]\n"
          ]
        }
      ],
      "source": [
        "#now, access top 50% weighted features(keys)\n",
        "MI_final_features=[]\n",
        "found=False\n",
        "for i in range(round(len(x1.columns)*0.5)):\n",
        "    MI_final_features.append(list(sorted_dict_f.keys())[i])\n",
        "MI_final_features.sort()\n",
        "\n",
        "#drop other than top 50% weighted features\n",
        "# selected_features = set(x1.columns).intersection(final_features)\n",
        "\n",
        "#print(set(x.columns))\n",
        "print(MI_final_features)\n",
        "\n",
        "# for i in list(x1.columns):\n",
        "#     if i not in selected_features:\n",
        "#         MI_list_features = x1.drop(columns=[i]).copy()\n",
        "\n",
        "#print(set(x.columns) == selected_features)\n"
      ]
    },
    {
      "cell_type": "code",
      "execution_count": null,
      "metadata": {
        "id": "a9RgXqj3j95l"
      },
      "outputs": [],
      "source": [
        "MI_set_features=set(MI_final_features)"
      ]
    },
    {
      "cell_type": "markdown",
      "metadata": {
        "id": "re0HPi9wkhM-"
      },
      "source": [
        "### Fisher score - feature selection set"
      ]
    },
    {
      "cell_type": "code",
      "execution_count": null,
      "metadata": {
        "id": "0FkyyFYjkXrS"
      },
      "outputs": [],
      "source": [
        "import numpy as np\n",
        "from sklearn.feature_selection import f_classif\n",
        "\n",
        "def calculate_fisher_score(X, Y):\n",
        "    fisher_scores, _ = f_classif(X, Y)\n",
        "    return fisher_scores\n",
        "\n",
        "def select_top_K_features(scores, K):\n",
        "    sorted_indices = np.argsort(scores)[::-1]\n",
        "    return sorted_indices[:K]\n",
        "\n",
        "def select_features(X, Y, K,p):\n",
        "    selected_features = set()\n",
        "    MI = {}  # Create an empty dictionary\n",
        "\n",
        "    # Calculate Fisher's scores for each feature associated with each label\n",
        "    for label in Y.columns:\n",
        "        MI[label] = calculate_fisher_score(X, Y[label])\n",
        "    # Select top K features for each label\n",
        "    for label in MI.keys():\n",
        "        topK = select_top_K_features(MI[label], K)\n",
        "        MI[label] = topK\n",
        "    # Count occurrences of selected features\n",
        "    feature_counts = {}\n",
        "    for label in MI.keys():\n",
        "        for feature in MI[label]:\n",
        "            if feature in feature_counts:\n",
        "                feature_counts[feature] += 1\n",
        "            else:\n",
        "                feature_counts[feature] = 1\n",
        "\n",
        "    # Select features based on the aggregated counts\n",
        "    for feature, count in feature_counts.items():\n",
        "        if count >= int(len((Y.columns))*p):  # Adjust this condition as needed\n",
        "            selected_features.add(feature)\n",
        "\n",
        "    return selected_features\n"
      ]
    },
    {
      "cell_type": "code",
      "execution_count": null,
      "metadata": {
        "id": "0TUNiysslW1F"
      },
      "outputs": [],
      "source": [
        "#call funtion\n",
        "# Usage example\n",
        "FisherS_set_features = select_features(x1, y1, K=int((x1.shape[1])*0.5),p=0.5)\n",
        "# print(\"Selected features based on Fisher's score:\", selected_features)\n",
        "#updated the original x\n",
        "# for i in list(x1.columns):\n",
        "#     if i not in selected_features:\n",
        "#         FisherS_list_features = x1.drop(columns=[i]).copy()"
      ]
    },
    {
      "cell_type": "markdown",
      "metadata": {
        "id": "yWiRayKxnU8w"
      },
      "source": [
        "### ANOA - feature selection"
      ]
    },
    {
      "cell_type": "code",
      "execution_count": null,
      "metadata": {
        "id": "UqcbMpNdlZKI"
      },
      "outputs": [],
      "source": [
        "import numpy as np\n",
        "from sklearn.feature_selection import f_classif\n",
        "\n",
        "def calculate_anova_score(X, Y):\n",
        "    anova_scores, _ = f_classif(X, Y)\n",
        "    return anova_scores\n",
        "\n",
        "def select_top_K_features(scores, K):\n",
        "    sorted_indices = np.argsort(scores)[::-1]\n",
        "    return sorted_indices[:K]\n",
        "\n",
        "def select_features(X, Y, K,p):\n",
        "    selected_features = set()\n",
        "    ANOVA = {}  # Create an empty dictionary\n",
        "\n",
        "    # Calculate ANOVA scores for each feature associated with each label\n",
        "    for label in Y.columns:\n",
        "        ANOVA[label] = calculate_anova_score(X, Y[label])\n",
        "\n",
        "    # Select top K features for each label\n",
        "    for label in ANOVA.keys():\n",
        "        topK = select_top_K_features(ANOVA[label], K)\n",
        "        ANOVA[label] = topK\n",
        "\n",
        "    # Count occurrences of selected features\n",
        "    feature_counts = {}\n",
        "    for label in ANOVA.keys():\n",
        "        for feature in ANOVA[label]:\n",
        "            if feature in feature_counts:\n",
        "                feature_counts[feature] += 1\n",
        "            else:\n",
        "                feature_counts[feature] = 1\n",
        "\n",
        "    # Select features based on the aggregated counts\n",
        "    for feature, count in feature_counts.items():\n",
        "        if count >= int(len((Y.columns))*p):  # Adjust this condition as needed\n",
        "            selected_features.add(feature)\n",
        "\n",
        "    return selected_features"
      ]
    },
    {
      "cell_type": "code",
      "execution_count": null,
      "metadata": {
        "id": "gA7hH4IMnzlW"
      },
      "outputs": [],
      "source": [
        "#call funtion\n",
        "# Usage example\n",
        "ANOVA_set_features = select_features(x1, y1, K=int((x1.shape[1])*0.5),p=0.5)\n",
        "# print(\"Selected features based on Fisher's score:\", selected_features)\n",
        "#updated the original x\n",
        "# for i in list(x1.columns):\n",
        "#     if i not in selected_features:\n",
        "#         ANOVA_list_features = x1.drop(columns=[i]).copy()"
      ]
    },
    {
      "cell_type": "markdown",
      "metadata": {
        "id": "5vO9naTTonUQ"
      },
      "source": [
        "### Chi2 - Feature Selection"
      ]
    },
    {
      "cell_type": "code",
      "execution_count": null,
      "metadata": {
        "id": "0BxWJr9kopZh"
      },
      "outputs": [],
      "source": [
        "import numpy as np\n",
        "from sklearn.feature_selection import f_classif\n",
        "\n",
        "def calculate_fisher_score(X, Y):\n",
        "    fisher_scores, _ = f_classif(X, Y)\n",
        "    return fisher_scores\n",
        "\n",
        "def select_top_K_features(scores, K):\n",
        "    sorted_indices = np.argsort(scores)[::-1]\n",
        "    return sorted_indices[:K]\n",
        "\n",
        "def select_features(X, Y, K,p):\n",
        "    selected_features = set()\n",
        "    MI = {}  # Create an empty dictionary\n",
        "\n",
        "    # Calculate Fisher's scores for each feature associated with each label\n",
        "    for label in Y.columns:\n",
        "        MI[label] = calculate_fisher_score(X, Y[label])\n",
        "    # Select top K features for each label\n",
        "    for label in MI.keys():\n",
        "        topK = select_top_K_features(MI[label], K)\n",
        "        MI[label] = topK\n",
        "    # Count occurrences of selected features\n",
        "    feature_counts = {}\n",
        "    for label in MI.keys():\n",
        "        for feature in MI[label]:\n",
        "            if feature in feature_counts:\n",
        "                feature_counts[feature] += 1\n",
        "            else:\n",
        "                feature_counts[feature] = 1\n",
        "\n",
        "    # Select features based on the aggregated counts\n",
        "    for feature, count in feature_counts.items():\n",
        "        if count >= int(len((Y.columns))*p):  # Adjust this condition as needed\n",
        "            selected_features.add(feature)\n",
        "\n",
        "    return selected_features\n"
      ]
    },
    {
      "cell_type": "code",
      "execution_count": null,
      "metadata": {
        "id": "JNoThAXIp0-B"
      },
      "outputs": [],
      "source": [
        "#call funtion\n",
        "# Usage example\n",
        "chi2_set_features = select_features(x1, y1, K=int((x1.shape[1])*0.5),p=0.5)\n",
        "# print(\"Selected features based on Fisher's score:\", selected_features)\n",
        "#updated the original x\n",
        "# for i in list(x1.columns):\n",
        "#     if i not in selected_features:\n",
        "#         chi2_list_features = x1.drop(columns=[i]).copy()"
      ]
    },
    {
      "cell_type": "markdown",
      "metadata": {
        "id": "ItKdbRGUNugB"
      },
      "source": [
        "### Ensemble of filter techniques"
      ]
    },
    {
      "cell_type": "code",
      "execution_count": null,
      "metadata": {
        "id": "aNChwHx0qEvs"
      },
      "outputs": [],
      "source": [
        "ensemble_features=MI_set_features.intersection(chi2_set_features,ANOVA_set_features,FisherS_set_features)"
      ]
    },
    {
      "cell_type": "code",
      "execution_count": null,
      "metadata": {
        "colab": {
          "base_uri": "https://localhost:8080/"
        },
        "id": "blLbWxxgqfOz",
        "outputId": "10bd6167-e65b-4692-c68d-eef9dd14b70f"
      },
      "outputs": [
        {
          "data": {
            "text/plain": [
              "126"
            ]
          },
          "execution_count": 14,
          "metadata": {},
          "output_type": "execute_result"
        }
      ],
      "source": [
        "len(ensemble_features)"
      ]
    },
    {
      "cell_type": "code",
      "execution_count": null,
      "metadata": {
        "id": "8-Q1C-rZUM9B"
      },
      "outputs": [],
      "source": [
        "#updated the original x\n",
        "for i in list(x1.columns):\n",
        "    if i not in ensemble_features:\n",
        "        x1.drop(columns=[i], inplace=True)"
      ]
    },
    {
      "cell_type": "code",
      "execution_count": null,
      "metadata": {
        "colab": {
          "base_uri": "https://localhost:8080/"
        },
        "id": "1COQAS_hUhvp",
        "outputId": "84aed394-86b0-45a1-860d-5203790261cc"
      },
      "outputs": [
        {
          "data": {
            "text/plain": [
              "(2407, 126)"
            ]
          },
          "execution_count": 16,
          "metadata": {},
          "output_type": "execute_result"
        }
      ],
      "source": [
        "x1.shape"
      ]
    },
    {
      "cell_type": "markdown",
      "metadata": {
        "id": "H_zMg-zSrDSv"
      },
      "source": [
        "## Classification"
      ]
    },
    {
      "cell_type": "code",
      "execution_count": null,
      "metadata": {
        "id": "gtWvBw_ATfk6"
      },
      "outputs": [],
      "source": [
        "import time\n",
        "#Training Time\n",
        "TT_medical=list()"
      ]
    },
    {
      "cell_type": "markdown",
      "metadata": {
        "id": "gC4YzTwZsraY"
      },
      "source": [
        "#### Split dataset"
      ]
    },
    {
      "cell_type": "code",
      "execution_count": null,
      "metadata": {
        "colab": {
          "base_uri": "https://localhost:8080/"
        },
        "id": "zuIC0_ldrE0x",
        "outputId": "c1dc2d74-88c5-4693-ca2a-8764d497263d"
      },
      "outputs": [
        {
          "name": "stdout",
          "output_type": "stream",
          "text": [
            "(1685, 126) (722, 126) (1685, 6) (722, 6)\n"
          ]
        }
      ],
      "source": [
        "from scipy import sparse as s\n",
        "x1 = s.csr_matrix(x1)\n",
        "y1 = s.csr_matrix(y1)\n",
        "from skmultilearn.model_selection import iterative_train_test_split\n",
        "x1_train, y1_train, x1_test, y1_test = iterative_train_test_split(x1, y1, test_size = 0.3)\n",
        "print(x1_train.shape, x1_test.shape, y1_train.shape, y1_test.shape)"
      ]
    },
    {
      "cell_type": "markdown",
      "metadata": {
        "id": "cGLs4tIYstqK"
      },
      "source": [
        "### MLKNN"
      ]
    },
    {
      "cell_type": "code",
      "execution_count": null,
      "metadata": {
        "id": "5BoBJ1gBwySu"
      },
      "outputs": [],
      "source": [
        "# !pip install scikit-learn==0.23.2"
      ]
    },
    {
      "cell_type": "code",
      "execution_count": null,
      "metadata": {
        "id": "w5eUcacVss8W"
      },
      "outputs": [],
      "source": [
        "#MLKNN\n",
        "from skmultilearn.adapt import MLkNN\n",
        "#MLKNN is an adaptation of the kNN lazy learning algorithm for multi-label data.\n",
        "# apply MLkNN for medical dataset it has 45 labels.\n",
        "classifier2 = MLkNN(k=45)\n",
        "t0=time.time()\n",
        "# train\n",
        "classifier2.fit(x1_train, y1_train)\n",
        "TT_medical.append(round(time.time()-t0,2))\n",
        "# predict\n",
        "MLKNN1_predictions = classifier2.predict(x1_test)"
      ]
    },
    {
      "cell_type": "markdown",
      "metadata": {
        "id": "Z0Pud1wGBaUm"
      },
      "source": [
        "### MLTSVM"
      ]
    },
    {
      "cell_type": "code",
      "execution_count": null,
      "metadata": {
        "id": "G2_mSlO_BZds"
      },
      "outputs": [],
      "source": [
        "#MLTSVM\n",
        "from skmultilearn.adapt import MLTSVM\n",
        "classifier1 = MLTSVM(max_iteration=1000,c_k=2**-6)\n",
        "t0=time.time()\n",
        "# train\n",
        "classifier1.fit(x1_train, y1_train)\n",
        "TT_medical.append(round(time.time()-t0,2))\n",
        "# predict\n",
        "MLTSVM1_predictions = classifier1.predict(x1_test)"
      ]
    },
    {
      "cell_type": "markdown",
      "metadata": {
        "id": "QM6EBVLnAiF1"
      },
      "source": [
        "\n",
        "### BRKKNa"
      ]
    },
    {
      "cell_type": "code",
      "execution_count": null,
      "metadata": {
        "id": "dcYb6ar4swku"
      },
      "outputs": [],
      "source": [
        "from skmultilearn.adapt import BRkNNaClassifier\n",
        "classifier3 = BRkNNaClassifier(k=45)\n",
        "t0=time.time()\n",
        "# train\n",
        "classifier3.fit(x1_train, y1_train)\n",
        "TT_medical.append(round(time.time()-t0,2))\n",
        "# predict\n",
        "BR1_predictions = classifier3.predict(x1_test)"
      ]
    },
    {
      "cell_type": "markdown",
      "metadata": {
        "id": "-fKOVjpzDCx6"
      },
      "source": [
        "### Measuring Metrices"
      ]
    },
    {
      "cell_type": "code",
      "execution_count": null,
      "metadata": {
        "id": "1Ic-94twBSFb"
      },
      "outputs": [],
      "source": [
        "import sklearn.metrics as m\n",
        "#Hamming Loss\n",
        "HL_medical=list()\n",
        "HL_medical.append(round(m.hamming_loss(y1_test, MLTSVM1_predictions),2))\n",
        "HL_medical.append(round(m.hamming_loss(y1_test, MLKNN1_predictions),2))\n",
        "HL_medical.append(round(m.hamming_loss(y1_test, BR1_predictions),2))\n",
        "\n",
        "#Accuracy\n",
        "AC_medical=list()\n",
        "AC_medical.append(round(m.accuracy_score(y1_test, MLTSVM1_predictions),2))\n",
        "AC_medical.append(round(m.accuracy_score(y1_test, MLKNN1_predictions),2))\n",
        "AC_medical.append(round(m.accuracy_score(y1_test, BR1_predictions),2))\n",
        "\n",
        "#Micro Precision\n",
        "P_medical=list()\n",
        "P_medical.append(round(m.precision_score(y1_test, MLTSVM1_predictions, average='micro', zero_division='warn'),2))\n",
        "P_medical.append(round(m.precision_score(y1_test, MLKNN1_predictions, average='micro', zero_division='warn'),2))\n",
        "P_medical.append(round(m.precision_score(y1_test, BR1_predictions, average='micro', zero_division='warn'),2))\n",
        "\n",
        "#Micro Recall\n",
        "R_medical=list()\n",
        "R_medical.append(round(m.recall_score(y1_test, MLTSVM1_predictions, average='micro',zero_division='warn'),2))\n",
        "R_medical.append(round(m.recall_score(y1_test, MLKNN1_predictions, average='micro',zero_division='warn'),2))\n",
        "R_medical.append(round(m.recall_score(y1_test, BR1_predictions, average='micro',zero_division='warn'),2))\n",
        "\n",
        "#Micro F1 measure\n",
        "F_medical=list()\n",
        "F_medical.append(round(m.f1_score(y1_test, MLTSVM1_predictions, average='micro',zero_division='warn'),2))\n",
        "F_medical.append(round(m.f1_score(y1_test, MLKNN1_predictions, average='micro',zero_division='warn'),2))\n",
        "F_medical.append(round(m.f1_score(y1_test, BR1_predictions, average='micro',zero_division='warn'),2))\n"
      ]
    },
    {
      "cell_type": "code",
      "execution_count": null,
      "metadata": {
        "id": "DFsPOgaYG-Cl",
        "outputId": "b1d4a1b4-693d-44ec-820e-ccb754764eaf"
      },
      "outputs": [
        {
          "data": {
            "text/html": [
              "<div>\n",
              "<style scoped>\n",
              "    .dataframe tbody tr th:only-of-type {\n",
              "        vertical-align: middle;\n",
              "    }\n",
              "\n",
              "    .dataframe tbody tr th {\n",
              "        vertical-align: top;\n",
              "    }\n",
              "\n",
              "    .dataframe thead th {\n",
              "        text-align: right;\n",
              "    }\n",
              "</style>\n",
              "<table border=\"1\" class=\"dataframe\">\n",
              "  <thead>\n",
              "    <tr style=\"text-align: right;\">\n",
              "      <th></th>\n",
              "      <th>Hamming Loss</th>\n",
              "      <th>Accuracy</th>\n",
              "      <th>Precison</th>\n",
              "      <th>Recall</th>\n",
              "      <th>F1 Score</th>\n",
              "    </tr>\n",
              "  </thead>\n",
              "  <tbody>\n",
              "    <tr>\n",
              "      <th>0</th>\n",
              "      <td>0.82</td>\n",
              "      <td>0.00</td>\n",
              "      <td>0.18</td>\n",
              "      <td>1.00</td>\n",
              "      <td>1.98</td>\n",
              "    </tr>\n",
              "    <tr>\n",
              "      <th>1</th>\n",
              "      <td>0.11</td>\n",
              "      <td>0.54</td>\n",
              "      <td>0.76</td>\n",
              "      <td>0.59</td>\n",
              "      <td>16.12</td>\n",
              "    </tr>\n",
              "    <tr>\n",
              "      <th>2</th>\n",
              "      <td>0.10</td>\n",
              "      <td>0.53</td>\n",
              "      <td>0.81</td>\n",
              "      <td>0.55</td>\n",
              "      <td>0.00</td>\n",
              "    </tr>\n",
              "  </tbody>\n",
              "</table>\n",
              "</div>"
            ],
            "text/plain": [
              "   Hamming Loss  Accuracy  Precison  Recall  F1 Score\n",
              "0          0.82      0.00      0.18    1.00      1.98\n",
              "1          0.11      0.54      0.76    0.59     16.12\n",
              "2          0.10      0.53      0.81    0.55      0.00"
            ]
          },
          "execution_count": 24,
          "metadata": {},
          "output_type": "execute_result"
        }
      ],
      "source": [
        "results_medical=dict()\n",
        "results_medical['Hamming Loss']=HL_medical\n",
        "results_medical['Accuracy']=AC_medical\n",
        "results_medical['Precison']=P_medical\n",
        "results_medical['Recall']=R_medical\n",
        "results_medical['F1 Score']=F_medical\n",
        "results_medical['Training Time']=TT_medical\n",
        "import pandas as pd\n",
        "df_medical=pd.DataFrame(results_medical)\n",
        "df_medical.head()"
      ]
    },
    {
      "cell_type": "markdown",
      "metadata": {
        "id": "5xwVTubGDHxK"
      },
      "source": [
        "## Graphs"
      ]
    },
    {
      "cell_type": "code",
      "execution_count": null,
      "metadata": {
        "id": "Hx330VMTSXfT",
        "outputId": "60c7c1f4-05e2-45f2-9b7e-4a88dd594a36"
      },
      "outputs": [
        {
          "data": {
            "image/png": "[encoded data removed]",
            "text/plain": [
              "<Figure size 1500x800 with 6 Axes>"
            ]
          },
          "metadata": {},
          "output_type": "display_data"
        }
      ],
      "source": [
        "import matplotlib.pyplot as plt\n",
        "import numpy as np\n",
        "\n",
        "# Sample classifiers and metrics\n",
        "classifiers = ['MLTSVM', 'MLKNN', 'BRKNNa']\n",
        "metrics = ['Hamming Loss', 'Accuracy', 'Precision', 'Recall', 'F1 Score', 'Training Time']\n",
        "\n",
        "# Sample data for the 80% performance result\n",
        "data = [HL_medical,AC_medical,P_medical,R_medical,F_medical, TT_medical]\n",
        "\n",
        "# Create subplots in a 2x3 grid\n",
        "num_rows = 2\n",
        "num_cols = 3\n",
        "fig, axs = plt.subplots(num_rows, num_cols, figsize=(15, 8))  # Adjust figsize as needed\n",
        "\n",
        "# Flatten axs array if needed\n",
        "axs = axs.flatten()\n",
        "\n",
        "# Create bar graphs in each subplot\n",
        "for i, (ax, metric_values) in enumerate(zip(axs, data)):\n",
        "    x_positions = np.arange(len(classifiers))\n",
        "    if i == 5:  # Training time subplot, use different color\n",
        "        ax.bar(x_positions, metric_values, color=['blue', 'orange', 'green'])  # One color per classifier\n",
        "    else:\n",
        "        ax.bar(x_positions, metric_values, color=['blue', 'orange', 'green'])  # Keep all values\n",
        "    ax.set_title(metrics[i])\n",
        "    ax.set_xticks(x_positions)\n",
        "    ax.set_xticklabels(classifiers)\n",
        "    ax.set_ylabel('Score' if metrics[i] != 'Training Time' else 'Time (s)')\n",
        "    ax.grid(True)\n",
        "\n",
        "# Adjust layout and spacing\n",
        "plt.tight_layout()\n",
        "\n",
        "# Save the image\n",
        "plt.savefig('Ensmeble medical top50.png', dpi=300, bbox_inches='tight')\n",
        "\n",
        "# Display the subplots\n",
        "plt.show()\n"
      ]
    },
    {
      "cell_type": "code",
      "execution_count": null,
      "metadata": {
        "id": "5gryHxEv8REr"
      },
      "outputs": [],
      "source": [
        "F1_score"
      ]
    }
  ],
  "metadata": {
    "colab": {
      "provenance": [],
      "toc_visible": true,
      "include_colab_link": true
    },
    "kernelspec": {
      "display_name": "Python 3 (ipykernel)",
      "language": "python",
      "name": "python3"
    },
    "language_info": {
      "codemirror_mode": {
        "name": "ipython",
        "version": 3
      },
      "file_extension": ".py",
      "mimetype": "text/x-python",
      "name": "python",
      "nbconvert_exporter": "python",
      "pygments_lexer": "ipython3",
      "version": "3.9.7"
    }
  },
  "nbformat": 4,
  "nbformat_minor": 0
}