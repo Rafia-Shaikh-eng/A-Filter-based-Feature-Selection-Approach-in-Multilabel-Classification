{
  "nbformat": 4,
  "nbformat_minor": 0,
  "metadata": {
    "colab": {
      "provenance": [],
      "toc_visible": true
    },
    "kernelspec": {
      "name": "python3",
      "display_name": "Python 3"
    }
  },
  "cells": [
    {
      "cell_type": "markdown",
      "metadata": {
        "id": "m-V3efHNblGP"
      },
      "source": [
        "importing required libraries "
      ]
    },
    {
      "cell_type": "code",
      "metadata": {
        "id": "5mhGqjfnZs4I",
        "colab": {
          "base_uri": "https://localhost:8080/"
        },
        "outputId": "2bf8a12f-173d-4cae-a368-90cead5b9f94"
      },
      "source": [
        "# if the scikit-multilearn not installed run this cell \n",
        "!pip install scikit-multilearn\n",
        "# most of the datasets in Weka Arff format for this installed this library \n",
        "!pip install arff\n",
        "import numpy as np"
      ],
      "execution_count": null,
      "outputs": [
        {
          "output_type": "stream",
          "text": [
            "Collecting scikit-multilearn\n",
            "\u001b[?25l  Downloading https://files.pythonhosted.org/packages/bb/1f/e6ff649c72a1cdf2c7a1d31eb21705110ce1c5d3e7e26b2cc300e1637272/scikit_multilearn-0.2.0-py3-none-any.whl (89kB)\n",
            "\r\u001b[K     |███▊                            | 10kB 12.5MB/s eta 0:00:01\r\u001b[K     |███████▍                        | 20kB 17.1MB/s eta 0:00:01\r\u001b[K     |███████████                     | 30kB 10.6MB/s eta 0:00:01\r\u001b[K     |██████████████▊                 | 40kB 9.1MB/s eta 0:00:01\r\u001b[K     |██████████████████▍             | 51kB 7.8MB/s eta 0:00:01\r\u001b[K     |██████████████████████          | 61kB 7.7MB/s eta 0:00:01\r\u001b[K     |█████████████████████████▊      | 71kB 8.1MB/s eta 0:00:01\r\u001b[K     |█████████████████████████████▍  | 81kB 7.9MB/s eta 0:00:01\r\u001b[K     |████████████████████████████████| 92kB 4.5MB/s \n",
            "\u001b[?25hInstalling collected packages: scikit-multilearn\n",
            "Successfully installed scikit-multilearn-0.2.0\n",
            "Collecting arff\n",
            "  Downloading https://files.pythonhosted.org/packages/50/de/62d4446c5a6e459052c2f2d9490c370ddb6abc0766547b4cef585913598d/arff-0.9.tar.gz\n",
            "Building wheels for collected packages: arff\n",
            "  Building wheel for arff (setup.py) ... \u001b[?25l\u001b[?25hdone\n",
            "  Created wheel for arff: filename=arff-0.9-cp36-none-any.whl size=4969 sha256=f95b41d0151ce451d7ab3f8553a41974894e93a144808f35144558916ad9e444\n",
            "  Stored in directory: /root/.cache/pip/wheels/04/d0/70/2c73afedd3ac25c6085b528742c69b9587cbdfa67e5194583b\n",
            "Successfully built arff\n",
            "Installing collected packages: arff\n",
            "Successfully installed arff-0.9\n"
          ],
          "name": "stdout"
        }
      ]
    },
    {
      "cell_type": "markdown",
      "metadata": {
        "id": "NRyWcm2fb3ia"
      },
      "source": [
        "Created 03 arrays of each measuring metrics for 03 classifier"
      ]
    },
    {
      "cell_type": "code",
      "metadata": {
        "id": "wGDuoCC5beNn"
      },
      "source": [
        "#03 classifiers hamming loss list \n",
        "hamming_loss_MLTSVM=[]\n",
        "hamming_loss_MLKNN=[]\n",
        "hamming_loss_BRKNNa=[]\n",
        "#03 classifier accuracy list\n",
        "accuracy_MLTSVM=[]\n",
        "accuracy_MLKNN=[]\n",
        "accuracy_BRKNNa=[]\n",
        "#03 classifier precision list\n",
        "precision_MLTSVM=[]\n",
        "precision_MLKNN=[]\n",
        "precision_BRKNNa=[]\n",
        "#03 classifier recall list\n",
        "recall_MLTSVM=[]\n",
        "recall_MLKNN=[]\n",
        "recall_BRKNNa=[]\n",
        "#03 classifier f1 measure list\n",
        "f1_measure_MLTSVM=[]\n",
        "f1_measure_MLKNN=[]\n",
        "f1_measure_BRKNNa=[]"
      ],
      "execution_count": null,
      "outputs": []
    },
    {
      "cell_type": "markdown",
      "metadata": {
        "id": "se9K7ylHbjc-"
      },
      "source": [
        "#01 Medical Dataset"
      ]
    },
    {
      "cell_type": "markdown",
      "metadata": {
        "id": "ReWq5iEMcSwy"
      },
      "source": [
        "Load Dataset"
      ]
    },
    {
      "cell_type": "code",
      "metadata": {
        "id": "jnsS5JrAbhBL",
        "colab": {
          "base_uri": "https://localhost:8080/"
        },
        "outputId": "519c8998-7034-4523-abce-101e929fcc68"
      },
      "source": [
        "from skmultilearn.dataset import load_dataset\n",
        "x1,y1, _, _ = load_dataset('medical', 'undivided')\n",
        "x1.shape,y1.shape"
      ],
      "execution_count": null,
      "outputs": [
        {
          "output_type": "stream",
          "text": [
            "medical:undivided - does not exists downloading\n",
            "Downloaded medical-undivided\n"
          ],
          "name": "stdout"
        },
        {
          "output_type": "execute_result",
          "data": {
            "text/plain": [
              "((978, 1449), (978, 45))"
            ]
          },
          "metadata": {
            "tags": []
          },
          "execution_count": 4
        }
      ]
    },
    {
      "cell_type": "markdown",
      "metadata": {
        "id": "V0gJPztccUT5"
      },
      "source": [
        "Train and Test split"
      ]
    },
    {
      "cell_type": "code",
      "metadata": {
        "id": "vuG04fCibtFG",
        "colab": {
          "base_uri": "https://localhost:8080/"
        },
        "outputId": "699cb06a-08f5-48ec-c86d-dbc07d570de7"
      },
      "source": [
        "from skmultilearn.model_selection import iterative_train_test_split \n",
        "x1_train, y1_train, x1_test, y1_test = iterative_train_test_split(x1, y1, test_size = 0.3)\n",
        "print(x1_train.shape, x1_test.shape, y1_train.shape, y1_test.shape)"
      ],
      "execution_count": null,
      "outputs": [
        {
          "output_type": "stream",
          "text": [
            "(685, 1449) (293, 1449) (685, 45) (293, 45)\n"
          ],
          "name": "stdout"
        }
      ]
    },
    {
      "cell_type": "markdown",
      "metadata": {
        "id": "H2dEnc0_cYo-"
      },
      "source": []
    },
    {
      "cell_type": "code",
      "metadata": {
        "id": "S-rRYMG3bzSr"
      },
      "source": [
        "from scipy import sparse as s\n",
        "x1_s_train = s.csr_matrix(x1_train)\n",
        "y1_s_train = s.csr_matrix(y1_train)\n",
        "x1_s_test = s.csr_matrix(x1_test)\n",
        "y1_s_test = s.csr_matrix(y1_test)"
      ],
      "execution_count": null,
      "outputs": []
    },
    {
      "cell_type": "markdown",
      "metadata": {
        "id": "48d3jK-4b4gE"
      },
      "source": [
        "## MLTSVM "
      ]
    },
    {
      "cell_type": "code",
      "metadata": {
        "id": "SXra2V6Jb2bI"
      },
      "source": [
        "from skmultilearn.adapt import MLTSVM\n",
        "classifier1 = MLTSVM(max_iteration=1000,c_k=2**-6)\n",
        "# train\n",
        "classifier1.fit(x1_s_train, y1_s_train)\n",
        "# predict\n",
        "MLTSVM1_predictions = classifier1.predict(x1_s_test)"
      ],
      "execution_count": null,
      "outputs": []
    },
    {
      "cell_type": "markdown",
      "metadata": {
        "id": "rUOpba-vcEd-"
      },
      "source": [
        "## MLKNN"
      ]
    },
    {
      "cell_type": "code",
      "metadata": {
        "id": "ssIeziz8b-Kh"
      },
      "source": [
        "from skmultilearn.adapt import MLkNN\n",
        "#MLKNN is an adaptation of the kNN lazy learning algorithm for multi-label data.\n",
        "# apply MLkNN for medical dataset it has 45 labels. \n",
        "classifier1 = MLkNN(k=45)\n",
        "# train\n",
        "classifier1.fit(x1_s_train, y1_s_train)\n",
        "# predict\n",
        "MLKNN1_predictions = classifier1.predict(x1_s_test)"
      ],
      "execution_count": null,
      "outputs": []
    },
    {
      "cell_type": "markdown",
      "metadata": {
        "id": "W7c12NSIcGlr"
      },
      "source": [
        "## BRKNNa"
      ]
    },
    {
      "cell_type": "code",
      "metadata": {
        "id": "5Q-4nxv-cBeV"
      },
      "source": [
        "from skmultilearn.adapt import BRkNNaClassifier\n",
        "classifier1 = BRkNNaClassifier(k=45)\n",
        "# train\n",
        "classifier1.fit(x1_s_train, y1_s_train)\n",
        "# predict\n",
        "BR1_predictions = classifier1.predict(x1_s_test)"
      ],
      "execution_count": null,
      "outputs": []
    },
    {
      "cell_type": "markdown",
      "metadata": {
        "id": "Yos4B5-kcVwD"
      },
      "source": [
        "## Measuring Metrics "
      ]
    },
    {
      "cell_type": "code",
      "metadata": {
        "id": "WSLqI7CYcLjU"
      },
      "source": [
        "import sklearn.metrics as m\n",
        "#Hamming Loss\n",
        "hamming_loss_MLTSVM.append(round(m.hamming_loss(y1_s_test, MLTSVM1_predictions),2))\n",
        "hamming_loss_MLKNN.append(round(m.hamming_loss(y1_s_test, MLKNN1_predictions),2))\n",
        "hamming_loss_BRKNNa.append(round(m.hamming_loss(y1_s_test, BR1_predictions),2))\n",
        "\n",
        "#Accuracy\n",
        "accuracy_MLTSVM.append(round(m.accuracy_score(y1_s_test, MLTSVM1_predictions),2))\n",
        "accuracy_MLKNN.append(round(m.accuracy_score(y1_s_test, MLKNN1_predictions),2))\n",
        "accuracy_BRKNNa.append(round(m.accuracy_score(y1_s_test, BR1_predictions),2))\n",
        "\n",
        "#Micro Precision\n",
        "precision_MLTSVM.append(round(m.precision_score(y1_s_test, MLTSVM1_predictions, average='micro', zero_division='warn'),2))\n",
        "precision_MLKNN.append(round(m.precision_score(y1_s_test, MLKNN1_predictions, average='micro', zero_division='warn'),2))\n",
        "precision_BRKNNa.append(round(m.precision_score(y1_s_test, BR1_predictions, average='micro', zero_division='warn'),2))\n",
        "\n",
        "#Micro Recall\n",
        "recall_MLTSVM.append(round(m.recall_score(y1_s_test, MLTSVM1_predictions, average='micro',zero_division='warn'),2))\n",
        "recall_MLKNN.append(round(m.recall_score(y1_s_test, MLKNN1_predictions, average='micro',zero_division='warn'),2))\n",
        "recall_BRKNNa.append(round(m.recall_score(y1_s_test, BR1_predictions, average='micro',zero_division='warn'),2))\n",
        "#Micro F1 measure\n",
        "f1_measure_MLTSVM.append(round(m.f1_score(y1_s_test, MLTSVM1_predictions, average='micro',zero_division='warn'),2))\n",
        "f1_measure_MLKNN.append(round(m.f1_score(y1_s_test, MLKNN1_predictions, average='micro',zero_division='warn'),2))\n",
        "f1_measure_BRKNNa.append(round(m.f1_score(y1_s_test, BR1_predictions, average='micro',zero_division='warn'),2))"
      ],
      "execution_count": null,
      "outputs": []
    },
    {
      "cell_type": "code",
      "metadata": {
        "id": "HQbp9k7kclYl",
        "colab": {
          "base_uri": "https://localhost:8080/"
        },
        "outputId": "9124f9a7-7f20-41fd-83f9-d8a9844037ea"
      },
      "source": [
        "print(\"------------------------------\")\n",
        "print(\"\\t(Examples,Labels)\")\n",
        "print(\"------------------------------\")\n",
        "print(\"MLTSVM -> \",MLTSVM1_predictions.shape)\n",
        "print(\"MLKNN  -> \",MLKNN1_predictions.shape)\n",
        "print(\"BRKNNa -> \",BR1_predictions.shape)\n",
        "import sklearn.metrics as m\n",
        "print(\"------------------------------\")\n",
        "print(\"\\tHamming Loss\")\n",
        "print(\"------------------------------\")\n",
        "print(\"MLTSVM -> \",round(m.hamming_loss(y1_s_test, MLTSVM1_predictions),2))\n",
        "print(\"MLKNN  -> \",round(m.hamming_loss(y1_s_test, MLKNN1_predictions),2))\n",
        "print(\"BRKNNa -> \",round(m.hamming_loss(y1_s_test, BR1_predictions),2))\n",
        "print(\"------------------------------\")\n",
        "print(\"\\tAccuracy\")\n",
        "print(\"------------------------------\")\n",
        "print(\"MLTSVM -> \",round(m.accuracy_score(y1_s_test, MLTSVM1_predictions),2))\n",
        "print(\"MLKNN  -> \",round(m.accuracy_score(y1_s_test, MLKNN1_predictions),2))\n",
        "print(\"BRKNNa -> \",round(m.accuracy_score(y1_s_test, BR1_predictions),2))\n",
        "print(\"------------------------------\")\n",
        "print(\"\\tPrecision\")\n",
        "print(\"------------------------------\")\n",
        "print(\"MLTSVM -> \",round(m.precision_score(y1_s_test, MLTSVM1_predictions, average='micro', zero_division='warn'),2))\n",
        "print(\"MLKNN -> \",round(m.precision_score(y1_s_test, MLKNN1_predictions, average='micro', zero_division='warn'),2))\n",
        "print(\"BRKNNa -> \",round(m.precision_score(y1_s_test, BR1_predictions, average='micro', zero_division='warn'),2))\n",
        "print(\"------------------------------\")\n",
        "print(\"\\tRecall\")\n",
        "print(\"------------------------------\")\n",
        "print(\"MLTSVM -> \",round(m.recall_score(y1_s_test, MLTSVM1_predictions, average='micro',zero_division='warn'),2))\n",
        "print(\"MLTSVM -> \",round(m.recall_score(y1_s_test, MLKNN1_predictions, average='micro',zero_division='warn'),2))\n",
        "print(\"MLTSVM -> \",round(m.recall_score(y1_s_test, BR1_predictions, average='micro',zero_division='warn'),2))\n",
        "print(\"------------------------------\")\n",
        "print(\"\\tF1-measure\")\n",
        "print(\"------------------------------\")\n",
        "#f1=2*(p*r)/(p+r)\n",
        "print(\"MLTSVM -> \",round(m.f1_score(y1_s_test, MLTSVM1_predictions, average='micro',zero_division='warn'),2))\n",
        "print(\"MLTSVM -> \",round(m.f1_score(y1_s_test, MLKNN1_predictions, average='micro',zero_division='warn'),2))\n",
        "print(\"MLTSVM -> \",round(m.f1_score(y1_s_test, BR1_predictions, average='micro',zero_division='warn'),2))\n",
        "print()"
      ],
      "execution_count": null,
      "outputs": [
        {
          "output_type": "stream",
          "text": [
            "------------------------------\n",
            "\t(Examples,Labels)\n",
            "------------------------------\n",
            "MLTSVM ->  (293, 45)\n",
            "MLKNN  ->  (293, 45)\n",
            "BRKNNa ->  (293, 45)\n",
            "------------------------------\n",
            "\tHamming Loss\n",
            "------------------------------\n",
            "MLTSVM ->  0.02\n",
            "MLKNN  ->  0.02\n",
            "BRKNNa ->  0.02\n",
            "------------------------------\n",
            "\tAccuracy\n",
            "------------------------------\n",
            "MLTSVM ->  0.47\n",
            "MLKNN  ->  0.44\n",
            "BRKNNa ->  0.27\n",
            "------------------------------\n",
            "\tPrecision\n",
            "------------------------------\n",
            "MLTSVM ->  0.76\n",
            "MLKNN ->  0.86\n",
            "BRKNNa ->  0.84\n",
            "------------------------------\n",
            "\tRecall\n",
            "------------------------------\n",
            "MLTSVM ->  0.65\n",
            "MLTSVM ->  0.51\n",
            "MLTSVM ->  0.31\n",
            "------------------------------\n",
            "\tF1-measure\n",
            "------------------------------\n",
            "MLTSVM ->  0.7\n",
            "MLTSVM ->  0.64\n",
            "MLTSVM ->  0.46\n",
            "\n"
          ],
          "name": "stdout"
        }
      ]
    },
    {
      "cell_type": "markdown",
      "metadata": {
        "id": "cbRWTQEMcmRf"
      },
      "source": [
        "#02 Enron Dataset"
      ]
    },
    {
      "cell_type": "code",
      "metadata": {
        "id": "Q5wNM-J5cqZu",
        "colab": {
          "base_uri": "https://localhost:8080/"
        },
        "outputId": "58e290c5-4d8b-4b60-bc39-db6ec39d13fb"
      },
      "source": [
        "from skmultilearn.dataset import load_dataset\n",
        "x2,y2, _, _ = load_dataset('enron', 'undivided')\n",
        "x2.shape, y2.shape"
      ],
      "execution_count": null,
      "outputs": [
        {
          "output_type": "stream",
          "text": [
            "enron:undivided - does not exists downloading\n",
            "Downloaded enron-undivided\n"
          ],
          "name": "stdout"
        },
        {
          "output_type": "execute_result",
          "data": {
            "text/plain": [
              "((1702, 1001), (1702, 53))"
            ]
          },
          "metadata": {
            "tags": []
          },
          "execution_count": 12
        }
      ]
    },
    {
      "cell_type": "code",
      "metadata": {
        "id": "ghTPhBiZculv",
        "colab": {
          "base_uri": "https://localhost:8080/"
        },
        "outputId": "b5e22740-02e7-42c2-8307-e77a73a279f8"
      },
      "source": [
        "#from skmultilearn.model_selection import iterative_train_test_split\n",
        "x2_train, y2_train, x2_test, y2_test = iterative_train_test_split(x2, y2, test_size = 0.3)\n",
        "print(x2_train.shape, x2_test.shape, y2_train.shape, y2_test.shape)"
      ],
      "execution_count": null,
      "outputs": [
        {
          "output_type": "stream",
          "text": [
            "(1178, 1001) (524, 1001) (1178, 53) (524, 53)\n"
          ],
          "name": "stdout"
        }
      ]
    },
    {
      "cell_type": "code",
      "metadata": {
        "id": "f_ZtKN5ycwkn"
      },
      "source": [
        "#from scipy import sparse as s\n",
        "x2_s_train = s.csr_matrix(x2_train)\n",
        "y2_s_train = s.csr_matrix(y2_train)\n",
        "x2_s_test = s.csr_matrix(x2_test)\n",
        "y2_s_test = s.csr_matrix(y2_test)"
      ],
      "execution_count": null,
      "outputs": []
    },
    {
      "cell_type": "markdown",
      "metadata": {
        "id": "STi_be8rczTw"
      },
      "source": [
        "## MLTSVM"
      ]
    },
    {
      "cell_type": "code",
      "metadata": {
        "id": "wyS6ZrNScy9f"
      },
      "source": [
        "#from skmultilearn.adapt import MLTSVM\n",
        "classifier2 = MLTSVM(c_k =2**-6)\n",
        "# train\n",
        "classifier2.fit(x2_s_train, y2_s_train)\n",
        "# predict\n",
        "MLTSVM2_predictions = classifier2.predict(x2_s_test)"
      ],
      "execution_count": null,
      "outputs": []
    },
    {
      "cell_type": "markdown",
      "metadata": {
        "id": "En5gb3Hac3yj"
      },
      "source": [
        "## MLKNN"
      ]
    },
    {
      "cell_type": "code",
      "metadata": {
        "id": "0qOAn6Gnc467"
      },
      "source": [
        "#from skmultilearn.adapt import MLkNN\n",
        "#MLKNN is an adaptation of the kNN lazy learning algorithm for multi-label data.\n",
        "# apply MLkNN for enron dataset it has 53 labels. \n",
        "classifier2 = MLkNN(k=53)\n",
        "\n",
        "# train\n",
        "classifier2.fit(x2_s_train, y2_s_train)\n",
        "\n",
        "# predict\n",
        "MLKNN2_predictions = classifier2.predict(x2_s_test)"
      ],
      "execution_count": null,
      "outputs": []
    },
    {
      "cell_type": "markdown",
      "metadata": {
        "id": "0RKVuRvrc8xY"
      },
      "source": [
        "##BRKNNa"
      ]
    },
    {
      "cell_type": "code",
      "metadata": {
        "id": "1wLgsMcKc_ss"
      },
      "source": [
        "from skmultilearn.adapt import BRkNNaClassifier\n",
        "classifier2 = BRkNNaClassifier(k=53)\n",
        "# train\n",
        "classifier2.fit(x2_s_train, y2_s_train)\n",
        "# predict\n",
        "BR2_predictions = classifier2.predict(x2_s_test)"
      ],
      "execution_count": null,
      "outputs": []
    },
    {
      "cell_type": "markdown",
      "metadata": {
        "id": "2aIGD_lMdDEo"
      },
      "source": [
        "##Measuring Metrics"
      ]
    },
    {
      "cell_type": "code",
      "metadata": {
        "id": "5vJAmDpqdHVO"
      },
      "source": [
        "import sklearn.metrics as m\n",
        "#Hamming Loss\n",
        "hamming_loss_MLTSVM.append(round(m.hamming_loss(y2_s_test, MLTSVM2_predictions),2))\n",
        "hamming_loss_MLKNN.append(round(m.hamming_loss(y2_s_test, MLKNN2_predictions),2))\n",
        "hamming_loss_BRKNNa.append(round(m.hamming_loss(y2_s_test, BR2_predictions),2))\n",
        "\n",
        "#Accuracy\n",
        "accuracy_MLTSVM.append(round(m.accuracy_score(y2_s_test, MLTSVM2_predictions),2))\n",
        "accuracy_MLKNN.append(round(m.accuracy_score(y2_s_test, MLKNN2_predictions),2))\n",
        "accuracy_BRKNNa.append(round(m.accuracy_score(y2_s_test, BR2_predictions),2))\n",
        "\n",
        "#Micro Precision\n",
        "precision_MLTSVM.append(round(m.precision_score(y2_s_test, MLTSVM2_predictions, average='micro', zero_division='warn'),2))\n",
        "precision_MLKNN.append(round(m.precision_score(y2_s_test, MLKNN2_predictions, average='micro', zero_division='warn'),2))\n",
        "precision_BRKNNa.append(round(m.precision_score(y2_s_test, BR2_predictions, average='micro', zero_division='warn'),2))\n",
        "\n",
        "#Micro Recall\n",
        "recall_MLTSVM.append(round(m.recall_score(y2_s_test, MLTSVM2_predictions, average='micro',zero_division='warn'),2))\n",
        "recall_MLKNN.append(round(m.recall_score(y2_s_test, MLKNN2_predictions, average='micro',zero_division='warn'),2))\n",
        "recall_BRKNNa.append(round(m.recall_score(y2_s_test, BR2_predictions, average='micro',zero_division='warn'),2))\n",
        "#Micro F1 measure\n",
        "f1_measure_MLTSVM.append(round(m.f1_score(y2_s_test, MLTSVM2_predictions, average='micro',zero_division='warn'),2))\n",
        "f1_measure_MLKNN.append(round(m.f1_score(y2_s_test, MLKNN2_predictions, average='micro',zero_division='warn'),2))\n",
        "f1_measure_BRKNNa.append(round(m.f1_score(y2_s_test, BR2_predictions, average='micro',zero_division='warn'),2))"
      ],
      "execution_count": null,
      "outputs": []
    },
    {
      "cell_type": "code",
      "metadata": {
        "id": "GUaNNnQGdJ_a",
        "colab": {
          "base_uri": "https://localhost:8080/"
        },
        "outputId": "38dd8778-e4d0-451b-d385-26c5230957cc"
      },
      "source": [
        "print(\"------------------------------\")\n",
        "print(\"\\t(Examples,Labels\")\n",
        "print(\"------------------------------\")\n",
        "print(\"MLTSVM -> \",MLTSVM2_predictions.shape)\n",
        "print(\"MLKNN  -> \",MLKNN2_predictions.shape)\n",
        "print(\"BRKNNa -> \",BR2_predictions.shape)\n",
        "import sklearn.metrics as m\n",
        "print(\"------------------------------\")\n",
        "print(\"\\tHamming Loss\")\n",
        "print(\"------------------------------\")\n",
        "print(\"MLTSVM -> \",round(m.hamming_loss(y2_s_test, MLTSVM2_predictions),2))\n",
        "print(\"MLKNN  -> \",round(m.hamming_loss(y2_s_test, MLKNN2_predictions),2))\n",
        "print(\"BRKNNa -> \",round(m.hamming_loss(y2_s_test, BR2_predictions),2))\n",
        "print(\"------------------------------\")\n",
        "print(\"\\tAccuracy\")\n",
        "print(\"------------------------------\")\n",
        "print(\"MLTSVM -> \",round(m.accuracy_score(y2_s_test, MLTSVM2_predictions),2))\n",
        "print(\"MLKNN  -> \",round(m.accuracy_score(y2_s_test, MLKNN2_predictions),2))\n",
        "print(\"BRKNNa -> \",round(m.accuracy_score(y2_s_test, BR2_predictions),2))\n",
        "print(\"------------------------------\")\n",
        "print(\"\\tPrecision\")\n",
        "print(\"------------------------------\")\n",
        "print(\"MLTSVM -> \",round(m.precision_score(y2_s_test, MLTSVM2_predictions, average='micro',zero_division='warn'),2))\n",
        "print(\"MLKNN -> \",round(m.precision_score(y2_s_test, MLKNN2_predictions, average='micro',zero_division='warn'),2))\n",
        "print(\"BRKNNa -> \",round(m.precision_score(y2_s_test, BR2_predictions, average='micro',zero_division='warn'),2))\n",
        "print(\"------------------------------\")\n",
        "print(\"\\tRecall\")\n",
        "print(\"------------------------------\")\n",
        "print(\"MLTSVM -> \",round(m.recall_score(y2_s_test, MLTSVM2_predictions, average='micro',zero_division='warn'),2))\n",
        "print(\"MLKNN -> \",round(m.recall_score(y2_s_test, MLKNN2_predictions, average='micro',zero_division='warn'),2))\n",
        "print(\"BRKNNa -> \",round(m.recall_score(y2_s_test, BR2_predictions, average='micro',zero_division='warn'),2))\n",
        "print(\"------------------------------\")\n",
        "print(\"\\tF1-measure\")\n",
        "print(\"------------------------------\")\n",
        "#f1=2*(p*r)/(p+r)\n",
        "print(\"MLTSVM -> \",round(m.f1_score(y2_s_test, MLTSVM2_predictions, average='micro',zero_division='warn'),2))\n",
        "print(\"MLKNN -> \",round(m.f1_score(y2_s_test, MLKNN2_predictions, average='micro',zero_division='warn'),2))\n",
        "print(\"BRKNNa -> \",round(m.f1_score(y2_s_test, BR2_predictions, average='micro',zero_division='warn'),2))\n",
        "print()"
      ],
      "execution_count": null,
      "outputs": [
        {
          "output_type": "stream",
          "text": [
            "------------------------------\n",
            "\t(Examples,Labels\n",
            "------------------------------\n",
            "MLTSVM ->  (524, 53)\n",
            "MLKNN  ->  (524, 53)\n",
            "BRKNNa ->  (524, 53)\n",
            "------------------------------\n",
            "\tHamming Loss\n",
            "------------------------------\n",
            "MLTSVM ->  0.06\n",
            "MLKNN  ->  0.05\n",
            "BRKNNa ->  0.06\n",
            "------------------------------\n",
            "\tAccuracy\n",
            "------------------------------\n",
            "MLTSVM ->  0.06\n",
            "MLKNN  ->  0.05\n",
            "BRKNNa ->  0.06\n",
            "------------------------------\n",
            "\tPrecision\n",
            "------------------------------\n",
            "MLTSVM ->  0.56\n",
            "MLKNN ->  0.63\n",
            "BRKNNa ->  0.52\n",
            "------------------------------\n",
            "\tRecall\n",
            "------------------------------\n",
            "MLTSVM ->  0.37\n",
            "MLKNN ->  0.35\n",
            "BRKNNa ->  0.12\n",
            "------------------------------\n",
            "\tF1-measure\n",
            "------------------------------\n",
            "MLTSVM ->  0.44\n",
            "MLKNN ->  0.45\n",
            "BRKNNa ->  0.2\n",
            "\n"
          ],
          "name": "stdout"
        }
      ]
    },
    {
      "cell_type": "markdown",
      "metadata": {
        "id": "SjsWjI_cdR-m"
      },
      "source": [
        "#03 Scene Dataset"
      ]
    },
    {
      "cell_type": "markdown",
      "metadata": {
        "id": "T-tnTZ6tdTeM"
      },
      "source": [
        "Load Dataset"
      ]
    },
    {
      "cell_type": "code",
      "metadata": {
        "id": "kpK_iEkFdTzS",
        "colab": {
          "base_uri": "https://localhost:8080/"
        },
        "outputId": "03f89181-69f6-4f55-af2e-fb0d2b97671c"
      },
      "source": [
        "#from skmultilearn.dataset import load_dataset\n",
        "x3,y3, _, _ = load_dataset('scene', 'undivided')\n",
        "x3.shape,y3.shape"
      ],
      "execution_count": null,
      "outputs": [
        {
          "output_type": "stream",
          "text": [
            "scene:undivided - does not exists downloading\n",
            "Downloaded scene-undivided\n"
          ],
          "name": "stdout"
        },
        {
          "output_type": "execute_result",
          "data": {
            "text/plain": [
              "((2407, 294), (2407, 6))"
            ]
          },
          "metadata": {
            "tags": []
          },
          "execution_count": 20
        }
      ]
    },
    {
      "cell_type": "markdown",
      "metadata": {
        "id": "Y1pgKcg6dV-0"
      },
      "source": [
        "Train and Test split"
      ]
    },
    {
      "cell_type": "code",
      "metadata": {
        "id": "9q1HpnUvdmla",
        "colab": {
          "base_uri": "https://localhost:8080/"
        },
        "outputId": "fda27db5-ff46-4a03-b7cc-18566664f427"
      },
      "source": [
        "#from skmultilearn.model_selection import iterative_train_test_split\n",
        "x3_train, y3_train, x3_test, y3_test = iterative_train_test_split(x3, y3, test_size = 0.3)\n",
        "print(x3_train.shape, x3_test.shape, y3_train.shape, y3_test.shape)"
      ],
      "execution_count": null,
      "outputs": [
        {
          "output_type": "stream",
          "text": [
            "(1685, 294) (722, 294) (1685, 6) (722, 6)\n"
          ],
          "name": "stdout"
        }
      ]
    },
    {
      "cell_type": "code",
      "metadata": {
        "id": "_VLco6eJdqUg"
      },
      "source": [
        "#from scipy import sparse as s\n",
        "x3_s_train = s.csr_matrix(x3_train)\n",
        "y3_s_train = s.csr_matrix(y3_train)\n",
        "x3_s_test = s.csr_matrix(x3_test)\n",
        "y3_s_test = s.csr_matrix(y3_test)"
      ],
      "execution_count": null,
      "outputs": []
    },
    {
      "cell_type": "markdown",
      "metadata": {
        "id": "rIasCdjYdxeP"
      },
      "source": [
        "##MLTSVM"
      ]
    },
    {
      "cell_type": "code",
      "metadata": {
        "id": "cn4_nRT7dsHB"
      },
      "source": [
        "#from skmultilearn.adapt import MLTSVM\n",
        "classifier3 = MLTSVM(c_k =2**-6)\n",
        "# train\n",
        "classifier3.fit(x3_s_train, y3_s_train)\n",
        "# predict\n",
        "MLTSVM3_predictions = classifier3.predict(x3_s_test)"
      ],
      "execution_count": null,
      "outputs": []
    },
    {
      "cell_type": "markdown",
      "metadata": {
        "id": "-MAf1tC4d0Yf"
      },
      "source": [
        "##MLKNN"
      ]
    },
    {
      "cell_type": "code",
      "metadata": {
        "id": "uol1N-9Gd1Ls"
      },
      "source": [
        "#from skmultilearn.adapt import MLkNN\n",
        "#MLKNN is an adaptation of the kNN lazy learning algorithm for multi-label data.\n",
        "# apply MLkNN for Scene dataset it has 6 labels. \n",
        "classifier3 = MLkNN(k=6)\n",
        "\n",
        "# train\n",
        "classifier3.fit(x3_s_train, y3_s_train)\n",
        "\n",
        "# predict\n",
        "MLKNN3_predictions = classifier3.predict(x3_s_test)"
      ],
      "execution_count": null,
      "outputs": []
    },
    {
      "cell_type": "markdown",
      "metadata": {
        "id": "86JGophhd4VW"
      },
      "source": [
        "## BRKNNa"
      ]
    },
    {
      "cell_type": "code",
      "metadata": {
        "id": "uq6sjPwAd5lN"
      },
      "source": [
        "from skmultilearn.adapt import BRkNNaClassifier\n",
        "classifier3 = BRkNNaClassifier(k=6)\n",
        "# train\n",
        "classifier3.fit(x3_s_train, y3_s_train)\n",
        "# predict\n",
        "BR3_predictions = classifier3.predict(x3_s_test)"
      ],
      "execution_count": null,
      "outputs": []
    },
    {
      "cell_type": "markdown",
      "metadata": {
        "id": "Sm5fzinad75N"
      },
      "source": [
        "##Measuring Metrics "
      ]
    },
    {
      "cell_type": "code",
      "metadata": {
        "id": "kOnNmJi2eBjA"
      },
      "source": [
        "import sklearn.metrics as m\n",
        "#Hamming Loss\n",
        "hamming_loss_MLTSVM.append(round(m.hamming_loss(y3_s_test, MLTSVM3_predictions),2))\n",
        "hamming_loss_MLKNN.append(round(m.hamming_loss(y3_s_test, MLKNN3_predictions),2))\n",
        "hamming_loss_BRKNNa.append(round(m.hamming_loss(y3_s_test, BR3_predictions),2))\n",
        "\n",
        "#Accuracy\n",
        "accuracy_MLTSVM.append(round(m.accuracy_score(y3_s_test, MLTSVM3_predictions),2))\n",
        "accuracy_MLKNN.append(round(m.accuracy_score(y3_s_test, MLKNN3_predictions),2))\n",
        "accuracy_BRKNNa.append(round(m.accuracy_score(y3_s_test, BR3_predictions),2))\n",
        "\n",
        "#Micro Precision\n",
        "precision_MLTSVM.append(round(m.precision_score(y3_s_test, MLTSVM3_predictions, average='micro', zero_division='warn'),2))\n",
        "precision_MLKNN.append(round(m.precision_score(y3_s_test, MLKNN3_predictions, average='micro', zero_division='warn'),2))\n",
        "precision_BRKNNa.append(round(m.precision_score(y3_s_test, BR3_predictions, average='micro', zero_division='warn'),2))\n",
        "\n",
        "#Micro Recall\n",
        "recall_MLTSVM.append(round(m.recall_score(y3_s_test, MLTSVM3_predictions, average='micro',zero_division='warn'),2))\n",
        "recall_MLKNN.append(round(m.recall_score(y3_s_test, MLKNN3_predictions, average='micro',zero_division='warn'),2))\n",
        "recall_BRKNNa.append(round(m.recall_score(y3_s_test, BR3_predictions, average='micro',zero_division='warn'),2))\n",
        "#Micro F1 measure\n",
        "f1_measure_MLTSVM.append(round(m.f1_score(y3_s_test, MLTSVM3_predictions, average='micro',zero_division='warn'),2))\n",
        "f1_measure_MLKNN.append(round(m.f1_score(y3_s_test, MLKNN3_predictions, average='micro',zero_division='warn'),2))\n",
        "f1_measure_BRKNNa.append(round(m.f1_score(y3_s_test, BR3_predictions, average='micro',zero_division='warn'),2))"
      ],
      "execution_count": null,
      "outputs": []
    },
    {
      "cell_type": "code",
      "metadata": {
        "id": "KgmdYGNDeEZn",
        "colab": {
          "base_uri": "https://localhost:8080/"
        },
        "outputId": "7658f036-4d87-44b5-daf6-7e9d78e70fba"
      },
      "source": [
        "print(\"------------------------------\")\n",
        "print(\"\\t(Examples,Labels\")\n",
        "print(\"------------------------------\")\n",
        "print(\"MLTSVM -> \",MLTSVM3_predictions.shape)\n",
        "print(\"MLKNN  -> \",MLKNN3_predictions.shape)\n",
        "print(\"BRKNNa -> \",BR3_predictions.shape)\n",
        "import sklearn.metrics as m\n",
        "print(\"------------------------------\")\n",
        "print(\"\\tHamming Loss\")\n",
        "print(\"------------------------------\")\n",
        "print(\"MLTSVM -> \",round(m.hamming_loss(y3_s_test, MLTSVM3_predictions),2))\n",
        "print(\"MLKNN  -> \",round(m.hamming_loss(y3_s_test, MLKNN3_predictions),2))\n",
        "print(\"BRKNNa -> \",round(m.hamming_loss(y3_s_test, BR3_predictions),2))\n",
        "print(\"------------------------------\")\n",
        "print(\"\\tAccuracy\")\n",
        "print(\"------------------------------\")\n",
        "print(\"MLTSVM -> \",round(m.accuracy_score(y3_s_test, MLTSVM3_predictions),2))\n",
        "print(\"MLKNN  -> \",round(m.accuracy_score(y3_s_test, MLKNN3_predictions),2))\n",
        "print(\"BRKNNa -> \",round(m.accuracy_score(y3_s_test, BR3_predictions),2))\n",
        "print(\"------------------------------\")\n",
        "print(\"\\tPrecision\")\n",
        "print(\"------------------------------\")\n",
        "print(\"MLTSVM -> \",round(m.precision_score(y3_s_test, MLTSVM3_predictions, average='micro',zero_division='warn'),2))\n",
        "print(\"MLKNN -> \",round(m.precision_score(y3_s_test, MLKNN3_predictions, average='micro',zero_division='warn'),2))\n",
        "print(\"BRKNNa -> \",round(m.precision_score(y3_s_test, BR3_predictions, average='micro',zero_division='warn'),2))\n",
        "print(\"------------------------------\")\n",
        "print(\"\\tRecall\")\n",
        "print(\"------------------------------\")\n",
        "print(\"MLTSVM -> \",round(m.recall_score(y3_s_test, MLTSVM3_predictions, average='micro',zero_division='warn'),2))\n",
        "print(\"MLKNN -> \",round(m.recall_score(y3_s_test, MLKNN3_predictions, average='micro',zero_division='warn'),2))\n",
        "print(\"BRKNNa -> \",round(m.recall_score(y3_s_test, BR3_predictions, average='micro',zero_division='warn'),2))\n",
        "print(\"------------------------------\")\n",
        "print(\"\\tF1-measure\")\n",
        "print(\"------------------------------\")\n",
        "#f1=2*(p*r)/(p+r)\n",
        "print(\"MLTSVM -> \",round(m.f1_score(y3_s_test, MLTSVM3_predictions, average='micro',zero_division='warn'),2))\n",
        "print(\"MLKNN -> \",round(m.f1_score(y3_s_test, MLKNN3_predictions, average='micro',zero_division='warn'),2))\n",
        "print(\"BRKNNa -> \",round(m.f1_score(y3_s_test, BR3_predictions, average='micro',zero_division='warn'),2))\n",
        "print()"
      ],
      "execution_count": null,
      "outputs": [
        {
          "output_type": "stream",
          "text": [
            "------------------------------\n",
            "\t(Examples,Labels\n",
            "------------------------------\n",
            "MLTSVM ->  (722, 6)\n",
            "MLKNN  ->  (722, 6)\n",
            "BRKNNa ->  (722, 6)\n",
            "------------------------------\n",
            "\tHamming Loss\n",
            "------------------------------\n",
            "MLTSVM ->  0.61\n",
            "MLKNN  ->  0.1\n",
            "BRKNNa ->  0.1\n",
            "------------------------------\n",
            "\tAccuracy\n",
            "------------------------------\n",
            "MLTSVM ->  0.01\n",
            "MLKNN  ->  0.62\n",
            "BRKNNa ->  0.57\n",
            "------------------------------\n",
            "\tPrecision\n",
            "------------------------------\n",
            "MLTSVM ->  0.22\n",
            "MLKNN ->  0.75\n",
            "BRKNNa ->  0.82\n",
            "------------------------------\n",
            "\tRecall\n",
            "------------------------------\n",
            "MLTSVM ->  0.99\n",
            "MLKNN ->  0.69\n",
            "BRKNNa ->  0.58\n",
            "------------------------------\n",
            "\tF1-measure\n",
            "------------------------------\n",
            "MLTSVM ->  0.37\n",
            "MLKNN ->  0.72\n",
            "BRKNNa ->  0.68\n",
            "\n"
          ],
          "name": "stdout"
        }
      ]
    },
    {
      "cell_type": "markdown",
      "metadata": {
        "id": "DiB1o4lDeG25"
      },
      "source": [
        "#04 Emotions Dataset"
      ]
    },
    {
      "cell_type": "markdown",
      "metadata": {
        "id": "lR6S7P25dco3"
      },
      "source": [
        "Load Dataset"
      ]
    },
    {
      "cell_type": "code",
      "metadata": {
        "id": "VfrGhA8weMX4",
        "colab": {
          "base_uri": "https://localhost:8080/"
        },
        "outputId": "52b500c7-4a34-4c02-d359-0b9b8367c6dd"
      },
      "source": [
        "from skmultilearn.dataset import load_dataset\n",
        "x4,y4, _, _ = load_dataset('emotions', 'undivided')"
      ],
      "execution_count": null,
      "outputs": [
        {
          "output_type": "stream",
          "text": [
            "emotions:undivided - does not exists downloading\n",
            "Downloaded emotions-undivided\n"
          ],
          "name": "stdout"
        }
      ]
    },
    {
      "cell_type": "markdown",
      "metadata": {
        "id": "ylHLf_oldiQQ"
      },
      "source": [
        "Train and Test split"
      ]
    },
    {
      "cell_type": "code",
      "metadata": {
        "id": "0HfIXgvgeRSd",
        "colab": {
          "base_uri": "https://localhost:8080/"
        },
        "outputId": "8985bff3-dcea-4265-a96d-fe6b88c13f6e"
      },
      "source": [
        "#from skmultilearn.model_selection import iterative_train_test_split\n",
        "x4_train, y4_train, x4_test, y4_test = iterative_train_test_split(x4, y4, test_size = 0.3)\n",
        "print(x4_train.shape, x4_test.shape, y4_train.shape, y4_test.shape)"
      ],
      "execution_count": null,
      "outputs": [
        {
          "output_type": "stream",
          "text": [
            "(416, 72) (177, 72) (416, 6) (177, 6)\n"
          ],
          "name": "stdout"
        }
      ]
    },
    {
      "cell_type": "code",
      "metadata": {
        "id": "jIc12QcFeRyx"
      },
      "source": [
        "#from scipy import sparse as s\n",
        "x4_s_train = s.csr_matrix(x4_train)\n",
        "y4_s_train = s.csr_matrix(y4_train)\n",
        "x4_s_test = s.csr_matrix(x4_test)\n",
        "y4_s_test = s.csr_matrix(y4_test)"
      ],
      "execution_count": null,
      "outputs": []
    },
    {
      "cell_type": "markdown",
      "metadata": {
        "id": "ZAEH15PyeUzi"
      },
      "source": [
        "##MLTSVM"
      ]
    },
    {
      "cell_type": "code",
      "metadata": {
        "id": "t6YK4oPCeV4C"
      },
      "source": [
        "from skmultilearn.adapt import MLTSVM\n",
        "classifier4 = MLTSVM(c_k =2**-6)\n",
        "# train\n",
        "classifier4.fit(x4_s_train, y4_s_train)\n",
        "# predict\n",
        "MLTSVM4_predictions = classifier4.predict(x4_s_test)"
      ],
      "execution_count": null,
      "outputs": []
    },
    {
      "cell_type": "markdown",
      "metadata": {
        "id": "U3uqTrXmeXsa"
      },
      "source": [
        "##MLKNN"
      ]
    },
    {
      "cell_type": "code",
      "metadata": {
        "id": "7y1JXRXJeYi3"
      },
      "source": [
        "from skmultilearn.adapt import MLkNN\n",
        "#MLKNN is an adaptation of the kNN lazy learning algorithm for multi-label data.\n",
        "\n",
        "# apply MLkNN for delicious dataset it has 983 labels. \n",
        "classifier4 = MLkNN(k=6)\n",
        "\n",
        "# train\n",
        "classifier4.fit(x4_s_train, y4_s_train)\n",
        "\n",
        "# predict\n",
        "MLKNN4_predictions = classifier4.predict(x4_s_test)"
      ],
      "execution_count": null,
      "outputs": []
    },
    {
      "cell_type": "markdown",
      "metadata": {
        "id": "FgJi7BEDebKu"
      },
      "source": [
        "##BRKNNa"
      ]
    },
    {
      "cell_type": "code",
      "metadata": {
        "id": "rpKImeWIecaK"
      },
      "source": [
        "from skmultilearn.adapt import BRkNNaClassifier\n",
        "classifier4 = BRkNNaClassifier(k=6)\n",
        "# train\n",
        "classifier4.fit(x4_s_train, y4_s_train)\n",
        "# predict\n",
        "BR4_predictions = classifier4.predict(x4_s_test)"
      ],
      "execution_count": null,
      "outputs": []
    },
    {
      "cell_type": "markdown",
      "metadata": {
        "id": "JlCcxirpeeV-"
      },
      "source": [
        "##Measuring Metrics "
      ]
    },
    {
      "cell_type": "code",
      "metadata": {
        "id": "ne1hPWzdehBb"
      },
      "source": [
        "import sklearn.metrics as m\n",
        "#Hamming Loss\n",
        "hamming_loss_MLTSVM.append(round(m.hamming_loss(y4_s_test, MLTSVM4_predictions),2))\n",
        "hamming_loss_MLKNN.append(round(m.hamming_loss(y4_s_test, MLKNN4_predictions),2))\n",
        "hamming_loss_BRKNNa.append(round(m.hamming_loss(y4_s_test, BR4_predictions),2))\n",
        "\n",
        "#Accuracy\n",
        "accuracy_MLTSVM.append(round(m.accuracy_score(y4_s_test, MLTSVM4_predictions),2))\n",
        "accuracy_MLKNN.append(round(m.accuracy_score(y4_s_test, MLKNN4_predictions),2))\n",
        "accuracy_BRKNNa.append(round(m.accuracy_score(y4_s_test, BR4_predictions),2))\n",
        "\n",
        "#Micro Precision\n",
        "precision_MLTSVM.append(round(m.precision_score(y4_s_test, MLTSVM4_predictions, average='micro', zero_division='warn'),2))\n",
        "precision_MLKNN.append(round(m.precision_score(y4_s_test, MLKNN4_predictions, average='micro', zero_division='warn'),2))\n",
        "precision_BRKNNa.append(round(m.precision_score(y4_s_test, BR4_predictions, average='micro', zero_division='warn'),2))\n",
        "\n",
        "#Micro Recall\n",
        "recall_MLTSVM.append(round(m.recall_score(y4_s_test, MLTSVM4_predictions, average='micro',zero_division='warn'),2))\n",
        "recall_MLKNN.append(round(m.recall_score(y4_s_test, MLKNN4_predictions, average='micro',zero_division='warn'),2))\n",
        "recall_BRKNNa.append(round(m.recall_score(y4_s_test, BR4_predictions, average='micro',zero_division='warn'),2))\n",
        "#Micro F1 measure\n",
        "f1_measure_MLTSVM.append(round(m.f1_score(y4_s_test, MLTSVM4_predictions, average='micro',zero_division='warn'),2))\n",
        "f1_measure_MLKNN.append(round(m.f1_score(y4_s_test, MLKNN4_predictions, average='micro',zero_division='warn'),2))\n",
        "f1_measure_BRKNNa.append(round(m.f1_score(y4_s_test, BR4_predictions, average='micro',zero_division='warn'),2))"
      ],
      "execution_count": null,
      "outputs": []
    },
    {
      "cell_type": "code",
      "metadata": {
        "id": "XCX4TSXTejZ6",
        "colab": {
          "base_uri": "https://localhost:8080/"
        },
        "outputId": "b748c8e6-9765-4b0d-e8b1-c3c719e8e182"
      },
      "source": [
        "print(\"------------------------------\")\n",
        "print(\"\\t(Examples,Labels\")\n",
        "print(\"------------------------------\")\n",
        "print(\"MLTSVM -> \",MLTSVM4_predictions.shape)\n",
        "print(\"MLKNN  -> \",MLKNN4_predictions.shape)\n",
        "print(\"BRKNNa -> \",BR4_predictions.shape)\n",
        "import sklearn.metrics as m\n",
        "print(\"------------------------------\")\n",
        "print(\"\\tHamming Loss\")\n",
        "print(\"------------------------------\")\n",
        "print(\"MLTSVM -> \",round(m.hamming_loss(y4_s_test, MLTSVM4_predictions),2))\n",
        "print(\"MLKNN  -> \",round(m.hamming_loss(y4_s_test, MLKNN4_predictions),2))\n",
        "print(\"BRKNNa -> \",round(m.hamming_loss(y4_s_test, BR4_predictions),2))\n",
        "print(\"------------------------------\")\n",
        "print(\"\\tAccuracy\")\n",
        "print(\"------------------------------\")\n",
        "print(\"MLTSVM -> \",round(m.accuracy_score(y4_s_test, MLTSVM4_predictions),2))\n",
        "print(\"MLKNN  -> \",round(m.accuracy_score(y4_s_test, MLKNN4_predictions),2))\n",
        "print(\"BRKNNa -> \",round(m.accuracy_score(y4_s_test, BR4_predictions),2))\n",
        "print(\"\\tPrecision\")\n",
        "print(\"------------------------------\")\n",
        "print(\"MLTSVM -> \",round(m.precision_score(y4_s_test, MLTSVM4_predictions, average='micro',zero_division='warn'),2))\n",
        "print(\"MLKNN -> \",round(m.precision_score(y4_s_test, MLKNN4_predictions, average='micro',zero_division='warn'),2))\n",
        "print(\"BRKNNa -> \",round(m.precision_score(y4_s_test, BR4_predictions, average='micro',zero_division='warn'),2))\n",
        "print(\"------------------------------\")\n",
        "print(\"\\tRecall\")\n",
        "print(\"------------------------------\")\n",
        "print(\"MLTSVM -> \",round(m.recall_score(y4_s_test, MLTSVM4_predictions, average='micro',zero_division='warn'),2))\n",
        "print(\"MLKNN -> \",round(m.recall_score(y4_s_test, MLKNN4_predictions, average='micro',zero_division='warn'),2))\n",
        "print(\"BRKNNa -> \",round(m.recall_score(y4_s_test, BR4_predictions, average='micro',zero_division='warn'),2))\n",
        "print(\"------------------------------\")\n",
        "print(\"\\tF1-measure\")\n",
        "print(\"------------------------------\")\n",
        "#f1=2*(p*r)/(p+r)\n",
        "print(\"MLTSVM -> \",round(m.f1_score(y4_s_test, MLTSVM4_predictions, average='micro',zero_division='warn'),2))\n",
        "print(\"MLKNN -> \",round(m.f1_score(y4_s_test, MLKNN4_predictions, average='micro',zero_division='warn'),2))\n",
        "print(\"BHKNNa -> \",round(m.f1_score(y4_s_test, BR4_predictions, average='micro',zero_division='warn'),2))\n",
        "print()"
      ],
      "execution_count": null,
      "outputs": [
        {
          "output_type": "stream",
          "text": [
            "------------------------------\n",
            "\t(Examples,Labels\n",
            "------------------------------\n",
            "MLTSVM ->  (177, 6)\n",
            "MLKNN  ->  (177, 6)\n",
            "BRKNNa ->  (177, 6)\n",
            "------------------------------\n",
            "\tHamming Loss\n",
            "------------------------------\n",
            "MLTSVM ->  0.68\n",
            "MLKNN  ->  0.29\n",
            "BRKNNa ->  0.28\n",
            "------------------------------\n",
            "\tAccuracy\n",
            "------------------------------\n",
            "MLTSVM ->  0.0\n",
            "MLKNN  ->  0.16\n",
            "BRKNNa ->  0.13\n",
            "\tPrecision\n",
            "------------------------------\n",
            "MLTSVM ->  0.32\n",
            "MLKNN ->  0.56\n",
            "BRKNNa ->  0.6\n",
            "------------------------------\n",
            "\tRecall\n",
            "------------------------------\n",
            "MLTSVM ->  1.0\n",
            "MLKNN ->  0.45\n",
            "BRKNNa ->  0.34\n",
            "------------------------------\n",
            "\tF1-measure\n",
            "------------------------------\n",
            "MLTSVM ->  0.48\n",
            "MLKNN ->  0.5\n",
            "BHKNNa ->  0.43\n",
            "\n"
          ],
          "name": "stdout"
        }
      ]
    },
    {
      "cell_type": "markdown",
      "metadata": {
        "id": "LigV-BMBelsk"
      },
      "source": [
        "#05 Genbase Dataset"
      ]
    },
    {
      "cell_type": "markdown",
      "metadata": {
        "id": "S9uiIAm0dmab"
      },
      "source": [
        "Load Dataset"
      ]
    },
    {
      "cell_type": "code",
      "metadata": {
        "id": "5G3Uh9HTeqQ4",
        "colab": {
          "base_uri": "https://localhost:8080/"
        },
        "outputId": "d51b53f9-8726-40a1-ea08-c9919586909c"
      },
      "source": [
        "from skmultilearn.dataset import load_dataset\n",
        "x5,y5, _, _ = load_dataset('genbase', 'undivided')"
      ],
      "execution_count": null,
      "outputs": [
        {
          "output_type": "stream",
          "text": [
            "genbase:undivided - does not exists downloading\n",
            "Downloaded genbase-undivided\n"
          ],
          "name": "stdout"
        }
      ]
    },
    {
      "cell_type": "markdown",
      "metadata": {
        "id": "R4VszEbUdnsE"
      },
      "source": [
        "Train and Test split"
      ]
    },
    {
      "cell_type": "code",
      "metadata": {
        "id": "0J0GKZE7evis",
        "colab": {
          "base_uri": "https://localhost:8080/"
        },
        "outputId": "63a35f80-2673-46ce-e99f-a696ae97b76a"
      },
      "source": [
        "from skmultilearn.model_selection import iterative_train_test_split\n",
        "x5_train, y5_train, x5_test, y5_test = iterative_train_test_split(x5, y5, test_size = 0.3)\n",
        "print(x5_train.shape, x5_test.shape, y5_train.shape, y5_test.shape)"
      ],
      "execution_count": null,
      "outputs": [
        {
          "output_type": "stream",
          "text": [
            "(463, 1186) (199, 1186) (463, 27) (199, 27)\n"
          ],
          "name": "stdout"
        }
      ]
    },
    {
      "cell_type": "code",
      "metadata": {
        "id": "nOQxObGMexay"
      },
      "source": [
        "#from scipy import sparse as s\n",
        "x5_s_train = s.csr_matrix(x5_train)\n",
        "y5_s_train = s.csr_matrix(y5_train)\n",
        "x5_s_test = s.csr_matrix(x5_test)\n",
        "y5_s_test = s.csr_matrix(y5_test)"
      ],
      "execution_count": null,
      "outputs": []
    },
    {
      "cell_type": "markdown",
      "metadata": {
        "id": "tk4uomQUey9l"
      },
      "source": [
        "##MLTSVM"
      ]
    },
    {
      "cell_type": "code",
      "metadata": {
        "id": "PYAmT_hle0dW"
      },
      "source": [
        "#from skmultilearn.adapt import MLTSVM\n",
        "classifier5 = MLTSVM(c_k =2**-6)\n",
        "# train\n",
        "classifier5.fit(x5_s_train, y5_s_train)\n",
        "# predict\n",
        "MLTSVM5_predictions = classifier5.predict(x5_s_test)"
      ],
      "execution_count": null,
      "outputs": []
    },
    {
      "cell_type": "markdown",
      "metadata": {
        "id": "dmN5iQnke2yL"
      },
      "source": [
        "##MLKNN"
      ]
    },
    {
      "cell_type": "code",
      "metadata": {
        "id": "XtkpboCte4BO"
      },
      "source": [
        "#from skmultilearn.adapt import MLkNN\n",
        "#MLKNN is an adaptation of the kNN lazy learning algorithm for multi-label data.\n",
        "\n",
        "# apply MLkNN for delicious dataset it has 983 labels. \n",
        "classifier5 = MLkNN(k=27)\n",
        "\n",
        "# train\n",
        "classifier5.fit(x5_s_train, y5_s_train)\n",
        "\n",
        "# predict\n",
        "MLKNN5_predictions = classifier5.predict(x5_s_test)"
      ],
      "execution_count": null,
      "outputs": []
    },
    {
      "cell_type": "markdown",
      "metadata": {
        "id": "nbV3g6Sse76L"
      },
      "source": [
        "##BRKNNa"
      ]
    },
    {
      "cell_type": "code",
      "metadata": {
        "id": "zlz3XVUte84A"
      },
      "source": [
        "from skmultilearn.adapt import BRkNNaClassifier\n",
        "classifier5 = BRkNNaClassifier(k=27)\n",
        "# train\n",
        "classifier5.fit(x5_s_train, y5_s_train)\n",
        "# predict\n",
        "BR5_predictions = classifier5.predict(x5_s_test)"
      ],
      "execution_count": null,
      "outputs": []
    },
    {
      "cell_type": "markdown",
      "metadata": {
        "id": "vBdwUnpBe_Ik"
      },
      "source": [
        "##Measuring Metrics "
      ]
    },
    {
      "cell_type": "code",
      "metadata": {
        "id": "2u3Cn_3hfCFR"
      },
      "source": [
        "import sklearn.metrics as m\n",
        "#Hamming Loss\n",
        "hamming_loss_MLTSVM.append(round(m.hamming_loss(y5_s_test, MLTSVM5_predictions),2))\n",
        "hamming_loss_MLKNN.append(round(m.hamming_loss(y5_s_test, MLKNN5_predictions),2))\n",
        "hamming_loss_BRKNNa.append(round(m.hamming_loss(y5_s_test, BR5_predictions),2))\n",
        "\n",
        "#Accuracy\n",
        "accuracy_MLTSVM.append(round(m.accuracy_score(y5_s_test, MLTSVM5_predictions),2))\n",
        "accuracy_MLKNN.append(round(m.accuracy_score(y5_s_test, MLKNN5_predictions),2))\n",
        "accuracy_BRKNNa.append(round(m.accuracy_score(y5_s_test, BR5_predictions),2))\n",
        "\n",
        "#Micro Precision\n",
        "precision_MLTSVM.append(round(m.precision_score(y5_s_test, MLTSVM5_predictions, average='micro', zero_division='warn'),2))\n",
        "precision_MLKNN.append(round(m.precision_score(y5_s_test, MLKNN5_predictions, average='micro', zero_division='warn'),2))\n",
        "precision_BRKNNa.append(round(m.precision_score(y5_s_test, BR5_predictions, average='micro', zero_division='warn'),2))\n",
        "\n",
        "#Micro Recall\n",
        "recall_MLTSVM.append(round(m.recall_score(y5_s_test, MLTSVM5_predictions, average='micro',zero_division='warn'),2))\n",
        "recall_MLKNN.append(round(m.recall_score(y5_s_test, MLKNN5_predictions, average='micro',zero_division='warn'),2))\n",
        "recall_BRKNNa.append(round(m.recall_score(y5_s_test, BR5_predictions, average='micro',zero_division='warn'),2))\n",
        "#Micro F1 measure\n",
        "f1_measure_MLTSVM.append(round(m.f1_score(y5_s_test, MLTSVM5_predictions, average='micro',zero_division='warn'),2))\n",
        "f1_measure_MLKNN.append(round(m.f1_score(y5_s_test, MLKNN5_predictions, average='micro',zero_division='warn'),2))\n",
        "f1_measure_BRKNNa.append(round(m.f1_score(y5_s_test, BR5_predictions, average='micro',zero_division='warn'),2))"
      ],
      "execution_count": null,
      "outputs": []
    },
    {
      "cell_type": "code",
      "metadata": {
        "id": "l61igAlYfEWs",
        "colab": {
          "base_uri": "https://localhost:8080/"
        },
        "outputId": "d458bf50-df1c-4d2b-e396-b1a20b0f801d"
      },
      "source": [
        "print(\"------------------------------\")\n",
        "print(\"\\t(Examples,Labels\")\n",
        "print(\"------------------------------\")\n",
        "print(\"MLTSVM -> \",MLTSVM5_predictions.shape)\n",
        "print(\"MLKNN  -> \",MLKNN5_predictions.shape)\n",
        "print(\"BRKNNa -> \",BR5_predictions.shape)\n",
        "import sklearn.metrics as m\n",
        "print(\"------------------------------\")\n",
        "print(\"\\tHamming Loss\")\n",
        "print(\"------------------------------\")\n",
        "print(\"MLTSVM -> \",round(m.hamming_loss(y5_s_test, MLTSVM5_predictions),2))\n",
        "print(\"MLKNN  -> \",round(m.hamming_loss(y5_s_test, MLKNN5_predictions),2))\n",
        "print(\"BRKNNa -> \",round(m.hamming_loss(y5_s_test, BR5_predictions),2))\n",
        "print(\"------------------------------\")\n",
        "print(\"\\tAccuracy\")\n",
        "print(\"------------------------------\")\n",
        "print(\"MLTSVM -> \",round(m.accuracy_score(y5_s_test, MLTSVM5_predictions),2))\n",
        "print(\"MLKNN  -> \",round(m.accuracy_score(y5_s_test, MLKNN5_predictions),2))\n",
        "print(\"BRKNNa -> \",round(m.accuracy_score(y5_s_test, BR5_predictions),2))\n",
        "print(\"------------------------------\")\n",
        "print(\"\\tPrecision\")\n",
        "print(\"------------------------------\")\n",
        "print(\"MLTSVM -> \",round(m.precision_score(y5_s_test, MLTSVM5_predictions, average='micro',zero_division='warn'),2))\n",
        "print(\"MLKNN -> \",round(m.precision_score(y5_s_test, MLKNN5_predictions, average='micro',zero_division='warn'),2))\n",
        "print(\"MLKNNa -> \",round(m.precision_score(y5_s_test, BR5_predictions, average='micro',zero_division='warn'),2))\n",
        "print(\"------------------------------\")\n",
        "print(\"\\tRecall\")\n",
        "print(\"------------------------------\")\n",
        "print(\"MLTSVM -> \",round(m.recall_score(y5_s_test, MLTSVM5_predictions, average='micro',zero_division='warn'),2))\n",
        "print(\"MLKNN -> \",round(m.recall_score(y5_s_test, MLKNN5_predictions, average='micro',zero_division='warn'),2))\n",
        "print(\"BRKNNa -> \",round(m.recall_score(y5_s_test, BR5_predictions, average='micro',zero_division='warn'),2))\n",
        "print(\"------------------------------\")\n",
        "print(\"\\tF1-measure\")\n",
        "print(\"------------------------------\")\n",
        "#f1=2*(p*r)/(p+r)\n",
        "print(\"MLTSVM -> \",round(m.f1_score(y5_s_test, MLTSVM5_predictions, average='micro',zero_division='warn'),2))\n",
        "print(\"MLKNN -> \",round(m.f1_score(y5_s_test, MLKNN5_predictions, average='micro',zero_division='warn'),2))\n",
        "print(\"BRKNNa -> \",round(m.f1_score(y5_s_test, BR5_predictions, average='micro',zero_division='warn'),2))\n",
        "print()"
      ],
      "execution_count": null,
      "outputs": [
        {
          "output_type": "stream",
          "text": [
            "------------------------------\n",
            "\t(Examples,Labels\n",
            "------------------------------\n",
            "MLTSVM ->  (199, 27)\n",
            "MLKNN  ->  (199, 27)\n",
            "BRKNNa ->  (199, 27)\n",
            "------------------------------\n",
            "\tHamming Loss\n",
            "------------------------------\n",
            "MLTSVM ->  0.02\n",
            "MLKNN  ->  0.04\n",
            "BRKNNa ->  0.04\n",
            "------------------------------\n",
            "\tAccuracy\n",
            "------------------------------\n",
            "MLTSVM ->  0.55\n",
            "MLKNN  ->  0.14\n",
            "BRKNNa ->  0.15\n",
            "------------------------------\n",
            "\tPrecision\n",
            "------------------------------\n",
            "MLTSVM ->  0.74\n",
            "MLKNN ->  0.85\n",
            "MLKNNa ->  0.74\n",
            "------------------------------\n",
            "\tRecall\n",
            "------------------------------\n",
            "MLTSVM ->  0.79\n",
            "MLKNN ->  0.11\n",
            "BRKNNa ->  0.12\n",
            "------------------------------\n",
            "\tF1-measure\n",
            "------------------------------\n",
            "MLTSVM ->  0.76\n",
            "MLKNN ->  0.19\n",
            "BRKNNa ->  0.21\n",
            "\n"
          ],
          "name": "stdout"
        }
      ]
    },
    {
      "cell_type": "markdown",
      "metadata": {
        "id": "D1jD8kkxfG8P"
      },
      "source": [
        "#Results based on  EVALUATION MEASURES"
      ]
    },
    {
      "cell_type": "markdown",
      "metadata": {
        "id": "Mjq4y7EdfL8O"
      },
      "source": [
        "##Hamming loss"
      ]
    },
    {
      "cell_type": "code",
      "metadata": {
        "id": "WHQouLjTfIFu",
        "colab": {
          "base_uri": "https://localhost:8080/"
        },
        "outputId": "b6e47c4a-4f81-4565-db6e-6592e09d9669"
      },
      "source": [
        "import matplotlib.pyplot as plt\n",
        "dataset=['medical','enron','scene','emotions','gebase']\n",
        "print(hamming_loss_MLKNN)\n",
        "fig, ax=plt.subplots()\n",
        "ax.plot(dataset,hamming_loss_MLTSVM, label='MLTSVM',marker='H')\n",
        "ax.plot(dataset,hamming_loss_MLKNN, label='MLKNN',marker='>')\n",
        "ax.plot(dataset,hamming_loss_BRKNNa, label='BRKNNa',marker='*')\n",
        "ax.legend(loc='upper left')\n",
        "ax.set_xlabel('Datasets')\n",
        "ax.set_ylabel('Hamming Loss')\n",
        "plt.tight_layout()\n",
        "plt.savefig('hamming loss')"
      ],
      "execution_count": null,
      "outputs": [
        {
          "output_type": "stream",
          "text": [
            "[0.02, 0.05, 0.1, 0.29, 0.04]\n"
          ],
          "name": "stdout"
        },
        {
          "output_type": "display_data",
          "data": {
            "image/png": "[encoded data removed]",
            "text/plain": [
              "<Figure size 432x288 with 1 Axes>"
            ]
          },
          "metadata": {
            "tags": [],
            "needs_background": "light"
          }
        }
      ]
    },
    {
      "cell_type": "markdown",
      "metadata": {
        "id": "q1pMh-KKfaB4"
      },
      "source": [
        "##Accuracy"
      ]
    },
    {
      "cell_type": "code",
      "metadata": {
        "id": "rdcdYIURfeWq",
        "colab": {
          "base_uri": "https://localhost:8080/"
        },
        "outputId": "1c51a845-e651-46f4-b803-7a5007f4c88d"
      },
      "source": [
        "#import matplotlib.pyplot as plt\n",
        "fig, ax=plt.subplots()\n",
        "ax.plot(dataset,accuracy_MLTSVM, label='MLTSVM',marker='H')\n",
        "ax.plot(dataset,accuracy_MLKNN, label='MLKNN',marker='>')\n",
        "ax.plot(dataset,accuracy_BRKNNa, label='BRKNNa',marker='*')\n",
        "ax.legend(loc='upper left')\n",
        "ax.set_xlabel('Datases')\n",
        "ax.set_ylabel('Accuracy')\n",
        "plt.savefig('Accuracy')"
      ],
      "execution_count": null,
      "outputs": [
        {
          "output_type": "display_data",
          "data": {
            "image/png": "[encoded data removed]",
            "text/plain": [
              "<Figure size 432x288 with 1 Axes>"
            ]
          },
          "metadata": {
            "tags": [],
            "needs_background": "light"
          }
        }
      ]
    },
    {
      "cell_type": "markdown",
      "metadata": {
        "id": "fv_rBrTBfe9s"
      },
      "source": [
        "##Precision"
      ]
    },
    {
      "cell_type": "code",
      "metadata": {
        "id": "GMDmMmfffjMc",
        "colab": {
          "base_uri": "https://localhost:8080/"
        },
        "outputId": "3049ec7d-0b77-42d9-8b5f-89b2d34ddc00"
      },
      "source": [
        "fig, ax=plt.subplots()\n",
        "ax.plot(dataset,precision_MLTSVM, label='MLTSVM',marker='H')\n",
        "ax.plot(dataset,precision_MLKNN, label='MLKNN',marker='>')\n",
        "ax.plot(dataset,precision_BRKNNa, label='BRKNNa',marker='*')\n",
        "ax.legend(loc='lower left')\n",
        "ax.set_xlabel('Datastes')\n",
        "ax.set_ylabel('Micro Precision')\n",
        "plt.tight_layout()\n",
        "plt.savefig('Precision')"
      ],
      "execution_count": null,
      "outputs": [
        {
          "output_type": "display_data",
          "data": {
            "image/png": "[encoded data removed]",
            "text/plain": [
              "<Figure size 432x288 with 1 Axes>"
            ]
          },
          "metadata": {
            "tags": [],
            "needs_background": "light"
          }
        }
      ]
    },
    {
      "cell_type": "markdown",
      "metadata": {
        "id": "0s8iANwUfjvd"
      },
      "source": [
        "##Recall"
      ]
    },
    {
      "cell_type": "code",
      "metadata": {
        "id": "OeUSnfPnfkl5",
        "colab": {
          "base_uri": "https://localhost:8080/"
        },
        "outputId": "ccc32d7d-683a-411c-9a28-e1ee058954de"
      },
      "source": [
        "fig, ax=plt.subplots()\n",
        "ax.plot(dataset,recall_MLTSVM, label='MLTSVM',marker='H')\n",
        "ax.plot(dataset,recall_MLKNN, label='MLKNN',marker='>')\n",
        "ax.plot(dataset,recall_BRKNNa, label='BRKNNa',marker='*')\n",
        "ax.legend(loc='upper left')\n",
        "ax.set_xlabel('Datasets')\n",
        "ax.set_ylabel('Micro Recall')\n",
        "plt.tight_layout()\n",
        "plt.savefig('Recall')"
      ],
      "execution_count": null,
      "outputs": [
        {
          "output_type": "display_data",
          "data": {
            "image/png": "[encoded data removed]",
            "text/plain": [
              "<Figure size 432x288 with 1 Axes>"
            ]
          },
          "metadata": {
            "tags": [],
            "needs_background": "light"
          }
        }
      ]
    },
    {
      "cell_type": "markdown",
      "metadata": {
        "id": "dSi4s5KVfnBk"
      },
      "source": [
        "##F1 measure"
      ]
    },
    {
      "cell_type": "code",
      "metadata": {
        "id": "WN0lAODWfoWb",
        "colab": {
          "base_uri": "https://localhost:8080/"
        },
        "outputId": "4e704d00-131f-471a-a9b9-f3e9784b8e5c"
      },
      "source": [
        "#F1 measure\n",
        "fig, ax=plt.subplots()\n",
        "ax.plot(dataset,f1_measure_MLTSVM, label='MLTSVM',marker='H')\n",
        "ax.plot(dataset,f1_measure_MLKNN, label='MLKNN',marker='>')\n",
        "ax.plot(dataset,f1_measure_BRKNNa, label='BRKNNa',marker='*')\n",
        "ax.legend(loc='lower center')\n",
        "ax.set_xlabel('Datasets')\n",
        "ax.set_ylabel('Micro F1 measure')\n",
        "plt.tight_layout()\n",
        "plt.savefig('f1 measure')"
      ],
      "execution_count": null,
      "outputs": [
        {
          "output_type": "display_data",
          "data": {
            "image/png": "[encoded data removed]",
            "text/plain": [
              "<Figure size 432x288 with 1 Axes>"
            ]
          },
          "metadata": {
            "tags": [],
            "needs_background": "light"
          }
        }
      ]
    }
  ]
}