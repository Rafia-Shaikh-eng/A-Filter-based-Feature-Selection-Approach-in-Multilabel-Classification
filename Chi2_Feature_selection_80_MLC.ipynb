{
  "cells": [
    {
      "cell_type": "markdown",
      "metadata": {
        "id": "view-in-github",
        "colab_type": "text"
      },
      "source": [
        "<a href=\"https://colab.research.google.com/github/Rafia-Shaikh-eng/A-Filter-based-Feature-Selection-Approach-in-Multilabel-Classification/blob/main/Chi2_Feature_selection_80_MLC.ipynb\" target=\"_parent\"><img src=\"https://colab.research.google.com/assets/colab-badge.svg\" alt=\"Open In Colab\"/></a>"
      ]
    },
    {
      "cell_type": "markdown",
      "metadata": {
        "id": "gdG1WwzQe26j"
      },
      "source": [
        "importing required libraries"
      ]
    },
    {
      "cell_type": "code",
      "execution_count": null,
      "metadata": {
        "colab": {
          "base_uri": "https://localhost:8080/"
        },
        "id": "QE70ALC9f3Ii",
        "outputId": "f5feec8b-9da5-4c7b-bf08-e2db8743356c"
      },
      "outputs": [
        {
          "name": "stdout",
          "output_type": "stream",
          "text": [
            "Requirement already satisfied: scikit-multilearn in c:\\users\\aashir\\anaconda3\\lib\\site-packages (0.2.0)\n",
            "Requirement already satisfied: arff in c:\\users\\aashir\\anaconda3\\lib\\site-packages (0.9)\n"
          ]
        }
      ],
      "source": [
        "# if the scikit-multilearn not installed run this cell\n",
        "!pip install scikit-multilearn\n",
        "# most of the datasets in Weka Arff format for this installed this library\n",
        "!pip install arff"
      ]
    },
    {
      "cell_type": "markdown",
      "metadata": {
        "id": "nEk8PbRke7t_"
      },
      "source": [
        "Created 03 arrays of each measuring metrics for 03 classifier"
      ]
    },
    {
      "cell_type": "code",
      "execution_count": null,
      "metadata": {
        "id": "MJucbp86f9vF"
      },
      "outputs": [],
      "source": [
        "#03 classifiers hamming loss list\n",
        "hamming_loss_MLTSVM=[]\n",
        "hamming_loss_MLKNN=[]\n",
        "hamming_loss_BRKNNa=[]\n",
        "#03 classifier accuracy list\n",
        "accuracy_MLTSVM=[]\n",
        "accuracy_MLKNN=[]\n",
        "accuracy_BRKNNa=[]\n",
        "#03 classifier precision list\n",
        "precision_MLTSVM=[]\n",
        "precision_MLKNN=[]\n",
        "precision_BRKNNa=[]\n",
        "#03 classifier recall list\n",
        "recall_MLTSVM=[]\n",
        "recall_MLKNN=[]\n",
        "recall_BRKNNa=[]\n",
        "#03 classifier f1 measure list\n",
        "f1_measure_MLTSVM=[]\n",
        "f1_measure_MLKNN=[]\n",
        "f1_measure_BRKNNa=[]"
      ]
    },
    {
      "cell_type": "markdown",
      "metadata": {
        "id": "40EXuk8PgEWh"
      },
      "source": [
        "#01 Medical Dataset"
      ]
    },
    {
      "cell_type": "code",
      "execution_count": null,
      "metadata": {
        "colab": {
          "base_uri": "https://localhost:8080/"
        },
        "id": "g_QYSpg5gOSI",
        "outputId": "18c2d6f0-7e6c-4ae5-8277-325348da93a2"
      },
      "outputs": [
        {
          "name": "stdout",
          "output_type": "stream",
          "text": [
            "medical:undivided - exists, not redownloading\n",
            "Actual Dataset\n",
            "(978, 1449) (978, 45)\n",
            "Coverted into Dataframe\n",
            "(978, 1449) (978, 45)\n"
          ]
        }
      ],
      "source": [
        "#Load Medical Dataset\n",
        "from skmultilearn.dataset import load_dataset\n",
        "x1,y1, _, _ = load_dataset('medical', 'undivided')\n",
        "print(\"Actual Dataset\")\n",
        "print(x1.shape,y1.shape)\n",
        "#change to matrix\n",
        "x1=x1.todense()\n",
        "y1=y1.todense()\n",
        "import pandas as pd\n",
        "#change to dataFrame\n",
        "x1=pd.DataFrame(x1)\n",
        "y1=pd.DataFrame(y1)\n",
        "print(\"Coverted into Dataframe\")\n",
        "print(x1.shape,y1.shape)"
      ]
    },
    {
      "cell_type": "markdown",
      "metadata": {
        "id": "rVf2goSUgHDN"
      },
      "source": [
        "##Feature Selection"
      ]
    },
    {
      "cell_type": "code",
      "execution_count": null,
      "metadata": {
        "colab": {
          "base_uri": "https://localhost:8080/"
        },
        "id": "Wz6shzfQgGTC",
        "outputId": "3acda44b-2511-4bcb-c1df-366916b92fca"
      },
      "outputs": [
        {
          "name": "stdout",
          "output_type": "stream",
          "text": [
            "80% features of medical dataset =  1159\n"
          ]
        }
      ],
      "source": [
        "# import the required functions and object.\n",
        "from sklearn.feature_selection import chi2\n",
        "from sklearn.feature_selection import SelectKBest\n",
        "import numpy as np\n",
        "import pandas as pd\n",
        "\n",
        "# select the number of features you want to retain.\n",
        "select_k1 = round(len(x1.columns)*0.8)\n",
        "print(\"80% features of medical dataset = \",select_k1)\n",
        "\n",
        "features_selected_20=[]\n",
        "features_weights=[]\n",
        "for a in range(len(x1.columns)):\n",
        "   features_weights.append(0)\n",
        "for i in range(len(y1.columns)):\n",
        "  # apply the chi2 score on the data and target (target should be binary).\n",
        "  selection = SelectKBest(chi2, k=select_k1).fit(x1, y1.iloc[:,i])\n",
        "\n",
        "  # display the retained features.\n",
        "  features=list(x1.columns[selection.get_support()])\n",
        "  labels=y1.columns[i]\n",
        "  features_selected_20.append([labels, features])\n",
        "  #print(features_selected_20[i])\n",
        "\n",
        "  #calculating weight for each feature\n",
        "  #if a feature is correlate to label count them and than divide it by total labels\n",
        "  for f in features:\n",
        "    for count in range(len(x1.columns)):\n",
        "      if(f==x1.columns[count]):\n",
        "        features_weights[count]+=1\n",
        "list_f_w={}\n",
        "#if a feature is correlate to label count them and than divide it by total labels\n",
        "for i in range(len(x1.columns)):\n",
        "  features_weights[i]=round(features_weights[i]/len(x1.columns),3)\n",
        "  list_f_w.update({x1.columns[i] : features_weights[i]})"
      ]
    },
    {
      "cell_type": "code",
      "execution_count": null,
      "metadata": {
        "id": "Pr3YB_VDgWiU"
      },
      "outputs": [],
      "source": [
        "#sort weights\n",
        "import operator\n",
        "sorted_list_f_w = sorted(list_f_w.items(), key=operator.itemgetter(1), reverse=True)\n",
        "import collections\n",
        "sorted_dict_f = collections.OrderedDict(sorted_list_f_w)\n",
        "#print(sorted_dict_f)"
      ]
    },
    {
      "cell_type": "code",
      "execution_count": null,
      "metadata": {
        "colab": {
          "base_uri": "https://localhost:8080/"
        },
        "id": "MgpDnTTtgd-S",
        "outputId": "b8502eab-46d7-4c08-d262-16011e7f79b3"
      },
      "outputs": [
        {
          "name": "stdout",
          "output_type": "stream",
          "text": [
            "{15, 16, 22, 23, 24, 31, 37, 38, 43, 44, 49, 53, 54, 55, 56, 57, 58, 61, 67, 78, 79, 108, 119, 132, 134, 135, 137, 141, 144, 146, 147, 149, 154, 158, 160, 161, 162, 164, 174, 175, 179, 180, 184, 187, 188, 192, 193, 198, 210, 214, 217, 224, 225, 227, 228, 229, 237, 239, 240, 241, 247, 249, 250, 252, 257, 258, 259, 262, 265, 266, 269, 270, 278, 279, 281, 282, 284, 285, 288, 290, 294, 297, 298, 308, 310, 311, 315, 320, 323, 325, 328, 331, 335, 339, 341, 342, 345, 348, 350, 351, 353, 355, 357, 364, 366, 369, 370, 373, 377, 383, 384, 385, 390, 391, 393, 395, 396, 399, 402, 403, 404, 407, 409, 411, 412, 419, 422, 423, 425, 430, 433, 441, 445, 446, 448, 450, 454, 455, 457, 460, 463, 464, 467, 468, 469, 470, 472, 474, 475, 476, 479, 480, 481, 482, 491, 496, 498, 500, 501, 502, 504, 505, 507, 512, 521, 522, 525, 527, 529, 533, 539, 543, 544, 546, 549, 551, 554, 555, 556, 560, 561, 565, 572, 573, 578, 586, 590, 591, 596, 598, 600, 602, 605, 606, 607, 608, 609, 610, 615, 630, 631, 632, 633, 634, 635, 636, 637, 638, 639, 641, 642, 643, 644, 646, 647, 648, 649, 650, 651, 652, 654, 655, 656, 657, 658, 659, 660, 661, 662, 663, 664, 665, 667, 668, 669, 670, 672, 673, 674, 675, 676, 677, 678, 680, 681, 682, 684, 687, 688, 690, 691, 692, 693, 694, 695, 696, 698, 699, 702, 703, 704, 706, 709, 710, 711, 712, 713, 714, 715, 716, 717, 718, 720, 721, 722, 723, 724, 725, 726, 728, 729, 730, 731, 733, 734, 735, 736, 737, 738, 739, 740, 742, 743, 744, 747, 748, 749, 750, 751, 753, 755, 756, 757, 758, 759, 760, 761, 762, 763, 765, 766, 767, 768, 769, 770, 771, 773, 776, 777, 778, 779, 781, 782, 783, 786, 787, 788, 789, 790, 794, 795, 796, 797, 798, 799, 800, 801, 803, 805, 806, 807, 808, 809, 810, 811, 812, 813, 814, 815, 816, 817, 818, 819, 820, 821, 822, 823, 824, 825, 826, 827, 828, 829, 830, 831, 832, 838, 839, 840, 841, 842, 843, 844, 845, 846, 847, 848, 849, 852, 853, 855, 856, 857, 858, 860, 861, 862, 863, 864, 865, 867, 868, 869, 870, 872, 874, 875, 876, 877, 878, 879, 880, 881, 882, 883, 884, 887, 888, 889, 890, 892, 893, 894, 895, 896, 897, 898, 899, 901, 902, 903, 904, 905, 907, 908, 909, 910, 911, 912, 913, 914, 915, 916, 917, 918, 919, 920, 921, 922, 924, 925, 926, 927, 929, 930, 931, 932, 935, 936, 937, 938, 939, 941, 943, 944, 945, 946, 947, 948, 949, 951, 952, 953, 954, 955, 956, 957, 958, 959, 960, 961, 962, 963, 964, 966, 967, 968, 969, 970, 972, 973, 974, 976, 977, 978, 979, 980, 984, 985, 986, 987, 988, 989, 990, 991, 992, 993, 995, 996, 998, 999, 1002, 1005, 1007, 1008, 1009, 1012, 1013, 1014, 1015, 1016, 1017, 1018, 1019, 1020, 1022, 1023, 1024, 1025, 1026, 1027, 1028, 1029, 1031, 1032, 1033, 1034, 1035, 1036, 1038, 1039, 1040, 1041, 1042, 1043, 1044, 1045, 1046, 1047, 1048, 1049, 1050, 1051, 1052, 1053, 1054, 1055, 1056, 1058, 1059, 1060, 1061, 1062, 1063, 1065, 1066, 1067, 1068, 1069, 1071, 1073, 1075, 1076, 1078, 1080, 1082, 1083, 1084, 1085, 1086, 1088, 1089, 1090, 1092, 1093, 1094, 1096, 1098, 1099, 1100, 1101, 1103, 1104, 1105, 1107, 1108, 1109, 1110, 1111, 1112, 1113, 1114, 1115, 1116, 1117, 1118, 1119, 1121, 1122, 1123, 1124, 1125, 1126, 1127, 1129, 1130, 1131, 1132, 1133, 1134, 1135, 1136, 1137, 1138, 1139, 1140, 1141, 1142, 1143, 1144, 1146, 1147, 1148, 1149, 1150, 1151, 1152, 1154, 1156, 1157, 1158, 1159, 1160, 1161, 1162, 1163, 1164, 1165, 1166, 1168, 1169, 1171, 1172, 1173, 1175, 1176, 1177, 1178, 1179, 1180, 1181, 1182, 1184, 1185, 1186, 1187, 1190, 1191, 1192, 1193, 1194, 1195, 1196, 1198, 1200, 1201, 1202, 1203, 1204, 1205, 1207, 1208, 1209, 1210, 1211, 1213, 1214, 1215, 1216, 1217, 1218, 1219, 1220, 1222, 1223, 1225, 1226, 1227, 1229, 1230, 1231, 1232, 1235, 1236, 1237, 1239, 1240, 1241, 1243, 1245, 1248, 1250, 1251, 1252, 1253, 1254, 1255, 1256, 1257, 1258, 1259, 1260, 1261, 1262, 1263, 1264, 1265, 1266, 1267, 1268, 1269, 1271, 1272, 1273}\n"
          ]
        }
      ],
      "source": [
        "#now, access top 50% weighted features(keys)\n",
        "final_features=[]\n",
        "found=False\n",
        "for i in range(round(len(x1.columns)*0.5)):\n",
        "    final_features.append(list(sorted_dict_f.keys())[i])\n",
        "final_features.sort()\n",
        "\n",
        "#drop other than top 50% weighted features\n",
        "selected_features = set(x1.columns).intersection(final_features)\n",
        "\n",
        "#print(set(x.columns))\n",
        "print(selected_features)\n",
        "\n",
        "for i in list(x1.columns):\n",
        "    if i not in selected_features:\n",
        "        x1 = x1.drop(columns=[i])\n",
        "\n",
        "#print(set(x.columns) == selected_features)\n"
      ]
    },
    {
      "cell_type": "code",
      "execution_count": null,
      "metadata": {
        "colab": {
          "base_uri": "https://localhost:8080/"
        },
        "id": "2KjJRMUYgiSn",
        "outputId": "9fdba3cc-2870-4276-8aed-3051ba83c659"
      },
      "outputs": [
        {
          "name": "stdout",
          "output_type": "stream",
          "text": [
            "Int64Index([  15,   16,   22,   23,   24,   31,   37,   38,   43,   44,\n",
            "            ...\n",
            "            1263, 1264, 1265, 1266, 1267, 1268, 1269, 1271, 1272, 1273],\n",
            "           dtype='int64', length=724)\n",
            "[15, 16, 22, 23, 24, 31, 37, 38, 43, 44, 49, 53, 54, 55, 56, 57, 58, 61, 67, 78, 79, 108, 119, 132, 134, 135, 137, 141, 144, 146, 147, 149, 154, 158, 160, 161, 162, 164, 174, 175, 179, 180, 184, 187, 188, 192, 193, 198, 210, 214, 217, 224, 225, 227, 228, 229, 237, 239, 240, 241, 247, 249, 250, 252, 257, 258, 259, 262, 265, 266, 269, 270, 278, 279, 281, 282, 284, 285, 288, 290, 294, 297, 298, 308, 310, 311, 315, 320, 323, 325, 328, 331, 335, 339, 341, 342, 345, 348, 350, 351, 353, 355, 357, 364, 366, 369, 370, 373, 377, 383, 384, 385, 390, 391, 393, 395, 396, 399, 402, 403, 404, 407, 409, 411, 412, 419, 422, 423, 425, 430, 433, 441, 445, 446, 448, 450, 454, 455, 457, 460, 463, 464, 467, 468, 469, 470, 472, 474, 475, 476, 479, 480, 481, 482, 491, 496, 498, 500, 501, 502, 504, 505, 507, 512, 521, 522, 525, 527, 529, 533, 539, 543, 544, 546, 549, 551, 554, 555, 556, 560, 561, 565, 572, 573, 578, 586, 590, 591, 596, 598, 600, 602, 605, 606, 607, 608, 609, 610, 615, 630, 631, 632, 633, 634, 635, 636, 637, 638, 639, 641, 642, 643, 644, 646, 647, 648, 649, 650, 651, 652, 654, 655, 656, 657, 658, 659, 660, 661, 662, 663, 664, 665, 667, 668, 669, 670, 672, 673, 674, 675, 676, 677, 678, 680, 681, 682, 684, 687, 688, 690, 691, 692, 693, 694, 695, 696, 698, 699, 702, 703, 704, 706, 709, 710, 711, 712, 713, 714, 715, 716, 717, 718, 720, 721, 722, 723, 724, 725, 726, 728, 729, 730, 731, 733, 734, 735, 736, 737, 738, 739, 740, 742, 743, 744, 747, 748, 749, 750, 751, 753, 755, 756, 757, 758, 759, 760, 761, 762, 763, 765, 766, 767, 768, 769, 770, 771, 773, 776, 777, 778, 779, 781, 782, 783, 786, 787, 788, 789, 790, 794, 795, 796, 797, 798, 799, 800, 801, 803, 805, 806, 807, 808, 809, 810, 811, 812, 813, 814, 815, 816, 817, 818, 819, 820, 821, 822, 823, 824, 825, 826, 827, 828, 829, 830, 831, 832, 838, 839, 840, 841, 842, 843, 844, 845, 846, 847, 848, 849, 852, 853, 855, 856, 857, 858, 860, 861, 862, 863, 864, 865, 867, 868, 869, 870, 872, 874, 875, 876, 877, 878, 879, 880, 881, 882, 883, 884, 887, 888, 889, 890, 892, 893, 894, 895, 896, 897, 898, 899, 901, 902, 903, 904, 905, 907, 908, 909, 910, 911, 912, 913, 914, 915, 916, 917, 918, 919, 920, 921, 922, 924, 925, 926, 927, 929, 930, 931, 932, 935, 936, 937, 938, 939, 941, 943, 944, 945, 946, 947, 948, 949, 951, 952, 953, 954, 955, 956, 957, 958, 959, 960, 961, 962, 963, 964, 966, 967, 968, 969, 970, 972, 973, 974, 976, 977, 978, 979, 980, 984, 985, 986, 987, 988, 989, 990, 991, 992, 993, 995, 996, 998, 999, 1002, 1005, 1007, 1008, 1009, 1012, 1013, 1014, 1015, 1016, 1017, 1018, 1019, 1020, 1022, 1023, 1024, 1025, 1026, 1027, 1028, 1029, 1031, 1032, 1033, 1034, 1035, 1036, 1038, 1039, 1040, 1041, 1042, 1043, 1044, 1045, 1046, 1047, 1048, 1049, 1050, 1051, 1052, 1053, 1054, 1055, 1056, 1058, 1059, 1060, 1061, 1062, 1063, 1065, 1066, 1067, 1068, 1069, 1071, 1073, 1075, 1076, 1078, 1080, 1082, 1083, 1084, 1085, 1086, 1088, 1089, 1090, 1092, 1093, 1094, 1096, 1098, 1099, 1100, 1101, 1103, 1104, 1105, 1107, 1108, 1109, 1110, 1111, 1112, 1113, 1114, 1115, 1116, 1117, 1118, 1119, 1121, 1122, 1123, 1124, 1125, 1126, 1127, 1129, 1130, 1131, 1132, 1133, 1134, 1135, 1136, 1137, 1138, 1139, 1140, 1141, 1142, 1143, 1144, 1146, 1147, 1148, 1149, 1150, 1151, 1152, 1154, 1156, 1157, 1158, 1159, 1160, 1161, 1162, 1163, 1164, 1165, 1166, 1168, 1169, 1171, 1172, 1173, 1175, 1176, 1177, 1178, 1179, 1180, 1181, 1182, 1184, 1185, 1186, 1187, 1190, 1191, 1192, 1193, 1194, 1195, 1196, 1198, 1200, 1201, 1202, 1203, 1204, 1205, 1207, 1208, 1209, 1210, 1211, 1213, 1214, 1215, 1216, 1217, 1218, 1219, 1220, 1222, 1223, 1225, 1226, 1227, 1229, 1230, 1231, 1232, 1235, 1236, 1237, 1239, 1240, 1241, 1243, 1245, 1248, 1250, 1251, 1252, 1253, 1254, 1255, 1256, 1257, 1258, 1259, 1260, 1261, 1262, 1263, 1264, 1265, 1266, 1267, 1268, 1269, 1271, 1272, 1273]\n"
          ]
        }
      ],
      "source": [
        "print(x1.columns)\n",
        "print(final_features)"
      ]
    },
    {
      "cell_type": "markdown",
      "metadata": {
        "id": "tTYNehoigr6n"
      },
      "source": [
        "##MLC"
      ]
    },
    {
      "cell_type": "code",
      "execution_count": null,
      "metadata": {
        "colab": {
          "base_uri": "https://localhost:8080/"
        },
        "id": "-U8kN0z8gizm",
        "outputId": "646c126a-0fd1-4dff-85a2-3d12e23c8d13"
      },
      "outputs": [
        {
          "name": "stdout",
          "output_type": "stream",
          "text": [
            "(686, 724) (292, 724) (686, 45) (292, 45)\n"
          ]
        }
      ],
      "source": [
        "from scipy import sparse as s\n",
        "x1 = s.csr_matrix(x1)\n",
        "y1 = s.csr_matrix(y1)\n",
        "from skmultilearn.model_selection import iterative_train_test_split\n",
        "x1_train, y1_train, x1_test, y1_test = iterative_train_test_split(x1, y1, test_size = 0.3)\n",
        "print(x1_train.shape, x1_test.shape, y1_train.shape, y1_test.shape)"
      ]
    },
    {
      "cell_type": "markdown",
      "metadata": {
        "id": "xaCLP9vog4NE"
      },
      "source": [
        "###MLTSVM"
      ]
    },
    {
      "cell_type": "code",
      "execution_count": null,
      "metadata": {
        "id": "sfNkimd9guHp"
      },
      "outputs": [],
      "source": [
        "#MLTSVM\n",
        "from skmultilearn.adapt import MLTSVM\n",
        "classifier1 = MLTSVM(max_iteration=1000,c_k=2**-6)\n",
        "# train\n",
        "classifier1.fit(x1_train, y1_train)\n",
        "# predict\n",
        "MLTSVM1_predictions = classifier1.predict(x1_test)"
      ]
    },
    {
      "cell_type": "markdown",
      "metadata": {
        "id": "4YUC40jeg6Ca"
      },
      "source": [
        "###MLKNN"
      ]
    },
    {
      "cell_type": "code",
      "execution_count": null,
      "metadata": {
        "id": "lCT3Jbj1g7L2"
      },
      "outputs": [],
      "source": [
        "#MLKNN\n",
        "from skmultilearn.adapt import MLkNN\n",
        "#MLKNN is an adaptation of the kNN lazy learning algorithm for multi-label data.\n",
        "# apply MLkNN for medical dataset it has 45 labels.\n",
        "classifier2 = MLkNN(k=45)\n",
        "# train\n",
        "classifier2.fit(x1_train, y1_train)\n",
        "# predict\n",
        "MLKNN1_predictions = classifier2.predict(x1_test)"
      ]
    },
    {
      "cell_type": "markdown",
      "metadata": {
        "id": "I1w6zZiEg7nQ"
      },
      "source": [
        "###BRKNNa"
      ]
    },
    {
      "cell_type": "code",
      "execution_count": null,
      "metadata": {
        "id": "D_tHDGxjg8nK"
      },
      "outputs": [],
      "source": [
        "from skmultilearn.adapt import BRkNNaClassifier\n",
        "classifier3 = BRkNNaClassifier(k=45)\n",
        "# train\n",
        "classifier3.fit(x1_train, y1_train)\n",
        "# predict\n",
        "BR1_predictions = classifier3.predict(x1_test)"
      ]
    },
    {
      "cell_type": "markdown",
      "metadata": {
        "id": "gqkcSY2whDb9"
      },
      "source": [
        "##Measuring Metrics"
      ]
    },
    {
      "cell_type": "code",
      "execution_count": null,
      "metadata": {
        "id": "-6FQQ9MxhFX-"
      },
      "outputs": [],
      "source": [
        "import sklearn.metrics as m\n",
        "# #Hamming Loss\n",
        "# hamming_loss_MLTSVM.append(round(m.hamming_loss(y1_test, MLTSVM1_predictions),2))\n",
        "# hamming_loss_MLKNN.append(round(m.hamming_loss(y1_test, MLKNN1_predictions),2))\n",
        "# hamming_loss_BRKNNa.append(round(m.hamming_loss(y1_test, BR1_predictions),2))\n",
        "\n",
        "# #Accuracy\n",
        "# accuracy_MLTSVM.append(round(m.accuracy_score(y1_test, MLTSVM1_predictions),2))\n",
        "# accuracy_MLKNN.append(round(m.accuracy_score(y1_test, MLKNN1_predictions),2))\n",
        "# accuracy_BRKNNa.append(round(m.accuracy_score(y1_test, BR1_predictions),2))\n",
        "\n",
        "#Micro Precision\n",
        "precision_MLTSVM.append(round(m.precision_score(y1_test, MLTSVM1_predictions, average='micro', zero_division='warn'),2))\n",
        "precision_MLKNN.append(round(m.precision_score(y1_test, MLKNN1_predictions, average='micro', zero_division='warn'),2))\n",
        "precision_BRKNNa.append(round(m.precision_score(y1_test, BR1_predictions, average='micro', zero_division='warn'),2))\n",
        "\n",
        "\n",
        "#Micro Recall\n",
        "recall_MLTSVM.append(round(m.recall_score(y1_test, MLTSVM1_predictions, average='micro',zero_division='warn'),2))\n",
        "recall_MLKNN.append(round(m.recall_score(y1_test, MLKNN1_predictions, average='micro',zero_division='warn'),2))\n",
        "recall_BRKNNa.append(round(m.recall_score(y1_test, BR1_predictions, average='micro',zero_division='warn'),2))\n",
        "# #Micro F1 measure\n",
        "# f1_measure_MLTSVM.append(round(m.f1_score(y1_test, MLTSVM1_predictions, average='micro',zero_division='warn'),2))\n",
        "# f1_measure_MLKNN.append(round(m.f1_score(y1_test, MLKNN1_predictions, average='micro',zero_division='warn'),2))\n",
        "# f1_measure_BRKNNa.append(round(m.f1_score(y1_test, BR1_predictions, average='micro',zero_division='warn'),2))"
      ]
    },
    {
      "cell_type": "code",
      "execution_count": null,
      "metadata": {
        "id": "Ynx5rIJIhHai"
      },
      "outputs": [],
      "source": [
        "# print(\"------------------------------\")\n",
        "# print(\"\\t(Examples,Labels)\")\n",
        "# # print(\"------------------------------\")\n",
        "# print(\"MLTSVM -> \",MLTSVM1_predictions.shape)\n",
        "# print(\"MLKNN  -> \",MLKNN1_predictions.shape)\n",
        "# print(\"BRKNNa -> \",BR1_predictions.shape)\n",
        "# import sklearn.metrics as m\n",
        "# print(\"------------------------------\")\n",
        "# print(\"\\tHamming Loss\")\n",
        "# print(\"------------------------------\")\n",
        "# print(\"MLTSVM -> \",round(m.hamming_loss(y1_test, MLTSVM1_predictions),2))\n",
        "# print(\"MLKNN  -> \",round(m.hamming_loss(y1_test, MLKNN1_predictions),2))\n",
        "# print(\"BRKNNa -> \",round(m.hamming_loss(y1_test, BR1_predictions),2))\n",
        "# print(\"------------------------------\")\n",
        "# print(\"\\tAccuracy\")\n",
        "# print(\"------------------------------\")\n",
        "# print(\"MLTSVM -> \",round(m.accuracy_score(y1_test, MLTSVM1_predictions),2))\n",
        "# print(\"MLKNN  -> \",round(m.accuracy_score(y1_test, MLKNN1_predictions),2))\n",
        "# print(\"BRKNNa -> \",round(m.accuracy_score(y1_test, BR1_predictions),2))\n",
        "# print(\"------------------------------\")\n",
        "# print(\"\\tPrecision\")\n",
        "# print(\"------------------------------\")\n",
        "# ps_mlt1 = round(m.precision_score(y1_test, MLTSVM1_predictions, average='micro', zero_division='warn'),2)\n",
        "# ps_mlk1 = round(m.precision_score(y1_test, MLKNN1_predictions, average='micro', zero_division='warn'),2)\n",
        "# ps_brk1 = round(m.precision_score(y1_test, BR1_predictions, average='micro', zero_division='warn'),2)\n",
        "# print(\"------------------------------\")\n",
        "# print(\"\\tRecall\")\n",
        "# print(\"------------------------------\")\n",
        "# r_mlt1 = round(m.recall_score(y1_test, MLTSVM1_predictions, average='micro',zero_division='warn'),2)\n",
        "# r_mlk1 = round(m.recall_score(y1_test, MLKNN1_predictions, average='micro',zero_division='warn'),2)\n",
        "# r_brk1 = round(m.recall_score(y1_test, BR1_predictions, average='micro',zero_division='warn'),2)\n",
        "# print(\"------------------------------\")\n",
        "# print(\"\\tF1-measure\")\n",
        "# print(\"------------------------------\")\n",
        "# #f1=2*(p*r)/(p+r)\n",
        "# print(\"MLTSVM -> \",round(m.f1_score(y1_test, MLTSVM1_predictions, average='micro',zero_division='warn'),2))\n",
        "# print(\"MLTSVM -> \",round(m.f1_score(y1_test, MLKNN1_predictions, average='micro',zero_division='warn'),2))\n",
        "# print(\"MLTSVM -> \",round(m.f1_score(y1_test, BR1_predictions, average='micro',zero_division='warn'),2))\n",
        "# print()"
      ]
    },
    {
      "cell_type": "code",
      "execution_count": null,
      "metadata": {
        "id": "A0Ek2L-ZeRc9",
        "outputId": "aad6c071-8a8a-426c-bd2b-cd2cdae8b097"
      },
      "outputs": [
        {
          "name": "stdout",
          "output_type": "stream",
          "text": [
            "Precision DataFrame:\n",
            "    Model  Precision\n",
            "0  MLTSVM       0.30\n",
            "1   MLKNN       0.64\n",
            "2  BRKNNa       0.46\n",
            "\n",
            "Recall DataFrame:\n",
            "    Model  Recall\n",
            "0  MLTSVM    0.71\n",
            "1   MLKNN    0.19\n",
            "2  BRKNNa    0.13\n",
            "\n",
            "Combined DataFrame:\n",
            "    Model  Precision  Recall\n",
            "0  MLTSVM       0.30     NaN\n",
            "1   MLKNN       0.64     NaN\n",
            "2  BRKNNa       0.46     NaN\n",
            "3  MLTSVM        NaN    0.71\n",
            "4   MLKNN        NaN    0.19\n",
            "5  BRKNNa        NaN    0.13\n"
          ]
        }
      ],
      "source": [
        "#Calculating precision\n",
        "ps_mlt1 = round(m.precision_score(y1_test, MLTSVM1_predictions, average='micro', zero_division='warn'),2)\n",
        "ps_mlk1 = round(m.precision_score(y1_test, MLKNN1_predictions, average='micro', zero_division='warn'),2)\n",
        "ps_brk1 = round(m.precision_score(y1_test, BR1_predictions, average='micro', zero_division='warn'),2)\n",
        "\n",
        "#Calculating Recall\n",
        "r_mlt1 = round(m.recall_score(y1_test, MLTSVM1_predictions, average='micro',zero_division='warn'),2)\n",
        "r_mlk1 = round(m.recall_score(y1_test, MLKNN1_predictions, average='micro',zero_division='warn'),2)\n",
        "r_brk1 = round(m.recall_score(y1_test, BR1_predictions, average='micro',zero_division='warn'),2)\n",
        "\n",
        "\n",
        "p_dict_1 = { \"MLTSVM\":ps_mlt1, \"MLKNN\":ps_mlk1, \"BRKNNa\":ps_brk1 }\n",
        "p_dict_2 = {\"MLTSVM\":r_mlt1, \"MLKNN\":r_mlk1, \"BRKNNa\":r_brk1 }\n",
        "\n",
        "precision_df_1 = pd.DataFrame(list(p_dict_1.items()), columns=[\"Model\", \"Precision\"])\n",
        "print(\"Precision DataFrame:\")\n",
        "print(precision_df_1)\n",
        "\n",
        "recall_df_1 = pd.DataFrame(list(p_dict_2.items()), columns=[\"Model\", \"Recall\"])\n",
        "print(\"\\nRecall DataFrame:\")\n",
        "print(recall_df_1)\n",
        "\n",
        "combined_df1 = pd.concat([precision_df_1, recall_df_1], ignore_index=True)\n",
        "print(\"\\nCombined DataFrame:\")\n",
        "print(combined_df1)\n"
      ]
    },
    {
      "cell_type": "markdown",
      "metadata": {
        "id": "xFcWI-UChJwd"
      },
      "source": [
        "#02 Enron Dataset"
      ]
    },
    {
      "cell_type": "code",
      "execution_count": null,
      "metadata": {
        "colab": {
          "base_uri": "https://localhost:8080/"
        },
        "id": "DGr-CkgPhPwP",
        "outputId": "2dbe8d04-14dd-4069-f926-b8edf35cf9d7"
      },
      "outputs": [
        {
          "name": "stdout",
          "output_type": "stream",
          "text": [
            "enron:undivided - exists, not redownloading\n",
            "Actual Dataset\n",
            "(1702, 1001) (1702, 53)\n",
            "Coverted into Dataframe\n",
            "(1702, 1001) (1702, 53)\n"
          ]
        }
      ],
      "source": [
        "from skmultilearn.dataset import load_dataset\n",
        "x2,y2, _, _ = load_dataset('enron', 'undivided')\n",
        "print(\"Actual Dataset\")\n",
        "print(x2.shape,y2.shape)\n",
        "#change to matrix\n",
        "x2=x2.todense()\n",
        "y2=y2.todense()\n",
        "import pandas as pd\n",
        "#change to dataFrame\n",
        "x2=pd.DataFrame(x2)\n",
        "y2=pd.DataFrame(y2)\n",
        "print(\"Coverted into Dataframe\")\n",
        "print(x2.shape,y2.shape)"
      ]
    },
    {
      "cell_type": "markdown",
      "metadata": {
        "id": "HZpJZSIjhRqz"
      },
      "source": [
        "##Feature Selection"
      ]
    },
    {
      "cell_type": "code",
      "execution_count": null,
      "metadata": {
        "colab": {
          "base_uri": "https://localhost:8080/"
        },
        "id": "EBlY1Wg_hTHx",
        "outputId": "5fe82584-f1a5-411d-a634-ca00477e5254"
      },
      "outputs": [
        {
          "name": "stdout",
          "output_type": "stream",
          "text": [
            "80% features of Enron dataset =  801\n"
          ]
        }
      ],
      "source": [
        "# import the required functions and object.\n",
        "from sklearn.feature_selection import chi2\n",
        "from sklearn.feature_selection import SelectKBest\n",
        "import numpy as np\n",
        "import pandas as pd\n",
        "\n",
        "# select the number of features you want to retain.\n",
        "select_k1 = round(len(x2.columns)*0.8)\n",
        "print(\"80% features of Enron dataset = \",select_k1)\n",
        "\n",
        "features_selected_20=[]\n",
        "features_weights=[]\n",
        "for a in range(len(x2.columns)):\n",
        "   features_weights.append(0)\n",
        "for i in range(len(y2.columns)):\n",
        "  # apply the chi2 score on the data and target (target should be binary).\n",
        "  selection = SelectKBest(chi2, k=select_k1).fit(x2, y2.iloc[:,i])\n",
        "\n",
        "  # display the retained features.\n",
        "  features=list(x2.columns[selection.get_support()])\n",
        "  labels=y2.columns[i]\n",
        "  features_selected_20.append([labels, features])\n",
        "  #print(features_selected_20[i])\n",
        "\n",
        "  #calculating weight for each feature\n",
        "  #if a feature is correlate to label count them and than divide it by total labels\n",
        "  for f in features:\n",
        "    for count in range(len(x2.columns)):\n",
        "      if(f==x2.columns[count]):\n",
        "        features_weights[count]+=1\n",
        "list_f_w={}\n",
        "#if a feature is correlate to label count them and than divide it by total labels\n",
        "for i in range(len(x2.columns)):\n",
        "  features_weights[i]=round(features_weights[i]/len(x2.columns),3)\n",
        "  list_f_w.update({x2.columns[i] : features_weights[i]})"
      ]
    },
    {
      "cell_type": "code",
      "execution_count": null,
      "metadata": {
        "id": "p9Z6Hfk1hWaJ"
      },
      "outputs": [],
      "source": [
        "#sort weights\n",
        "import operator\n",
        "sorted_list_f_w = sorted(list_f_w.items(), key=operator.itemgetter(1), reverse=True)\n",
        "import collections\n",
        "sorted_dict_f = collections.OrderedDict(sorted_list_f_w)\n",
        "#print(sorted_dict_f)"
      ]
    },
    {
      "cell_type": "code",
      "execution_count": null,
      "metadata": {
        "colab": {
          "base_uri": "https://localhost:8080/"
        },
        "id": "GZzyKUZLhaYp",
        "outputId": "3f775b47-8ec5-4848-96a2-03ca61f7c074"
      },
      "outputs": [
        {
          "name": "stdout",
          "output_type": "stream",
          "text": [
            "Int64Index([   2,   14,   25,   30,   74,   76,   77,   79,   83,   88,\n",
            "            ...\n",
            "             983,  984,  985,  986,  993,  994,  995,  998,  999, 1000],\n",
            "           dtype='int64', length=500)\n",
            "[2, 14, 25, 30, 74, 76, 77, 79, 83, 88, 89, 90, 91, 93, 94, 98, 101, 102, 103, 105, 109, 110, 113, 114, 117, 119, 121, 122, 123, 128, 129, 130, 131, 133, 135, 136, 137, 138, 141, 143, 144, 147, 149, 150, 155, 156, 157, 161, 162, 163, 164, 165, 166, 170, 172, 174, 175, 177, 178, 180, 181, 182, 183, 184, 185, 186, 187, 191, 192, 193, 195, 196, 199, 200, 202, 203, 204, 207, 210, 212, 214, 215, 217, 220, 221, 222, 223, 224, 226, 227, 228, 229, 230, 231, 233, 235, 236, 237, 238, 239, 241, 244, 246, 247, 248, 249, 251, 253, 254, 255, 256, 258, 262, 263, 266, 267, 270, 271, 273, 274, 277, 278, 279, 280, 283, 287, 290, 291, 292, 295, 297, 298, 299, 300, 303, 308, 309, 311, 317, 320, 321, 322, 325, 326, 328, 329, 332, 333, 335, 336, 339, 342, 343, 344, 346, 347, 348, 349, 353, 357, 358, 361, 364, 367, 368, 369, 370, 371, 372, 373, 374, 376, 377, 378, 380, 382, 383, 385, 388, 390, 393, 394, 397, 402, 403, 404, 405, 408, 413, 414, 417, 419, 420, 423, 425, 426, 427, 428, 431, 433, 434, 435, 436, 437, 440, 443, 444, 445, 446, 447, 448, 451, 452, 456, 457, 458, 459, 461, 462, 464, 466, 467, 468, 469, 471, 475, 477, 479, 480, 481, 482, 483, 486, 492, 494, 497, 498, 499, 500, 501, 504, 505, 507, 510, 511, 513, 516, 521, 522, 525, 527, 528, 529, 530, 531, 532, 534, 536, 538, 539, 540, 541, 543, 545, 546, 547, 548, 552, 553, 556, 560, 561, 562, 563, 564, 565, 566, 568, 571, 572, 573, 574, 576, 577, 578, 581, 583, 584, 586, 588, 591, 593, 594, 595, 596, 603, 605, 608, 609, 610, 612, 618, 619, 621, 623, 625, 630, 632, 633, 634, 637, 638, 641, 642, 644, 645, 646, 648, 649, 650, 651, 652, 657, 658, 660, 662, 663, 664, 668, 669, 673, 674, 676, 677, 679, 680, 681, 682, 683, 685, 689, 692, 693, 694, 698, 700, 701, 704, 705, 707, 708, 709, 710, 711, 712, 713, 714, 715, 718, 719, 720, 721, 722, 724, 727, 729, 732, 734, 736, 737, 739, 741, 751, 752, 753, 755, 759, 761, 765, 766, 767, 768, 771, 774, 775, 776, 779, 780, 782, 783, 786, 789, 790, 792, 793, 796, 797, 799, 802, 803, 804, 806, 808, 810, 811, 815, 816, 817, 819, 821, 823, 824, 825, 826, 827, 840, 841, 843, 844, 846, 848, 849, 850, 856, 857, 858, 859, 860, 863, 864, 865, 867, 868, 870, 872, 875, 876, 878, 880, 883, 884, 885, 886, 891, 893, 895, 898, 903, 911, 912, 913, 914, 915, 918, 919, 920, 922, 924, 926, 929, 930, 932, 933, 938, 939, 940, 943, 944, 945, 946, 947, 948, 950, 959, 960, 962, 963, 964, 966, 967, 970, 971, 972, 973, 974, 977, 978, 979, 980, 982, 983, 984, 985, 986, 993, 994, 995, 998, 999, 1000]\n"
          ]
        }
      ],
      "source": [
        "print(x2.columns)\n",
        "print(final_features)"
      ]
    },
    {
      "cell_type": "markdown",
      "metadata": {
        "id": "geaCWnlShd8V"
      },
      "source": [
        "##MLC"
      ]
    },
    {
      "cell_type": "code",
      "execution_count": null,
      "metadata": {
        "colab": {
          "base_uri": "https://localhost:8080/"
        },
        "id": "fy72vS1uhdbF",
        "outputId": "aa75d568-623e-429d-c023-e6746f3e8200"
      },
      "outputs": [
        {
          "name": "stdout",
          "output_type": "stream",
          "text": [
            "(1182, 1001) (520, 1001) (1182, 53) (520, 53)\n"
          ]
        }
      ],
      "source": [
        "from scipy import sparse as s\n",
        "x2 = s.csr_matrix(x2)\n",
        "y2 = s.csr_matrix(y2)\n",
        "from skmultilearn.model_selection import iterative_train_test_split\n",
        "x2_train, y2_train, x2_test, y2_test = iterative_train_test_split(x2, y2, test_size = 0.3)\n",
        "print(x2_train.shape, x2_test.shape, y2_train.shape, y2_test.shape)"
      ]
    },
    {
      "cell_type": "markdown",
      "metadata": {
        "id": "f-UkG4qIhmA0"
      },
      "source": [
        "###MLTSVM"
      ]
    },
    {
      "cell_type": "code",
      "execution_count": null,
      "metadata": {
        "id": "cQrV6hoHhnOl"
      },
      "outputs": [],
      "source": [
        "#from skmultilearn.adapt import MLTSVM\n",
        "classifier1 = MLTSVM(c_k =2**-6)\n",
        "# train\n",
        "classifier1.fit(x2_train, y2_train)\n",
        "# predict\n",
        "MLTSVM2_predictions = classifier1.predict(x2_test)"
      ]
    },
    {
      "cell_type": "markdown",
      "metadata": {
        "id": "br4mQhAYhnu4"
      },
      "source": [
        "###MLKNN"
      ]
    },
    {
      "cell_type": "code",
      "execution_count": null,
      "metadata": {
        "id": "Y9MCgnWXho55"
      },
      "outputs": [],
      "source": [
        "from skmultilearn.adapt import MLkNN\n",
        "#MLKNN is an adaptation of the kNN lazy learning algorithm for multi-label data.\n",
        "# apply MLkNN for enron dataset it has 53 labels.\n",
        "classifier2 = MLkNN(k=53)\n",
        "\n",
        "# train\n",
        "classifier2.fit(x2_train, y2_train)\n",
        "\n",
        "# predict\n",
        "MLKNN2_predictions = classifier2.predict(x2_test)"
      ]
    },
    {
      "cell_type": "markdown",
      "metadata": {
        "id": "-Q77FQROhquS"
      },
      "source": [
        "###BRKNNa"
      ]
    },
    {
      "cell_type": "code",
      "execution_count": null,
      "metadata": {
        "id": "Jd-XcJd3hrtL"
      },
      "outputs": [],
      "source": [
        "from skmultilearn.adapt import BRkNNaClassifier\n",
        "classifier3 = BRkNNaClassifier(k=53)\n",
        "# train\n",
        "classifier3.fit(x2_train, y2_train)\n",
        "# predict\n",
        "BR2_predictions = classifier3.predict(x2_test)"
      ]
    },
    {
      "cell_type": "markdown",
      "metadata": {
        "id": "5s0jw9zchuXy"
      },
      "source": [
        "##Measuring Metrics"
      ]
    },
    {
      "cell_type": "code",
      "execution_count": null,
      "metadata": {
        "id": "LVRnvbkdhw6l"
      },
      "outputs": [],
      "source": [
        "import sklearn.metrics as m\n",
        "# #Hamming Loss\n",
        "# hamming_loss_MLTSVM.append(round(m.hamming_loss(y2_test, MLTSVM2_predictions),2))\n",
        "# hamming_loss_MLKNN.append(round(m.hamming_loss(y2_test, MLKNN2_predictions),2))\n",
        "# hamming_loss_BRKNNa.append(round(m.hamming_loss(y2_test, BR2_predictions),2))\n",
        "\n",
        "# #Accuracy\n",
        "# accuracy_MLTSVM.append(round(m.accuracy_score(y2_test, MLTSVM2_predictions),2))\n",
        "# accuracy_MLKNN.append(round(m.accuracy_score(y2_test, MLKNN2_predictions),2))\n",
        "# accuracy_BRKNNa.append(round(m.accuracy_score(y2_test, BR2_predictions),2))\n",
        "\n",
        "#Micro Precision\n",
        "precision_MLTSVM.append(round(m.precision_score(y2_test, MLTSVM2_predictions, average='micro', zero_division='warn'),2))\n",
        "precision_MLKNN.append(round(m.precision_score(y2_test, MLKNN2_predictions, average='micro', zero_division='warn'),2))\n",
        "precision_BRKNNa.append(round(m.precision_score(y2_test, BR2_predictions, average='micro', zero_division='warn'),2))\n",
        "\n",
        "#Micro Recall\n",
        "recall_MLTSVM.append(round(m.recall_score(y2_test, MLTSVM2_predictions, average='micro',zero_division='warn'),2))\n",
        "recall_MLKNN.append(round(m.recall_score(y2_test, MLKNN2_predictions, average='micro',zero_division='warn'),2))\n",
        "recall_BRKNNa.append(round(m.recall_score(y2_test, BR2_predictions, average='micro',zero_division='warn'),2))\n",
        "# #Micro F1 measure\n",
        "# f1_measure_MLTSVM.append(round(m.f1_score(y2_test, MLTSVM2_predictions, average='micro',zero_division='warn'),2))\n",
        "# f1_measure_MLKNN.append(round(m.f1_score(y2_test, MLKNN2_predictions, average='micro',zero_division='warn'),2))\n",
        "# f1_measure_BRKNNa.append(round(m.f1_score(y2_test, BR2_predictions, average='micro',zero_division='warn'),2))"
      ]
    },
    {
      "cell_type": "code",
      "execution_count": null,
      "metadata": {
        "colab": {
          "base_uri": "https://localhost:8080/"
        },
        "id": "d0inwYSohyl9",
        "outputId": "f7928fe3-d0d3-4a77-d5b5-054320ef4722"
      },
      "outputs": [
        {
          "name": "stdout",
          "output_type": "stream",
          "text": [
            "------------------------------\n",
            "\t(Examples,Labels)\n",
            "\tPrecision\n",
            "------------------------------\n",
            "MLTSVM ->  0.38\n",
            "MLKNN ->  0.63\n",
            "BRKNNa ->  0.47\n",
            "------------------------------\n",
            "\tRecall\n",
            "------------------------------\n",
            "MLTSVM ->  0.44\n",
            "MLTSVM ->  0.25\n",
            "MLTSVM ->  0.14\n",
            "------------------------------\n"
          ]
        }
      ],
      "source": [
        "print(\"------------------------------\")\n",
        "print(\"\\t(Examples,Labels)\")\n",
        "# print(\"------------------------------\")\n",
        "# print(\"MLTSVM -> \",MLTSVM2_predictions.shape)\n",
        "# print(\"MLKNN  -> \",MLKNN2_predictions.shape)\n",
        "# print(\"BRKNNa -> \",BR2_predictions.shape)\n",
        "# import sklearn.metrics as m\n",
        "# print(\"------------------------------\")\n",
        "# print(\"\\tHamming Loss\")\n",
        "# print(\"------------------------------\")\n",
        "# print(\"MLTSVM -> \",round(m.hamming_loss(y2_test, MLTSVM2_predictions),2))\n",
        "# print(\"MLKNN  -> \",round(m.hamming_loss(y2_test, MLKNN2_predictions),2))\n",
        "# print(\"BRKNNa -> \",round(m.hamming_loss(y2_test, BR2_predictions),2))\n",
        "# print(\"------------------------------\")\n",
        "# print(\"\\tAccuracy\")\n",
        "# print(\"------------------------------\")\n",
        "# print(\"MLTSVM -> \",round(m.accuracy_score(y2_test, MLTSVM2_predictions),2))\n",
        "# print(\"MLKNN  -> \",round(m.accuracy_score(y2_test, MLKNN2_predictions),2))\n",
        "# print(\"BRKNNa -> \",round(m.accuracy_score(y2_test, BR2_predictions),2))\n",
        "# print(\"------------------------------\")\n",
        "print(\"\\tPrecision\")\n",
        "print(\"------------------------------\")\n",
        "print(\"MLTSVM -> \",round(m.precision_score(y2_test, MLTSVM2_predictions, average='micro', zero_division='warn'),2))\n",
        "print(\"MLKNN -> \",round(m.precision_score(y2_test, MLKNN2_predictions, average='micro', zero_division='warn'),2))\n",
        "print(\"BRKNNa -> \",round(m.precision_score(y2_test, BR2_predictions, average='micro', zero_division='warn'),2))\n",
        "print(\"------------------------------\")\n",
        "print(\"\\tRecall\")\n",
        "print(\"------------------------------\")\n",
        "print(\"MLTSVM -> \",round(m.recall_score(y2_test, MLTSVM2_predictions, average='micro',zero_division='warn'),2))\n",
        "print(\"MLTSVM -> \",round(m.recall_score(y2_test, MLKNN2_predictions, average='micro',zero_division='warn'),2))\n",
        "print(\"MLTSVM -> \",round(m.recall_score(y2_test, BR2_predictions, average='micro',zero_division='warn'),2))\n",
        "print(\"------------------------------\")\n",
        "# print(\"\\tF1-measure\")\n",
        "# print(\"------------------------------\")\n",
        "# #f1=2*(p*r)/(p+r)\n",
        "# print(\"MLTSVM -> \",round(m.f1_score(y2_test, MLTSVM2_predictions, average='micro',zero_division='warn'),2))\n",
        "# print(\"MLTSVM -> \",round(m.f1_score(y2_test, MLKNN2_predictions, average='micro',zero_division='warn'),2))\n",
        "# print(\"MLTSVM -> \",round(m.f1_score(y2_test, BR2_predictions, average='micro',zero_division='warn'),2))\n",
        "# print()"
      ]
    },
    {
      "cell_type": "code",
      "execution_count": null,
      "metadata": {
        "id": "kF7pE2KMeRdG",
        "outputId": "53e7378c-275d-45a5-c780-955fdd536337"
      },
      "outputs": [
        {
          "name": "stdout",
          "output_type": "stream",
          "text": [
            "    Model  Precision\n",
            "0  MLTSVM       0.56\n",
            "1   MLKNN       0.63\n",
            "2  BRKNNa       0.52\n",
            "    Model  Recall\n",
            "0  MLTSVM    0.36\n",
            "1   MLKNN    0.33\n",
            "2  BRKNNa    0.11\n",
            "\n",
            "Combined DataFrame 2:\n",
            "    Model  Precision  Recall\n",
            "0  MLTSVM       0.56     NaN\n",
            "1   MLKNN       0.63     NaN\n",
            "2  BRKNNa       0.52     NaN\n",
            "3  MLTSVM        NaN    0.36\n",
            "4   MLKNN        NaN    0.33\n",
            "5  BRKNNa        NaN    0.11\n"
          ]
        }
      ],
      "source": [
        "# Calculating precision and recall for the second dataset\n",
        "ps_mlt2 = round(m.precision_score(y2_test, MLTSVM2_predictions, average='micro', zero_division='warn'),2)\n",
        "ps_mlk2 = round(m.precision_score(y2_test, MLKNN2_predictions, average='micro', zero_division='warn'),2)\n",
        "ps_brk2 = round(m.precision_score(y2_test, BR2_predictions, average='micro', zero_division='warn'),2)\n",
        "\n",
        "r_mlt2 = round(m.recall_score(y2_test, MLTSVM2_predictions, average='micro', zero_division='warn'),2)\n",
        "r_mlk2 = round(m.recall_score(y2_test, MLKNN2_predictions, average='micro', zero_division='warn'),2)\n",
        "r_brk2 = round(m.recall_score(y2_test, BR2_predictions, average='micro', zero_division='warn'),2)\n",
        "\n",
        "# Create precision and recall dictionaries for the second dataset\n",
        "p_dict_3 = {\"MLTSVM\": ps_mlt2, \"MLKNN\": ps_mlk2, \"BRKNNa\": ps_brk2}\n",
        "p_dict_4 = {\"MLTSVM\": r_mlt2, \"MLKNN\": r_mlk2, \"BRKNNa\": r_brk2}\n",
        "\n",
        "# Create precision DataFrame for the second dataset\n",
        "precision_df_2 = pd.DataFrame(list(p_dict_3.items()), columns=[\"Model\", \"Precision\"])\n",
        "print(precision_df_2)\n",
        "\n",
        "# Create recall DataFrame for the second dataset\n",
        "recall_df_2 = pd.DataFrame(list(p_dict_4.items()), columns=[\"Model\", \"Recall\"])\n",
        "print(recall_df_2)\n",
        "# Combine precision and recall DataFrames for the second dataset\n",
        "combined_df2 = pd.concat([precision_df_2, recall_df_2], ignore_index=True)\n",
        "print(\"\\nCombined DataFrame 2:\")\n",
        "print(combined_df2)\n"
      ]
    },
    {
      "cell_type": "markdown",
      "metadata": {
        "id": "bR2TXIFdh_nM"
      },
      "source": [
        "#03 Scene Dataset"
      ]
    },
    {
      "cell_type": "code",
      "execution_count": null,
      "metadata": {
        "colab": {
          "base_uri": "https://localhost:8080/"
        },
        "id": "WMyBY_axh0sv",
        "outputId": "bc85eecc-5be7-478c-9b6d-e1e9d01e5ada"
      },
      "outputs": [
        {
          "name": "stdout",
          "output_type": "stream",
          "text": [
            "scene:undivided - exists, not redownloading\n",
            "Actual Dataset\n",
            "(2407, 294) (2407, 6)\n",
            "Coverted into Dataframe\n",
            "(2407, 294) (2407, 6)\n"
          ]
        }
      ],
      "source": [
        "#from skmultilearn.dataset import load_dataset\n",
        "x3,y3, _, _ = load_dataset('scene', 'undivided')\n",
        "print(\"Actual Dataset\")\n",
        "print(x3.shape,y3.shape)\n",
        "#change to matrix\n",
        "x3=x3.todense()\n",
        "y3=y3.todense()\n",
        "import pandas as pd\n",
        "#change to dataFrame\n",
        "x3=pd.DataFrame(x3)\n",
        "y3=pd.DataFrame(y3)\n",
        "print(\"Coverted into Dataframe\")\n",
        "print(x3.shape,y3.shape)"
      ]
    },
    {
      "cell_type": "markdown",
      "metadata": {
        "id": "sA9-cJF7iGTP"
      },
      "source": [
        "##Feature Selection"
      ]
    },
    {
      "cell_type": "code",
      "execution_count": null,
      "metadata": {
        "colab": {
          "base_uri": "https://localhost:8080/"
        },
        "id": "XH9Gnc-DiDPp",
        "outputId": "03ae7c95-d26d-46d9-d65c-94ebba14c595"
      },
      "outputs": [
        {
          "name": "stdout",
          "output_type": "stream",
          "text": [
            "80% features of Scene dataset =  235\n"
          ]
        }
      ],
      "source": [
        "# import the required functions and object.\n",
        "from sklearn.feature_selection import chi2\n",
        "from sklearn.feature_selection import SelectKBest\n",
        "import numpy as np\n",
        "import pandas as pd\n",
        "\n",
        "# select the number of features you want to retain.\n",
        "select_k1 = round(len(x3.columns)*0.8)\n",
        "print(\"80% features of Scene dataset = \",select_k1)\n",
        "\n",
        "features_selected_20=[]\n",
        "features_weights=[]\n",
        "for a in range(len(x3.columns)):\n",
        "   features_weights.append(0)\n",
        "for i in range(len(y3.columns)):\n",
        "  # apply the chi2 score on the data and target (target should be binary).\n",
        "  selection = SelectKBest(chi2, k=select_k1).fit(x3, y3.iloc[:,i])\n",
        "\n",
        "  # display the retained features.\n",
        "  features=list(x3.columns[selection.get_support()])\n",
        "  labels=y3.columns[i]\n",
        "  features_selected_20.append([labels, features])\n",
        "  #print(features_selected_20[i])\n",
        "\n",
        "  #calculating weight for each feature\n",
        "  #if a feature is correlate to label count them and than divide it by total labels\n",
        "  for f in features:\n",
        "    for count in range(len(x3.columns)):\n",
        "      if(f==x3.columns[count]):\n",
        "        features_weights[count]+=1\n",
        "list_f_w={}\n",
        "#if a feature is correlate to label count them and than divide it by total labels\n",
        "for i in range(len(x3.columns)):\n",
        "  features_weights[i]=round(features_weights[i]/len(x3.columns),3)\n",
        "  list_f_w.update({x3.columns[i] : features_weights[i]})"
      ]
    },
    {
      "cell_type": "code",
      "execution_count": null,
      "metadata": {
        "id": "qMePSJRIiKxs"
      },
      "outputs": [],
      "source": [
        "#sort weights\n",
        "import operator\n",
        "sorted_list_f_w = sorted(list_f_w.items(), key=operator.itemgetter(1), reverse=True)\n",
        "import collections\n",
        "sorted_dict_f = collections.OrderedDict(sorted_list_f_w)\n",
        "#print(sorted_dict_f)"
      ]
    },
    {
      "cell_type": "code",
      "execution_count": null,
      "metadata": {
        "colab": {
          "base_uri": "https://localhost:8080/"
        },
        "id": "qnUvJjw8iLWi",
        "outputId": "f45e83cc-c29d-479b-bdd7-739bea711d7b"
      },
      "outputs": [
        {
          "name": "stdout",
          "output_type": "stream",
          "text": [
            "{21, 22, 26, 27, 28, 37, 38, 39, 42, 43, 44, 45, 46, 47, 48, 49, 52, 53, 58, 59, 60, 66, 76, 77, 83, 84, 90, 91, 92, 96, 97, 98, 99, 100, 101, 102, 103, 104, 105, 106, 107, 108, 109, 110, 111, 112, 113, 114, 115, 116, 117, 118, 119, 120, 121, 122, 123, 124, 125, 126, 127, 128, 129, 130, 131, 132, 133, 134, 135, 136, 137, 138, 139, 140, 141, 142, 143, 144, 145, 146, 147, 148, 149, 150, 151, 152, 153, 154, 155, 156, 157, 158, 159, 160, 162, 163, 164, 165, 166, 167, 168, 170, 171, 172, 173, 174, 175, 176, 177, 178, 179, 180, 181, 182, 183, 184, 185, 187, 188, 192, 193, 196, 210, 211, 212, 213, 214, 215, 216, 217, 218, 219, 220, 221, 222, 223, 231, 237, 238, 239, 240, 241, 242, 243, 249, 266, 272}\n"
          ]
        }
      ],
      "source": [
        "#now, access top 50% weighted features(keys)\n",
        "final_features=[]\n",
        "found=False\n",
        "for i in range(round(len(x3.columns)*0.5)):\n",
        "    final_features.append(list(sorted_dict_f.keys())[i])\n",
        "final_features.sort()\n",
        "\n",
        "#drop other than top 50% weighted features\n",
        "selected_features = set(x3.columns).intersection(final_features)\n",
        "\n",
        "#print(set(x.columns))\n",
        "print(selected_features)\n",
        "\n",
        "for i in list(x3.columns):\n",
        "    if i not in selected_features:\n",
        "        x3 = x3.drop(columns=[i])\n",
        "\n",
        "#print(set(x.columns) == selected_features)"
      ]
    },
    {
      "cell_type": "code",
      "execution_count": null,
      "metadata": {
        "colab": {
          "base_uri": "https://localhost:8080/"
        },
        "id": "VKqGkl49iQRI",
        "outputId": "8ee4f3a1-7f55-428c-ad39-72c3b45ca5f7"
      },
      "outputs": [
        {
          "name": "stdout",
          "output_type": "stream",
          "text": [
            "Int64Index([ 21,  22,  26,  27,  28,  37,  38,  39,  42,  43,\n",
            "            ...\n",
            "            237, 238, 239, 240, 241, 242, 243, 249, 266, 272],\n",
            "           dtype='int64', length=147)\n",
            "[21, 22, 26, 27, 28, 37, 38, 39, 42, 43, 44, 45, 46, 47, 48, 49, 52, 53, 58, 59, 60, 66, 76, 77, 83, 84, 90, 91, 92, 96, 97, 98, 99, 100, 101, 102, 103, 104, 105, 106, 107, 108, 109, 110, 111, 112, 113, 114, 115, 116, 117, 118, 119, 120, 121, 122, 123, 124, 125, 126, 127, 128, 129, 130, 131, 132, 133, 134, 135, 136, 137, 138, 139, 140, 141, 142, 143, 144, 145, 146, 147, 148, 149, 150, 151, 152, 153, 154, 155, 156, 157, 158, 159, 160, 162, 163, 164, 165, 166, 167, 168, 170, 171, 172, 173, 174, 175, 176, 177, 178, 179, 180, 181, 182, 183, 184, 185, 187, 188, 192, 193, 196, 210, 211, 212, 213, 214, 215, 216, 217, 218, 219, 220, 221, 222, 223, 231, 237, 238, 239, 240, 241, 242, 243, 249, 266, 272]\n"
          ]
        }
      ],
      "source": [
        "print(x3.columns)\n",
        "print(final_features)"
      ]
    },
    {
      "cell_type": "markdown",
      "metadata": {
        "id": "jk5196nOiRQy"
      },
      "source": [
        "##MLC"
      ]
    },
    {
      "cell_type": "code",
      "execution_count": null,
      "metadata": {
        "colab": {
          "base_uri": "https://localhost:8080/"
        },
        "id": "y164N9r1iUqs",
        "outputId": "c2c3bcea-1086-4b2a-b9db-4781aa19cc7a"
      },
      "outputs": [
        {
          "name": "stdout",
          "output_type": "stream",
          "text": [
            "(1685, 147) (722, 147) (1685, 6) (722, 6)\n"
          ]
        }
      ],
      "source": [
        "from scipy import sparse as s\n",
        "x3 = s.csr_matrix(x3)\n",
        "y3 = s.csr_matrix(y3)\n",
        "from skmultilearn.model_selection import iterative_train_test_split\n",
        "x3_train, y3_train, x3_test, y3_test = iterative_train_test_split(x3, y3, test_size = 0.3)\n",
        "print(x3_train.shape, x3_test.shape, y3_train.shape, y3_test.shape)"
      ]
    },
    {
      "cell_type": "markdown",
      "metadata": {
        "id": "A7i-TEOYibPk"
      },
      "source": [
        "###MLTSVM"
      ]
    },
    {
      "cell_type": "code",
      "execution_count": null,
      "metadata": {
        "id": "spSuhLrwiclk"
      },
      "outputs": [],
      "source": [
        "#from skmultilearn.adapt import MLTSVM\n",
        "classifier1 = MLTSVM(c_k =2**-6)\n",
        "# train\n",
        "classifier1.fit(x3_train, y3_train)\n",
        "# predict\n",
        "MLTSVM3_predictions = classifier1.predict(x3_test)"
      ]
    },
    {
      "cell_type": "markdown",
      "metadata": {
        "id": "DDkyhEm-idLA"
      },
      "source": [
        "###MLKNN"
      ]
    },
    {
      "cell_type": "code",
      "execution_count": null,
      "metadata": {
        "id": "QEOsqkozieMm",
        "outputId": "f213326b-111b-434f-9630-009570def437"
      },
      "outputs": [
        {
          "name": "stderr",
          "output_type": "stream",
          "text": [
            "C:\\Users\\Aashir\\anaconda3\\lib\\site-packages\\sklearn\\utils\\validation.py:70: FutureWarning: Pass n_neighbors=6 as keyword args. From version 1.0 (renaming of 0.25) passing these as positional arguments will result in an error\n",
            "  warnings.warn(f\"Pass {args_msg} as keyword args. From version \"\n"
          ]
        }
      ],
      "source": [
        "#from skmultilearn.adapt import MLkNN\n",
        "#MLKNN is an adaptation of the kNN lazy learning algorithm for multi-label data.\n",
        "# apply MLkNN for Scene dataset it has 6 labels.\n",
        "classifier2 = MLkNN(k=6)\n",
        "\n",
        "# train\n",
        "classifier2.fit(x3_train, y3_train)\n",
        "\n",
        "# predict\n",
        "MLKNN3_predictions = classifier2.predict(x3_test)"
      ]
    },
    {
      "cell_type": "markdown",
      "metadata": {
        "id": "soP4rbVxigYH"
      },
      "source": [
        "###BRKNNa"
      ]
    },
    {
      "cell_type": "code",
      "execution_count": null,
      "metadata": {
        "id": "a8A69ylpiiIz",
        "outputId": "e9a579a4-c7d7-42b8-9387-1239c9a53b99"
      },
      "outputs": [
        {
          "name": "stderr",
          "output_type": "stream",
          "text": [
            "C:\\Users\\Aashir\\anaconda3\\lib\\site-packages\\sklearn\\utils\\validation.py:70: FutureWarning: Pass n_neighbors=6 as keyword args. From version 1.0 (renaming of 0.25) passing these as positional arguments will result in an error\n",
            "  warnings.warn(f\"Pass {args_msg} as keyword args. From version \"\n"
          ]
        }
      ],
      "source": [
        "from skmultilearn.adapt import BRkNNaClassifier\n",
        "classifier3 = BRkNNaClassifier(k=6)\n",
        "# train\n",
        "classifier3.fit(x3_train, y3_train)\n",
        "# predict\n",
        "BR3_predictions = classifier3.predict(x3_test)"
      ]
    },
    {
      "cell_type": "markdown",
      "metadata": {
        "id": "cR8aWlmPiksm"
      },
      "source": [
        "##Measuring Metrics"
      ]
    },
    {
      "cell_type": "code",
      "execution_count": null,
      "metadata": {
        "id": "rHQe8f4SinpS"
      },
      "outputs": [],
      "source": [
        "import sklearn.metrics as m\n",
        "# #Hamming Loss\n",
        "# hamming_loss_MLTSVM.append(round(m.hamming_loss(y3_test, MLTSVM3_predictions),2))\n",
        "# hamming_loss_MLKNN.append(round(m.hamming_loss(y3_test, MLKNN3_predictions),2))\n",
        "# hamming_loss_BRKNNa.append(round(m.hamming_loss(y3_test, BR3_predictions),2))\n",
        "\n",
        "# #Accuracy\n",
        "# accuracy_MLTSVM.append(round(m.accuracy_score(y3_test, MLTSVM3_predictions),2))\n",
        "# accuracy_MLKNN.append(round(m.accuracy_score(y3_test, MLKNN3_predictions),2))\n",
        "# accuracy_BRKNNa.append(round(m.accuracy_score(y3_test, BR3_predictions),2))\n",
        "\n",
        "#Micro Precision\n",
        "precision_MLTSVM.append(round(m.precision_score(y3_test, MLTSVM3_predictions, average='micro', zero_division='warn'),2))\n",
        "precision_MLKNN.append(round(m.precision_score(y3_test, MLKNN3_predictions, average='micro', zero_division='warn'),2))\n",
        "precision_BRKNNa.append(round(m.precision_score(y3_test, BR3_predictions, average='micro', zero_division='warn'),2))\n",
        "\n",
        "#Micro Recall\n",
        "recall_MLTSVM.append(round(m.recall_score(y3_test, MLTSVM3_predictions, average='micro',zero_division='warn'),2))\n",
        "recall_MLKNN.append(round(m.recall_score(y3_test, MLKNN3_predictions, average='micro',zero_division='warn'),2))\n",
        "recall_BRKNNa.append(round(m.recall_score(y3_test, BR3_predictions, average='micro',zero_division='warn'),2))\n",
        "# #Micro F1 measure\n",
        "# f1_measure_MLTSVM.append(round(m.f1_score(y3_test, MLTSVM3_predictions, average='micro',zero_division='warn'),2))\n",
        "# f1_measure_MLKNN.append(round(m.f1_score(y3_test, MLKNN3_predictions, average='micro',zero_division='warn'),2))\n",
        "# f1_measure_BRKNNa.append(round(m.f1_score(y3_test, BR3_predictions, average='micro',zero_division='warn'),2))"
      ]
    },
    {
      "cell_type": "code",
      "execution_count": null,
      "metadata": {
        "colab": {
          "base_uri": "https://localhost:8080/"
        },
        "id": "sAbuGy2aiqRN",
        "outputId": "723d2977-09ab-44e7-91b1-0e92500f57cb"
      },
      "outputs": [
        {
          "name": "stdout",
          "output_type": "stream",
          "text": [
            "------------------------------\n",
            "\t(Examples,Labels\n",
            "\tPrecision\n",
            "------------------------------\n",
            "MLTSVM ->  0.18\n",
            "MLKNN ->  0.73\n",
            "BRKNNa ->  0.78\n",
            "------------------------------\n",
            "\tRecall\n",
            "------------------------------\n",
            "MLTSVM ->  1.0\n",
            "MLKNN ->  0.65\n",
            "BRKNNa ->  0.55\n"
          ]
        }
      ],
      "source": [
        "print(\"------------------------------\")\n",
        "print(\"\\t(Examples,Labels\")\n",
        "# print(\"------------------------------\")\n",
        "# print(\"MLTSVM -> \",MLTSVM3_predictions.shape)\n",
        "# print(\"MLKNN  -> \",MLKNN3_predictions.shape)\n",
        "# print(\"BRKNNa -> \",BR3_predictions.shape)\n",
        "# import sklearn.metrics as m\n",
        "# print(\"------------------------------\")\n",
        "# print(\"\\tHamming Loss\")\n",
        "# print(\"------------------------------\")\n",
        "# print(\"MLTSVM -> \",round(m.hamming_loss(y3_test, MLTSVM3_predictions),2))\n",
        "# print(\"MLKNN  -> \",round(m.hamming_loss(y3_test, MLKNN3_predictions),2))\n",
        "# print(\"BRKNNa -> \",round(m.hamming_loss(y3_test, BR3_predictions),2))\n",
        "# print(\"------------------------------\")\n",
        "# print(\"\\tAccuracy\")\n",
        "# print(\"------------------------------\")\n",
        "# print(\"MLTSVM -> \",round(m.accuracy_score(y3_test, MLTSVM3_predictions),2))\n",
        "# print(\"MLKNN  -> \",round(m.accuracy_score(y3_test, MLKNN3_predictions),2))\n",
        "# print(\"BRKNNa -> \",round(m.accuracy_score(y3_test, BR3_predictions),2))\n",
        "# print(\"------------------------------\")\n",
        "print(\"\\tPrecision\")\n",
        "print(\"------------------------------\")\n",
        "print(\"MLTSVM -> \",round(m.precision_score(y3_test, MLTSVM3_predictions, average='micro',zero_division='warn'),2))\n",
        "print(\"MLKNN -> \",round(m.precision_score(y3_test, MLKNN3_predictions, average='micro',zero_division='warn'),2))\n",
        "print(\"BRKNNa -> \",round(m.precision_score(y3_test, BR3_predictions, average='micro',zero_division='warn'),2))\n",
        "print(\"------------------------------\")\n",
        "print(\"\\tRecall\")\n",
        "print(\"------------------------------\")\n",
        "print(\"MLTSVM -> \",round(m.recall_score(y3_test, MLTSVM3_predictions, average='micro',zero_division='warn'),2))\n",
        "print(\"MLKNN -> \",round(m.recall_score(y3_test, MLKNN3_predictions, average='micro',zero_division='warn'),2))\n",
        "print(\"BRKNNa -> \",round(m.recall_score(y3_test, BR3_predictions, average='micro',zero_division='warn'),2))\n",
        "# print(\"------------------------------\")\n",
        "# print(\"\\tF1-measure\")\n",
        "# print(\"------------------------------\")\n",
        "# #f1=2*(p*r)/(p+r)\n",
        "# print(\"MLTSVM -> \",round(m.f1_score(y3_test, MLTSVM3_predictions, average='micro',zero_division='warn'),2))\n",
        "# print(\"MLKNN -> \",round(m.f1_score(y3_test, MLKNN3_predictions, average='micro',zero_division='warn'),2))\n",
        "# print(\"BRKNNa -> \",round(m.f1_score(y3_test, BR3_predictions, average='micro',zero_division='warn'),2))\n",
        "# print()"
      ]
    },
    {
      "cell_type": "code",
      "execution_count": null,
      "metadata": {
        "id": "NUZIwvWBeRdR",
        "outputId": "1a08d72d-2bee-40ab-e3ae-e660557efd52"
      },
      "outputs": [
        {
          "name": "stdout",
          "output_type": "stream",
          "text": [
            "Precision DataFrame:\n",
            "    Model  Precision\n",
            "0  MLTSVM       0.18\n",
            "1   MLKNN       0.74\n",
            "2  BRKNNa       0.79\n",
            "\n",
            "Recall DataFrame:\n",
            "    Model  Recall\n",
            "0  MLTSVM    1.00\n",
            "1   MLKNN    0.69\n",
            "2  BRKNNa    0.56\n",
            "\n",
            "Combined DataFrame 3:\n",
            "    Model  Precision  Recall\n",
            "0  MLTSVM       0.18     NaN\n",
            "1   MLKNN       0.74     NaN\n",
            "2  BRKNNa       0.79     NaN\n",
            "3  MLTSVM        NaN    1.00\n",
            "4   MLKNN        NaN    0.69\n",
            "5  BRKNNa        NaN    0.56\n"
          ]
        }
      ],
      "source": [
        "import pandas as pd\n",
        "\n",
        "# Assuming you have the predictions and test dataframes for the third dataset: y3_test\n",
        "# Assuming you have the predictions for each model: MLTSVM3_predictions, MLKNN3_predictions, BR3_predictions\n",
        "\n",
        "# Calculating precision and recall for the third dataset\n",
        "ps_mlt3 = round(m.precision_score(y3_test, MLTSVM3_predictions, average='micro', zero_division='warn'), 2)\n",
        "ps_mlk3 = round(m.precision_score(y3_test, MLKNN3_predictions, average='micro', zero_division='warn'), 2)\n",
        "ps_brk3 = round(m.precision_score(y3_test, BR3_predictions, average='micro', zero_division='warn'), 2)\n",
        "\n",
        "r_mlt3 = round(m.recall_score(y3_test, MLTSVM3_predictions, average='micro', zero_division='warn'), 2)\n",
        "r_mlk3 = round(m.recall_score(y3_test, MLKNN3_predictions, average='micro', zero_division='warn'), 2)\n",
        "r_brk3 = round(m.recall_score(y3_test, BR3_predictions, average='micro', zero_division='warn'), 2)\n",
        "\n",
        "# Create precision and recall dictionaries for the third dataset\n",
        "p_dict_5 = {\"MLTSVM\": ps_mlt3, \"MLKNN\": ps_mlk3, \"BRKNNa\": ps_brk3}\n",
        "p_dict_6 = {\"MLTSVM\": r_mlt3, \"MLKNN\": r_mlk3, \"BRKNNa\": r_brk3}\n",
        "\n",
        "# Create precision DataFrame for the third dataset\n",
        "precision_df_3 = pd.DataFrame(list(p_dict_5.items()), columns=[\"Model\", \"Precision\"])\n",
        "print(\"Precision DataFrame:\")\n",
        "print(precision_df_3)\n",
        "\n",
        "# Create recall DataFrame for the third dataset\n",
        "recall_df_3 = pd.DataFrame(list(p_dict_6.items()), columns=[\"Model\", \"Recall\"])\n",
        "print(\"\\nRecall DataFrame:\")\n",
        "print(recall_df_3)\n",
        "\n",
        "# Combine precision and recall DataFrames for the third dataset\n",
        "combined_df3 = pd.concat([precision_df_3, recall_df_3], ignore_index=True)\n",
        "print(\"\\nCombined DataFrame 3:\")\n",
        "print(combined_df3)\n"
      ]
    },
    {
      "cell_type": "markdown",
      "metadata": {
        "id": "7f_yd4hsisv3"
      },
      "source": [
        "#04 Genbase Dataset"
      ]
    },
    {
      "cell_type": "code",
      "execution_count": null,
      "metadata": {
        "colab": {
          "base_uri": "https://localhost:8080/"
        },
        "id": "irsKBHGqi5gK",
        "outputId": "6f273469-d301-4fff-be18-d301b0bd83dd"
      },
      "outputs": [
        {
          "name": "stdout",
          "output_type": "stream",
          "text": [
            "genbase:undivided - exists, not redownloading\n",
            "Actual Dataset\n",
            "(662, 1186) (662, 27)\n",
            "Coverted into Dataframe\n",
            "(662, 1186) (662, 27)\n"
          ]
        }
      ],
      "source": [
        "from skmultilearn.dataset import load_dataset\n",
        "x5,y5, _, _ = load_dataset('genbase', 'undivided')\n",
        "print(\"Actual Dataset\")\n",
        "print(x5.shape,y5.shape)\n",
        "#change to matrix\n",
        "x5=x5.todense()\n",
        "y5=y5.todense()\n",
        "import pandas as pd\n",
        "#change to dataFrame\n",
        "x5=pd.DataFrame(x5)\n",
        "y5=pd.DataFrame(y5)\n",
        "print(\"Coverted into Dataframe\")\n",
        "print(x5.shape,y5.shape)"
      ]
    },
    {
      "cell_type": "markdown",
      "metadata": {
        "id": "wfphGWZLi-Iw"
      },
      "source": [
        "##Feature Selection"
      ]
    },
    {
      "cell_type": "code",
      "execution_count": null,
      "metadata": {
        "colab": {
          "base_uri": "https://localhost:8080/"
        },
        "id": "kY4jO-t4i72Q",
        "outputId": "9e362cec-ba9c-4ca5-8953-9767da3ae2ae"
      },
      "outputs": [
        {
          "name": "stdout",
          "output_type": "stream",
          "text": [
            "80% features of Genbase dataset =  949\n"
          ]
        }
      ],
      "source": [
        "# import the required functions and object.\n",
        "from sklearn.feature_selection import chi2\n",
        "from sklearn.feature_selection import SelectKBest\n",
        "import numpy as np\n",
        "import pandas as pd\n",
        "\n",
        "# select the number of features you want to retain.\n",
        "select_k1 = round(len(x5.columns)*0.8)\n",
        "print(\"80% features of Genbase dataset = \",select_k1)\n",
        "\n",
        "features_selected_20=[]\n",
        "features_weights=[]\n",
        "for a in range(len(x5.columns)):\n",
        "   features_weights.append(0)\n",
        "for i in range(len(y5.columns)):\n",
        "  # apply the chi2 score on the data and target (target should be binary).\n",
        "  selection = SelectKBest(chi2, k=select_k1).fit(x5,y5.iloc[:,i])\n",
        "\n",
        "  # display the retained features.\n",
        "  features=list(x5.columns[selection.get_support()])\n",
        "  labels=y5.columns[i]\n",
        "  features_selected_20.append([labels, features])\n",
        "  #print(features_selected_20[i])\n",
        "\n",
        "  #calculating weight for each feature\n",
        "  #if a feature is correlate to label count them and than divide it by total labels\n",
        "  for f in features:\n",
        "    for count in range(len(x5.columns)):\n",
        "      if(f==x5.columns[count]):\n",
        "        features_weights[count]+=1\n",
        "list_f_w={}\n",
        "#if a feature is correlate to label count them and than divide it by total labels\n",
        "for i in range(len(x5.columns)):\n",
        "  features_weights[i]=round(features_weights[i]/len(x5.columns),3)\n",
        "  list_f_w.update({x5.columns[i] : features_weights[i]})"
      ]
    },
    {
      "cell_type": "code",
      "execution_count": null,
      "metadata": {
        "id": "Vp5UxJSGjD6G"
      },
      "outputs": [],
      "source": [
        "#sort weights\n",
        "import operator\n",
        "sorted_list_f_w = sorted(list_f_w.items(), key=operator.itemgetter(1), reverse=True)\n",
        "import collections\n",
        "sorted_dict_f = collections.OrderedDict(sorted_list_f_w)\n",
        "#print(sorted_dict_f)"
      ]
    },
    {
      "cell_type": "code",
      "execution_count": null,
      "metadata": {
        "colab": {
          "base_uri": "https://localhost:8080/"
        },
        "id": "jHnb8WGrjEYx",
        "outputId": "09e0ef9c-e54a-4309-d648-6f1526c2356d"
      },
      "outputs": [
        {
          "name": "stdout",
          "output_type": "stream",
          "text": [
            "{0, 4, 5, 6, 15, 34, 72, 84, 118, 125, 143, 147, 183, 188, 204, 252, 253, 254, 255, 256, 257, 258, 259, 260, 261, 262, 263, 264, 265, 266, 267, 268, 269, 270, 271, 272, 273, 274, 275, 276, 277, 278, 279, 280, 281, 282, 283, 284, 285, 286, 287, 288, 289, 290, 291, 292, 293, 294, 295, 296, 297, 298, 299, 300, 301, 302, 303, 304, 305, 306, 307, 308, 309, 310, 311, 312, 313, 314, 315, 316, 317, 318, 319, 320, 321, 322, 323, 324, 325, 326, 327, 328, 329, 330, 331, 332, 333, 334, 335, 336, 337, 338, 339, 340, 341, 342, 343, 344, 345, 346, 347, 348, 349, 350, 351, 352, 353, 354, 355, 356, 357, 358, 359, 360, 361, 362, 363, 364, 365, 366, 367, 368, 369, 370, 371, 372, 373, 374, 375, 376, 377, 378, 379, 380, 381, 382, 383, 384, 385, 386, 387, 388, 389, 390, 391, 392, 393, 394, 395, 396, 397, 398, 399, 400, 401, 402, 403, 404, 405, 406, 407, 408, 409, 410, 411, 412, 413, 414, 415, 416, 417, 418, 419, 420, 421, 422, 423, 424, 425, 426, 427, 428, 429, 430, 431, 432, 433, 434, 435, 436, 437, 438, 439, 440, 441, 442, 443, 444, 445, 446, 447, 448, 449, 450, 451, 452, 453, 454, 455, 456, 457, 458, 459, 460, 461, 462, 463, 464, 465, 466, 467, 468, 469, 470, 471, 472, 473, 474, 475, 476, 477, 478, 479, 480, 481, 482, 483, 484, 485, 486, 487, 488, 489, 490, 491, 492, 493, 494, 495, 496, 497, 498, 499, 500, 501, 502, 503, 504, 505, 506, 507, 508, 509, 510, 511, 512, 513, 514, 515, 516, 517, 518, 519, 520, 521, 522, 523, 524, 525, 526, 527, 528, 529, 530, 531, 532, 533, 534, 535, 536, 537, 538, 539, 540, 541, 542, 543, 544, 545, 546, 547, 548, 549, 550, 551, 552, 553, 554, 555, 556, 557, 558, 559, 560, 561, 562, 563, 564, 565, 566, 567, 568, 569, 570, 571, 572, 573, 574, 575, 576, 577, 578, 579, 580, 581, 582, 583, 584, 585, 586, 587, 588, 589, 590, 591, 592, 593, 594, 595, 596, 597, 598, 599, 600, 601, 602, 603, 604, 605, 606, 607, 608, 609, 610, 611, 612, 613, 614, 615, 616, 617, 618, 619, 620, 621, 622, 623, 624, 625, 626, 627, 628, 629, 630, 631, 632, 633, 634, 635, 636, 637, 638, 639, 640, 641, 642, 643, 644, 645, 646, 647, 648, 649, 650, 651, 652, 653, 654, 655, 656, 657, 658, 659, 660, 661, 662, 663, 664, 665, 666, 667, 668, 669, 670, 671, 672, 673, 674, 675, 676, 677, 678, 679, 680, 681, 682, 683, 684, 685, 686, 687, 688, 689, 690, 691, 692, 693, 694, 695, 696, 697, 698, 699, 700, 701, 702, 703, 704, 705, 706, 707, 708, 709, 710, 711, 712, 713, 714, 715, 716, 717, 718, 719, 720, 721, 722, 723, 724, 725, 726, 727, 728, 729, 730, 731, 732, 733, 734, 735, 736, 737, 738, 739, 740, 741, 742, 743, 744, 745, 746, 747, 748, 749, 750, 751, 752, 753, 754, 755, 756, 757, 758, 759, 760, 761, 762, 763, 764, 765, 766, 767, 768, 769, 770, 771, 772, 773, 774, 775, 776, 777, 778, 779, 780, 781, 782, 783, 784, 785, 786, 787, 788, 789, 790, 791, 792, 793, 794, 795, 796, 797, 798, 799, 800, 801, 802, 803, 804, 805, 806, 807, 808, 809, 810, 811, 812, 813, 814, 815, 816, 817, 818, 819, 820, 821, 822, 823, 824, 825, 826, 827, 828, 829}\n"
          ]
        }
      ],
      "source": [
        "#now, access top 50% weighted features(keys)\n",
        "final_features=[]\n",
        "found=False\n",
        "for i in range(round(len(x5.columns)*0.5)):\n",
        "    final_features.append(list(sorted_dict_f.keys())[i])\n",
        "final_features.sort()\n",
        "\n",
        "#drop other than top 50% weighted features\n",
        "selected_features = set(x5.columns).intersection(final_features)\n",
        "\n",
        "#print(set(x.columns))\n",
        "print(selected_features)\n",
        "\n",
        "for i in list(x5.columns):\n",
        "    if i not in selected_features:\n",
        "        x5 = x5.drop(columns=[i])\n",
        "\n",
        "#print(set(x.columns) == selected_features)"
      ]
    },
    {
      "cell_type": "code",
      "execution_count": null,
      "metadata": {
        "colab": {
          "base_uri": "https://localhost:8080/"
        },
        "id": "4R1McHD_jI_c",
        "outputId": "90a8900b-df62-4de8-ab56-fa6a7c20cd89"
      },
      "outputs": [
        {
          "name": "stdout",
          "output_type": "stream",
          "text": [
            "Int64Index([  0,   4,   5,   6,  15,  34,  72,  84, 118, 125,\n",
            "            ...\n",
            "            820, 821, 822, 823, 824, 825, 826, 827, 828, 829],\n",
            "           dtype='int64', length=593)\n",
            "[0, 4, 5, 6, 15, 34, 72, 84, 118, 125, 143, 147, 183, 188, 204, 252, 253, 254, 255, 256, 257, 258, 259, 260, 261, 262, 263, 264, 265, 266, 267, 268, 269, 270, 271, 272, 273, 274, 275, 276, 277, 278, 279, 280, 281, 282, 283, 284, 285, 286, 287, 288, 289, 290, 291, 292, 293, 294, 295, 296, 297, 298, 299, 300, 301, 302, 303, 304, 305, 306, 307, 308, 309, 310, 311, 312, 313, 314, 315, 316, 317, 318, 319, 320, 321, 322, 323, 324, 325, 326, 327, 328, 329, 330, 331, 332, 333, 334, 335, 336, 337, 338, 339, 340, 341, 342, 343, 344, 345, 346, 347, 348, 349, 350, 351, 352, 353, 354, 355, 356, 357, 358, 359, 360, 361, 362, 363, 364, 365, 366, 367, 368, 369, 370, 371, 372, 373, 374, 375, 376, 377, 378, 379, 380, 381, 382, 383, 384, 385, 386, 387, 388, 389, 390, 391, 392, 393, 394, 395, 396, 397, 398, 399, 400, 401, 402, 403, 404, 405, 406, 407, 408, 409, 410, 411, 412, 413, 414, 415, 416, 417, 418, 419, 420, 421, 422, 423, 424, 425, 426, 427, 428, 429, 430, 431, 432, 433, 434, 435, 436, 437, 438, 439, 440, 441, 442, 443, 444, 445, 446, 447, 448, 449, 450, 451, 452, 453, 454, 455, 456, 457, 458, 459, 460, 461, 462, 463, 464, 465, 466, 467, 468, 469, 470, 471, 472, 473, 474, 475, 476, 477, 478, 479, 480, 481, 482, 483, 484, 485, 486, 487, 488, 489, 490, 491, 492, 493, 494, 495, 496, 497, 498, 499, 500, 501, 502, 503, 504, 505, 506, 507, 508, 509, 510, 511, 512, 513, 514, 515, 516, 517, 518, 519, 520, 521, 522, 523, 524, 525, 526, 527, 528, 529, 530, 531, 532, 533, 534, 535, 536, 537, 538, 539, 540, 541, 542, 543, 544, 545, 546, 547, 548, 549, 550, 551, 552, 553, 554, 555, 556, 557, 558, 559, 560, 561, 562, 563, 564, 565, 566, 567, 568, 569, 570, 571, 572, 573, 574, 575, 576, 577, 578, 579, 580, 581, 582, 583, 584, 585, 586, 587, 588, 589, 590, 591, 592, 593, 594, 595, 596, 597, 598, 599, 600, 601, 602, 603, 604, 605, 606, 607, 608, 609, 610, 611, 612, 613, 614, 615, 616, 617, 618, 619, 620, 621, 622, 623, 624, 625, 626, 627, 628, 629, 630, 631, 632, 633, 634, 635, 636, 637, 638, 639, 640, 641, 642, 643, 644, 645, 646, 647, 648, 649, 650, 651, 652, 653, 654, 655, 656, 657, 658, 659, 660, 661, 662, 663, 664, 665, 666, 667, 668, 669, 670, 671, 672, 673, 674, 675, 676, 677, 678, 679, 680, 681, 682, 683, 684, 685, 686, 687, 688, 689, 690, 691, 692, 693, 694, 695, 696, 697, 698, 699, 700, 701, 702, 703, 704, 705, 706, 707, 708, 709, 710, 711, 712, 713, 714, 715, 716, 717, 718, 719, 720, 721, 722, 723, 724, 725, 726, 727, 728, 729, 730, 731, 732, 733, 734, 735, 736, 737, 738, 739, 740, 741, 742, 743, 744, 745, 746, 747, 748, 749, 750, 751, 752, 753, 754, 755, 756, 757, 758, 759, 760, 761, 762, 763, 764, 765, 766, 767, 768, 769, 770, 771, 772, 773, 774, 775, 776, 777, 778, 779, 780, 781, 782, 783, 784, 785, 786, 787, 788, 789, 790, 791, 792, 793, 794, 795, 796, 797, 798, 799, 800, 801, 802, 803, 804, 805, 806, 807, 808, 809, 810, 811, 812, 813, 814, 815, 816, 817, 818, 819, 820, 821, 822, 823, 824, 825, 826, 827, 828, 829]\n"
          ]
        }
      ],
      "source": [
        "print(x5.columns)\n",
        "print(final_features)"
      ]
    },
    {
      "cell_type": "markdown",
      "metadata": {
        "id": "gcjYYSO8jGMe"
      },
      "source": [
        "##MLC"
      ]
    },
    {
      "cell_type": "code",
      "execution_count": null,
      "metadata": {
        "colab": {
          "base_uri": "https://localhost:8080/"
        },
        "id": "qqplGSrwjNaw",
        "outputId": "b3432efb-2369-4af5-e3a0-b08ac09ed983"
      },
      "outputs": [
        {
          "name": "stdout",
          "output_type": "stream",
          "text": [
            "(463, 593) (199, 593) (463, 27) (199, 27)\n"
          ]
        }
      ],
      "source": [
        "from scipy import sparse as s\n",
        "x5 = s.csr_matrix(x5)\n",
        "y5 = s.csr_matrix(y5)\n",
        "from skmultilearn.model_selection import iterative_train_test_split\n",
        "x5_train, y5_train, x5_test, y5_test = iterative_train_test_split(x5, y5, test_size = 0.3)\n",
        "print(x5_train.shape, x5_test.shape, y5_train.shape, y5_test.shape)"
      ]
    },
    {
      "cell_type": "markdown",
      "metadata": {
        "id": "H-uX-BIqjSMZ"
      },
      "source": [
        "###MLTSVM"
      ]
    },
    {
      "cell_type": "code",
      "execution_count": null,
      "metadata": {
        "id": "XklOJNDOjTVt"
      },
      "outputs": [],
      "source": [
        "from skmultilearn.adapt import MLTSVM\n",
        "classifier1 = MLTSVM(c_k =2**-6)\n",
        "# train\n",
        "classifier1.fit(x5_train, y5_train)\n",
        "# predict\n",
        "MLTSVM5_predictions = classifier1.predict(x5_test)"
      ]
    },
    {
      "cell_type": "markdown",
      "metadata": {
        "id": "Qgzlva3xjT5y"
      },
      "source": [
        "###MLKNN"
      ]
    },
    {
      "cell_type": "code",
      "execution_count": null,
      "metadata": {
        "id": "u7SIU5KbjUyx"
      },
      "outputs": [],
      "source": [
        "from skmultilearn.adapt import MLkNN\n",
        "#MLKNN is an adaptation of the kNN lazy learning algorithm for multi-label data.\n",
        "\n",
        "# apply MLkNN for delicious dataset it has 983 labels.\n",
        "classifier2 = MLkNN(k=27)\n",
        "\n",
        "# train\n",
        "classifier2.fit(x5_train, y5_train)\n",
        "\n",
        "# predict\n",
        "MLKNN5_predictions = classifier2.predict(x5_test)"
      ]
    },
    {
      "cell_type": "markdown",
      "metadata": {
        "id": "M2Yn9qcojXzz"
      },
      "source": [
        "###BRKNNa"
      ]
    },
    {
      "cell_type": "code",
      "execution_count": null,
      "metadata": {
        "id": "XiUFTXdWjYxj"
      },
      "outputs": [],
      "source": [
        "from skmultilearn.adapt import BRkNNaClassifier\n",
        "classifier3 = BRkNNaClassifier(k=27)\n",
        "# train\n",
        "classifier3.fit(x5_train, y5_train)\n",
        "# predict\n",
        "BR5_predictions = classifier3.predict(x5_test)"
      ]
    },
    {
      "cell_type": "markdown",
      "metadata": {
        "id": "3OsQqXNfjbkI"
      },
      "source": [
        "##Measuring Metrics"
      ]
    },
    {
      "cell_type": "code",
      "execution_count": null,
      "metadata": {
        "id": "UPZ71xjZjeBE"
      },
      "outputs": [],
      "source": [
        "import sklearn.metrics as m\n",
        "# #Hamming Loss\n",
        "# hamming_loss_MLTSVM.append(round(m.hamming_loss(y5_test, MLTSVM5_predictions),2))\n",
        "# hamming_loss_MLKNN.append(round(m.hamming_loss(y5_test, MLKNN5_predictions),2))\n",
        "# hamming_loss_BRKNNa.append(round(m.hamming_loss(y5_test, BR5_predictions),2))\n",
        "\n",
        "# #Accuracy\n",
        "# accuracy_MLTSVM.append(round(m.accuracy_score(y5_test, MLTSVM5_predictions),2))\n",
        "# accuracy_MLKNN.append(round(m.accuracy_score(y5_test, MLKNN5_predictions),2))\n",
        "# accuracy_BRKNNa.append(round(m.accuracy_score(y5_test, BR5_predictions),2))\n",
        "\n",
        "#Micro Precision\n",
        "precision_MLTSVM.append(round(m.precision_score(y5_test, MLTSVM5_predictions, average='micro', zero_division='warn'),2))\n",
        "precision_MLKNN.append(round(m.precision_score(y5_test, MLKNN5_predictions, average='micro', zero_division='warn'),2))\n",
        "precision_BRKNNa.append(round(m.precision_score(y5_test, BR5_predictions, average='micro', zero_division='warn'),2))\n",
        "\n",
        "#Micro Recall\n",
        "recall_MLTSVM.append(round(m.recall_score(y5_test, MLTSVM5_predictions, average='micro',zero_division='warn'),2))\n",
        "recall_MLKNN.append(round(m.recall_score(y5_test, MLKNN5_predictions, average='micro',zero_division='warn'),2))\n",
        "recall_BRKNNa.append(round(m.recall_score(y5_test, BR5_predictions, average='micro',zero_division='warn'),2))\n",
        "# #Micro F1 measure\n",
        "# f1_measure_MLTSVM.append(round(m.f1_score(y5_test, MLTSVM5_predictions, average='micro',zero_division='warn'),2))\n",
        "# f1_measure_MLKNN.append(round(m.f1_score(y5_test, MLKNN5_predictions, average='micro',zero_division='warn'),2))\n",
        "# f1_measure_BRKNNa.append(round(m.f1_score(y5_test, BR5_predictions, average='micro',zero_division='warn'),2))"
      ]
    },
    {
      "cell_type": "code",
      "execution_count": null,
      "metadata": {
        "colab": {
          "base_uri": "https://localhost:8080/"
        },
        "id": "XJ1wjsf7jgGo",
        "outputId": "ec2bdc3c-6f8b-4828-d1ac-2669135cf20a"
      },
      "outputs": [
        {
          "name": "stdout",
          "output_type": "stream",
          "text": [
            "------------------------------\n",
            "\t(Examples,Labels\n",
            "------------------------------\n",
            "\tPrecision\n",
            "------------------------------\n",
            "MLTSVM ->  0.29\n",
            "MLKNN ->  0.83\n",
            "MLKNNa ->  0.76\n",
            "------------------------------\n",
            "\tRecall\n",
            "------------------------------\n",
            "MLTSVM ->  0.78\n",
            "MLKNN ->  0.12\n",
            "BRKNNa ->  0.12\n"
          ]
        }
      ],
      "source": [
        "print(\"------------------------------\")\n",
        "print(\"\\t(Examples,Labels\")\n",
        "# print(\"------------------------------\")\n",
        "# print(\"MLTSVM -> \",MLTSVM5_predictions.shape)\n",
        "# print(\"MLKNN  -> \",MLKNN5_predictions.shape)\n",
        "# print(\"BRKNNa -> \",BR5_predictions.shape)\n",
        "# import sklearn.metrics as m\n",
        "# print(\"------------------------------\")\n",
        "# print(\"\\tHamming Loss\")\n",
        "# print(\"------------------------------\")\n",
        "# print(\"MLTSVM -> \",round(m.hamming_loss(y5_test, MLTSVM5_predictions),2))\n",
        "# print(\"MLKNN  -> \",round(m.hamming_loss(y5_test, MLKNN5_predictions),2))\n",
        "# print(\"BRKNNa -> \",round(m.hamming_loss(y5_test, BR5_predictions),2))\n",
        "# print(\"------------------------------\")\n",
        "# print(\"\\tAccuracy\")\n",
        "# print(\"------------------------------\")\n",
        "# print(\"MLTSVM -> \",round(m.accuracy_score(y5_test, MLTSVM5_predictions),2))\n",
        "# print(\"MLKNN  -> \",round(m.accuracy_score(y5_test, MLKNN5_predictions),2))\n",
        "# print(\"BRKNNa -> \",round(m.accuracy_score(y5_test, BR5_predictions),2))\n",
        "print(\"------------------------------\")\n",
        "print(\"\\tPrecision\")\n",
        "print(\"------------------------------\")\n",
        "print(\"MLTSVM -> \",round(m.precision_score(y5_test, MLTSVM5_predictions, average='micro',zero_division='warn'),2))\n",
        "print(\"MLKNN -> \",round(m.precision_score(y5_test, MLKNN5_predictions, average='micro',zero_division='warn'),2))\n",
        "print(\"MLKNNa -> \",round(m.precision_score(y5_test, BR5_predictions, average='micro',zero_division='warn'),2))\n",
        "print(\"------------------------------\")\n",
        "print(\"\\tRecall\")\n",
        "print(\"------------------------------\")\n",
        "print(\"MLTSVM -> \",round(m.recall_score(y5_test, MLTSVM5_predictions, average='micro',zero_division='warn'),2))\n",
        "print(\"MLKNN -> \",round(m.recall_score(y5_test, MLKNN5_predictions, average='micro',zero_division='warn'),2))\n",
        "print(\"BRKNNa -> \",round(m.recall_score(y5_test, BR5_predictions, average='micro',zero_division='warn'),2))\n",
        "# print(\"------------------------------\")\n",
        "# print(\"\\tF1-measure\")\n",
        "# print(\"------------------------------\")\n",
        "# #f1=2*(p*r)/(p+r)\n",
        "# print(\"MLTSVM -> \",round(m.f1_score(y5_test, MLTSVM5_predictions, average='micro',zero_division='warn'),2))\n",
        "# print(\"MLKNN -> \",round(m.f1_score(y5_test, MLKNN5_predictions, average='micro',zero_division='warn'),2))\n",
        "# print(\"BRKNNa -> \",round(m.f1_score(y5_test, BR5_predictions, average='micro',zero_division='warn'),2))\n",
        "# print()"
      ]
    },
    {
      "cell_type": "markdown",
      "metadata": {
        "id": "uRgqpRadjiVz"
      },
      "source": []
    },
    {
      "cell_type": "code",
      "execution_count": null,
      "metadata": {
        "id": "bezV7sxyjsKJ",
        "outputId": "c1514fb0-45a2-4101-85a3-7d65d6fa682a"
      },
      "outputs": [
        {
          "name": "stdout",
          "output_type": "stream",
          "text": [
            "Precision DataFrame:\n",
            "    Model  Precision\n",
            "0  MLTSVM       0.29\n",
            "1   MLKNN       0.83\n",
            "2  BRKNNa       0.76\n",
            "\n",
            "Recall DataFrame:\n",
            "    Model  Recall\n",
            "0  MLTSVM    0.78\n",
            "1   MLKNN    0.12\n",
            "2  BRKNNa    0.12\n",
            "\n",
            "Combined DataFrame 4:\n",
            "    Model  Precision  Recall\n",
            "0  MLTSVM       0.29     NaN\n",
            "1   MLKNN       0.83     NaN\n",
            "2  BRKNNa       0.76     NaN\n",
            "3  MLTSVM        NaN    0.78\n",
            "4   MLKNN        NaN    0.12\n",
            "5  BRKNNa        NaN    0.12\n"
          ]
        }
      ],
      "source": [
        "# Calculating precision and recall for the fourth dataset\n",
        "ps_mlt4 = round(m.precision_score(y5_test, MLTSVM5_predictions, average='micro', zero_division='warn'), 2)\n",
        "ps_mlk4 = round(m.precision_score(y5_test, MLKNN5_predictions, average='micro', zero_division='warn'), 2)\n",
        "ps_brk4 = round(m.precision_score(y5_test, BR5_predictions, average='micro', zero_division='warn'), 2)\n",
        "\n",
        "r_mlt4 = round(m.recall_score(y5_test, MLTSVM5_predictions, average='micro', zero_division='warn'), 2)\n",
        "r_mlk4 = round(m.recall_score(y5_test, MLKNN5_predictions, average='micro', zero_division='warn'), 2)\n",
        "r_brk4 = round(m.recall_score(y5_test, BR5_predictions, average='micro', zero_division='warn'), 2)\n",
        "\n",
        "# Create precision and recall dictionaries for the fourth dataset\n",
        "p_dict_7 = {\"MLTSVM\": ps_mlt4, \"MLKNN\": ps_mlk4, \"BRKNNa\": ps_brk4}\n",
        "r_dict_7 = {\"MLTSVM\": r_mlt4, \"MLKNN\": r_mlk4, \"BRKNNa\": r_brk4}\n",
        "\n",
        "# Create precision DataFrame for the fourth dataset\n",
        "precision_df_4 = pd.DataFrame(list(p_dict_7.items()), columns=[\"Model\", \"Precision\"])\n",
        "print(\"Precision DataFrame:\")\n",
        "print(precision_df_4)\n",
        "\n",
        "# Create recall DataFrame for the fourth dataset\n",
        "recall_df_4 = pd.DataFrame(list(r_dict_7.items()), columns=[\"Model\", \"Recall\"])\n",
        "print(\"\\nRecall DataFrame:\")\n",
        "print(recall_df_4)\n",
        "\n",
        "# Combine precision and recall DataFrames for the fourth dataset\n",
        "combined_df4 = pd.concat([precision_df_4, recall_df_4], ignore_index=True)\n",
        "print(\"\\nCombined DataFrame 4:\")\n",
        "print(combined_df4)\n"
      ]
    },
    {
      "cell_type": "code",
      "execution_count": null,
      "metadata": {
        "id": "uQuf_lFCeRdf",
        "outputId": "3bb238ae-98bb-4895-c255-6af33dbf45d8"
      },
      "outputs": [
        {
          "name": "stdout",
          "output_type": "stream",
          "text": [
            "Dataset\tClassifier\tPrecision\tRecall\n",
            "medical\tMLTSVM\t0.68\t\t0.71\n",
            "medical\tMLKNN\t0.87\t\t0.47\n",
            "medical\tBRKNNa\t0.81\t\t0.35\n",
            "enron\tMLTSVM\t0.46\t\t0.38\n",
            "enron\tMLKNN\t0.66\t\t0.35\n",
            "enron\tBRKNNa\t0.65\t\t0.14\n",
            "scene\tMLTSVM\t0.18\t\t1.00\n",
            "scene\tMLKNN\t0.75\t\t0.67\n",
            "scene\tBRKNNa\t0.81\t\t0.56\n",
            "genbase\tMLTSVM\t0.73\t\t0.85\n",
            "genbase\tMLKNN\t0.93\t\t0.11\n",
            "genbase\tBRKNNa\t0.74\t\t0.12\n"
          ]
        }
      ],
      "source": [
        "# Define the dataset names, classifier names, and corresponding precision and recall values\n",
        "datasets = [\"medical\", \"enron\", \"scene\", \"genbase\"]\n",
        "classifiers = [\"MLTSVM\", \"MLKNN\", \"BRKNNa\"]\n",
        "\n",
        "precision_values = [\n",
        "    [0.68, 0.87, 0.81],  # Precision values for medical dataset\n",
        "    [0.46, 0.66, 0.65],  # Precision values for enron dataset\n",
        "    [0.18, 0.75, 0.81],  # Precision values for scene dataset\n",
        "    [0.73, 0.93, 0.74]   # Precision values for genbase dataset\n",
        "]\n",
        "\n",
        "recall_values = [\n",
        "    [0.71, 0.47, 0.35],  # Recall values for medical dataset\n",
        "    [0.38, 0.35, 0.14],  # Recall values for enron dataset\n",
        "    [1.0, 0.67, 0.56],   # Recall values for scene dataset\n",
        "    [0.85, 0.11, 0.12]   # Recall values for genbase dataset\n",
        "]\n",
        "\n",
        "# Print the results table\n",
        "print(\"Dataset\\tClassifier\\tPrecision\\tRecall\")\n",
        "for i, dataset in enumerate(datasets):\n",
        "    for j, classifier in enumerate(classifiers):\n",
        "        precision = precision_values[i][j]\n",
        "        recall = recall_values[i][j]\n",
        "        print(f\"{dataset}\\t{classifier}\\t{precision:.2f}\\t\\t{recall:.2f}\")\n"
      ]
    },
    {
      "cell_type": "code",
      "execution_count": null,
      "metadata": {
        "id": "0Czd0ti1eRdg"
      },
      "outputs": [],
      "source": []
    },
    {
      "cell_type": "markdown",
      "metadata": {
        "id": "e4j7HvX9eRdg"
      },
      "source": [
        "#Results based on  EVALUATION MEASURES"
      ]
    },
    {
      "cell_type": "code",
      "execution_count": null,
      "metadata": {
        "id": "kXK9F7NXjrU5"
      },
      "outputs": [],
      "source": [
        "import matplotlib.pyplot as plt\n",
        "dataset=['medical','enron','scene','genbase']\n",
        "hl=[]\n",
        "print(hamming_loss_MLKNN)\n",
        "fig, ax=plt.subplots()\n",
        "ax.plot(dataset,hamming_loss_MLTSVM, label='MLTSVM',marker=\"H\")\n",
        "ax.plot(dataset,hamming_loss_MLKNN, label='MLKNN',marker=\">\")\n",
        "ax.plot(dataset,hamming_loss_BRKNNa, label='BRKNNa',marker=\"*\")\n",
        "ax.legend(loc='upper left')\n",
        "ax.set_title('Chi2 for 20% FS')\n",
        "ax.set_xlabel('Datasets')\n",
        "ax.set_ylabel('Hamming Loss')\n",
        "plt.tight_layout()\n",
        "plt.savefig('chi-20-hamming loss')"
      ]
    },
    {
      "cell_type": "markdown",
      "metadata": {
        "id": "NTnz41Oxjv_P"
      },
      "source": [
        "##Accuracy"
      ]
    },
    {
      "cell_type": "code",
      "execution_count": null,
      "metadata": {
        "id": "rBO6ZTWvj0NS"
      },
      "outputs": [],
      "source": [
        "#import matplotlib.pyplot as plt\n",
        "fig, ax=plt.subplots()\n",
        "ax.plot(dataset,accuracy_MLTSVM, label='MLTSVM',marker=\"H\")\n",
        "ax.plot(dataset,accuracy_MLKNN, label='MLKNN',marker='>')\n",
        "ax.plot(dataset,accuracy_BRKNNa, label='BRKNNa',marker='*')\n",
        "ax.legend(loc='upper left')\n",
        "ax.set_title('Chi2 for 20% FS')\n",
        "ax.set_xlabel('Datasets')\n",
        "ax.set_ylabel('Accuracy')\n",
        "plt.savefig('chi-20-Accuracy')"
      ]
    },
    {
      "cell_type": "markdown",
      "metadata": {
        "id": "1HCZyhktj1Dt"
      },
      "source": [
        "##Precision"
      ]
    },
    {
      "cell_type": "code",
      "execution_count": null,
      "metadata": {
        "id": "Bhk7Rtc1j4st"
      },
      "outputs": [],
      "source": [
        "fig, ax=plt.subplots()\n",
        "ax.plot(dataset,precision_MLTSVM, label='MLTSVM',marker=\"H\")\n",
        "ax.plot(dataset,precision_MLKNN, label='MLKNN',marker='>')\n",
        "ax.plot(dataset,precision_BRKNNa, label='BRKNNa',marker='*')\n",
        "ax.legend(loc='lower left')\n",
        "ax.set_title('Chi2 for 50% FS')\n",
        "ax.set_xlabel('Datasets')\n",
        "ax.set_ylabel('Micro Precision')\n",
        "plt.tight_layout()\n",
        "plt.savefig('chi-20-Precision')"
      ]
    },
    {
      "cell_type": "markdown",
      "metadata": {
        "id": "BDBHu6gkj5nV"
      },
      "source": [
        "##Recall"
      ]
    },
    {
      "cell_type": "code",
      "execution_count": null,
      "metadata": {
        "id": "6Tg4rjnKj6tB"
      },
      "outputs": [],
      "source": [
        "fig, ax=plt.subplots()\n",
        "ax.plot(dataset,recall_MLTSVM, label='MLTSVM',marker=\"H\")\n",
        "ax.plot(dataset,recall_MLKNN, label='MLKNN',marker='>')\n",
        "ax.plot(dataset,recall_BRKNNa, label='BRKNNa',marker='*')\n",
        "ax.legend(loc='upper left')\n",
        "ax.set_title('Chi2 for 50% FS')\n",
        "ax.set_xlabel('Datasets')\n",
        "ax.set_ylabel('Micro Recall')\n",
        "plt.tight_layout()\n",
        "plt.savefig('chi-20-Recall')"
      ]
    },
    {
      "cell_type": "markdown",
      "metadata": {
        "id": "Q0Dvi7SAj-iU"
      },
      "source": [
        "##F1 Measure"
      ]
    },
    {
      "cell_type": "code",
      "execution_count": null,
      "metadata": {
        "id": "mfAzEw1kkAW-"
      },
      "outputs": [],
      "source": [
        "#F1 measure\n",
        "fig, ax=plt.subplots()\n",
        "ax.plot(dataset,f1_measure_MLTSVM, label='MLTSVM',marker=\"H\")\n",
        "ax.plot(dataset,f1_measure_MLKNN, label='MLKNN',marker='>')\n",
        "ax.plot(dataset,f1_measure_BRKNNa, label='BRKNNa',marker='*')\n",
        "ax.legend(loc='lower left')\n",
        "ax.set_title('Chi2 for 20% FS')\n",
        "ax.set_xlabel('Datasets')\n",
        "ax.set_ylabel('Micro F1 measure')\n",
        "plt.tight_layout()\n",
        "plt.savefig('chi-20-f1 measure')"
      ]
    },
    {
      "cell_type": "code",
      "execution_count": null,
      "metadata": {
        "id": "ILQqgkgtPktO"
      },
      "outputs": [],
      "source": [
        "#F1 measure\n",
        "fig, ax=plt.subplots()\n",
        "HL=[0.02, ]\n",
        "ax.plot(dataset,f1_measure_MLTSVM, label='MLTSVM',marker=\"H\")\n",
        "ax.plot(dataset,f1_measure_MLKNN, label='MLKNN',marker='>')\n",
        "ax.plot(dataset,f1_measure_BRKNNa, label='BRKNNa',marker='*')\n",
        "ax.legend(loc='lower left')\n",
        "ax.set_title('Chi2 for 20% FS')\n",
        "ax.set_xlabel('Datasets')\n",
        "ax.set_ylabel('Micro F1 measure')\n",
        "plt.tight_layout()\n",
        "plt.savefig('chi-20-f1 measure')"
      ]
    }
  ],
  "metadata": {
    "colab": {
      "provenance": [],
      "toc_visible": true,
      "include_colab_link": true
    },
    "kernelspec": {
      "display_name": "Python 3 (ipykernel)",
      "language": "python",
      "name": "python3"
    },
    "language_info": {
      "codemirror_mode": {
        "name": "ipython",
        "version": 3
      },
      "file_extension": ".py",
      "mimetype": "text/x-python",
      "name": "python",
      "nbconvert_exporter": "python",
      "pygments_lexer": "ipython3",
      "version": "3.9.7"
    }
  },
  "nbformat": 4,
  "nbformat_minor": 0
}