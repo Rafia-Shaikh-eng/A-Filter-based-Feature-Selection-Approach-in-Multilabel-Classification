{
  "cells": [
    {
      "attachments": {},
      "cell_type": "markdown",
      "metadata": {
        "id": "kHoysDTNZj8N"
      },
      "source": [
        "#MT - Thesis -II"
      ]
    },
    {
      "attachments": {},
      "cell_type": "markdown",
      "metadata": {
        "id": "r4DDNemjZ6Pk"
      },
      "source": [
        "###Import modules"
      ]
    },
    {
      "cell_type": "code",
      "execution_count": null,
      "metadata": {
        "colab": {
          "base_uri": "https://localhost:8080/"
        },
        "id": "0YlTlSLH4n5F",
        "outputId": "2d6be3cc-4421-435a-855e-bd7c90d47ffb",
        "vscode": {
          "languageId": "python"
        }
      },
      "outputs": [
        {
          "name": "stdout",
          "output_type": "stream",
          "text": [
            "Collecting scikit-multilearn\n",
            "\u001b[?25l  Downloading https://files.pythonhosted.org/packages/bb/1f/e6ff649c72a1cdf2c7a1d31eb21705110ce1c5d3e7e26b2cc300e1637272/scikit_multilearn-0.2.0-py3-none-any.whl (89kB)\n",
            "\r\u001b[K     |███▊                            | 10kB 11.8MB/s eta 0:00:01\r\u001b[K     |███████▍                        | 20kB 10.2MB/s eta 0:00:01\r\u001b[K     |███████████                     | 30kB 8.6MB/s eta 0:00:01\r\u001b[K     |██████████████▊                 | 40kB 8.1MB/s eta 0:00:01\r\u001b[K     |██████████████████▍             | 51kB 5.5MB/s eta 0:00:01\r\u001b[K     |██████████████████████          | 61kB 5.0MB/s eta 0:00:01\r\u001b[K     |█████████████████████████▊      | 71kB 5.7MB/s eta 0:00:01\r\u001b[K     |█████████████████████████████▍  | 81kB 6.3MB/s eta 0:00:01\r\u001b[K     |████████████████████████████████| 92kB 4.4MB/s \n",
            "\u001b[?25hInstalling collected packages: scikit-multilearn\n",
            "Successfully installed scikit-multilearn-0.2.0\n",
            "Collecting arff\n",
            "  Downloading https://files.pythonhosted.org/packages/50/de/62d4446c5a6e459052c2f2d9490c370ddb6abc0766547b4cef585913598d/arff-0.9.tar.gz\n",
            "Building wheels for collected packages: arff\n",
            "  Building wheel for arff (setup.py) ... \u001b[?25l\u001b[?25hdone\n",
            "  Created wheel for arff: filename=arff-0.9-cp37-none-any.whl size=4970 sha256=f53895a5ed2569e0c4eb74be068848ebd3bce23cf111bc343129bcaa8a77a05e\n",
            "  Stored in directory: /root/.cache/pip/wheels/04/d0/70/2c73afedd3ac25c6085b528742c69b9587cbdfa67e5194583b\n",
            "Successfully built arff\n",
            "Installing collected packages: arff\n",
            "Successfully installed arff-0.9\n",
            "Collecting skfeature-chappers\n",
            "  Downloading https://files.pythonhosted.org/packages/e6/45/19bb801eb3b4a892534ab86468ad0669a68ff63578610f90051190e3622f/skfeature-chappers-1.0.3.tar.gz\n",
            "Building wheels for collected packages: skfeature-chappers\n",
            "  Building wheel for skfeature-chappers (setup.py) ... \u001b[?25l\u001b[?25hdone\n",
            "  Created wheel for skfeature-chappers: filename=skfeature_chappers-1.0.3-py2.py3-none-any.whl size=59509 sha256=ea434ceb7ee66dace64049d67c006cbf365414db5487dd0647570cff959a29b8\n",
            "  Stored in directory: /root/.cache/pip/wheels/ac/61/bf/1b3a8c232a0072409508c2ec4c12f316e95681ae72ba7315d2\n",
            "Successfully built skfeature-chappers\n",
            "Installing collected packages: skfeature-chappers\n",
            "Successfully installed skfeature-chappers-1.0.3\n"
          ]
        }
      ],
      "source": [
        "# if the scikit-multilearn not installed run this cell \n",
        "!pip install scikit-multilearn\n",
        "# most of the datasets in Weka Arff format for this installed this library \n",
        "!pip install arff\n",
        "!pip install skfeature-chappers"
      ]
    },
    {
      "attachments": {},
      "cell_type": "markdown",
      "metadata": {
        "id": "YEgc5_riaCRD"
      },
      "source": [
        "###Scene Dataset"
      ]
    },
    {
      "cell_type": "code",
      "execution_count": null,
      "metadata": {
        "colab": {
          "base_uri": "https://localhost:8080/"
        },
        "id": "4hYJj4UXaBmK",
        "outputId": "faa96c14-5260-4766-8b71-63a0c87d8a72",
        "vscode": {
          "languageId": "python"
        }
      },
      "outputs": [
        {
          "name": "stdout",
          "output_type": "stream",
          "text": [
            "scene:undivided - does not exists downloading\n",
            "Downloaded scene-undivided\n",
            "Actual Dataset\n",
            "(2407, 294) (2407, 6)\n",
            "Coverted into Dataframe\n",
            "(2407, 294) (2407, 6)\n"
          ]
        }
      ],
      "source": [
        "from skmultilearn.dataset import load_dataset\n",
        "x,y, _, _ = load_dataset('scene', 'undivided')\n",
        "print(\"Actual Dataset\")\n",
        "print(x.shape,y.shape)\n",
        "#change to matrix\n",
        "x=x.todense()\n",
        "y=y.todense()\n",
        "import pandas as pd\n",
        "#change to dataFrame\n",
        "x_df=pd.DataFrame(x)\n",
        "y_df=pd.DataFrame(y)\n",
        "print(\"Coverted into Dataframe\")\n",
        "print(x_df.shape,y_df.shape)"
      ]
    },
    {
      "attachments": {},
      "cell_type": "markdown",
      "metadata": {
        "id": "RBmm0otSeSJc"
      },
      "source": [
        "##1- Feature subset 1 -> using Mutual Information"
      ]
    },
    {
      "cell_type": "code",
      "execution_count": null,
      "metadata": {
        "colab": {
          "base_uri": "https://localhost:8080/",
          "height": 419
        },
        "id": "5MxeEgje2Bid",
        "outputId": "6b20cc41-b84e-4559-ade2-72514e532dd0",
        "vscode": {
          "languageId": "python"
        }
      },
      "outputs": [
        {
          "data": {
            "text/html": [
              "<div>\n",
              "<style scoped>\n",
              "    .dataframe tbody tr th:only-of-type {\n",
              "        vertical-align: middle;\n",
              "    }\n",
              "\n",
              "    .dataframe tbody tr th {\n",
              "        vertical-align: top;\n",
              "    }\n",
              "\n",
              "    .dataframe thead th {\n",
              "        text-align: right;\n",
              "    }\n",
              "</style>\n",
              "<table border=\"1\" class=\"dataframe\">\n",
              "  <thead>\n",
              "    <tr style=\"text-align: right;\">\n",
              "      <th></th>\n",
              "      <th>0</th>\n",
              "      <th>1</th>\n",
              "      <th>2</th>\n",
              "      <th>3</th>\n",
              "      <th>4</th>\n",
              "      <th>5</th>\n",
              "    </tr>\n",
              "  </thead>\n",
              "  <tbody>\n",
              "    <tr>\n",
              "      <th>0</th>\n",
              "      <td>1</td>\n",
              "      <td>0</td>\n",
              "      <td>0</td>\n",
              "      <td>0</td>\n",
              "      <td>1</td>\n",
              "      <td>0</td>\n",
              "    </tr>\n",
              "    <tr>\n",
              "      <th>1</th>\n",
              "      <td>1</td>\n",
              "      <td>0</td>\n",
              "      <td>0</td>\n",
              "      <td>0</td>\n",
              "      <td>0</td>\n",
              "      <td>1</td>\n",
              "    </tr>\n",
              "    <tr>\n",
              "      <th>2</th>\n",
              "      <td>1</td>\n",
              "      <td>0</td>\n",
              "      <td>0</td>\n",
              "      <td>0</td>\n",
              "      <td>0</td>\n",
              "      <td>0</td>\n",
              "    </tr>\n",
              "    <tr>\n",
              "      <th>3</th>\n",
              "      <td>1</td>\n",
              "      <td>0</td>\n",
              "      <td>0</td>\n",
              "      <td>0</td>\n",
              "      <td>0</td>\n",
              "      <td>0</td>\n",
              "    </tr>\n",
              "    <tr>\n",
              "      <th>4</th>\n",
              "      <td>1</td>\n",
              "      <td>0</td>\n",
              "      <td>0</td>\n",
              "      <td>0</td>\n",
              "      <td>0</td>\n",
              "      <td>0</td>\n",
              "    </tr>\n",
              "    <tr>\n",
              "      <th>...</th>\n",
              "      <td>...</td>\n",
              "      <td>...</td>\n",
              "      <td>...</td>\n",
              "      <td>...</td>\n",
              "      <td>...</td>\n",
              "      <td>...</td>\n",
              "    </tr>\n",
              "    <tr>\n",
              "      <th>2402</th>\n",
              "      <td>0</td>\n",
              "      <td>0</td>\n",
              "      <td>0</td>\n",
              "      <td>0</td>\n",
              "      <td>0</td>\n",
              "      <td>1</td>\n",
              "    </tr>\n",
              "    <tr>\n",
              "      <th>2403</th>\n",
              "      <td>0</td>\n",
              "      <td>0</td>\n",
              "      <td>0</td>\n",
              "      <td>0</td>\n",
              "      <td>0</td>\n",
              "      <td>1</td>\n",
              "    </tr>\n",
              "    <tr>\n",
              "      <th>2404</th>\n",
              "      <td>0</td>\n",
              "      <td>0</td>\n",
              "      <td>0</td>\n",
              "      <td>0</td>\n",
              "      <td>0</td>\n",
              "      <td>1</td>\n",
              "    </tr>\n",
              "    <tr>\n",
              "      <th>2405</th>\n",
              "      <td>0</td>\n",
              "      <td>0</td>\n",
              "      <td>0</td>\n",
              "      <td>0</td>\n",
              "      <td>0</td>\n",
              "      <td>1</td>\n",
              "    </tr>\n",
              "    <tr>\n",
              "      <th>2406</th>\n",
              "      <td>0</td>\n",
              "      <td>0</td>\n",
              "      <td>0</td>\n",
              "      <td>0</td>\n",
              "      <td>0</td>\n",
              "      <td>1</td>\n",
              "    </tr>\n",
              "  </tbody>\n",
              "</table>\n",
              "<p>2407 rows × 6 columns</p>\n",
              "</div>"
            ],
            "text/plain": [
              "      0  1  2  3  4  5\n",
              "0     1  0  0  0  1  0\n",
              "1     1  0  0  0  0  1\n",
              "2     1  0  0  0  0  0\n",
              "3     1  0  0  0  0  0\n",
              "4     1  0  0  0  0  0\n",
              "...  .. .. .. .. .. ..\n",
              "2402  0  0  0  0  0  1\n",
              "2403  0  0  0  0  0  1\n",
              "2404  0  0  0  0  0  1\n",
              "2405  0  0  0  0  0  1\n",
              "2406  0  0  0  0  0  1\n",
              "\n",
              "[2407 rows x 6 columns]"
            ]
          },
          "execution_count": 3,
          "metadata": {
            "tags": []
          },
          "output_type": "execute_result"
        }
      ],
      "source": [
        "y_df"
      ]
    },
    {
      "attachments": {},
      "cell_type": "markdown",
      "metadata": {
        "id": "831YaLSuxZ81"
      },
      "source": [
        "###Feature Selection"
      ]
    },
    {
      "cell_type": "code",
      "execution_count": null,
      "metadata": {
        "colab": {
          "base_uri": "https://localhost:8080/"
        },
        "id": "jsAhRp2J0Nd1",
        "outputId": "3fe69836-daf6-4798-96bb-3433d81a1fff",
        "vscode": {
          "languageId": "python"
        }
      },
      "outputs": [
        {
          "name": "stdout",
          "output_type": "stream",
          "text": [
            "Coverted into Dataframe\n",
            "(2407, 294) (2407, 6)\n"
          ]
        }
      ],
      "source": [
        "#change to dataFrame\n",
        "x1=pd.DataFrame(x)\n",
        "y1=pd.DataFrame(y)\n",
        "print(\"Coverted into Dataframe\")\n",
        "print(x1.shape,y1.shape)"
      ]
    },
    {
      "cell_type": "code",
      "execution_count": null,
      "metadata": {
        "colab": {
          "base_uri": "https://localhost:8080/"
        },
        "id": "DcC2g9wUaRxj",
        "outputId": "1502c8b2-7ded-45c4-bd58-4eef66e6d7d1",
        "vscode": {
          "languageId": "python"
        }
      },
      "outputs": [
        {
          "name": "stdout",
          "output_type": "stream",
          "text": [
            "50% features of scene dataset =  147\n"
          ]
        }
      ],
      "source": [
        "#feature selection\n",
        "# import the required functions and object.\n",
        "from sklearn.feature_selection import mutual_info_classif\n",
        "from sklearn.feature_selection import SelectKBest\n",
        "import numpy as np\n",
        "import pandas as pd\n",
        "\n",
        "# select the number of features you want to retain.\n",
        "select_k1 = round(len(x1.columns)*0.5)\n",
        "print(\"50% features of scene dataset = \",select_k1)\n",
        "\n",
        "# get only the numerical features.\n",
        "numerical_x =x1[x1.select_dtypes([np.number]).columns]\n",
        "features_selected_50=[]\n",
        "features_weights=[]\n",
        "for a in range(len(x1.columns)):\n",
        "   features_weights.append(0)\n",
        "for i in range(len(y1.columns)):\n",
        "  # create the SelectKBest with the mutual info strategy.\n",
        "  selection =SelectKBest(mutual_info_classif, k=select_k1).fit(numerical_x, y1.iloc[:,i])\n",
        "\n",
        "  # display the retained features.\n",
        "  features=list(x1.columns[selection.get_support()])\n",
        "  labels=y1.columns[i]\n",
        "  features_selected_50.append([labels, features])\n",
        "  #print(features_selected_50[i])\n",
        "\n",
        "  #calculating weight for each feature\n",
        "  #if a feature is correlate to label count them and than divide it by total labels\n",
        "  for f in features:\n",
        "    for count in range(len(x1.columns)):\n",
        "      if(f==x1.columns[count]):\n",
        "        features_weights[count]+=1\n",
        "list_f_w={}\n",
        "#if a feature is correlate to label count them and than divide it by total labels \n",
        "for i in range(len(x1.columns)):\n",
        "  features_weights[i]=round(features_weights[i]/len(x1.columns),3)\n",
        "  list_f_w.update({x1.columns[i] : features_weights[i]})"
      ]
    },
    {
      "cell_type": "code",
      "execution_count": null,
      "metadata": {
        "id": "ulW3JSm_a8zO",
        "vscode": {
          "languageId": "python"
        }
      },
      "outputs": [],
      "source": [
        "#sort weights\n",
        "import operator\n",
        "sorted_list_f_w = sorted(list_f_w.items(), key=operator.itemgetter(1), reverse=True)\n",
        "import collections\n",
        "sorted_dict_f = collections.OrderedDict(sorted_list_f_w)\n",
        "#print(sorted_dict_f)"
      ]
    },
    {
      "cell_type": "code",
      "execution_count": null,
      "metadata": {
        "colab": {
          "base_uri": "https://localhost:8080/"
        },
        "id": "tGZVWrbWbIp7",
        "outputId": "71b8877b-70bf-4510-c536-c239b2d0a906",
        "vscode": {
          "languageId": "python"
        }
      },
      "outputs": [
        {
          "name": "stdout",
          "output_type": "stream",
          "text": [
            "{0, 1, 2, 3, 4, 5, 10, 26, 27, 28, 29, 30, 31, 33, 34, 35, 36, 37, 38, 39, 40, 41, 42, 43, 44, 45, 46, 47, 48, 55, 58, 62, 79, 82, 84, 88, 91, 92, 93, 94, 95, 96, 97, 98, 99, 100, 101, 102, 103, 104, 105, 106, 107, 108, 109, 110, 111, 112, 113, 114, 115, 116, 117, 118, 119, 120, 121, 122, 123, 124, 125, 126, 127, 128, 129, 130, 131, 132, 133, 134, 135, 136, 137, 138, 139, 141, 142, 143, 144, 145, 146, 147, 151, 152, 154, 156, 158, 160, 165, 167, 170, 171, 177, 182, 183, 188, 191, 194, 196, 197, 198, 199, 200, 201, 202, 203, 204, 205, 206, 207, 208, 209, 210, 211, 212, 213, 214, 215, 216, 217, 218, 219, 220, 221, 222, 223, 224, 225, 226, 227, 228, 229, 230, 233, 238, 244, 287}\n"
          ]
        }
      ],
      "source": [
        "#now, access top 50% weighted features(keys)\n",
        "final_features=[]\n",
        "found=False\n",
        "for i in range(round(len(x1.columns)*0.5)):\n",
        "    final_features.append(list(sorted_dict_f.keys())[i])\n",
        "final_features.sort()\n",
        "\n",
        "#drop other than top 50% weighted features\n",
        "selected_features = set(x1.columns).intersection(final_features)\n",
        "\n",
        "#print(set(x.columns))\n",
        "print(selected_features)\n",
        "\n",
        "# features subset1\n",
        "\n",
        "\n",
        "for i in list(x1.columns):\n",
        "    if i not in selected_features:\n",
        "        x1= x1.drop(columns=[i])\n",
        "\n",
        "#print(set(x.columns) == selected_features)"
      ]
    },
    {
      "cell_type": "code",
      "execution_count": null,
      "metadata": {
        "colab": {
          "base_uri": "https://localhost:8080/"
        },
        "id": "RiLJnGuIbUlL",
        "outputId": "7ab8f495-5880-45ea-8b8e-9149de4c166a",
        "vscode": {
          "languageId": "python"
        }
      },
      "outputs": [
        {
          "name": "stdout",
          "output_type": "stream",
          "text": [
            "Int64Index([  0,   1,   2,   3,   4,   5,  10,  26,  27,  28,\n",
            "            ...\n",
            "            225, 226, 227, 228, 229, 230, 233, 238, 244, 287],\n",
            "           dtype='int64', length=147)\n",
            "[0, 1, 2, 3, 4, 5, 10, 26, 27, 28, 29, 30, 31, 33, 34, 35, 36, 37, 38, 39, 40, 41, 42, 43, 44, 45, 46, 47, 48, 55, 58, 62, 79, 82, 84, 88, 91, 92, 93, 94, 95, 96, 97, 98, 99, 100, 101, 102, 103, 104, 105, 106, 107, 108, 109, 110, 111, 112, 113, 114, 115, 116, 117, 118, 119, 120, 121, 122, 123, 124, 125, 126, 127, 128, 129, 130, 131, 132, 133, 134, 135, 136, 137, 138, 139, 141, 142, 143, 144, 145, 146, 147, 151, 152, 154, 156, 158, 160, 165, 167, 170, 171, 177, 182, 183, 188, 191, 194, 196, 197, 198, 199, 200, 201, 202, 203, 204, 205, 206, 207, 208, 209, 210, 211, 212, 213, 214, 215, 216, 217, 218, 219, 220, 221, 222, 223, 224, 225, 226, 227, 228, 229, 230, 233, 238, 244, 287]\n"
          ]
        }
      ],
      "source": [
        "print(x1.columns)\n",
        "print(final_features)"
      ]
    },
    {
      "attachments": {},
      "cell_type": "markdown",
      "metadata": {
        "id": "hFqGpr6leQZc"
      },
      "source": [
        "###Train and Test Split"
      ]
    },
    {
      "cell_type": "code",
      "execution_count": null,
      "metadata": {
        "colab": {
          "base_uri": "https://localhost:8080/"
        },
        "id": "Yhkm0tUBba8j",
        "outputId": "c2b59f1e-029c-4f4f-a0ea-da803105b798",
        "vscode": {
          "languageId": "python"
        }
      },
      "outputs": [
        {
          "name": "stdout",
          "output_type": "stream",
          "text": [
            "(1685, 147) (722, 147) (1685, 6) (722, 6)\n"
          ]
        }
      ],
      "source": [
        "from scipy import sparse as s\n",
        "x1_m = s.csr_matrix(x1)\n",
        "y1_m= s.csr_matrix(y1)\n",
        "#Train and test split\n",
        "from skmultilearn.model_selection import iterative_train_test_split \n",
        "x1_train, y1_train, x1_test, y1_test = iterative_train_test_split(x1_m, y1_m, test_size = 0.3)\n",
        "print(x1_train.shape, x1_test.shape, y1_train.shape, y1_test.shape)"
      ]
    },
    {
      "cell_type": "code",
      "execution_count": null,
      "metadata": {
        "id": "83TOLAspN5Jn",
        "vscode": {
          "languageId": "python"
        }
      },
      "outputs": [],
      "source": [
        "#change to matrix\n",
        "x1_train_df=x1_train.todense()\n",
        "y1_train_df=y1_train.todense()\n",
        "x1_test_df=x1_test.todense()\n",
        "y1_test_df=y1_test.todense()\n",
        "import pandas as pd\n",
        "#change to dataFrame\n",
        "x1_train_df=pd.DataFrame(x1_train_df)\n",
        "y1_train_df=pd.DataFrame(y1_train_df)\n",
        "x1_test_df=pd.DataFrame(x1_test_df)\n",
        "y1_test_df=pd.DataFrame(y1_test_df)"
      ]
    },
    {
      "cell_type": "code",
      "execution_count": null,
      "metadata": {
        "colab": {
          "base_uri": "https://localhost:8080/"
        },
        "id": "pdL-96zcuolm",
        "outputId": "2d52a8bd-6d39-43cb-8c02-f8f91679c805",
        "vscode": {
          "languageId": "python"
        }
      },
      "outputs": [
        {
          "data": {
            "text/plain": [
              "(722, 147)"
            ]
          },
          "execution_count": 10,
          "metadata": {
            "tags": []
          },
          "output_type": "execute_result"
        }
      ],
      "source": [
        "x1_test.shape"
      ]
    },
    {
      "attachments": {},
      "cell_type": "markdown",
      "metadata": {
        "id": "yeJdMykFeZjY"
      },
      "source": [
        "###Model 1 -> MLKNN"
      ]
    },
    {
      "cell_type": "code",
      "execution_count": null,
      "metadata": {
        "id": "AxfJ4ZTMejGT",
        "vscode": {
          "languageId": "python"
        }
      },
      "outputs": [],
      "source": [
        "from skmultilearn.adapt import MLkNN\n",
        "#MLKNN is an adaptation of the kNN lazy learning algorithm for multi-label data.\n",
        "# apply MLkNN for Scene dataset it has 6 labels. \n",
        "classifier1 = MLkNN(k=6)\n",
        "\n",
        "# train\n",
        "model1=classifier1.fit(x1_train, y1_train)\n",
        "\n",
        "# predict\n",
        "MLKNN1_predictions = classifier1.predict(x1_test)"
      ]
    },
    {
      "attachments": {},
      "cell_type": "markdown",
      "metadata": {
        "id": "RzSgx2G4sZmS"
      },
      "source": [
        "###Measuring Metrics"
      ]
    },
    {
      "cell_type": "code",
      "execution_count": null,
      "metadata": {
        "colab": {
          "base_uri": "https://localhost:8080/"
        },
        "id": "wWoP_Yydrntu",
        "outputId": "a216a002-9582-4ffd-fcf8-aa3d28737c66",
        "vscode": {
          "languageId": "python"
        }
      },
      "outputs": [
        {
          "name": "stdout",
          "output_type": "stream",
          "text": [
            "------------------------------\n",
            "Hamming Loss\n",
            "------------------------------\n",
            "0.1\n",
            "------------------------------\n",
            "Accuracy\n",
            "------------------------------\n",
            "0.62\n"
          ]
        }
      ],
      "source": [
        "import sklearn.metrics as m\n",
        "#Hamming Loss\n",
        "print(\"------------------------------\")\n",
        "print(\"Hamming Loss\")\n",
        "print(\"------------------------------\")\n",
        "print((round(m.hamming_loss(y1_test, MLKNN1_predictions),2)))\n",
        "#Accuracy\n",
        "print(\"------------------------------\")\n",
        "print(\"Accuracy\")\n",
        "print(\"------------------------------\")\n",
        "print((round(m.accuracy_score(y1_test, MLKNN1_predictions),2)))"
      ]
    },
    {
      "attachments": {},
      "cell_type": "markdown",
      "metadata": {
        "id": "kY2ST5O7gw1K"
      },
      "source": [
        "##2- Feature subset 2 -> using Fisher Score"
      ]
    },
    {
      "attachments": {},
      "cell_type": "markdown",
      "metadata": {
        "id": "oINP3-QXxiM0"
      },
      "source": [
        "###Feature Selection"
      ]
    },
    {
      "cell_type": "code",
      "execution_count": null,
      "metadata": {
        "colab": {
          "base_uri": "https://localhost:8080/"
        },
        "id": "bo5rn9pTgtLt",
        "outputId": "56db7ea7-23fb-48c2-e0a0-e0b5776da866",
        "vscode": {
          "languageId": "python"
        }
      },
      "outputs": [
        {
          "name": "stdout",
          "output_type": "stream",
          "text": [
            "Coverted into Array\n",
            "(2407, 294) (2407, 6)\n"
          ]
        }
      ],
      "source": [
        "#change to dataFrame\n",
        "x2=pd.DataFrame(x)\n",
        "y2=pd.DataFrame(y)\n",
        "#change to array\n",
        "x2_array=x2.to_numpy()\n",
        "print(\"Coverted into Array\")\n",
        "print(x2.shape,y2.shape)"
      ]
    },
    {
      "cell_type": "code",
      "execution_count": null,
      "metadata": {
        "colab": {
          "base_uri": "https://localhost:8080/"
        },
        "id": "WI7FVtY8j0y_",
        "outputId": "262613a7-9601-41c5-c118-e6f998ccce98",
        "vscode": {
          "languageId": "python"
        }
      },
      "outputs": [
        {
          "name": "stderr",
          "output_type": "stream",
          "text": [
            "/usr/local/lib/python3.7/dist-packages/skfeature/utility/construct_W.py:194: FutureWarning: Support for multi-dimensional indexing (e.g. `obj[:, None]`) is deprecated and will be removed in a future version.  Convert to a numpy array before indexing instead.\n",
            "  class_idx_all = (class_idx[:, np.newaxis] & class_idx[np.newaxis, :])\n",
            "/usr/local/lib/python3.7/dist-packages/skfeature/utility/construct_W.py:194: FutureWarning: Support for multi-dimensional indexing (e.g. `obj[:, None]`) is deprecated and will be removed in a future version.  Convert to a numpy array before indexing instead.\n",
            "  class_idx_all = (class_idx[:, np.newaxis] & class_idx[np.newaxis, :])\n",
            "/usr/local/lib/python3.7/dist-packages/skfeature/utility/construct_W.py:194: FutureWarning: Support for multi-dimensional indexing (e.g. `obj[:, None]`) is deprecated and will be removed in a future version.  Convert to a numpy array before indexing instead.\n",
            "  class_idx_all = (class_idx[:, np.newaxis] & class_idx[np.newaxis, :])\n",
            "/usr/local/lib/python3.7/dist-packages/skfeature/utility/construct_W.py:194: FutureWarning: Support for multi-dimensional indexing (e.g. `obj[:, None]`) is deprecated and will be removed in a future version.  Convert to a numpy array before indexing instead.\n",
            "  class_idx_all = (class_idx[:, np.newaxis] & class_idx[np.newaxis, :])\n",
            "/usr/local/lib/python3.7/dist-packages/skfeature/utility/construct_W.py:194: FutureWarning: Support for multi-dimensional indexing (e.g. `obj[:, None]`) is deprecated and will be removed in a future version.  Convert to a numpy array before indexing instead.\n",
            "  class_idx_all = (class_idx[:, np.newaxis] & class_idx[np.newaxis, :])\n",
            "/usr/local/lib/python3.7/dist-packages/skfeature/utility/construct_W.py:194: FutureWarning: Support for multi-dimensional indexing (e.g. `obj[:, None]`) is deprecated and will be removed in a future version.  Convert to a numpy array before indexing instead.\n",
            "  class_idx_all = (class_idx[:, np.newaxis] & class_idx[np.newaxis, :])\n",
            "/usr/local/lib/python3.7/dist-packages/skfeature/utility/construct_W.py:194: FutureWarning: Support for multi-dimensional indexing (e.g. `obj[:, None]`) is deprecated and will be removed in a future version.  Convert to a numpy array before indexing instead.\n",
            "  class_idx_all = (class_idx[:, np.newaxis] & class_idx[np.newaxis, :])\n",
            "/usr/local/lib/python3.7/dist-packages/skfeature/utility/construct_W.py:194: FutureWarning: Support for multi-dimensional indexing (e.g. `obj[:, None]`) is deprecated and will be removed in a future version.  Convert to a numpy array before indexing instead.\n",
            "  class_idx_all = (class_idx[:, np.newaxis] & class_idx[np.newaxis, :])\n",
            "/usr/local/lib/python3.7/dist-packages/skfeature/utility/construct_W.py:194: FutureWarning: Support for multi-dimensional indexing (e.g. `obj[:, None]`) is deprecated and will be removed in a future version.  Convert to a numpy array before indexing instead.\n",
            "  class_idx_all = (class_idx[:, np.newaxis] & class_idx[np.newaxis, :])\n",
            "/usr/local/lib/python3.7/dist-packages/skfeature/utility/construct_W.py:194: FutureWarning: Support for multi-dimensional indexing (e.g. `obj[:, None]`) is deprecated and will be removed in a future version.  Convert to a numpy array before indexing instead.\n",
            "  class_idx_all = (class_idx[:, np.newaxis] & class_idx[np.newaxis, :])\n",
            "/usr/local/lib/python3.7/dist-packages/skfeature/utility/construct_W.py:194: FutureWarning: Support for multi-dimensional indexing (e.g. `obj[:, None]`) is deprecated and will be removed in a future version.  Convert to a numpy array before indexing instead.\n",
            "  class_idx_all = (class_idx[:, np.newaxis] & class_idx[np.newaxis, :])\n",
            "/usr/local/lib/python3.7/dist-packages/skfeature/utility/construct_W.py:194: FutureWarning: Support for multi-dimensional indexing (e.g. `obj[:, None]`) is deprecated and will be removed in a future version.  Convert to a numpy array before indexing instead.\n",
            "  class_idx_all = (class_idx[:, np.newaxis] & class_idx[np.newaxis, :])\n"
          ]
        }
      ],
      "source": [
        "from skfeature.function.similarity_based import fisher_score\n",
        "ranks=[]\n",
        "#print(ranks)\n",
        "\n",
        "for i in range(len(y2.columns)):\n",
        "  ranks.append(fisher_score.fisher_score(x2_array,y2.iloc[:,i]))\n",
        "\n",
        "#print(ranks)"
      ]
    },
    {
      "cell_type": "code",
      "execution_count": null,
      "metadata": {
        "id": "Z62-lAdIkD-A",
        "vscode": {
          "languageId": "python"
        }
      },
      "outputs": [],
      "source": [
        "y1_list=list(ranks[0])\n",
        "y2_list=list(ranks[1])\n",
        "y3_list=list(ranks[2])\n",
        "y4_list=list(ranks[3])\n",
        "y5_list=list(ranks[4])\n",
        "y6_list=list(ranks[5])"
      ]
    },
    {
      "cell_type": "code",
      "execution_count": null,
      "metadata": {
        "colab": {
          "base_uri": "https://localhost:8080/"
        },
        "id": "AF3LcR_dkMGl",
        "outputId": "2821a056-d9fa-4622-df1d-633f41a8c4ca",
        "vscode": {
          "languageId": "python"
        }
      },
      "outputs": [
        {
          "name": "stdout",
          "output_type": "stream",
          "text": [
            "[(1, 246), (2, 256), (3, 255), (4, 247), (5, 254), (6, 248), (7, 253), (8, 245), (9, 249), (10, 257), (11, 250), (12, 251), (13, 258), (14, 252), (15, 264), (16, 263), (17, 262), (18, 94), (19, 87), (20, 265), (21, 95), (22, 93), (23, 96), (24, 86), (25, 185), (26, 92), (27, 260), (28, 259), (29, 88), (30, 91), (31, 97), (32, 261), (33, 89), (34, 184), (35, 186), (36, 85), (37, 90), (38, 192), (39, 187), (40, 191), (41, 193), (42, 183), (43, 84), (44, 80), (45, 194), (46, 76), (47, 190), (48, 70), (49, 178), (50, 189), (51, 77), (52, 179), (53, 188), (54, 78), (55, 81), (56, 79), (57, 71), (58, 74), (59, 83), (60, 182), (61, 82), (62, 63), (63, 195), (64, 72), (65, 73), (66, 75), (67, 180), (68, 176), (69, 64), (70, 177), (71, 175), (72, 181), (73, 68), (74, 168), (75, 65), (76, 174), (77, 169), (78, 173), (79, 67), (80, 172), (81, 69), (82, 66), (83, 170), (84, 5), (85, 171), (86, 4), (87, 6), (88, 1), (89, 56), (90, 62), (91, 271), (92, 270), (93, 269), (94, 61), (95, 268), (96, 0), (97, 57), (98, 3), (99, 2), (100, 266), (101, 272), (102, 267), (103, 58), (104, 161), (105, 59), (106, 13), (107, 12), (108, 7), (109, 20), (110, 60), (111, 167), (112, 162), (113, 166), (114, 19), (115, 11), (116, 10), (117, 289), (118, 165), (119, 205), (120, 9), (121, 200), (122, 291), (123, 207), (124, 164), (125, 206), (126, 14), (127, 292), (128, 290), (129, 199), (130, 202), (131, 208), (132, 8), (133, 143), (134, 288), (135, 204), (136, 163), (137, 201), (138, 98), (139, 203), (140, 209), (141, 146), (142, 293), (143, 142), (144, 18), (145, 102), (146, 287), (147, 144), (148, 101), (149, 198), (150, 281), (151, 282), (152, 136), (153, 215), (154, 283), (155, 216), (156, 284), (157, 122), (158, 210), (159, 17), (160, 103), (161, 21), (162, 145), (163, 55), (164, 140), (165, 141), (166, 197), (167, 135), (168, 49), (169, 16), (170, 280), (171, 50), (172, 285), (173, 134), (174, 99), (175, 52), (176, 51), (177, 15), (178, 213), (179, 137), (180, 196), (181, 54), (182, 53), (183, 104), (184, 211), (185, 286), (186, 212), (187, 139), (188, 214), (189, 138), (190, 114), (191, 148), (192, 109), (193, 149), (194, 151), (195, 132), (196, 100), (197, 110), (198, 45), (199, 150), (200, 133), (201, 125), (202, 115), (203, 147), (204, 152), (205, 27), (206, 227), (207, 127), (208, 105), (209, 241), (210, 131), (211, 113), (212, 160), (213, 153), (214, 117), (215, 240), (216, 219), (217, 116), (218, 111), (219, 121), (220, 244), (221, 234), (222, 28), (223, 217), (224, 119), (225, 44), (226, 126), (227, 159), (228, 237), (229, 123), (230, 226), (231, 46), (232, 218), (233, 128), (234, 37), (235, 154), (236, 108), (237, 233), (238, 222), (239, 106), (240, 220), (241, 36), (242, 158), (243, 224), (244, 124), (245, 26), (246, 38), (247, 229), (248, 278), (249, 43), (250, 130), (251, 157), (252, 221), (253, 231), (254, 228), (255, 238), (256, 30), (257, 155), (258, 225), (259, 40), (260, 279), (261, 107), (262, 34), (263, 118), (264, 236), (265, 22), (266, 29), (267, 232), (268, 243), (269, 42), (270, 25), (271, 112), (272, 47), (273, 223), (274, 235), (275, 156), (276, 41), (277, 39), (278, 239), (279, 31), (280, 129), (281, 275), (282, 48), (283, 23), (284, 33), (285, 35), (286, 274), (287, 24), (288, 230), (289, 277), (290, 120), (291, 32), (292, 242), (293, 276), (294, 273)]\n"
          ]
        }
      ],
      "source": [
        "y1_F=[]\n",
        "for i in range(len(y1_list)):\n",
        "  y1_F.append((i+1,y1_list[i]))\n",
        "print(y1_F)"
      ]
    },
    {
      "cell_type": "code",
      "execution_count": null,
      "metadata": {
        "colab": {
          "base_uri": "https://localhost:8080/"
        },
        "id": "2ZYKYlkokXUN",
        "outputId": "661de2bf-298d-420b-c89b-beec8657a288",
        "vscode": {
          "languageId": "python"
        }
      },
      "outputs": [
        {
          "name": "stdout",
          "output_type": "stream",
          "text": [
            "The original list is : [(1, 246), (2, 256), (3, 255), (4, 247), (5, 254), (6, 248), (7, 253), (8, 245), (9, 249), (10, 257), (11, 250), (12, 251), (13, 258), (14, 252), (15, 264), (16, 263), (17, 262), (18, 94), (19, 87), (20, 265), (21, 95), (22, 93), (23, 96), (24, 86), (25, 185), (26, 92), (27, 260), (28, 259), (29, 88), (30, 91), (31, 97), (32, 261), (33, 89), (34, 184), (35, 186), (36, 85), (37, 90), (38, 192), (39, 187), (40, 191), (41, 193), (42, 183), (43, 84), (44, 80), (45, 194), (46, 76), (47, 190), (48, 70), (49, 178), (50, 189), (51, 77), (52, 179), (53, 188), (54, 78), (55, 81), (56, 79), (57, 71), (58, 74), (59, 83), (60, 182), (61, 82), (62, 63), (63, 195), (64, 72), (65, 73), (66, 75), (67, 180), (68, 176), (69, 64), (70, 177), (71, 175), (72, 181), (73, 68), (74, 168), (75, 65), (76, 174), (77, 169), (78, 173), (79, 67), (80, 172), (81, 69), (82, 66), (83, 170), (84, 5), (85, 171), (86, 4), (87, 6), (88, 1), (89, 56), (90, 62), (91, 271), (92, 270), (93, 269), (94, 61), (95, 268), (96, 0), (97, 57), (98, 3), (99, 2), (100, 266), (101, 272), (102, 267), (103, 58), (104, 161), (105, 59), (106, 13), (107, 12), (108, 7), (109, 20), (110, 60), (111, 167), (112, 162), (113, 166), (114, 19), (115, 11), (116, 10), (117, 289), (118, 165), (119, 205), (120, 9), (121, 200), (122, 291), (123, 207), (124, 164), (125, 206), (126, 14), (127, 292), (128, 290), (129, 199), (130, 202), (131, 208), (132, 8), (133, 143), (134, 288), (135, 204), (136, 163), (137, 201), (138, 98), (139, 203), (140, 209), (141, 146), (142, 293), (143, 142), (144, 18), (145, 102), (146, 287), (147, 144), (148, 101), (149, 198), (150, 281), (151, 282), (152, 136), (153, 215), (154, 283), (155, 216), (156, 284), (157, 122), (158, 210), (159, 17), (160, 103), (161, 21), (162, 145), (163, 55), (164, 140), (165, 141), (166, 197), (167, 135), (168, 49), (169, 16), (170, 280), (171, 50), (172, 285), (173, 134), (174, 99), (175, 52), (176, 51), (177, 15), (178, 213), (179, 137), (180, 196), (181, 54), (182, 53), (183, 104), (184, 211), (185, 286), (186, 212), (187, 139), (188, 214), (189, 138), (190, 114), (191, 148), (192, 109), (193, 149), (194, 151), (195, 132), (196, 100), (197, 110), (198, 45), (199, 150), (200, 133), (201, 125), (202, 115), (203, 147), (204, 152), (205, 27), (206, 227), (207, 127), (208, 105), (209, 241), (210, 131), (211, 113), (212, 160), (213, 153), (214, 117), (215, 240), (216, 219), (217, 116), (218, 111), (219, 121), (220, 244), (221, 234), (222, 28), (223, 217), (224, 119), (225, 44), (226, 126), (227, 159), (228, 237), (229, 123), (230, 226), (231, 46), (232, 218), (233, 128), (234, 37), (235, 154), (236, 108), (237, 233), (238, 222), (239, 106), (240, 220), (241, 36), (242, 158), (243, 224), (244, 124), (245, 26), (246, 38), (247, 229), (248, 278), (249, 43), (250, 130), (251, 157), (252, 221), (253, 231), (254, 228), (255, 238), (256, 30), (257, 155), (258, 225), (259, 40), (260, 279), (261, 107), (262, 34), (263, 118), (264, 236), (265, 22), (266, 29), (267, 232), (268, 243), (269, 42), (270, 25), (271, 112), (272, 47), (273, 223), (274, 235), (275, 156), (276, 41), (277, 39), (278, 239), (279, 31), (280, 129), (281, 275), (282, 48), (283, 23), (284, 33), (285, 35), (286, 274), (287, 24), (288, 230), (289, 277), (290, 120), (291, 32), (292, 242), (293, 276), (294, 273)]\n",
            "The top N records are : [(142, 293), (127, 292), (122, 291), (128, 290), (117, 289), (134, 288), (146, 287), (185, 286), (172, 285), (156, 284), (154, 283), (151, 282), (150, 281), (170, 280), (260, 279), (248, 278), (289, 277), (293, 276), (281, 275), (286, 274), (294, 273), (101, 272), (91, 271), (92, 270), (93, 269), (95, 268), (102, 267), (100, 266), (20, 265), (15, 264), (16, 263), (17, 262), (32, 261), (27, 260), (28, 259), (13, 258), (10, 257), (2, 256), (3, 255), (5, 254), (7, 253), (14, 252), (12, 251), (11, 250), (9, 249), (6, 248), (4, 247), (1, 246), (8, 245), (220, 244), (268, 243), (292, 242), (209, 241), (215, 240), (278, 239), (255, 238), (228, 237), (264, 236), (274, 235), (221, 234), (237, 233), (267, 232), (253, 231), (288, 230), (247, 229), (254, 228), (206, 227), (230, 226), (258, 225), (243, 224), (273, 223), (238, 222), (252, 221), (240, 220), (216, 219), (232, 218), (223, 217), (155, 216), (153, 215), (188, 214), (178, 213), (186, 212), (184, 211), (158, 210), (140, 209), (131, 208), (123, 207), (125, 206), (119, 205), (135, 204), (139, 203), (130, 202), (137, 201), (121, 200), (129, 199), (149, 198), (166, 197), (180, 196), (63, 195), (45, 194), (41, 193), (38, 192), (40, 191), (47, 190), (50, 189), (53, 188), (39, 187), (35, 186), (25, 185), (34, 184), (42, 183), (60, 182), (72, 181), (67, 180), (52, 179), (49, 178), (70, 177), (68, 176), (71, 175), (76, 174), (78, 173), (80, 172), (85, 171), (83, 170), (77, 169), (74, 168), (111, 167), (113, 166), (118, 165), (124, 164), (136, 163), (112, 162), (104, 161), (212, 160), (227, 159), (242, 158), (251, 157), (275, 156), (257, 155), (235, 154), (213, 153), (204, 152), (194, 151), (199, 150), (193, 149), (191, 148), (203, 147)]\n"
          ]
        }
      ],
      "source": [
        "# Python3 code to demonstrate working of\n",
        "# Get Top N elements from Records\n",
        "# Using sorted() + lambda\n",
        "\n",
        "# Initializing N\n",
        "N = round(len(x2.columns)*0.5)\n",
        "\n",
        "# printing original list\n",
        "print(\"The original list is : \" + str(y1_F))\n",
        "\n",
        "# Get Top N elements from Records\n",
        "# Using sorted() + lambda\n",
        "y1_SF = sorted(y1_F, key = lambda x: x[1], reverse = True)[:N]\n",
        "\n",
        "# printing result\n",
        "print(\"The top N records are : \" + str(y1_SF))\n"
      ]
    },
    {
      "cell_type": "code",
      "execution_count": null,
      "metadata": {
        "colab": {
          "base_uri": "https://localhost:8080/"
        },
        "id": "uMjpI3RXkl60",
        "outputId": "d7776814-652f-4ce7-d398-c991f66b1a9c",
        "vscode": {
          "languageId": "python"
        }
      },
      "outputs": [
        {
          "name": "stdout",
          "output_type": "stream",
          "text": [
            "The original list is : [(1, 191), (2, 190), (3, 188), (4, 192), (5, 195), (6, 194), (7, 183), (8, 182), (9, 184), (10, 193), (11, 189), (12, 187), (13, 175), (14, 176), (15, 177), (16, 185), (17, 178), (18, 181), (19, 186), (20, 180), (21, 179), (22, 171), (23, 170), (24, 172), (25, 174), (26, 168), (27, 169), (28, 173), (29, 164), (30, 163), (31, 165), (32, 166), (33, 162), (34, 249), (35, 167), (36, 157), (37, 161), (38, 158), (39, 247), (40, 250), (41, 246), (42, 248), (43, 159), (44, 251), (45, 156), (46, 245), (47, 94), (48, 160), (49, 95), (50, 93), (51, 155), (52, 257), (53, 96), (54, 87), (55, 92), (56, 253), (57, 258), (58, 86), (59, 154), (60, 256), (61, 254), (62, 252), (63, 97), (64, 91), (65, 88), (66, 89), (67, 85), (68, 150), (69, 255), (70, 151), (71, 90), (72, 84), (73, 149), (74, 152), (75, 264), (76, 80), (77, 81), (78, 259), (79, 265), (80, 79), (81, 260), (82, 148), (83, 261), (84, 263), (85, 153), (86, 82), (87, 288), (88, 293), (89, 262), (90, 287), (91, 78), (92, 147), (93, 289), (94, 292), (95, 83), (96, 290), (97, 291), (98, 77), (99, 281), (100, 286), (101, 280), (102, 285), (103, 73), (104, 267), (105, 266), (106, 282), (107, 74), (108, 72), (109, 268), (110, 284), (111, 271), (112, 272), (113, 230), (114, 283), (115, 273), (116, 270), (117, 75), (118, 274), (119, 269), (120, 279), (121, 110), (122, 71), (123, 109), (124, 278), (125, 76), (126, 196), (127, 231), (128, 114), (129, 275), (130, 70), (131, 237), (132, 224), (133, 49), (134, 111), (135, 223), (136, 34), (137, 125), (138, 35), (139, 108), (140, 50), (141, 115), (142, 55), (143, 124), (144, 101), (145, 277), (146, 238), (147, 217), (148, 137), (149, 54), (150, 120), (151, 51), (152, 203), (153, 112), (154, 210), (155, 128), (156, 28), (157, 105), (158, 202), (159, 107), (160, 103), (161, 53), (162, 119), (163, 121), (164, 52), (165, 136), (166, 197), (167, 41), (168, 100), (169, 20), (170, 143), (171, 7), (172, 27), (173, 276), (174, 123), (175, 229), (176, 118), (177, 14), (178, 42), (179, 102), (180, 13), (181, 129), (182, 209), (183, 244), (184, 236), (185, 216), (186, 135), (187, 122), (188, 117), (189, 106), (190, 222), (191, 104), (192, 146), (193, 113), (194, 56), (195, 127), (196, 116), (197, 62), (198, 131), (199, 130), (200, 36), (201, 134), (202, 0), (203, 142), (204, 232), (205, 99), (206, 48), (207, 235), (208, 15), (209, 218), (210, 43), (211, 225), (212, 6), (213, 98), (214, 228), (215, 66), (216, 33), (217, 61), (218, 26), (219, 21), (220, 40), (221, 32), (222, 211), (223, 67), (224, 239), (225, 29), (226, 138), (227, 57), (228, 144), (229, 1), (230, 145), (231, 140), (232, 234), (233, 19), (234, 201), (235, 227), (236, 39), (237, 141), (238, 65), (239, 198), (240, 44), (241, 22), (242, 139), (243, 126), (244, 221), (245, 58), (246, 18), (247, 243), (248, 37), (249, 8), (250, 17), (251, 47), (252, 60), (253, 233), (254, 46), (255, 5), (256, 25), (257, 207), (258, 64), (259, 132), (260, 206), (261, 68), (262, 45), (263, 212), (264, 59), (265, 16), (266, 208), (267, 133), (268, 205), (269, 226), (270, 204), (271, 242), (272, 12), (273, 199), (274, 31), (275, 200), (276, 215), (277, 241), (278, 9), (279, 219), (280, 3), (281, 38), (282, 2), (283, 30), (284, 240), (285, 11), (286, 69), (287, 213), (288, 24), (289, 214), (290, 63), (291, 220), (292, 10), (293, 23), (294, 4)]\n",
            "The top N records are : [(88, 293), (94, 292), (97, 291), (96, 290), (93, 289), (87, 288), (90, 287), (100, 286), (102, 285), (110, 284), (114, 283), (106, 282), (99, 281), (101, 280), (120, 279), (124, 278), (145, 277), (173, 276), (129, 275), (118, 274), (115, 273), (112, 272), (111, 271), (116, 270), (119, 269), (109, 268), (104, 267), (105, 266), (79, 265), (75, 264), (84, 263), (89, 262), (83, 261), (81, 260), (78, 259), (57, 258), (52, 257), (60, 256), (69, 255), (61, 254), (56, 253), (62, 252), (44, 251), (40, 250), (34, 249), (42, 248), (39, 247), (41, 246), (46, 245), (183, 244), (247, 243), (271, 242), (277, 241), (284, 240), (224, 239), (146, 238), (131, 237), (184, 236), (207, 235), (232, 234), (253, 233), (204, 232), (127, 231), (113, 230), (175, 229), (214, 228), (235, 227), (269, 226), (211, 225), (132, 224), (135, 223), (190, 222), (244, 221), (291, 220), (279, 219), (209, 218), (147, 217), (185, 216), (276, 215), (289, 214), (287, 213), (263, 212), (222, 211), (154, 210), (182, 209), (266, 208), (257, 207), (260, 206), (268, 205), (270, 204), (152, 203), (158, 202), (234, 201), (275, 200), (273, 199), (239, 198), (166, 197), (126, 196), (5, 195), (6, 194), (10, 193), (4, 192), (1, 191), (2, 190), (11, 189), (3, 188), (12, 187), (19, 186), (16, 185), (9, 184), (7, 183), (8, 182), (18, 181), (20, 180), (21, 179), (17, 178), (15, 177), (14, 176), (13, 175), (25, 174), (28, 173), (24, 172), (22, 171), (23, 170), (27, 169), (26, 168), (35, 167), (32, 166), (31, 165), (29, 164), (30, 163), (33, 162), (37, 161), (48, 160), (43, 159), (38, 158), (36, 157), (45, 156), (51, 155), (59, 154), (85, 153), (74, 152), (70, 151), (68, 150), (73, 149), (82, 148), (92, 147)]\n"
          ]
        }
      ],
      "source": [
        "y2_F=[]\n",
        "y2_SF=[]\n",
        "for i in range(len(y2_list)):\n",
        "  y2_F.append((i+1,y2_list[i]))\n",
        "# printing original list\n",
        "print(\"The original list is : \" + str(y2_F))\n",
        "# Get Top N elements from Records\n",
        "# Using sorted() + lambda\n",
        "y2_SF = sorted(y2_F, key = lambda x: x[1], reverse = True)[:N]\n",
        "# printing result\n",
        "print(\"The top N records are : \" + str(y2_SF))"
      ]
    },
    {
      "cell_type": "code",
      "execution_count": null,
      "metadata": {
        "colab": {
          "base_uri": "https://localhost:8080/"
        },
        "id": "gsXO1aYhkr6E",
        "outputId": "036b34d6-5443-486a-c4f8-cc5fbc1e5f81",
        "vscode": {
          "languageId": "python"
        }
      },
      "outputs": [
        {
          "name": "stdout",
          "output_type": "stream",
          "text": [
            "The original list is : [(1, 88), (2, 89), (3, 90), (4, 87), (5, 86), (6, 85), (7, 96), (8, 84), (9, 97), (10, 95), (11, 92), (12, 93), (13, 78), (14, 82), (15, 94), (16, 91), (17, 79), (18, 81), (19, 80), (20, 83), (21, 77), (22, 136), (23, 71), (24, 144), (25, 75), (26, 73), (27, 135), (28, 142), (29, 76), (30, 43), (31, 72), (32, 74), (33, 139), (34, 145), (35, 134), (36, 129), (37, 47), (38, 138), (39, 70), (40, 186), (41, 46), (42, 179), (43, 127), (44, 130), (45, 128), (46, 48), (47, 143), (48, 132), (49, 137), (50, 44), (51, 141), (52, 185), (53, 146), (54, 41), (55, 178), (56, 131), (57, 42), (58, 140), (59, 133), (60, 126), (61, 40), (62, 184), (63, 187), (64, 177), (65, 180), (66, 172), (67, 176), (68, 171), (69, 183), (70, 45), (71, 170), (72, 244), (73, 169), (74, 35), (75, 64), (76, 65), (77, 123), (78, 14), (79, 193), (80, 192), (81, 7), (82, 34), (83, 173), (84, 68), (85, 66), (86, 125), (87, 63), (88, 13), (89, 39), (90, 67), (91, 124), (92, 38), (93, 69), (94, 20), (95, 5), (96, 242), (97, 12), (98, 181), (99, 191), (100, 121), (101, 188), (102, 119), (103, 120), (104, 243), (105, 37), (106, 1), (107, 238), (108, 175), (109, 36), (110, 194), (111, 6), (112, 182), (113, 122), (114, 165), (115, 28), (116, 162), (117, 190), (118, 168), (119, 116), (120, 112), (121, 4), (122, 241), (123, 0), (124, 164), (125, 32), (126, 33), (127, 27), (128, 237), (129, 21), (130, 19), (131, 163), (132, 195), (133, 11), (134, 18), (135, 239), (136, 15), (137, 189), (138, 2), (139, 174), (140, 9), (141, 118), (142, 240), (143, 31), (144, 166), (145, 113), (146, 161), (147, 17), (148, 8), (149, 10), (150, 30), (151, 62), (152, 231), (153, 61), (154, 230), (155, 115), (156, 117), (157, 29), (158, 56), (159, 3), (160, 109), (161, 25), (162, 105), (163, 114), (164, 16), (165, 22), (166, 57), (167, 55), (168, 167), (169, 60), (170, 58), (171, 24), (172, 26), (173, 23), (174, 158), (175, 59), (176, 108), (177, 157), (178, 54), (179, 159), (180, 232), (181, 110), (182, 49), (183, 98), (184, 102), (185, 156), (186, 106), (187, 111), (188, 235), (189, 236), (190, 107), (191, 99), (192, 234), (193, 100), (194, 50), (195, 104), (196, 155), (197, 154), (198, 101), (199, 149), (200, 103), (201, 160), (202, 53), (203, 51), (204, 216), (205, 150), (206, 52), (207, 148), (208, 233), (209, 151), (210, 203), (211, 210), (212, 152), (213, 224), (214, 209), (215, 153), (216, 147), (217, 229), (218, 223), (219, 276), (220, 217), (221, 249), (222, 202), (223, 275), (224, 250), (225, 277), (226, 196), (227, 278), (228, 248), (229, 246), (230, 208), (231, 247), (232, 283), (233, 245), (234, 201), (235, 285), (236, 274), (237, 289), (238, 251), (239, 284), (240, 279), (241, 268), (242, 269), (243, 282), (244, 265), (245, 228), (246, 290), (247, 227), (248, 287), (249, 266), (250, 272), (251, 271), (252, 281), (253, 288), (254, 264), (255, 270), (256, 267), (257, 259), (258, 197), (259, 291), (260, 225), (261, 273), (262, 293), (263, 215), (264, 214), (265, 292), (266, 286), (267, 263), (268, 222), (269, 260), (270, 211), (271, 262), (272, 280), (273, 218), (274, 198), (275, 207), (276, 199), (277, 200), (278, 258), (279, 206), (280, 226), (281, 254), (282, 261), (283, 212), (284, 204), (285, 220), (286, 205), (287, 213), (288, 255), (289, 252), (290, 219), (291, 253), (292, 221), (293, 256), (294, 257)]\n",
            "The top N records are : [(262, 293), (265, 292), (259, 291), (246, 290), (237, 289), (253, 288), (248, 287), (266, 286), (235, 285), (239, 284), (232, 283), (243, 282), (252, 281), (272, 280), (240, 279), (227, 278), (225, 277), (219, 276), (223, 275), (236, 274), (261, 273), (250, 272), (251, 271), (255, 270), (242, 269), (241, 268), (256, 267), (249, 266), (244, 265), (254, 264), (267, 263), (271, 262), (282, 261), (269, 260), (257, 259), (278, 258), (294, 257), (293, 256), (288, 255), (281, 254), (291, 253), (289, 252), (238, 251), (224, 250), (221, 249), (228, 248), (231, 247), (229, 246), (233, 245), (72, 244), (104, 243), (96, 242), (122, 241), (142, 240), (135, 239), (107, 238), (128, 237), (189, 236), (188, 235), (192, 234), (208, 233), (180, 232), (152, 231), (154, 230), (217, 229), (245, 228), (247, 227), (280, 226), (260, 225), (213, 224), (218, 223), (268, 222), (292, 221), (285, 220), (290, 219), (273, 218), (220, 217), (204, 216), (263, 215), (264, 214), (287, 213), (283, 212), (270, 211), (211, 210), (214, 209), (230, 208), (275, 207), (279, 206), (286, 205), (284, 204), (210, 203), (222, 202), (234, 201), (277, 200), (276, 199), (274, 198), (258, 197), (226, 196), (132, 195), (110, 194), (79, 193), (80, 192), (99, 191), (117, 190), (137, 189), (101, 188), (63, 187), (40, 186), (52, 185), (62, 184), (69, 183), (112, 182), (98, 181), (65, 180), (42, 179), (55, 178), (64, 177), (67, 176), (108, 175), (139, 174), (83, 173), (66, 172), (68, 171), (71, 170), (73, 169), (118, 168), (168, 167), (144, 166), (114, 165), (124, 164), (131, 163), (116, 162), (146, 161), (201, 160), (179, 159), (174, 158), (177, 157), (185, 156), (196, 155), (197, 154), (215, 153), (212, 152), (209, 151), (205, 150), (199, 149), (207, 148), (216, 147)]\n"
          ]
        }
      ],
      "source": [
        "y3_F=[]\n",
        "y3_SF=[]\n",
        "for i in range(len(y3_list)):\n",
        "  y3_F.append((i+1,y3_list[i]))\n",
        "# printing original list\n",
        "print(\"The original list is : \" + str(y3_F))\n",
        "# Get Top N elements from Records\n",
        "# Using sorted() + lambda\n",
        "y3_SF = sorted(y3_F, key = lambda x: x[1], reverse = True)[:N]\n",
        "# printing result\n",
        "print(\"The top N records are : \" + str(y3_SF))"
      ]
    },
    {
      "cell_type": "code",
      "execution_count": null,
      "metadata": {
        "colab": {
          "base_uri": "https://localhost:8080/"
        },
        "id": "-e2nHo18lFuf",
        "outputId": "d6560d98-c0dd-47f7-dadc-e4c21ffdcafc",
        "vscode": {
          "languageId": "python"
        }
      },
      "outputs": [
        {
          "name": "stdout",
          "output_type": "stream",
          "text": [
            "The original list is : [(1, 62), (2, 61), (3, 54), (4, 53), (5, 60), (6, 50), (7, 51), (8, 52), (9, 59), (10, 56), (11, 49), (12, 55), (13, 57), (14, 58), (15, 63), (16, 65), (17, 64), (18, 67), (19, 69), (20, 68), (21, 66), (22, 157), (23, 158), (24, 151), (25, 150), (26, 149), (27, 159), (28, 152), (29, 148), (30, 147), (31, 156), (32, 160), (33, 155), (34, 153), (35, 154), (36, 70), (37, 76), (38, 164), (39, 75), (40, 71), (41, 163), (42, 72), (43, 74), (44, 165), (45, 162), (46, 161), (47, 73), (48, 166), (49, 168), (50, 178), (51, 167), (52, 171), (53, 170), (54, 177), (55, 169), (56, 179), (57, 176), (58, 258), (59, 172), (60, 257), (61, 175), (62, 292), (63, 293), (64, 252), (65, 174), (66, 291), (67, 290), (68, 288), (69, 173), (70, 289), (71, 180), (72, 253), (73, 256), (74, 255), (75, 181), (76, 254), (77, 186), (78, 207), (79, 209), (80, 259), (81, 185), (82, 205), (83, 287), (84, 208), (85, 204), (86, 260), (87, 184), (88, 251), (89, 198), (90, 283), (91, 203), (92, 284), (93, 250), (94, 182), (95, 206), (96, 183), (97, 187), (98, 285), (99, 199), (100, 249), (101, 245), (102, 246), (103, 265), (104, 188), (105, 261), (106, 197), (107, 201), (108, 247), (109, 282), (110, 200), (111, 281), (112, 248), (113, 286), (114, 264), (115, 263), (116, 27), (117, 202), (118, 280), (119, 192), (120, 262), (121, 195), (122, 196), (123, 189), (124, 191), (125, 190), (126, 193), (127, 194), (128, 26), (129, 266), (130, 212), (131, 211), (132, 25), (133, 213), (134, 137), (135, 136), (136, 22), (137, 20), (138, 138), (139, 19), (140, 214), (141, 277), (142, 273), (143, 143), (144, 24), (145, 267), (146, 278), (147, 135), (148, 21), (149, 210), (150, 144), (151, 18), (152, 130), (153, 274), (154, 145), (155, 83), (156, 134), (157, 133), (158, 77), (159, 146), (160, 142), (161, 129), (162, 16), (163, 272), (164, 271), (165, 141), (166, 269), (167, 128), (168, 270), (169, 23), (170, 275), (171, 268), (172, 78), (173, 215), (174, 139), (175, 127), (176, 82), (177, 112), (178, 140), (179, 17), (180, 276), (181, 279), (182, 79), (183, 81), (184, 241), (185, 126), (186, 108), (187, 109), (188, 46), (189, 114), (190, 119), (191, 34), (192, 122), (193, 111), (194, 131), (195, 45), (196, 235), (197, 216), (198, 115), (199, 233), (200, 80), (201, 14), (202, 243), (203, 105), (204, 107), (205, 242), (206, 113), (207, 47), (208, 28), (209, 234), (210, 116), (211, 110), (212, 120), (213, 220), (214, 32), (215, 15), (216, 217), (217, 125), (218, 121), (219, 33), (220, 123), (221, 244), (222, 221), (223, 106), (224, 29), (225, 219), (226, 240), (227, 218), (228, 100), (229, 232), (230, 44), (231, 101), (232, 118), (233, 30), (234, 236), (235, 117), (236, 231), (237, 99), (238, 228), (239, 104), (240, 239), (241, 13), (242, 31), (243, 95), (244, 94), (245, 225), (246, 132), (247, 96), (248, 97), (249, 224), (250, 222), (251, 102), (252, 229), (253, 43), (254, 93), (255, 103), (256, 48), (257, 124), (258, 91), (259, 92), (260, 223), (261, 237), (262, 12), (263, 8), (264, 226), (265, 98), (266, 10), (267, 238), (268, 227), (269, 39), (270, 87), (271, 88), (272, 0), (273, 5), (274, 230), (275, 38), (276, 41), (277, 1), (278, 9), (279, 36), (280, 7), (281, 3), (282, 86), (283, 37), (284, 89), (285, 11), (286, 6), (287, 35), (288, 40), (289, 90), (290, 84), (291, 85), (292, 42), (293, 2), (294, 4)]\n",
            "The top N records are : [(63, 293), (62, 292), (66, 291), (67, 290), (70, 289), (68, 288), (83, 287), (113, 286), (98, 285), (92, 284), (90, 283), (109, 282), (111, 281), (118, 280), (181, 279), (146, 278), (141, 277), (180, 276), (170, 275), (153, 274), (142, 273), (163, 272), (164, 271), (168, 270), (166, 269), (171, 268), (145, 267), (129, 266), (103, 265), (114, 264), (115, 263), (120, 262), (105, 261), (86, 260), (80, 259), (58, 258), (60, 257), (73, 256), (74, 255), (76, 254), (72, 253), (64, 252), (88, 251), (93, 250), (100, 249), (112, 248), (108, 247), (102, 246), (101, 245), (221, 244), (202, 243), (205, 242), (184, 241), (226, 240), (240, 239), (267, 238), (261, 237), (234, 236), (196, 235), (209, 234), (199, 233), (229, 232), (236, 231), (274, 230), (252, 229), (238, 228), (268, 227), (264, 226), (245, 225), (249, 224), (260, 223), (250, 222), (222, 221), (213, 220), (225, 219), (227, 218), (216, 217), (197, 216), (173, 215), (140, 214), (133, 213), (130, 212), (131, 211), (149, 210), (79, 209), (84, 208), (78, 207), (95, 206), (82, 205), (85, 204), (91, 203), (117, 202), (107, 201), (110, 200), (99, 199), (89, 198), (106, 197), (122, 196), (121, 195), (127, 194), (126, 193), (119, 192), (124, 191), (125, 190), (123, 189), (104, 188), (97, 187), (77, 186), (81, 185), (87, 184), (96, 183), (94, 182), (75, 181), (71, 180), (56, 179), (50, 178), (54, 177), (57, 176), (61, 175), (65, 174), (69, 173), (59, 172), (52, 171), (53, 170), (55, 169), (49, 168), (51, 167), (48, 166), (44, 165), (38, 164), (41, 163), (45, 162), (46, 161), (32, 160), (27, 159), (23, 158), (22, 157), (31, 156), (33, 155), (35, 154), (34, 153), (28, 152), (24, 151), (25, 150), (26, 149), (29, 148), (30, 147)]\n"
          ]
        }
      ],
      "source": [
        "y4_F=[]\n",
        "y4_SF=[]\n",
        "for i in range(len(y4_list)):\n",
        "  y4_F.append((i+1,y4_list[i]))\n",
        "# printing original list\n",
        "print(\"The original list is : \" + str(y4_F))\n",
        "# Get Top N elements from Records\n",
        "# Using sorted() + lambda\n",
        "y4_SF = sorted(y4_F, key = lambda x: x[1], reverse = True)[:N]\n",
        "# printing result\n",
        "print(\"The top N records are : \" + str(y4_SF))"
      ]
    },
    {
      "cell_type": "code",
      "execution_count": null,
      "metadata": {
        "colab": {
          "base_uri": "https://localhost:8080/"
        },
        "id": "YvwymjRWlOkb",
        "outputId": "5dc7c148-d42b-4974-bb93-ed2f3c570578",
        "vscode": {
          "languageId": "python"
        }
      },
      "outputs": [
        {
          "name": "stdout",
          "output_type": "stream",
          "text": [
            "The original list is : [(1, 80), (2, 81), (3, 82), (4, 79), (5, 73), (6, 88), (7, 89), (8, 87), (9, 193), (10, 90), (11, 86), (12, 74), (13, 78), (14, 192), (15, 72), (16, 194), (17, 186), (18, 171), (19, 185), (20, 95), (21, 83), (22, 85), (23, 191), (24, 187), (25, 96), (26, 94), (27, 97), (28, 190), (29, 93), (30, 184), (31, 195), (32, 75), (33, 172), (34, 84), (35, 178), (36, 170), (37, 92), (38, 77), (39, 177), (40, 179), (41, 164), (42, 189), (43, 183), (44, 91), (45, 71), (46, 188), (47, 180), (48, 176), (49, 165), (50, 163), (51, 66), (52, 182), (53, 65), (54, 173), (55, 169), (56, 76), (57, 181), (58, 70), (59, 166), (60, 175), (61, 64), (62, 67), (63, 157), (64, 162), (65, 156), (66, 158), (67, 272), (68, 265), (69, 242), (70, 241), (71, 123), (72, 121), (73, 122), (74, 128), (75, 266), (76, 174), (77, 282), (78, 124), (79, 114), (80, 159), (81, 283), (82, 120), (83, 63), (84, 271), (85, 129), (86, 284), (87, 240), (88, 115), (89, 116), (90, 168), (91, 68), (92, 127), (93, 69), (94, 136), (95, 289), (96, 288), (97, 46), (98, 117), (99, 144), (100, 135), (101, 264), (102, 270), (103, 143), (104, 167), (105, 150), (106, 269), (107, 292), (108, 260), (109, 259), (110, 267), (111, 60), (112, 290), (113, 291), (114, 145), (115, 130), (116, 263), (117, 134), (118, 281), (119, 287), (120, 137), (121, 59), (122, 261), (123, 155), (124, 47), (125, 268), (126, 125), (127, 58), (128, 151), (129, 293), (130, 119), (131, 113), (132, 142), (133, 285), (134, 45), (135, 61), (136, 161), (137, 107), (138, 131), (139, 262), (140, 160), (141, 141), (142, 126), (143, 243), (144, 108), (145, 118), (146, 149), (147, 57), (148, 138), (149, 44), (150, 62), (151, 110), (152, 109), (153, 112), (154, 152), (155, 43), (156, 258), (157, 252), (158, 56), (159, 111), (160, 146), (161, 48), (162, 140), (163, 101), (164, 132), (165, 139), (166, 148), (167, 257), (168, 154), (169, 253), (170, 254), (171, 280), (172, 239), (173, 38), (174, 106), (175, 42), (176, 286), (177, 54), (178, 39), (179, 256), (180, 30), (181, 100), (182, 102), (183, 133), (184, 234), (185, 55), (186, 23), (187, 105), (188, 153), (189, 53), (190, 238), (191, 24), (192, 31), (193, 255), (194, 32), (195, 52), (196, 279), (197, 104), (198, 51), (199, 244), (200, 235), (201, 103), (202, 98), (203, 220), (204, 40), (205, 147), (206, 99), (207, 22), (208, 50), (209, 273), (210, 49), (211, 37), (212, 214), (213, 29), (214, 245), (215, 33), (216, 27), (217, 36), (218, 251), (219, 16), (220, 246), (221, 25), (222, 224), (223, 247), (224, 21), (225, 250), (226, 17), (227, 213), (228, 233), (229, 227), (230, 230), (231, 41), (232, 206), (233, 248), (234, 34), (235, 249), (236, 35), (237, 26), (238, 207), (239, 278), (240, 221), (241, 215), (242, 12), (243, 274), (244, 18), (245, 14), (246, 212), (247, 232), (248, 219), (249, 210), (250, 198), (251, 19), (252, 216), (253, 237), (254, 15), (255, 231), (256, 218), (257, 226), (258, 28), (259, 236), (260, 208), (261, 228), (262, 205), (263, 201), (264, 13), (265, 199), (266, 3), (267, 217), (268, 196), (269, 2), (270, 5), (271, 225), (272, 7), (273, 11), (274, 275), (275, 223), (276, 1), (277, 203), (278, 202), (279, 222), (280, 197), (281, 277), (282, 9), (283, 200), (284, 229), (285, 211), (286, 209), (287, 0), (288, 20), (289, 8), (290, 6), (291, 10), (292, 204), (293, 4), (294, 276)]\n",
            "The top N records are : [(129, 293), (107, 292), (113, 291), (112, 290), (95, 289), (96, 288), (119, 287), (176, 286), (133, 285), (86, 284), (81, 283), (77, 282), (118, 281), (171, 280), (196, 279), (239, 278), (281, 277), (294, 276), (274, 275), (243, 274), (209, 273), (67, 272), (84, 271), (102, 270), (106, 269), (125, 268), (110, 267), (75, 266), (68, 265), (101, 264), (116, 263), (139, 262), (122, 261), (108, 260), (109, 259), (156, 258), (167, 257), (179, 256), (193, 255), (170, 254), (169, 253), (157, 252), (218, 251), (225, 250), (235, 249), (233, 248), (223, 247), (220, 246), (214, 245), (199, 244), (143, 243), (69, 242), (70, 241), (87, 240), (172, 239), (190, 238), (253, 237), (259, 236), (200, 235), (184, 234), (228, 233), (247, 232), (255, 231), (230, 230), (284, 229), (261, 228), (229, 227), (257, 226), (271, 225), (222, 224), (275, 223), (279, 222), (240, 221), (203, 220), (248, 219), (256, 218), (267, 217), (252, 216), (241, 215), (212, 214), (227, 213), (246, 212), (285, 211), (249, 210), (286, 209), (260, 208), (238, 207), (232, 206), (262, 205), (292, 204), (277, 203), (278, 202), (263, 201), (283, 200), (265, 199), (250, 198), (280, 197), (268, 196), (31, 195), (16, 194), (9, 193), (14, 192), (23, 191), (28, 190), (42, 189), (46, 188), (24, 187), (17, 186), (19, 185), (30, 184), (43, 183), (52, 182), (57, 181), (47, 180), (40, 179), (35, 178), (39, 177), (48, 176), (60, 175), (76, 174), (54, 173), (33, 172), (18, 171), (36, 170), (55, 169), (90, 168), (104, 167), (59, 166), (49, 165), (41, 164), (50, 163), (64, 162), (136, 161), (140, 160), (80, 159), (66, 158), (63, 157), (65, 156), (123, 155), (168, 154), (188, 153), (154, 152), (128, 151), (105, 150), (146, 149), (166, 148), (205, 147)]\n"
          ]
        }
      ],
      "source": [
        "y5_F=[]\n",
        "y5_SF=[]\n",
        "for i in range(len(y5_list)):\n",
        "  y5_F.append((i+1,y5_list[i]))\n",
        "# printing original list\n",
        "print(\"The original list is : \" + str(y5_F))\n",
        "# Get Top N elements from Records\n",
        "# Using sorted() + lambda\n",
        "y5_SF = sorted(y5_F, key = lambda x: x[1], reverse = True)[:N]\n",
        "# printing result\n",
        "print(\"The top N records are : \" + str(y5_SF))"
      ]
    },
    {
      "cell_type": "code",
      "execution_count": null,
      "metadata": {
        "colab": {
          "base_uri": "https://localhost:8080/"
        },
        "id": "SKKPFJ3tlWQ6",
        "outputId": "960e5f40-c9ab-46a0-8849-56bba83acb8c",
        "vscode": {
          "languageId": "python"
        }
      },
      "outputs": [
        {
          "name": "stdout",
          "output_type": "stream",
          "text": [
            "The original list is : [(1, 50), (2, 54), (3, 53), (4, 55), (5, 49), (6, 52), (7, 51), (8, 68), (9, 62), (10, 60), (11, 61), (12, 205), (13, 69), (14, 206), (15, 67), (16, 56), (17, 57), (18, 59), (19, 76), (20, 58), (21, 198), (22, 75), (23, 63), (24, 83), (25, 78), (26, 204), (27, 65), (28, 64), (29, 197), (30, 71), (31, 82), (32, 70), (33, 66), (34, 85), (35, 79), (36, 72), (37, 77), (38, 74), (39, 81), (40, 90), (41, 207), (42, 89), (43, 199), (44, 203), (45, 73), (46, 86), (47, 200), (48, 202), (49, 209), (50, 84), (51, 80), (52, 92), (53, 93), (54, 196), (55, 88), (56, 201), (57, 95), (58, 94), (59, 208), (60, 97), (61, 96), (62, 87), (63, 191), (64, 213), (65, 211), (66, 91), (67, 190), (68, 193), (69, 212), (70, 192), (71, 188), (72, 183), (73, 214), (74, 195), (75, 194), (76, 184), (77, 187), (78, 182), (79, 181), (80, 186), (81, 176), (82, 175), (83, 189), (84, 180), (85, 210), (86, 177), (87, 185), (88, 179), (89, 178), (90, 215), (91, 174), (92, 216), (93, 168), (94, 173), (95, 171), (96, 172), (97, 170), (98, 169), (99, 218), (100, 25), (101, 24), (102, 272), (103, 221), (104, 41), (105, 161), (106, 129), (107, 27), (108, 26), (109, 122), (110, 279), (111, 23), (112, 163), (113, 220), (114, 165), (115, 31), (116, 30), (117, 22), (118, 123), (119, 162), (120, 219), (121, 167), (122, 34), (123, 164), (124, 121), (125, 124), (126, 166), (127, 33), (128, 273), (129, 40), (130, 217), (131, 128), (132, 32), (133, 28), (134, 125), (135, 227), (136, 228), (137, 266), (138, 35), (139, 154), (140, 255), (141, 114), (142, 48), (143, 267), (144, 131), (145, 130), (146, 21), (147, 234), (148, 158), (149, 222), (150, 43), (151, 159), (152, 136), (153, 155), (154, 271), (155, 29), (156, 127), (157, 139), (158, 274), (159, 47), (160, 160), (161, 112), (162, 149), (163, 156), (164, 135), (165, 20), (166, 132), (167, 115), (168, 147), (169, 268), (170, 153), (171, 148), (172, 18), (173, 19), (174, 42), (175, 142), (176, 137), (177, 38), (178, 150), (179, 120), (180, 116), (181, 17), (182, 248), (183, 36), (184, 126), (185, 119), (186, 157), (187, 249), (188, 118), (189, 278), (190, 152), (191, 138), (192, 226), (193, 245), (194, 265), (195, 16), (196, 246), (197, 250), (198, 146), (199, 113), (200, 151), (201, 39), (202, 134), (203, 144), (204, 233), (205, 270), (206, 37), (207, 145), (208, 235), (209, 140), (210, 247), (211, 256), (212, 229), (213, 44), (214, 143), (215, 269), (216, 254), (217, 117), (218, 133), (219, 225), (220, 275), (221, 286), (222, 15), (223, 14), (224, 241), (225, 223), (226, 141), (227, 10), (228, 251), (229, 46), (230, 11), (231, 280), (232, 257), (233, 253), (234, 276), (235, 12), (236, 9), (237, 236), (238, 105), (239, 277), (240, 232), (241, 237), (242, 264), (243, 8), (244, 240), (245, 281), (246, 109), (247, 252), (248, 224), (249, 101), (250, 13), (251, 244), (252, 285), (253, 102), (254, 107), (255, 111), (256, 259), (257, 98), (258, 110), (259, 293), (260, 7), (261, 6), (262, 4), (263, 106), (264, 260), (265, 283), (266, 45), (267, 287), (268, 258), (269, 108), (270, 288), (271, 292), (272, 3), (273, 1), (274, 261), (275, 263), (276, 262), (277, 0), (278, 230), (279, 99), (280, 100), (281, 243), (282, 242), (283, 289), (284, 238), (285, 284), (286, 282), (287, 231), (288, 291), (289, 290), (290, 103), (291, 2), (292, 5), (293, 239), (294, 104)]\n",
            "The top N records are : [(259, 293), (271, 292), (288, 291), (289, 290), (283, 289), (270, 288), (267, 287), (221, 286), (252, 285), (285, 284), (265, 283), (286, 282), (245, 281), (231, 280), (110, 279), (189, 278), (239, 277), (234, 276), (220, 275), (158, 274), (128, 273), (102, 272), (154, 271), (205, 270), (215, 269), (169, 268), (143, 267), (137, 266), (194, 265), (242, 264), (275, 263), (276, 262), (274, 261), (264, 260), (256, 259), (268, 258), (232, 257), (211, 256), (140, 255), (216, 254), (233, 253), (247, 252), (228, 251), (197, 250), (187, 249), (182, 248), (210, 247), (196, 246), (193, 245), (251, 244), (281, 243), (282, 242), (224, 241), (244, 240), (293, 239), (284, 238), (241, 237), (237, 236), (208, 235), (147, 234), (204, 233), (240, 232), (287, 231), (278, 230), (212, 229), (136, 228), (135, 227), (192, 226), (219, 225), (248, 224), (225, 223), (149, 222), (103, 221), (113, 220), (120, 219), (99, 218), (130, 217), (92, 216), (90, 215), (73, 214), (64, 213), (69, 212), (65, 211), (85, 210), (49, 209), (59, 208), (41, 207), (14, 206), (12, 205), (26, 204), (44, 203), (48, 202), (56, 201), (47, 200), (43, 199), (21, 198), (29, 197), (54, 196), (74, 195), (75, 194), (68, 193), (70, 192), (63, 191), (67, 190), (83, 189), (71, 188), (77, 187), (80, 186), (87, 185), (76, 184), (72, 183), (78, 182), (79, 181), (84, 180), (88, 179), (89, 178), (86, 177), (81, 176), (82, 175), (91, 174), (94, 173), (96, 172), (95, 171), (97, 170), (98, 169), (93, 168), (121, 167), (126, 166), (114, 165), (123, 164), (112, 163), (119, 162), (105, 161), (160, 160), (151, 159), (148, 158), (186, 157), (163, 156), (153, 155), (139, 154), (170, 153), (190, 152), (200, 151), (178, 150), (162, 149), (171, 148), (168, 147)]\n"
          ]
        }
      ],
      "source": [
        "y6_F=[]\n",
        "y6_SF=[]\n",
        "for i in range(len(y6_list)):\n",
        "  y6_F.append((i+1,y6_list[i]))\n",
        "# printing original list\n",
        "print(\"The original list is : \" + str(y6_F))\n",
        "# Get Top N elements from Records\n",
        "# Using sorted() + lambda\n",
        "y6_SF = sorted(y6_F, key = lambda x: x[1], reverse = True)[:N]\n",
        "# printing result\n",
        "print(\"The top N records are : \" + str(y6_SF))"
      ]
    },
    {
      "cell_type": "code",
      "execution_count": null,
      "metadata": {
        "id": "Um330vlQldX1",
        "vscode": {
          "languageId": "python"
        }
      },
      "outputs": [],
      "source": [
        "dic_features={}\n",
        "dic_features.update({1 : y1_SF})\n",
        "dic_features.update({2: y2_SF})\n",
        "dic_features.update({3 : y3_SF})\n",
        "dic_features.update({4 : y4_SF})\n",
        "dic_features.update({5 : y5_SF})\n",
        "dic_features.update({6 : y6_SF})"
      ]
    },
    {
      "cell_type": "code",
      "execution_count": null,
      "metadata": {
        "colab": {
          "base_uri": "https://localhost:8080/"
        },
        "id": "rt9EWBAnljpx",
        "outputId": "77d509be-4b7f-4576-e62f-ebcf6cb86b13",
        "vscode": {
          "languageId": "python"
        }
      },
      "outputs": [
        {
          "name": "stdout",
          "output_type": "stream",
          "text": [
            "1\n",
            "[(142, 293), (127, 292), (122, 291), (128, 290), (117, 289), (134, 288), (146, 287), (185, 286), (172, 285), (156, 284), (154, 283), (151, 282), (150, 281), (170, 280), (260, 279), (248, 278), (289, 277), (293, 276), (281, 275), (286, 274), (294, 273), (101, 272), (91, 271), (92, 270), (93, 269), (95, 268), (102, 267), (100, 266), (20, 265), (15, 264), (16, 263), (17, 262), (32, 261), (27, 260), (28, 259), (13, 258), (10, 257), (2, 256), (3, 255), (5, 254), (7, 253), (14, 252), (12, 251), (11, 250), (9, 249), (6, 248), (4, 247), (1, 246), (8, 245), (220, 244), (268, 243), (292, 242), (209, 241), (215, 240), (278, 239), (255, 238), (228, 237), (264, 236), (274, 235), (221, 234), (237, 233), (267, 232), (253, 231), (288, 230), (247, 229), (254, 228), (206, 227), (230, 226), (258, 225), (243, 224), (273, 223), (238, 222), (252, 221), (240, 220), (216, 219), (232, 218), (223, 217), (155, 216), (153, 215), (188, 214), (178, 213), (186, 212), (184, 211), (158, 210), (140, 209), (131, 208), (123, 207), (125, 206), (119, 205), (135, 204), (139, 203), (130, 202), (137, 201), (121, 200), (129, 199), (149, 198), (166, 197), (180, 196), (63, 195), (45, 194), (41, 193), (38, 192), (40, 191), (47, 190), (50, 189), (53, 188), (39, 187), (35, 186), (25, 185), (34, 184), (42, 183), (60, 182), (72, 181), (67, 180), (52, 179), (49, 178), (70, 177), (68, 176), (71, 175), (76, 174), (78, 173), (80, 172), (85, 171), (83, 170), (77, 169), (74, 168), (111, 167), (113, 166), (118, 165), (124, 164), (136, 163), (112, 162), (104, 161), (212, 160), (227, 159), (242, 158), (251, 157), (275, 156), (257, 155), (235, 154), (213, 153), (204, 152), (194, 151), (199, 150), (193, 149), (191, 148), (203, 147)]\n",
            "2\n",
            "[(88, 293), (94, 292), (97, 291), (96, 290), (93, 289), (87, 288), (90, 287), (100, 286), (102, 285), (110, 284), (114, 283), (106, 282), (99, 281), (101, 280), (120, 279), (124, 278), (145, 277), (173, 276), (129, 275), (118, 274), (115, 273), (112, 272), (111, 271), (116, 270), (119, 269), (109, 268), (104, 267), (105, 266), (79, 265), (75, 264), (84, 263), (89, 262), (83, 261), (81, 260), (78, 259), (57, 258), (52, 257), (60, 256), (69, 255), (61, 254), (56, 253), (62, 252), (44, 251), (40, 250), (34, 249), (42, 248), (39, 247), (41, 246), (46, 245), (183, 244), (247, 243), (271, 242), (277, 241), (284, 240), (224, 239), (146, 238), (131, 237), (184, 236), (207, 235), (232, 234), (253, 233), (204, 232), (127, 231), (113, 230), (175, 229), (214, 228), (235, 227), (269, 226), (211, 225), (132, 224), (135, 223), (190, 222), (244, 221), (291, 220), (279, 219), (209, 218), (147, 217), (185, 216), (276, 215), (289, 214), (287, 213), (263, 212), (222, 211), (154, 210), (182, 209), (266, 208), (257, 207), (260, 206), (268, 205), (270, 204), (152, 203), (158, 202), (234, 201), (275, 200), (273, 199), (239, 198), (166, 197), (126, 196), (5, 195), (6, 194), (10, 193), (4, 192), (1, 191), (2, 190), (11, 189), (3, 188), (12, 187), (19, 186), (16, 185), (9, 184), (7, 183), (8, 182), (18, 181), (20, 180), (21, 179), (17, 178), (15, 177), (14, 176), (13, 175), (25, 174), (28, 173), (24, 172), (22, 171), (23, 170), (27, 169), (26, 168), (35, 167), (32, 166), (31, 165), (29, 164), (30, 163), (33, 162), (37, 161), (48, 160), (43, 159), (38, 158), (36, 157), (45, 156), (51, 155), (59, 154), (85, 153), (74, 152), (70, 151), (68, 150), (73, 149), (82, 148), (92, 147)]\n",
            "3\n",
            "[(262, 293), (265, 292), (259, 291), (246, 290), (237, 289), (253, 288), (248, 287), (266, 286), (235, 285), (239, 284), (232, 283), (243, 282), (252, 281), (272, 280), (240, 279), (227, 278), (225, 277), (219, 276), (223, 275), (236, 274), (261, 273), (250, 272), (251, 271), (255, 270), (242, 269), (241, 268), (256, 267), (249, 266), (244, 265), (254, 264), (267, 263), (271, 262), (282, 261), (269, 260), (257, 259), (278, 258), (294, 257), (293, 256), (288, 255), (281, 254), (291, 253), (289, 252), (238, 251), (224, 250), (221, 249), (228, 248), (231, 247), (229, 246), (233, 245), (72, 244), (104, 243), (96, 242), (122, 241), (142, 240), (135, 239), (107, 238), (128, 237), (189, 236), (188, 235), (192, 234), (208, 233), (180, 232), (152, 231), (154, 230), (217, 229), (245, 228), (247, 227), (280, 226), (260, 225), (213, 224), (218, 223), (268, 222), (292, 221), (285, 220), (290, 219), (273, 218), (220, 217), (204, 216), (263, 215), (264, 214), (287, 213), (283, 212), (270, 211), (211, 210), (214, 209), (230, 208), (275, 207), (279, 206), (286, 205), (284, 204), (210, 203), (222, 202), (234, 201), (277, 200), (276, 199), (274, 198), (258, 197), (226, 196), (132, 195), (110, 194), (79, 193), (80, 192), (99, 191), (117, 190), (137, 189), (101, 188), (63, 187), (40, 186), (52, 185), (62, 184), (69, 183), (112, 182), (98, 181), (65, 180), (42, 179), (55, 178), (64, 177), (67, 176), (108, 175), (139, 174), (83, 173), (66, 172), (68, 171), (71, 170), (73, 169), (118, 168), (168, 167), (144, 166), (114, 165), (124, 164), (131, 163), (116, 162), (146, 161), (201, 160), (179, 159), (174, 158), (177, 157), (185, 156), (196, 155), (197, 154), (215, 153), (212, 152), (209, 151), (205, 150), (199, 149), (207, 148), (216, 147)]\n",
            "4\n",
            "[(63, 293), (62, 292), (66, 291), (67, 290), (70, 289), (68, 288), (83, 287), (113, 286), (98, 285), (92, 284), (90, 283), (109, 282), (111, 281), (118, 280), (181, 279), (146, 278), (141, 277), (180, 276), (170, 275), (153, 274), (142, 273), (163, 272), (164, 271), (168, 270), (166, 269), (171, 268), (145, 267), (129, 266), (103, 265), (114, 264), (115, 263), (120, 262), (105, 261), (86, 260), (80, 259), (58, 258), (60, 257), (73, 256), (74, 255), (76, 254), (72, 253), (64, 252), (88, 251), (93, 250), (100, 249), (112, 248), (108, 247), (102, 246), (101, 245), (221, 244), (202, 243), (205, 242), (184, 241), (226, 240), (240, 239), (267, 238), (261, 237), (234, 236), (196, 235), (209, 234), (199, 233), (229, 232), (236, 231), (274, 230), (252, 229), (238, 228), (268, 227), (264, 226), (245, 225), (249, 224), (260, 223), (250, 222), (222, 221), (213, 220), (225, 219), (227, 218), (216, 217), (197, 216), (173, 215), (140, 214), (133, 213), (130, 212), (131, 211), (149, 210), (79, 209), (84, 208), (78, 207), (95, 206), (82, 205), (85, 204), (91, 203), (117, 202), (107, 201), (110, 200), (99, 199), (89, 198), (106, 197), (122, 196), (121, 195), (127, 194), (126, 193), (119, 192), (124, 191), (125, 190), (123, 189), (104, 188), (97, 187), (77, 186), (81, 185), (87, 184), (96, 183), (94, 182), (75, 181), (71, 180), (56, 179), (50, 178), (54, 177), (57, 176), (61, 175), (65, 174), (69, 173), (59, 172), (52, 171), (53, 170), (55, 169), (49, 168), (51, 167), (48, 166), (44, 165), (38, 164), (41, 163), (45, 162), (46, 161), (32, 160), (27, 159), (23, 158), (22, 157), (31, 156), (33, 155), (35, 154), (34, 153), (28, 152), (24, 151), (25, 150), (26, 149), (29, 148), (30, 147)]\n",
            "5\n",
            "[(129, 293), (107, 292), (113, 291), (112, 290), (95, 289), (96, 288), (119, 287), (176, 286), (133, 285), (86, 284), (81, 283), (77, 282), (118, 281), (171, 280), (196, 279), (239, 278), (281, 277), (294, 276), (274, 275), (243, 274), (209, 273), (67, 272), (84, 271), (102, 270), (106, 269), (125, 268), (110, 267), (75, 266), (68, 265), (101, 264), (116, 263), (139, 262), (122, 261), (108, 260), (109, 259), (156, 258), (167, 257), (179, 256), (193, 255), (170, 254), (169, 253), (157, 252), (218, 251), (225, 250), (235, 249), (233, 248), (223, 247), (220, 246), (214, 245), (199, 244), (143, 243), (69, 242), (70, 241), (87, 240), (172, 239), (190, 238), (253, 237), (259, 236), (200, 235), (184, 234), (228, 233), (247, 232), (255, 231), (230, 230), (284, 229), (261, 228), (229, 227), (257, 226), (271, 225), (222, 224), (275, 223), (279, 222), (240, 221), (203, 220), (248, 219), (256, 218), (267, 217), (252, 216), (241, 215), (212, 214), (227, 213), (246, 212), (285, 211), (249, 210), (286, 209), (260, 208), (238, 207), (232, 206), (262, 205), (292, 204), (277, 203), (278, 202), (263, 201), (283, 200), (265, 199), (250, 198), (280, 197), (268, 196), (31, 195), (16, 194), (9, 193), (14, 192), (23, 191), (28, 190), (42, 189), (46, 188), (24, 187), (17, 186), (19, 185), (30, 184), (43, 183), (52, 182), (57, 181), (47, 180), (40, 179), (35, 178), (39, 177), (48, 176), (60, 175), (76, 174), (54, 173), (33, 172), (18, 171), (36, 170), (55, 169), (90, 168), (104, 167), (59, 166), (49, 165), (41, 164), (50, 163), (64, 162), (136, 161), (140, 160), (80, 159), (66, 158), (63, 157), (65, 156), (123, 155), (168, 154), (188, 153), (154, 152), (128, 151), (105, 150), (146, 149), (166, 148), (205, 147)]\n",
            "6\n",
            "[(259, 293), (271, 292), (288, 291), (289, 290), (283, 289), (270, 288), (267, 287), (221, 286), (252, 285), (285, 284), (265, 283), (286, 282), (245, 281), (231, 280), (110, 279), (189, 278), (239, 277), (234, 276), (220, 275), (158, 274), (128, 273), (102, 272), (154, 271), (205, 270), (215, 269), (169, 268), (143, 267), (137, 266), (194, 265), (242, 264), (275, 263), (276, 262), (274, 261), (264, 260), (256, 259), (268, 258), (232, 257), (211, 256), (140, 255), (216, 254), (233, 253), (247, 252), (228, 251), (197, 250), (187, 249), (182, 248), (210, 247), (196, 246), (193, 245), (251, 244), (281, 243), (282, 242), (224, 241), (244, 240), (293, 239), (284, 238), (241, 237), (237, 236), (208, 235), (147, 234), (204, 233), (240, 232), (287, 231), (278, 230), (212, 229), (136, 228), (135, 227), (192, 226), (219, 225), (248, 224), (225, 223), (149, 222), (103, 221), (113, 220), (120, 219), (99, 218), (130, 217), (92, 216), (90, 215), (73, 214), (64, 213), (69, 212), (65, 211), (85, 210), (49, 209), (59, 208), (41, 207), (14, 206), (12, 205), (26, 204), (44, 203), (48, 202), (56, 201), (47, 200), (43, 199), (21, 198), (29, 197), (54, 196), (74, 195), (75, 194), (68, 193), (70, 192), (63, 191), (67, 190), (83, 189), (71, 188), (77, 187), (80, 186), (87, 185), (76, 184), (72, 183), (78, 182), (79, 181), (84, 180), (88, 179), (89, 178), (86, 177), (81, 176), (82, 175), (91, 174), (94, 173), (96, 172), (95, 171), (97, 170), (98, 169), (93, 168), (121, 167), (126, 166), (114, 165), (123, 164), (112, 163), (119, 162), (105, 161), (160, 160), (151, 159), (148, 158), (186, 157), (163, 156), (153, 155), (139, 154), (170, 153), (190, 152), (200, 151), (178, 150), (162, 149), (171, 148), (168, 147)]\n"
          ]
        }
      ],
      "source": [
        "for keys, items in dic_features.items():\n",
        "  print(keys)\n",
        "  print(items)"
      ]
    },
    {
      "cell_type": "code",
      "execution_count": null,
      "metadata": {
        "id": "0wXomiEIlpnv",
        "vscode": {
          "languageId": "python"
        }
      },
      "outputs": [],
      "source": [
        "features=[]\n",
        "for feature,score in y1_SF:\n",
        "  features.append(feature)\n",
        "\n",
        "for feature,score in y2_SF:\n",
        "  features.append(feature)\n",
        "\n",
        "for feature,score in y3_SF:\n",
        "  features.append(feature)\n",
        "\n",
        "for feature,score in y4_SF:\n",
        "  features.append(feature)\n",
        "\n",
        "for feature,score in y5_SF:\n",
        "  features.append(feature)\n",
        "\n",
        "for feature,score in y6_SF:\n",
        "  features.append(feature)"
      ]
    },
    {
      "cell_type": "code",
      "execution_count": null,
      "metadata": {
        "id": "i26LA8Q_q074",
        "vscode": {
          "languageId": "python"
        }
      },
      "outputs": [],
      "source": [
        "#features"
      ]
    },
    {
      "cell_type": "code",
      "execution_count": null,
      "metadata": {
        "id": "PiN4Ghwcl_MJ",
        "vscode": {
          "languageId": "python"
        }
      },
      "outputs": [],
      "source": [
        "features_weights=[]\n",
        "for a in range(len(x2.columns)):\n",
        "   features_weights.append(0)\n",
        "\n",
        "#calculating weight for each feature\n",
        "#if a feature is correlate to label count them and than divide it by total labels\n",
        "for f in features:\n",
        "  for count in range(len(x2.columns)):\n",
        "    if(f==x2.columns[count]):\n",
        "      features_weights[count]+=1\n",
        "list_f_w={}\n",
        "#if a feature is correlate to label count them and than divide it by total labels \n",
        "for i in range(len(x2.columns)):\n",
        "  features_weights[i]=round(features_weights[i]/len(x2.columns),3)\n",
        "  list_f_w.update({x2.columns[i] : features_weights[i]})"
      ]
    },
    {
      "cell_type": "code",
      "execution_count": null,
      "metadata": {
        "id": "tJmTpCiXqkaQ",
        "vscode": {
          "languageId": "python"
        }
      },
      "outputs": [],
      "source": [
        "#list_f_w"
      ]
    },
    {
      "cell_type": "code",
      "execution_count": null,
      "metadata": {
        "id": "roXgDtJemWMx",
        "vscode": {
          "languageId": "python"
        }
      },
      "outputs": [],
      "source": [
        "#sort weights\n",
        "import operator\n",
        "sorted_list_f_w = sorted(list_f_w.items(), key=operator.itemgetter(1), reverse=True)\n",
        "import collections\n",
        "sorted_dict_f = collections.OrderedDict(sorted_list_f_w)\n",
        "#print(sorted_dict_f)"
      ]
    },
    {
      "cell_type": "code",
      "execution_count": null,
      "metadata": {
        "colab": {
          "base_uri": "https://localhost:8080/"
        },
        "id": "E2m_8qOvma0X",
        "outputId": "5cfb911d-749c-4551-ff3a-c7765e17b1f3",
        "vscode": {
          "languageId": "python"
        }
      },
      "outputs": [
        {
          "name": "stdout",
          "output_type": "stream",
          "text": [
            "[9, 12, 14, 16, 17, 23, 24, 25, 26, 27, 28, 29, 30, 31, 32, 33, 34, 35, 38, 39, 40, 41, 42, 43, 44, 45, 46, 47, 48, 49, 50, 52, 54, 55, 56, 57, 59, 60, 62, 63, 64, 65, 66, 67, 68, 69, 70, 71, 72, 73, 74, 75, 76, 77, 78, 79, 80, 81, 82, 83, 84, 85, 86, 87, 88, 89, 90, 91, 92, 93, 94, 95, 96, 97, 98, 99, 100, 101, 102, 104, 105, 106, 107, 108, 109, 110, 111, 112, 113, 114, 116, 117, 118, 119, 120, 121, 122, 123, 124, 128, 129, 131, 135, 139, 140, 146, 154, 166, 168, 170, 184, 196, 199, 204, 205, 209, 212, 216, 220, 221, 222, 225, 227, 228, 232, 234, 235, 238, 239, 240, 247, 248, 252, 253, 257, 260, 264, 267, 268, 271, 274, 275, 278, 281, 284, 286, 289]\n"
          ]
        }
      ],
      "source": [
        "#now, access top 50% weighted features(keys)\n",
        "final_features=[]\n",
        "found=False\n",
        "for i in range(round(len(x2.columns)*0.5)):\n",
        "    final_features.append(list(sorted_dict_f.keys())[i])\n",
        "final_features.sort()\n",
        "\n",
        "#drop other than top 50% weighted features\n",
        "selected_features = set(x2.columns).intersection(final_features)\n",
        "\n",
        "#print(set(x.columns))\n",
        "print(final_features)\n",
        "for i in list(x2.columns):\n",
        "    if i not in selected_features:\n",
        "        x2_df = x2.drop(columns=[i])\n",
        "\n",
        "#print(set(x.columns) == selected_features)"
      ]
    },
    {
      "cell_type": "code",
      "execution_count": null,
      "metadata": {
        "colab": {
          "base_uri": "https://localhost:8080/"
        },
        "id": "2agyMeAzm42R",
        "outputId": "c42cdb13-0dcb-4f83-e4a2-b7f9852342de",
        "vscode": {
          "languageId": "python"
        }
      },
      "outputs": [
        {
          "name": "stdout",
          "output_type": "stream",
          "text": [
            "RangeIndex(start=0, stop=294, step=1)\n",
            "[9, 12, 14, 16, 17, 23, 24, 25, 26, 27, 28, 29, 30, 31, 32, 33, 34, 35, 38, 39, 40, 41, 42, 43, 44, 45, 46, 47, 48, 49, 50, 52, 54, 55, 56, 57, 59, 60, 62, 63, 64, 65, 66, 67, 68, 69, 70, 71, 72, 73, 74, 75, 76, 77, 78, 79, 80, 81, 82, 83, 84, 85, 86, 87, 88, 89, 90, 91, 92, 93, 94, 95, 96, 97, 98, 99, 100, 101, 102, 104, 105, 106, 107, 108, 109, 110, 111, 112, 113, 114, 116, 117, 118, 119, 120, 121, 122, 123, 124, 128, 129, 131, 135, 139, 140, 146, 154, 166, 168, 170, 184, 196, 199, 204, 205, 209, 212, 216, 220, 221, 222, 225, 227, 228, 232, 234, 235, 238, 239, 240, 247, 248, 252, 253, 257, 260, 264, 267, 268, 271, 274, 275, 278, 281, 284, 286, 289]\n"
          ]
        }
      ],
      "source": [
        "print(x2.columns)\n",
        "print(final_features)"
      ]
    },
    {
      "attachments": {},
      "cell_type": "markdown",
      "metadata": {
        "id": "5jls4LWSr9Nb"
      },
      "source": [
        "###Train and Test split"
      ]
    },
    {
      "cell_type": "code",
      "execution_count": null,
      "metadata": {
        "colab": {
          "base_uri": "https://localhost:8080/"
        },
        "id": "EWEqqyvQr8Yp",
        "outputId": "c6efb4d9-e6da-4434-b525-f2ab3f9053c6",
        "vscode": {
          "languageId": "python"
        }
      },
      "outputs": [
        {
          "name": "stdout",
          "output_type": "stream",
          "text": [
            "(1685, 294) (722, 294) (1685, 6) (722, 6)\n"
          ]
        }
      ],
      "source": [
        "from scipy import sparse as s\n",
        "x2_m = s.csr_matrix(x2)\n",
        "y2_m= s.csr_matrix(y2)\n",
        "#Train and test split\n",
        "from skmultilearn.model_selection import iterative_train_test_split \n",
        "x2_train, y2_train, x2_test, y2_test = iterative_train_test_split(x2_m, y2_m, test_size = 0.3)\n",
        "print(x2_train.shape, x2_test.shape, y2_train.shape, y2_test.shape)"
      ]
    },
    {
      "cell_type": "code",
      "execution_count": null,
      "metadata": {
        "id": "fuETlEZMCIVr",
        "vscode": {
          "languageId": "python"
        }
      },
      "outputs": [],
      "source": [
        "x2_train_df=pd.DataFrame(x2_train)\n",
        "y2_train_df=pd.DataFrame(y2_train)\n",
        "x2_test_df=pd.DataFrame(x2_test)\n",
        "y2_test_df=pd.DataFrame(y2_test)"
      ]
    },
    {
      "attachments": {},
      "cell_type": "markdown",
      "metadata": {
        "id": "BnzAbXf0rY51"
      },
      "source": [
        "###Model 1 -> MLKNN "
      ]
    },
    {
      "cell_type": "code",
      "execution_count": null,
      "metadata": {
        "id": "3cOwCVoKrXJv",
        "vscode": {
          "languageId": "python"
        }
      },
      "outputs": [],
      "source": [
        "from skmultilearn.adapt import MLkNN\n",
        "#MLKNN is an adaptation of the kNN lazy learning algorithm for multi-label data.\n",
        "# apply MLkNN for Scene dataset it has 6 labels. \n",
        "classifier2 = MLkNN(k=6)\n",
        "\n",
        "# train\n",
        "model2=classifier2.fit(x2_train, y2_train)\n",
        "\n",
        "# predict\n",
        "MLKNN2_predictions = classifier2.predict(x2_test)"
      ]
    },
    {
      "attachments": {},
      "cell_type": "markdown",
      "metadata": {
        "id": "uthNKcdKrv11"
      },
      "source": [
        "###Measuring Metrics"
      ]
    },
    {
      "cell_type": "code",
      "execution_count": null,
      "metadata": {
        "colab": {
          "base_uri": "https://localhost:8080/"
        },
        "id": "ZAmURK2arvDR",
        "outputId": "95bd7b4d-6aa5-4033-f74f-ec47361556a6",
        "vscode": {
          "languageId": "python"
        }
      },
      "outputs": [
        {
          "name": "stdout",
          "output_type": "stream",
          "text": [
            "------------------------------\n",
            "Hamming Loss\n",
            "------------------------------\n",
            "0.1\n",
            "------------------------------\n",
            "Accuracy\n",
            "------------------------------\n",
            "0.62\n"
          ]
        }
      ],
      "source": [
        "import sklearn.metrics as m\n",
        "#Hamming Loss\n",
        "print(\"------------------------------\")\n",
        "print(\"Hamming Loss\")\n",
        "print(\"------------------------------\")\n",
        "print((round(m.hamming_loss(y2_test, MLKNN2_predictions),2)))\n",
        "#Accuracy\n",
        "print(\"------------------------------\")\n",
        "print(\"Accuracy\")\n",
        "print(\"------------------------------\")\n",
        "print((round(m.accuracy_score(y2_test, MLKNN2_predictions),2)))"
      ]
    },
    {
      "attachments": {},
      "cell_type": "markdown",
      "metadata": {
        "id": "i-zg6_nOBgXm"
      },
      "source": [
        "##3- Feature subset 3 -> using Anova test"
      ]
    },
    {
      "attachments": {},
      "cell_type": "markdown",
      "metadata": {
        "id": "PIeroJOLxk7y"
      },
      "source": [
        "###Feature Selection"
      ]
    },
    {
      "cell_type": "code",
      "execution_count": null,
      "metadata": {
        "colab": {
          "base_uri": "https://localhost:8080/"
        },
        "id": "hovOAxoBqFzQ",
        "outputId": "0b2dff2a-ce53-47ff-dc04-4c1a3bf3c1c8",
        "vscode": {
          "languageId": "python"
        }
      },
      "outputs": [
        {
          "name": "stdout",
          "output_type": "stream",
          "text": [
            "scene:undivided - exists, not redownloading\n",
            "Actual Dataset\n",
            "(2407, 294) (2407, 6)\n",
            "Coverted into Dataframe\n",
            "(2407, 294) (2407, 6)\n"
          ]
        }
      ],
      "source": [
        "from skmultilearn.dataset import load_dataset\n",
        "x3,y3, _, _ = load_dataset('scene', 'undivided')\n",
        "print(\"Actual Dataset\")\n",
        "print(x3.shape,y3.shape)\n",
        "#change to matrix\n",
        "x3=x3.todense()\n",
        "y3=y3.todense()\n",
        "import pandas as pd\n",
        "#change to dataFrame\n",
        "x3=pd.DataFrame(x3)\n",
        "y3=pd.DataFrame(y3)\n",
        "print(\"Coverted into Dataframe\")\n",
        "print(x3.shape,y3.shape)"
      ]
    },
    {
      "cell_type": "code",
      "execution_count": null,
      "metadata": {
        "colab": {
          "base_uri": "https://localhost:8080/"
        },
        "id": "3wahWXWdrUs_",
        "outputId": "f7dcb8b1-9530-4cb3-f9ad-cce0dee878a5",
        "vscode": {
          "languageId": "python"
        }
      },
      "outputs": [
        {
          "name": "stdout",
          "output_type": "stream",
          "text": [
            "50% features of medical dataset =  147\n"
          ]
        }
      ],
      "source": [
        "# import the required functions and object.\n",
        "from sklearn.feature_selection import f_classif\n",
        "from sklearn.feature_selection import SelectKBest\n",
        "\n",
        "# select the number of features you want to retain.\n",
        "select_k3 = round(len(x3 .columns)*0.5)\n",
        "features_selected_50=[]\n",
        "print(\"50% features of medical dataset = \",select_k3)\n",
        "for i in range(len(y3.columns)):\n",
        "  # create the SelectKBest with the mutual info strategy.\n",
        "  selection = SelectKBest(f_classif, k=select_k3).fit(x3, y3.iloc[:,i])\n",
        "  # display the retained features.\n",
        "  features=list(x3.columns[selection.get_support()])\n",
        "  labels=y3.columns[i]\n",
        "  features_selected_50.append([labels, features])\n",
        "  #print(features_selected_50[i])\n",
        "\n",
        "#calculating weight for each feature\n",
        "#if a feature is correlate to label count them and than divide it by total labels\n",
        "for f in features:\n",
        "  for count in range(len(x3.columns)):\n",
        "    if(f==x3.columns[count]):\n",
        "      features_weights[count]+=1\n",
        "list_f_w={}\n",
        "#if a feature is correlate to label count them and than divide it by total labels \n",
        "for i in range(len(x3.columns)):\n",
        "  features_weights[i]=round(features_weights[i]/len(x3.columns),3)\n",
        "  list_f_w.update({x3.columns[i] : features_weights[i]})"
      ]
    },
    {
      "cell_type": "code",
      "execution_count": null,
      "metadata": {
        "id": "ajrN7nj0tG9_",
        "vscode": {
          "languageId": "python"
        }
      },
      "outputs": [],
      "source": [
        "#sort weights\n",
        "import operator\n",
        "sorted_list_f_w = sorted(list_f_w.items(), key=operator.itemgetter(1), reverse=True)\n",
        "import collections\n",
        "sorted_dict_f = collections.OrderedDict(sorted_list_f_w)\n",
        "#print(sorted_dict_f)"
      ]
    },
    {
      "cell_type": "code",
      "execution_count": null,
      "metadata": {
        "colab": {
          "base_uri": "https://localhost:8080/"
        },
        "id": "5AYcxkyXwPUV",
        "outputId": "8b979428-71a6-49b9-87b1-930ab6c4c1b4",
        "vscode": {
          "languageId": "python"
        }
      },
      "outputs": [
        {
          "name": "stdout",
          "output_type": "stream",
          "text": [
            "{14, 20, 21, 26, 27, 38, 59, 65, 66, 72, 73, 74, 75, 76, 77, 78, 79, 80, 81, 82, 83, 84, 85, 86, 87, 88, 89, 90, 91, 92, 93, 94, 95, 96, 97, 98, 99, 100, 101, 102, 103, 104, 105, 106, 107, 108, 109, 110, 111, 112, 113, 114, 115, 116, 117, 118, 119, 120, 121, 122, 123, 124, 125, 126, 127, 128, 129, 130, 131, 132, 139, 162, 163, 164, 165, 168, 169, 170, 171, 172, 179, 196, 197, 198, 199, 200, 201, 202, 203, 204, 205, 206, 207, 208, 209, 210, 211, 212, 213, 214, 215, 216, 217, 218, 219, 220, 221, 222, 223, 224, 225, 226, 227, 228, 229, 230, 231, 232, 233, 234, 235, 236, 237, 238, 239, 240, 241, 242, 243, 244, 245, 252, 253, 258, 259, 260, 261, 262, 263, 265, 266, 267, 268, 269, 270, 271, 272}\n"
          ]
        }
      ],
      "source": [
        "#now, access top 50% weighted features(keys)\n",
        "final_features=[]\n",
        "found=False\n",
        "for i in range(round(len(x3.columns)*0.5)):\n",
        "    final_features.append(list(sorted_dict_f.keys())[i])\n",
        "final_features.sort()\n",
        "\n",
        "#drop other than top 50% weighted features\n",
        "selected_features = set(x3.columns).intersection(final_features)\n",
        "\n",
        "#print(set(x.columns))\n",
        "print(selected_features)\n",
        "\n",
        "# features subset1\n",
        "\n",
        "\n",
        "for i in list(x3.columns):\n",
        "    if i not in selected_features:\n",
        "        x3 = x3.drop(columns=[i])\n",
        "\n",
        "#print(set(x.columns) == selected_features)"
      ]
    },
    {
      "cell_type": "code",
      "execution_count": null,
      "metadata": {
        "colab": {
          "base_uri": "https://localhost:8080/"
        },
        "id": "WpfJC8Krwc1o",
        "outputId": "18e5626d-7a6f-4ff0-a854-7198e81c50d2",
        "vscode": {
          "languageId": "python"
        }
      },
      "outputs": [
        {
          "name": "stdout",
          "output_type": "stream",
          "text": [
            "Int64Index([ 14,  20,  21,  26,  27,  38,  59,  65,  66,  72,\n",
            "            ...\n",
            "            262, 263, 265, 266, 267, 268, 269, 270, 271, 272],\n",
            "           dtype='int64', length=147)\n",
            "[14, 20, 21, 26, 27, 38, 59, 65, 66, 72, 73, 74, 75, 76, 77, 78, 79, 80, 81, 82, 83, 84, 85, 86, 87, 88, 89, 90, 91, 92, 93, 94, 95, 96, 97, 98, 99, 100, 101, 102, 103, 104, 105, 106, 107, 108, 109, 110, 111, 112, 113, 114, 115, 116, 117, 118, 119, 120, 121, 122, 123, 124, 125, 126, 127, 128, 129, 130, 131, 132, 139, 162, 163, 164, 165, 168, 169, 170, 171, 172, 179, 196, 197, 198, 199, 200, 201, 202, 203, 204, 205, 206, 207, 208, 209, 210, 211, 212, 213, 214, 215, 216, 217, 218, 219, 220, 221, 222, 223, 224, 225, 226, 227, 228, 229, 230, 231, 232, 233, 234, 235, 236, 237, 238, 239, 240, 241, 242, 243, 244, 245, 252, 253, 258, 259, 260, 261, 262, 263, 265, 266, 267, 268, 269, 270, 271, 272]\n"
          ]
        }
      ],
      "source": [
        "print(x3.columns)\n",
        "print(final_features)"
      ]
    },
    {
      "attachments": {},
      "cell_type": "markdown",
      "metadata": {
        "id": "2rIKqTD7wjLF"
      },
      "source": [
        "###Train and Test Split"
      ]
    },
    {
      "cell_type": "code",
      "execution_count": null,
      "metadata": {
        "colab": {
          "base_uri": "https://localhost:8080/"
        },
        "id": "Sxb6WKrowlkg",
        "outputId": "4744327b-642b-4337-a8c7-12d392941d9a",
        "vscode": {
          "languageId": "python"
        }
      },
      "outputs": [
        {
          "name": "stdout",
          "output_type": "stream",
          "text": [
            "(1685, 147) (722, 147) (1685, 6) (722, 6)\n"
          ]
        }
      ],
      "source": [
        "from scipy import sparse as s\n",
        "x3_m = s.csr_matrix(x3)\n",
        "y3_m= s.csr_matrix(y3)\n",
        "#Train and test split\n",
        "from skmultilearn.model_selection import iterative_train_test_split \n",
        "x3_train, y3_train, x3_test, y3_test = iterative_train_test_split(x3_m, y3_m, test_size = 0.3)\n",
        "print(x3_train.shape, x3_test.shape, y3_train.shape, y3_test.shape)"
      ]
    },
    {
      "cell_type": "code",
      "execution_count": null,
      "metadata": {
        "id": "OPF1R6peCPzp",
        "vscode": {
          "languageId": "python"
        }
      },
      "outputs": [],
      "source": [
        "x3_train_df=pd.DataFrame(x3_train)\n",
        "y3_train_df=pd.DataFrame(y3_train)\n",
        "x3_test_df=pd.DataFrame(x3_test)\n",
        "y3_test_df=pd.DataFrame(y3_test)"
      ]
    },
    {
      "attachments": {},
      "cell_type": "markdown",
      "metadata": {
        "id": "7-OKg1Dkw_Hc"
      },
      "source": [
        "###Model 1 -> MLKNN"
      ]
    },
    {
      "cell_type": "code",
      "execution_count": null,
      "metadata": {
        "id": "ycIqrJKIxCvg",
        "vscode": {
          "languageId": "python"
        }
      },
      "outputs": [],
      "source": [
        "from skmultilearn.adapt import MLkNN\n",
        "#MLKNN is an adaptation of the kNN lazy learning algorithm for multi-label data.\n",
        "# apply MLkNN for Scene dataset it has 6 labels. \n",
        "classifier3 = MLkNN(k=6)\n",
        "\n",
        "# train\n",
        "model3=classifier3.fit(x3_train, y3_train)\n",
        "\n",
        "# predict\n",
        "MLKNN3_predictions = classifier3.predict(x3_test)"
      ]
    },
    {
      "attachments": {},
      "cell_type": "markdown",
      "metadata": {
        "id": "4Q7K4GYFxNXC"
      },
      "source": [
        "###Measuring Metrics"
      ]
    },
    {
      "cell_type": "code",
      "execution_count": null,
      "metadata": {
        "colab": {
          "base_uri": "https://localhost:8080/"
        },
        "id": "c5UgU7CVxQPc",
        "outputId": "1198bb59-a20e-49ab-b524-fac3239902c1",
        "vscode": {
          "languageId": "python"
        }
      },
      "outputs": [
        {
          "name": "stdout",
          "output_type": "stream",
          "text": [
            "------------------------------\n",
            "Hamming Loss\n",
            "------------------------------\n",
            "0.1\n",
            "------------------------------\n",
            "Accuracy\n",
            "------------------------------\n",
            "0.58\n"
          ]
        }
      ],
      "source": [
        "import sklearn.metrics as m\n",
        "#Hamming Loss\n",
        "print(\"------------------------------\")\n",
        "print(\"Hamming Loss\")\n",
        "print(\"------------------------------\")\n",
        "print((round(m.hamming_loss(y3_test, MLKNN3_predictions),2)))\n",
        "#Accuracy\n",
        "print(\"------------------------------\")\n",
        "print(\"Accuracy\")\n",
        "print(\"------------------------------\")\n",
        "print((round(m.accuracy_score(y3_test, MLKNN3_predictions),2)))"
      ]
    }
  ],
  "metadata": {
    "accelerator": "TPU",
    "colab": {
      "provenance": [],
      "toc_visible": true
    },
    "kernelspec": {
      "display_name": "Python 3",
      "name": "python3"
    }
  },
  "nbformat": 4,
  "nbformat_minor": 0
}
