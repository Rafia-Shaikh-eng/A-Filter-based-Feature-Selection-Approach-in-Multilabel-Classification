{
  "nbformat": 4,
  "nbformat_minor": 0,
  "metadata": {
    "colab": {
      "provenance": [],
      "toc_visible": true,
      "include_colab_link": true
    },
    "kernelspec": {
      "name": "python3",
      "display_name": "Python 3"
    }
  },
  "cells": [
    {
      "cell_type": "markdown",
      "metadata": {
        "id": "view-in-github",
        "colab_type": "text"
      },
      "source": [
        "<a href=\"https://colab.research.google.com/github/Rafia-Shaikh-eng/A-Filter-based-Feature-Selection-Approach-in-Multilabel-Classification/blob/main/MI_Feature_selection_40_MLC.ipynb\" target=\"_parent\"><img src=\"https://colab.research.google.com/assets/colab-badge.svg\" alt=\"Open In Colab\"/></a>"
      ]
    },
    {
      "cell_type": "markdown",
      "metadata": {
        "id": "toqsOdUtiHBK"
      },
      "source": [
        "importing required libraries"
      ]
    },
    {
      "cell_type": "code",
      "metadata": {
        "id": "h6PKHUDdtC8J",
        "colab": {
          "base_uri": "https://localhost:8080/"
        },
        "outputId": "b4d96d3d-35ca-4e83-e2c8-5d402c475556"
      },
      "source": [
        "# if the scikit-multilearn not installed run this cell \n",
        "!pip install scikit-multilearn\n",
        "# most of the datasets in Weka Arff format for this installed this library \n",
        "!pip install arff"
      ],
      "execution_count": null,
      "outputs": [
        {
          "output_type": "stream",
          "name": "stdout",
          "text": [
            "Looking in indexes: https://pypi.org/simple, https://us-python.pkg.dev/colab-wheels/public/simple/\n",
            "Collecting scikit-multilearn\n",
            "  Downloading scikit_multilearn-0.2.0-py3-none-any.whl (89 kB)\n",
            "\u001b[2K     \u001b[90m━━━━━━━━━━━━━━━━━━━━━━━━━━━━━━━━━━━━━━━━\u001b[0m \u001b[32m89.4/89.4 KB\u001b[0m \u001b[31m2.1 MB/s\u001b[0m eta \u001b[36m0:00:00\u001b[0m\n",
            "\u001b[?25hInstalling collected packages: scikit-multilearn\n",
            "Successfully installed scikit-multilearn-0.2.0\n",
            "Looking in indexes: https://pypi.org/simple, https://us-python.pkg.dev/colab-wheels/public/simple/\n",
            "Collecting arff\n",
            "  Downloading arff-0.9.tar.gz (4.7 kB)\n"
          ]
        }
      ]
    },
    {
      "cell_type": "markdown",
      "metadata": {
        "id": "7AjMDgUAiGI9"
      },
      "source": [
        "Created 03 arrays of each measuring metrics for 03 classifier"
      ]
    },
    {
      "cell_type": "code",
      "metadata": {
        "id": "hRua7Kc4tGK3"
      },
      "source": [
        "#03 classifiers hamming loss list \n",
        "hamming_loss_MLTSVM=[]\n",
        "hamming_loss_MLKNN=[]\n",
        "hamming_loss_BRKNNa=[]\n",
        "#03 classifier accuracy list\n",
        "accuracy_MLTSVM=[]\n",
        "accuracy_MLKNN=[]\n",
        "accuracy_BRKNNa=[]\n",
        "#03 classifier precision list\n",
        "precision_MLTSVM=[]\n",
        "precision_MLKNN=[]\n",
        "precision_BRKNNa=[]\n",
        "#03 classifier recall list\n",
        "recall_MLTSVM=[]\n",
        "recall_MLKNN=[]\n",
        "recall_BRKNNa=[]\n",
        "#03 classifier f1 measure list\n",
        "f1_measure_MLTSVM=[]\n",
        "f1_measure_MLKNN=[]\n",
        "f1_measure_BRKNNa=[]"
      ],
      "execution_count": null,
      "outputs": []
    },
    {
      "cell_type": "markdown",
      "metadata": {
        "id": "ol2LYHCAtHoh"
      },
      "source": [
        "#01 Medical Dataset"
      ]
    },
    {
      "cell_type": "code",
      "metadata": {
        "id": "VUQFqZvBtJQr",
        "colab": {
          "base_uri": "https://localhost:8080/"
        },
        "outputId": "dd2910a8-3cef-4748-d288-a224b31369e3"
      },
      "source": [
        "#Load Medical Dataset\n",
        "from skmultilearn.dataset import load_dataset\n",
        "x1,y1, _, _ = load_dataset('medical', 'undivided')\n",
        "print(\"Actual Dataset\")\n",
        "print(x1.shape,y1.shape)\n",
        "#change to matrix\n",
        "x1=x1.todense()\n",
        "y1=y1.todense()\n",
        "import pandas as pd\n",
        "#change to dataFrame\n",
        "x1=pd.DataFrame(x1)\n",
        "y1=pd.DataFrame(y1)\n",
        "print(\"Coverted into Dataframe\")\n",
        "print(x1.shape,y1.shape)"
      ],
      "execution_count": null,
      "outputs": [
        {
          "output_type": "stream",
          "text": [
            "medical:undivided - does not exists downloading\n",
            "Downloaded medical-undivided\n",
            "Actual Dataset\n",
            "(978, 1449) (978, 45)\n",
            "Coverted into Dataframe\n",
            "(978, 1449) (978, 45)\n"
          ],
          "name": "stdout"
        }
      ]
    },
    {
      "cell_type": "markdown",
      "metadata": {
        "id": "7EElN0ZgtLhu"
      },
      "source": [
        "##Feature Selection"
      ]
    },
    {
      "cell_type": "code",
      "metadata": {
        "id": "7i4EtsURtNFg",
        "colab": {
          "base_uri": "https://localhost:8080/"
        },
        "outputId": "1ab4dd15-6f7e-493b-c5f4-4b490cfcb6cf"
      },
      "source": [
        "# import the required functions and object.\n",
        "from sklearn.feature_selection import mutual_info_classif\n",
        "from sklearn.feature_selection import SelectKBest\n",
        "import numpy as np\n",
        "import pandas as pd\n",
        "\n",
        "# select the number of features you want to retain.\n",
        "select_k1 = round(len(x1.columns)*0.4)\n",
        "print(\"40% features of medical dataset = \",select_k1)\n",
        "\n",
        "# get only the numerical features.\n",
        "numerical_x1 =x1[x1.select_dtypes([np.number]).columns]\n",
        "features_selected_40=[]\n",
        "features_weights=[]\n",
        "for a in range(len(x1.columns)):\n",
        "   features_weights.append(0)\n",
        "for i in range(len(y1.columns)):\n",
        "  # create the SelectKBest with the mutual info strategy.\n",
        "  selection =SelectKBest(mutual_info_classif, k=select_k1).fit(numerical_x1, y1.iloc[:,i])\n",
        "\n",
        "  # display the retained features.\n",
        "  features=list(x1.columns[selection.get_support()])\n",
        "  labels=y1.columns[i]\n",
        "  features_selected_40.append([labels, features])\n",
        "  #print(features_selected_40[i])\n",
        "\n",
        "  #calculating weight for each feature\n",
        "  #if a feature is correlate to label count them and than divide it by total labels\n",
        "  for f in features_selected_40[1]:\n",
        "    for count in range(len(x1.columns)):\n",
        "      if(f==x1.columns[count]):\n",
        "        features_weights[count]+=1\n",
        "list_f_w={}\n",
        "#if a feature is correlate to label count them and than divide it by total labels \n",
        "for i in range(len(x1.columns)):\n",
        "  features_weights[i]=round(features_weights[i]/len(x1.columns),3)\n",
        "  list_f_w.update({x1.columns[i] : features_weights[i]})"
      ],
      "execution_count": null,
      "outputs": [
        {
          "output_type": "stream",
          "text": [
            "40% features of medical dataset =  580\n"
          ],
          "name": "stdout"
        }
      ]
    },
    {
      "cell_type": "code",
      "metadata": {
        "id": "o5jpuAswtRO6"
      },
      "source": [
        "#sort weights\n",
        "import operator\n",
        "sorted_list_f_w = sorted(list_f_w.items(), key=operator.itemgetter(1), reverse=True)\n",
        "import collections\n",
        "sorted_dict_f = collections.OrderedDict(sorted_list_f_w)\n",
        "#print(sorted_dict_f)"
      ],
      "execution_count": null,
      "outputs": []
    },
    {
      "cell_type": "code",
      "metadata": {
        "id": "rB2K3GR5tTrL",
        "colab": {
          "base_uri": "https://localhost:8080/"
        },
        "outputId": "4bc48c68-8a0b-4b5b-ddbc-730ba2c81917"
      },
      "source": [
        "#now, access top 50% weighted features(keys)\n",
        "final_features=[]\n",
        "found=False\n",
        "for i in range(round(len(x1.columns)*0.5)):\n",
        "    final_features.append(list(sorted_dict_f.keys())[i])\n",
        "final_features.sort()\n",
        "\n",
        "#drop other than top 50% weighted features\n",
        "selected_features = set(x1.columns).intersection(final_features)\n",
        "\n",
        "#print(set(x.columns))\n",
        "print(selected_features)\n",
        "\n",
        "for i in list(x1.columns):\n",
        "    if i not in selected_features:\n",
        "        x1 = x1.drop(columns=[i])\n",
        "\n",
        "#print(set(x.columns) == selected_features)\n"
      ],
      "execution_count": null,
      "outputs": [
        {
          "output_type": "stream",
          "text": [
            "{7, 14, 20, 22, 24, 28, 33, 36, 53, 55, 57, 59, 69, 73, 79, 81, 95, 99, 101, 103, 115, 122, 128, 146, 151, 155, 156, 160, 162, 163, 164, 165, 167, 181, 184, 193, 195, 201, 209, 220, 223, 226, 229, 234, 248, 254, 259, 263, 269, 276, 279, 282, 297, 304, 307, 308, 310, 315, 333, 341, 345, 352, 360, 366, 374, 375, 380, 383, 392, 395, 404, 406, 410, 414, 415, 419, 422, 448, 459, 463, 483, 488, 490, 493, 497, 498, 501, 506, 512, 516, 524, 525, 535, 538, 546, 548, 551, 555, 567, 569, 571, 573, 578, 581, 587, 590, 592, 593, 597, 601, 612, 617, 625, 627, 628, 634, 654, 657, 658, 663, 667, 671, 673, 675, 678, 682, 684, 691, 697, 701, 705, 707, 709, 711, 713, 714, 725, 731, 732, 733, 738, 749, 752, 754, 756, 761, 767, 773, 784, 794, 799, 809, 810, 811, 832, 869, 870, 871, 872, 873, 874, 875, 876, 877, 878, 879, 880, 881, 882, 883, 884, 885, 887, 888, 889, 890, 891, 892, 893, 894, 895, 896, 897, 898, 899, 900, 901, 902, 903, 904, 905, 906, 907, 908, 909, 910, 911, 912, 913, 914, 915, 916, 917, 918, 919, 920, 921, 922, 923, 924, 925, 926, 927, 928, 929, 930, 931, 932, 933, 934, 935, 936, 937, 938, 939, 940, 941, 942, 943, 944, 945, 946, 948, 949, 950, 951, 952, 953, 954, 955, 956, 957, 958, 959, 960, 961, 962, 963, 964, 965, 966, 967, 968, 969, 970, 971, 972, 973, 974, 975, 976, 977, 978, 979, 980, 981, 982, 983, 984, 985, 986, 987, 988, 989, 990, 991, 992, 993, 994, 995, 996, 997, 998, 1000, 1001, 1002, 1003, 1004, 1005, 1006, 1007, 1008, 1009, 1010, 1011, 1012, 1013, 1014, 1015, 1016, 1017, 1018, 1019, 1020, 1021, 1022, 1023, 1024, 1025, 1026, 1027, 1028, 1029, 1030, 1031, 1032, 1033, 1034, 1035, 1036, 1037, 1038, 1039, 1040, 1041, 1042, 1043, 1044, 1045, 1046, 1047, 1048, 1049, 1050, 1051, 1052, 1053, 1054, 1055, 1057, 1058, 1059, 1060, 1061, 1062, 1063, 1064, 1065, 1066, 1067, 1068, 1069, 1070, 1071, 1072, 1073, 1074, 1075, 1076, 1077, 1078, 1080, 1081, 1082, 1083, 1084, 1085, 1086, 1087, 1088, 1089, 1090, 1091, 1092, 1093, 1094, 1095, 1096, 1097, 1099, 1100, 1101, 1102, 1103, 1104, 1105, 1106, 1107, 1108, 1109, 1110, 1111, 1112, 1114, 1115, 1116, 1117, 1118, 1119, 1120, 1121, 1122, 1123, 1124, 1125, 1126, 1127, 1128, 1129, 1130, 1131, 1132, 1133, 1134, 1135, 1136, 1137, 1138, 1139, 1140, 1141, 1142, 1143, 1144, 1145, 1146, 1147, 1148, 1149, 1150, 1151, 1152, 1154, 1155, 1156, 1157, 1158, 1159, 1160, 1161, 1162, 1163, 1164, 1165, 1166, 1167, 1168, 1169, 1170, 1171, 1172, 1173, 1174, 1175, 1176, 1177, 1178, 1179, 1180, 1181, 1182, 1183, 1184, 1185, 1186, 1187, 1188, 1189, 1190, 1191, 1192, 1193, 1194, 1195, 1196, 1197, 1198, 1199, 1200, 1201, 1202, 1203, 1204, 1205, 1206, 1207, 1208, 1209, 1210, 1211, 1212, 1213, 1214, 1215, 1216, 1217, 1218, 1219, 1220, 1221, 1222, 1223, 1224, 1225, 1226, 1227, 1228, 1229, 1230, 1231, 1232, 1233, 1234, 1235, 1236, 1237, 1238, 1239, 1240, 1241, 1242, 1243, 1244, 1245, 1246, 1247, 1248, 1249, 1250, 1251, 1252, 1253, 1254, 1255, 1256, 1257, 1258, 1259, 1260, 1261, 1262, 1263, 1264, 1265, 1266, 1267, 1268, 1269, 1270, 1271, 1272, 1273, 1274, 1275, 1276, 1277, 1278, 1279, 1280, 1281, 1282, 1283, 1284, 1285, 1286, 1287, 1289, 1290, 1291, 1292, 1293, 1294, 1295, 1296, 1297, 1298, 1299, 1300, 1301, 1302, 1303, 1304, 1305, 1306, 1307, 1308, 1309, 1310, 1311, 1312, 1313, 1314, 1315, 1316, 1317, 1318, 1319, 1320, 1321, 1322, 1323, 1325, 1326, 1327, 1328, 1329, 1330, 1331, 1332, 1333, 1334, 1335, 1336, 1337, 1338, 1339, 1340, 1341, 1342, 1343, 1344, 1346, 1347, 1348, 1349, 1350, 1351, 1352, 1353, 1354, 1355, 1356, 1357, 1358, 1359, 1360, 1361, 1362, 1363, 1364, 1365, 1366, 1367, 1368, 1369, 1370, 1371, 1372, 1373, 1374, 1375, 1376, 1377, 1378, 1379, 1380, 1381, 1382, 1383, 1384, 1385, 1386, 1387, 1388, 1389, 1390, 1391, 1392, 1393, 1394, 1395, 1396, 1397, 1398, 1399, 1400, 1401, 1402, 1403, 1404, 1405, 1406, 1407, 1408, 1409, 1410, 1411, 1412, 1413, 1414, 1415, 1416, 1417, 1418, 1419, 1420, 1421, 1422, 1423, 1424, 1425, 1426, 1427, 1428, 1429, 1430, 1431, 1432, 1433, 1434, 1435, 1436, 1437, 1438, 1439, 1440, 1441, 1442, 1443, 1444, 1445, 1446, 1447, 1448}\n"
          ],
          "name": "stdout"
        }
      ]
    },
    {
      "cell_type": "code",
      "metadata": {
        "id": "r5kfC1oJtX8x",
        "colab": {
          "base_uri": "https://localhost:8080/"
        },
        "outputId": "a766459a-e86a-4d51-ca3b-cfef34add3ad"
      },
      "source": [
        "print(x1.columns)\n",
        "print(final_features)"
      ],
      "execution_count": null,
      "outputs": [
        {
          "output_type": "stream",
          "text": [
            "Int64Index([   7,   14,   20,   22,   24,   28,   33,   36,   53,   55,\n",
            "            ...\n",
            "            1439, 1440, 1441, 1442, 1443, 1444, 1445, 1446, 1447, 1448],\n",
            "           dtype='int64', length=724)\n",
            "[7, 14, 20, 22, 24, 28, 33, 36, 53, 55, 57, 59, 69, 73, 79, 81, 95, 99, 101, 103, 115, 122, 128, 146, 151, 155, 156, 160, 162, 163, 164, 165, 167, 181, 184, 193, 195, 201, 209, 220, 223, 226, 229, 234, 248, 254, 259, 263, 269, 276, 279, 282, 297, 304, 307, 308, 310, 315, 333, 341, 345, 352, 360, 366, 374, 375, 380, 383, 392, 395, 404, 406, 410, 414, 415, 419, 422, 448, 459, 463, 483, 488, 490, 493, 497, 498, 501, 506, 512, 516, 524, 525, 535, 538, 546, 548, 551, 555, 567, 569, 571, 573, 578, 581, 587, 590, 592, 593, 597, 601, 612, 617, 625, 627, 628, 634, 654, 657, 658, 663, 667, 671, 673, 675, 678, 682, 684, 691, 697, 701, 705, 707, 709, 711, 713, 714, 725, 731, 732, 733, 738, 749, 752, 754, 756, 761, 767, 773, 784, 794, 799, 809, 810, 811, 832, 869, 870, 871, 872, 873, 874, 875, 876, 877, 878, 879, 880, 881, 882, 883, 884, 885, 887, 888, 889, 890, 891, 892, 893, 894, 895, 896, 897, 898, 899, 900, 901, 902, 903, 904, 905, 906, 907, 908, 909, 910, 911, 912, 913, 914, 915, 916, 917, 918, 919, 920, 921, 922, 923, 924, 925, 926, 927, 928, 929, 930, 931, 932, 933, 934, 935, 936, 937, 938, 939, 940, 941, 942, 943, 944, 945, 946, 948, 949, 950, 951, 952, 953, 954, 955, 956, 957, 958, 959, 960, 961, 962, 963, 964, 965, 966, 967, 968, 969, 970, 971, 972, 973, 974, 975, 976, 977, 978, 979, 980, 981, 982, 983, 984, 985, 986, 987, 988, 989, 990, 991, 992, 993, 994, 995, 996, 997, 998, 1000, 1001, 1002, 1003, 1004, 1005, 1006, 1007, 1008, 1009, 1010, 1011, 1012, 1013, 1014, 1015, 1016, 1017, 1018, 1019, 1020, 1021, 1022, 1023, 1024, 1025, 1026, 1027, 1028, 1029, 1030, 1031, 1032, 1033, 1034, 1035, 1036, 1037, 1038, 1039, 1040, 1041, 1042, 1043, 1044, 1045, 1046, 1047, 1048, 1049, 1050, 1051, 1052, 1053, 1054, 1055, 1057, 1058, 1059, 1060, 1061, 1062, 1063, 1064, 1065, 1066, 1067, 1068, 1069, 1070, 1071, 1072, 1073, 1074, 1075, 1076, 1077, 1078, 1080, 1081, 1082, 1083, 1084, 1085, 1086, 1087, 1088, 1089, 1090, 1091, 1092, 1093, 1094, 1095, 1096, 1097, 1099, 1100, 1101, 1102, 1103, 1104, 1105, 1106, 1107, 1108, 1109, 1110, 1111, 1112, 1114, 1115, 1116, 1117, 1118, 1119, 1120, 1121, 1122, 1123, 1124, 1125, 1126, 1127, 1128, 1129, 1130, 1131, 1132, 1133, 1134, 1135, 1136, 1137, 1138, 1139, 1140, 1141, 1142, 1143, 1144, 1145, 1146, 1147, 1148, 1149, 1150, 1151, 1152, 1154, 1155, 1156, 1157, 1158, 1159, 1160, 1161, 1162, 1163, 1164, 1165, 1166, 1167, 1168, 1169, 1170, 1171, 1172, 1173, 1174, 1175, 1176, 1177, 1178, 1179, 1180, 1181, 1182, 1183, 1184, 1185, 1186, 1187, 1188, 1189, 1190, 1191, 1192, 1193, 1194, 1195, 1196, 1197, 1198, 1199, 1200, 1201, 1202, 1203, 1204, 1205, 1206, 1207, 1208, 1209, 1210, 1211, 1212, 1213, 1214, 1215, 1216, 1217, 1218, 1219, 1220, 1221, 1222, 1223, 1224, 1225, 1226, 1227, 1228, 1229, 1230, 1231, 1232, 1233, 1234, 1235, 1236, 1237, 1238, 1239, 1240, 1241, 1242, 1243, 1244, 1245, 1246, 1247, 1248, 1249, 1250, 1251, 1252, 1253, 1254, 1255, 1256, 1257, 1258, 1259, 1260, 1261, 1262, 1263, 1264, 1265, 1266, 1267, 1268, 1269, 1270, 1271, 1272, 1273, 1274, 1275, 1276, 1277, 1278, 1279, 1280, 1281, 1282, 1283, 1284, 1285, 1286, 1287, 1289, 1290, 1291, 1292, 1293, 1294, 1295, 1296, 1297, 1298, 1299, 1300, 1301, 1302, 1303, 1304, 1305, 1306, 1307, 1308, 1309, 1310, 1311, 1312, 1313, 1314, 1315, 1316, 1317, 1318, 1319, 1320, 1321, 1322, 1323, 1325, 1326, 1327, 1328, 1329, 1330, 1331, 1332, 1333, 1334, 1335, 1336, 1337, 1338, 1339, 1340, 1341, 1342, 1343, 1344, 1346, 1347, 1348, 1349, 1350, 1351, 1352, 1353, 1354, 1355, 1356, 1357, 1358, 1359, 1360, 1361, 1362, 1363, 1364, 1365, 1366, 1367, 1368, 1369, 1370, 1371, 1372, 1373, 1374, 1375, 1376, 1377, 1378, 1379, 1380, 1381, 1382, 1383, 1384, 1385, 1386, 1387, 1388, 1389, 1390, 1391, 1392, 1393, 1394, 1395, 1396, 1397, 1398, 1399, 1400, 1401, 1402, 1403, 1404, 1405, 1406, 1407, 1408, 1409, 1410, 1411, 1412, 1413, 1414, 1415, 1416, 1417, 1418, 1419, 1420, 1421, 1422, 1423, 1424, 1425, 1426, 1427, 1428, 1429, 1430, 1431, 1432, 1433, 1434, 1435, 1436, 1437, 1438, 1439, 1440, 1441, 1442, 1443, 1444, 1445, 1446, 1447, 1448]\n"
          ],
          "name": "stdout"
        }
      ]
    },
    {
      "cell_type": "markdown",
      "metadata": {
        "id": "zyhUyxZytO7S"
      },
      "source": [
        "##MLC"
      ]
    },
    {
      "cell_type": "code",
      "metadata": {
        "id": "IfTE-TpgtnFP",
        "colab": {
          "base_uri": "https://localhost:8080/"
        },
        "outputId": "0b04b3c1-28e5-4821-bb5d-d0f1eb60ea7c"
      },
      "source": [
        "from scipy import sparse as s\n",
        "x1 = s.csr_matrix(x1)\n",
        "y1 = s.csr_matrix(y1)\n",
        "#Train and Test split\n",
        "from skmultilearn.model_selection import iterative_train_test_split \n",
        "x1_train, y1_train, x1_test, y1_test = iterative_train_test_split(x1, y1, test_size = 0.3)\n",
        "print(x1_train.shape, x1_test.shape, y1_train.shape, y1_test.shape)"
      ],
      "execution_count": null,
      "outputs": [
        {
          "output_type": "stream",
          "text": [
            "(685, 724) (293, 724) (685, 45) (293, 45)\n"
          ],
          "name": "stdout"
        }
      ]
    },
    {
      "cell_type": "markdown",
      "metadata": {
        "id": "q8jZmTwhtaps"
      },
      "source": [
        "###MLTSVM"
      ]
    },
    {
      "cell_type": "code",
      "metadata": {
        "id": "UwJHczrmtZ-P"
      },
      "source": [
        "#MLTSVM\n",
        "from skmultilearn.adapt import MLTSVM\n",
        "classifier1 = MLTSVM(max_iteration=1000,c_k=2**-6)\n",
        "# train\n",
        "classifier1.fit(x1_train, y1_train)\n",
        "# predict\n",
        "MLTSVM1_predictions = classifier1.predict(x1_test)"
      ],
      "execution_count": null,
      "outputs": []
    },
    {
      "cell_type": "markdown",
      "metadata": {
        "id": "fmNCegW6tld8"
      },
      "source": [
        "###MLKNN"
      ]
    },
    {
      "cell_type": "code",
      "metadata": {
        "id": "fwDHuylTtsIE"
      },
      "source": [
        "#MLKNN\n",
        "from skmultilearn.adapt import MLkNN\n",
        "#MLKNN is an adaptation of the kNN lazy learning algorithm for multi-label data.\n",
        "# apply MLkNN for medical dataset it has 45 labels. \n",
        "classifier2 = MLkNN(k=45)\n",
        "# train\n",
        "classifier2.fit(x1_train, y1_train)\n",
        "# predict\n",
        "MLKNN1_predictions = classifier2.predict(x1_test)"
      ],
      "execution_count": null,
      "outputs": []
    },
    {
      "cell_type": "markdown",
      "metadata": {
        "id": "mn4pHg9Ytttv"
      },
      "source": [
        "###BRKNNa"
      ]
    },
    {
      "cell_type": "code",
      "metadata": {
        "id": "EusQ5V85tuee"
      },
      "source": [
        "from skmultilearn.adapt import BRkNNaClassifier\n",
        "classifier3 = BRkNNaClassifier(k=45)\n",
        "# train\n",
        "classifier3.fit(x1_train, y1_train)\n",
        "# predict\n",
        "BR1_predictions = classifier3.predict(x1_test)"
      ],
      "execution_count": null,
      "outputs": []
    },
    {
      "cell_type": "markdown",
      "metadata": {
        "id": "f0tqNhx0ty3P"
      },
      "source": [
        "##Measuring Metrics "
      ]
    },
    {
      "cell_type": "code",
      "metadata": {
        "id": "RJWxxQZvtzNo"
      },
      "source": [
        "import sklearn.metrics as m\n",
        "#Hamming Loss\n",
        "hamming_loss_MLTSVM.append(round(m.hamming_loss(y1_test, MLTSVM1_predictions),2))\n",
        "hamming_loss_MLKNN.append(round(m.hamming_loss(y1_test, MLKNN1_predictions),2))\n",
        "hamming_loss_BRKNNa.append(round(m.hamming_loss(y1_test, BR1_predictions),2))\n",
        "\n",
        "#Accuracy\n",
        "accuracy_MLTSVM.append(round(m.accuracy_score(y1_test, MLTSVM1_predictions),2))\n",
        "accuracy_MLKNN.append(round(m.accuracy_score(y1_test, MLKNN1_predictions),2))\n",
        "accuracy_BRKNNa.append(round(m.accuracy_score(y1_test, BR1_predictions),2))\n",
        "\n",
        "#Micro Precision\n",
        "precision_MLTSVM.append(round(m.precision_score(y1_test, MLTSVM1_predictions, average='micro', zero_division='warn'),2))\n",
        "precision_MLKNN.append(round(m.precision_score(y1_test, MLKNN1_predictions, average='micro', zero_division='warn'),2))\n",
        "precision_BRKNNa.append(round(m.precision_score(y1_test, BR1_predictions, average='micro', zero_division='warn'),2))\n",
        "\n",
        "#Micro Recall\n",
        "recall_MLTSVM.append(round(m.recall_score(y1_test, MLTSVM1_predictions, average='micro',zero_division='warn'),2))\n",
        "recall_MLKNN.append(round(m.recall_score(y1_test, MLKNN1_predictions, average='micro',zero_division='warn'),2))\n",
        "recall_BRKNNa.append(round(m.recall_score(y1_test, BR1_predictions, average='micro',zero_division='warn'),2))\n",
        "#Micro F1 measure\n",
        "f1_measure_MLTSVM.append(round(m.f1_score(y1_test, MLTSVM1_predictions, average='micro',zero_division='warn'),2))\n",
        "f1_measure_MLKNN.append(round(m.f1_score(y1_test, MLKNN1_predictions, average='micro',zero_division='warn'),2))\n",
        "f1_measure_BRKNNa.append(round(m.f1_score(y1_test, BR1_predictions, average='micro',zero_division='warn'),2))"
      ],
      "execution_count": null,
      "outputs": []
    },
    {
      "cell_type": "code",
      "metadata": {
        "id": "STYO0Fz0t53n",
        "colab": {
          "base_uri": "https://localhost:8080/"
        },
        "outputId": "13649fa3-8284-4338-fabd-628f46bb4032"
      },
      "source": [
        "print(\"------------------------------\")\n",
        "print(\"\\t(Examples,Labels)\")\n",
        "print(\"------------------------------\")\n",
        "print(\"MLTSVM -> \",MLTSVM1_predictions.shape)\n",
        "print(\"MLKNN  -> \",MLKNN1_predictions.shape)\n",
        "print(\"BRKNNa -> \",BR1_predictions.shape)\n",
        "import sklearn.metrics as m\n",
        "print(\"------------------------------\")\n",
        "print(\"\\tHamming Loss\")\n",
        "print(\"------------------------------\")\n",
        "print(\"MLTSVM -> \",round(m.hamming_loss(y1_test, MLTSVM1_predictions),2))\n",
        "print(\"MLKNN  -> \",round(m.hamming_loss(y1_test, MLKNN1_predictions),2))\n",
        "print(\"BRKNNa -> \",round(m.hamming_loss(y1_test, BR1_predictions),2))\n",
        "print(\"------------------------------\")\n",
        "print(\"\\tAccuracy\")\n",
        "print(\"------------------------------\")\n",
        "print(\"MLTSVM -> \",round(m.accuracy_score(y1_test, MLTSVM1_predictions),2))\n",
        "print(\"MLKNN  -> \",round(m.accuracy_score(y1_test, MLKNN1_predictions),2))\n",
        "print(\"BRKNNa -> \",round(m.accuracy_score(y1_test, BR1_predictions),2))\n",
        "print(\"------------------------------\")\n",
        "print(\"\\tPrecision\")\n",
        "print(\"------------------------------\")\n",
        "print(\"MLTSVM -> \",round(m.precision_score(y1_test, MLTSVM1_predictions, average='micro', zero_division='warn'),2))\n",
        "print(\"MLKNN -> \",round(m.precision_score(y1_test, MLKNN1_predictions, average='micro', zero_division='warn'),2))\n",
        "print(\"BRKNNa -> \",round(m.precision_score(y1_test, BR1_predictions, average='micro', zero_division='warn'),2))\n",
        "print(\"------------------------------\")\n",
        "print(\"\\tRecall\")\n",
        "print(\"------------------------------\")\n",
        "print(\"MLTSVM -> \",round(m.recall_score(y1_test, MLTSVM1_predictions, average='micro',zero_division='warn'),2))\n",
        "print(\"MLTSVM -> \",round(m.recall_score(y1_test, MLKNN1_predictions, average='micro',zero_division='warn'),2))\n",
        "print(\"MLTSVM -> \",round(m.recall_score(y1_test, BR1_predictions, average='micro',zero_division='warn'),2))\n",
        "print(\"------------------------------\")\n",
        "print(\"\\tF1-measure\")\n",
        "print(\"------------------------------\")\n",
        "#f1=2*(p*r)/(p+r)\n",
        "print(\"MLTSVM -> \",round(m.f1_score(y1_test, MLTSVM1_predictions, average='micro',zero_division='warn'),2))\n",
        "print(\"MLTSVM -> \",round(m.f1_score(y1_test, MLKNN1_predictions, average='micro',zero_division='warn'),2))\n",
        "print(\"MLTSVM -> \",round(m.f1_score(y1_test, BR1_predictions, average='micro',zero_division='warn'),2))\n",
        "print()"
      ],
      "execution_count": null,
      "outputs": [
        {
          "output_type": "stream",
          "text": [
            "------------------------------\n",
            "\t(Examples,Labels)\n",
            "------------------------------\n",
            "MLTSVM ->  (293, 45)\n",
            "MLKNN  ->  (293, 45)\n",
            "BRKNNa ->  (293, 45)\n",
            "------------------------------\n",
            "\tHamming Loss\n",
            "------------------------------\n",
            "MLTSVM ->  0.02\n",
            "MLKNN  ->  0.02\n",
            "BRKNNa ->  0.02\n",
            "------------------------------\n",
            "\tAccuracy\n",
            "------------------------------\n",
            "MLTSVM ->  0.39\n",
            "MLKNN  ->  0.41\n",
            "BRKNNa ->  0.27\n",
            "------------------------------\n",
            "\tPrecision\n",
            "------------------------------\n",
            "MLTSVM ->  0.62\n",
            "MLKNN ->  0.85\n",
            "BRKNNa ->  0.83\n",
            "------------------------------\n",
            "\tRecall\n",
            "------------------------------\n",
            "MLTSVM ->  0.77\n",
            "MLTSVM ->  0.48\n",
            "MLTSVM ->  0.31\n",
            "------------------------------\n",
            "\tF1-measure\n",
            "------------------------------\n",
            "MLTSVM ->  0.69\n",
            "MLTSVM ->  0.61\n",
            "MLTSVM ->  0.45\n",
            "\n"
          ],
          "name": "stdout"
        }
      ]
    },
    {
      "cell_type": "markdown",
      "metadata": {
        "id": "vU-8-AQrt6SU"
      },
      "source": [
        "#02 Enron Dataset"
      ]
    },
    {
      "cell_type": "code",
      "metadata": {
        "id": "IyYRfl8Lt-UR",
        "colab": {
          "base_uri": "https://localhost:8080/"
        },
        "outputId": "0bad4d46-2513-4052-d2b2-da84715295f9"
      },
      "source": [
        "from skmultilearn.dataset import load_dataset\n",
        "x2,y2, _, _ = load_dataset('enron', 'undivided')\n",
        "print(\"Actual Dataset\")\n",
        "print(x2.shape,y2.shape)\n",
        "#change to matrix\n",
        "x2=x2.todense()\n",
        "y2=y2.todense()\n",
        "import pandas as pd\n",
        "#change to dataFrame\n",
        "x2=pd.DataFrame(x2)\n",
        "y2=pd.DataFrame(y2)\n",
        "print(\"Coverted into Dataframe\")\n",
        "print(x2.shape,y2.shape)"
      ],
      "execution_count": null,
      "outputs": [
        {
          "output_type": "stream",
          "text": [
            "enron:undivided - does not exists downloading\n",
            "Downloaded enron-undivided\n",
            "Actual Dataset\n",
            "(1702, 1001) (1702, 53)\n",
            "Coverted into Dataframe\n",
            "(1702, 1001) (1702, 53)\n"
          ],
          "name": "stdout"
        }
      ]
    },
    {
      "cell_type": "markdown",
      "metadata": {
        "id": "gMVAXWfpt_2z"
      },
      "source": [
        "##Feature Selection "
      ]
    },
    {
      "cell_type": "code",
      "metadata": {
        "id": "7w6V8XyMuBkh",
        "colab": {
          "base_uri": "https://localhost:8080/"
        },
        "outputId": "0f764413-9fc3-4eb3-a4b7-fc7d314c5451"
      },
      "source": [
        "# import the required functions and object.\n",
        "from sklearn.feature_selection import mutual_info_classif\n",
        "from sklearn.feature_selection import SelectKBest\n",
        "import numpy as np\n",
        "import pandas as pd\n",
        "\n",
        "# select the number of features you want to retain.\n",
        "select_k1 = round(len(x2.columns)*0.4)\n",
        "print(\"40% features of medical dataset = \",select_k1)\n",
        "\n",
        "# get only the numerical features.\n",
        "numerical_x2 =x2[x2.select_dtypes([np.number]).columns]\n",
        "features_selected_40=[]\n",
        "features_weights=[]\n",
        "for a in range(len(x2.columns)):\n",
        "   features_weights.append(0)\n",
        "for i in range(len(y2.columns)):\n",
        "  # create the SelectKBest with the mutual info strategy.\n",
        "  selection =SelectKBest(mutual_info_classif, k=select_k1).fit(numerical_x2, y2.iloc[:,i])\n",
        "\n",
        "  # display the retained features.\n",
        "  features=list(x2.columns[selection.get_support()])\n",
        "  labels=y2.columns[i]\n",
        "  features_selected_40.append([labels, features])\n",
        "  #print(features_selected_40[i])\n",
        "\n",
        "  #calculating weight for each feature\n",
        "  #if a feature is correlate to label count them and than divide it by total labels\n",
        "  for f in features:\n",
        "    for count in range(len(x2.columns)):\n",
        "      if(f==x2.columns[count]):\n",
        "        features_weights[count]+=1\n",
        "list_f_w={}\n",
        "#if a feature is correlate to label count them and than divide it by total labels \n",
        "for i in range(len(x2.columns)):\n",
        "  features_weights[i]=round(features_weights[i]/len(x2.columns),3)\n",
        "  list_f_w.update({x2.columns[i] : features_weights[i]})"
      ],
      "execution_count": null,
      "outputs": [
        {
          "output_type": "stream",
          "text": [
            "40% features of medical dataset =  400\n"
          ],
          "name": "stdout"
        }
      ]
    },
    {
      "cell_type": "code",
      "metadata": {
        "id": "A5ipLeKTuDyK"
      },
      "source": [
        "#sort weights\n",
        "import operator\n",
        "sorted_list_f_w = sorted(list_f_w.items(), key=operator.itemgetter(1), reverse=True)\n",
        "import collections\n",
        "sorted_dict_f = collections.OrderedDict(sorted_list_f_w)\n",
        "#print(sorted_dict_f)"
      ],
      "execution_count": null,
      "outputs": []
    },
    {
      "cell_type": "code",
      "metadata": {
        "id": "SVitBoyluFqv",
        "colab": {
          "base_uri": "https://localhost:8080/"
        },
        "outputId": "a5abec6a-22cc-4d46-a254-14d45d071065"
      },
      "source": [
        "#now, access top 50% weighted features(keys)\n",
        "final_features=[]\n",
        "found=False\n",
        "for i in range(round(len(x2.columns)*0.5)):\n",
        "    final_features.append(list(sorted_dict_f.keys())[i])\n",
        "final_features.sort()\n",
        "\n",
        "#drop other than top 50% weighted features\n",
        "selected_features = set(x2.columns).intersection(final_features)\n",
        "\n",
        "#print(set(x.columns))\n",
        "print(selected_features)\n",
        "\n",
        "for i in list(x2.columns):\n",
        "    if i not in selected_features:\n",
        "        x2 = x2.drop(columns=[i])\n",
        "\n",
        "#print(set(x.columns) == selected_features)"
      ],
      "execution_count": null,
      "outputs": [
        {
          "output_type": "stream",
          "text": [
            "{2, 3, 6, 9, 14, 17, 26, 29, 30, 32, 41, 54, 55, 60, 64, 68, 71, 74, 76, 78, 80, 82, 83, 85, 86, 90, 91, 94, 95, 98, 102, 103, 106, 107, 108, 109, 112, 113, 114, 115, 117, 118, 120, 122, 123, 124, 127, 129, 130, 131, 133, 138, 139, 140, 141, 144, 147, 150, 154, 155, 159, 160, 161, 162, 165, 166, 167, 168, 169, 170, 171, 172, 177, 178, 183, 186, 188, 191, 192, 194, 195, 196, 199, 200, 201, 202, 210, 212, 213, 214, 215, 216, 217, 220, 221, 223, 226, 227, 228, 230, 232, 233, 235, 236, 238, 243, 248, 249, 251, 252, 253, 254, 255, 256, 261, 262, 263, 264, 266, 267, 268, 269, 270, 272, 273, 274, 278, 279, 282, 287, 288, 291, 292, 294, 298, 301, 302, 303, 304, 310, 312, 313, 319, 320, 322, 323, 324, 325, 326, 327, 328, 331, 332, 333, 339, 340, 343, 346, 347, 348, 349, 350, 352, 353, 355, 357, 358, 359, 364, 365, 368, 369, 370, 371, 373, 374, 376, 378, 380, 381, 385, 388, 390, 395, 397, 399, 402, 403, 408, 409, 413, 414, 425, 426, 428, 429, 430, 431, 433, 434, 435, 436, 441, 443, 444, 447, 448, 449, 451, 456, 457, 458, 459, 461, 462, 464, 466, 469, 471, 472, 477, 480, 481, 482, 483, 485, 486, 489, 490, 491, 492, 493, 494, 495, 497, 498, 499, 501, 502, 505, 507, 510, 515, 521, 522, 525, 529, 531, 532, 536, 540, 542, 543, 544, 545, 547, 549, 552, 553, 555, 558, 560, 562, 563, 564, 565, 566, 568, 569, 570, 571, 572, 576, 577, 578, 579, 581, 583, 585, 587, 588, 593, 596, 604, 608, 609, 610, 611, 615, 616, 617, 619, 620, 621, 624, 625, 629, 635, 639, 643, 644, 645, 647, 648, 649, 651, 652, 655, 657, 659, 660, 661, 662, 663, 664, 666, 672, 674, 675, 679, 682, 683, 685, 689, 691, 692, 693, 694, 695, 698, 700, 701, 702, 703, 704, 705, 709, 710, 711, 712, 714, 718, 719, 720, 722, 724, 728, 731, 733, 734, 736, 737, 739, 740, 741, 743, 748, 749, 750, 751, 753, 755, 758, 759, 760, 761, 763, 764, 767, 768, 769, 770, 771, 775, 776, 780, 782, 783, 784, 787, 790, 792, 793, 796, 798, 799, 802, 803, 805, 806, 808, 810, 811, 814, 816, 817, 819, 821, 824, 825, 826, 827, 835, 836, 838, 839, 840, 841, 842, 843, 844, 848, 854, 855, 856, 857, 858, 860, 862, 863, 865, 866, 867, 868, 870, 872, 874, 875, 876, 877, 878, 880, 881, 882, 883, 884, 886, 887, 888, 890, 893, 895, 896, 900, 903, 907, 908, 909, 911, 912, 918, 923, 927, 928, 929, 932, 937, 938, 939, 940, 941, 943, 945, 946, 947, 948, 950, 952, 957, 958, 959, 960, 961, 962, 964, 967, 969, 970, 972, 973, 974, 977, 978, 979, 980, 982, 984, 985, 986, 987, 988, 990, 991, 993, 994, 995, 997, 998, 999, 1000}\n"
          ],
          "name": "stdout"
        }
      ]
    },
    {
      "cell_type": "code",
      "metadata": {
        "id": "LYWUAgvmuJwB",
        "colab": {
          "base_uri": "https://localhost:8080/"
        },
        "outputId": "840924d3-0c93-435c-bb89-ccaef4f39599"
      },
      "source": [
        "print(x2.columns)\n",
        "print(final_features)"
      ],
      "execution_count": null,
      "outputs": [
        {
          "output_type": "stream",
          "text": [
            "Int64Index([   2,    3,    6,    9,   14,   17,   26,   29,   30,   32,\n",
            "            ...\n",
            "             988,  990,  991,  993,  994,  995,  997,  998,  999, 1000],\n",
            "           dtype='int64', length=500)\n",
            "[2, 3, 6, 9, 14, 17, 26, 29, 30, 32, 41, 54, 55, 60, 64, 68, 71, 74, 76, 78, 80, 82, 83, 85, 86, 90, 91, 94, 95, 98, 102, 103, 106, 107, 108, 109, 112, 113, 114, 115, 117, 118, 120, 122, 123, 124, 127, 129, 130, 131, 133, 138, 139, 140, 141, 144, 147, 150, 154, 155, 159, 160, 161, 162, 165, 166, 167, 168, 169, 170, 171, 172, 177, 178, 183, 186, 188, 191, 192, 194, 195, 196, 199, 200, 201, 202, 210, 212, 213, 214, 215, 216, 217, 220, 221, 223, 226, 227, 228, 230, 232, 233, 235, 236, 238, 243, 248, 249, 251, 252, 253, 254, 255, 256, 261, 262, 263, 264, 266, 267, 268, 269, 270, 272, 273, 274, 278, 279, 282, 287, 288, 291, 292, 294, 298, 301, 302, 303, 304, 310, 312, 313, 319, 320, 322, 323, 324, 325, 326, 327, 328, 331, 332, 333, 339, 340, 343, 346, 347, 348, 349, 350, 352, 353, 355, 357, 358, 359, 364, 365, 368, 369, 370, 371, 373, 374, 376, 378, 380, 381, 385, 388, 390, 395, 397, 399, 402, 403, 408, 409, 413, 414, 425, 426, 428, 429, 430, 431, 433, 434, 435, 436, 441, 443, 444, 447, 448, 449, 451, 456, 457, 458, 459, 461, 462, 464, 466, 469, 471, 472, 477, 480, 481, 482, 483, 485, 486, 489, 490, 491, 492, 493, 494, 495, 497, 498, 499, 501, 502, 505, 507, 510, 515, 521, 522, 525, 529, 531, 532, 536, 540, 542, 543, 544, 545, 547, 549, 552, 553, 555, 558, 560, 562, 563, 564, 565, 566, 568, 569, 570, 571, 572, 576, 577, 578, 579, 581, 583, 585, 587, 588, 593, 596, 604, 608, 609, 610, 611, 615, 616, 617, 619, 620, 621, 624, 625, 629, 635, 639, 643, 644, 645, 647, 648, 649, 651, 652, 655, 657, 659, 660, 661, 662, 663, 664, 666, 672, 674, 675, 679, 682, 683, 685, 689, 691, 692, 693, 694, 695, 698, 700, 701, 702, 703, 704, 705, 709, 710, 711, 712, 714, 718, 719, 720, 722, 724, 728, 731, 733, 734, 736, 737, 739, 740, 741, 743, 748, 749, 750, 751, 753, 755, 758, 759, 760, 761, 763, 764, 767, 768, 769, 770, 771, 775, 776, 780, 782, 783, 784, 787, 790, 792, 793, 796, 798, 799, 802, 803, 805, 806, 808, 810, 811, 814, 816, 817, 819, 821, 824, 825, 826, 827, 835, 836, 838, 839, 840, 841, 842, 843, 844, 848, 854, 855, 856, 857, 858, 860, 862, 863, 865, 866, 867, 868, 870, 872, 874, 875, 876, 877, 878, 880, 881, 882, 883, 884, 886, 887, 888, 890, 893, 895, 896, 900, 903, 907, 908, 909, 911, 912, 918, 923, 927, 928, 929, 932, 937, 938, 939, 940, 941, 943, 945, 946, 947, 948, 950, 952, 957, 958, 959, 960, 961, 962, 964, 967, 969, 970, 972, 973, 974, 977, 978, 979, 980, 982, 984, 985, 986, 987, 988, 990, 991, 993, 994, 995, 997, 998, 999, 1000]\n"
          ],
          "name": "stdout"
        }
      ]
    },
    {
      "cell_type": "markdown",
      "metadata": {
        "id": "3Od5xX-luKLz"
      },
      "source": [
        "##MLC"
      ]
    },
    {
      "cell_type": "code",
      "metadata": {
        "id": "JLW2vhrguK4U",
        "colab": {
          "base_uri": "https://localhost:8080/"
        },
        "outputId": "b8c11430-1ffe-41e7-b2ac-f4a92dd873b5"
      },
      "source": [
        "from scipy import sparse as s\n",
        "x2 = s.csr_matrix(x2)\n",
        "y2 = s.csr_matrix(y2)\n",
        "#Train and Test split\n",
        "from skmultilearn.model_selection import iterative_train_test_split \n",
        "x2_train, y2_train, x2_test, y2_test = iterative_train_test_split(x2, y2, test_size = 0.3)\n",
        "print(x2_train.shape, x2_test.shape, y2_train.shape, y2_test.shape)"
      ],
      "execution_count": null,
      "outputs": [
        {
          "output_type": "stream",
          "text": [
            "(1194, 500) (508, 500) (1194, 53) (508, 53)\n"
          ],
          "name": "stdout"
        }
      ]
    },
    {
      "cell_type": "markdown",
      "metadata": {
        "id": "N6KZiyfvuQNI"
      },
      "source": [
        "###MLTSVM"
      ]
    },
    {
      "cell_type": "code",
      "metadata": {
        "id": "51GjaTCNuTcU"
      },
      "source": [
        "#from skmultilearn.adapt import MLTSVM\n",
        "classifier1 = MLTSVM(c_k =2**-6)\n",
        "# train\n",
        "classifier1.fit(x2_train, y2_train)\n",
        "# predict\n",
        "MLTSVM2_predictions = classifier1.predict(x2_test)"
      ],
      "execution_count": null,
      "outputs": []
    },
    {
      "cell_type": "markdown",
      "metadata": {
        "id": "Zfu9hGiyuT9V"
      },
      "source": [
        "###MLKNN"
      ]
    },
    {
      "cell_type": "code",
      "metadata": {
        "id": "d6sYN-ADuU6q"
      },
      "source": [
        "from skmultilearn.adapt import MLkNN\n",
        "#MLKNN is an adaptation of the kNN lazy learning algorithm for multi-label data.\n",
        "# apply MLkNN for enron dataset it has 53 labels. \n",
        "classifier2 = MLkNN(k=53)\n",
        "\n",
        "# train\n",
        "classifier2.fit(x2_train, y2_train)\n",
        "\n",
        "# predict\n",
        "MLKNN2_predictions = classifier2.predict(x2_test)"
      ],
      "execution_count": null,
      "outputs": []
    },
    {
      "cell_type": "markdown",
      "metadata": {
        "id": "nACxA5xquXOm"
      },
      "source": [
        "###BRKNNa"
      ]
    },
    {
      "cell_type": "code",
      "metadata": {
        "id": "m31OUc57ub62"
      },
      "source": [
        "from skmultilearn.adapt import BRkNNaClassifier\n",
        "classifier3 = BRkNNaClassifier(k=53)\n",
        "# train\n",
        "classifier3.fit(x2_train, y2_train)\n",
        "# predict\n",
        "BR2_predictions = classifier3.predict(x2_test)"
      ],
      "execution_count": null,
      "outputs": []
    },
    {
      "cell_type": "markdown",
      "metadata": {
        "id": "RQz8TeXFufzM"
      },
      "source": [
        "##Measuring Metrics "
      ]
    },
    {
      "cell_type": "code",
      "metadata": {
        "id": "Ewrpo_LTugLI"
      },
      "source": [
        "import sklearn.metrics as m\n",
        "#Hamming Loss\n",
        "hamming_loss_MLTSVM.append(round(m.hamming_loss(y2_test, MLTSVM2_predictions),2))\n",
        "hamming_loss_MLKNN.append(round(m.hamming_loss(y2_test, MLKNN2_predictions),2))\n",
        "hamming_loss_BRKNNa.append(round(m.hamming_loss(y2_test, BR2_predictions),2))\n",
        "\n",
        "#Accuracy\n",
        "accuracy_MLTSVM.append(round(m.accuracy_score(y2_test, MLTSVM2_predictions),2))\n",
        "accuracy_MLKNN.append(round(m.accuracy_score(y2_test, MLKNN2_predictions),2))\n",
        "accuracy_BRKNNa.append(round(m.accuracy_score(y2_test, BR2_predictions),2))\n",
        "\n",
        "#Micro Precision\n",
        "precision_MLTSVM.append(round(m.precision_score(y2_test, MLTSVM2_predictions, average='micro', zero_division='warn'),2))\n",
        "precision_MLKNN.append(round(m.precision_score(y2_test, MLKNN2_predictions, average='micro', zero_division='warn'),2))\n",
        "precision_BRKNNa.append(round(m.precision_score(y2_test, BR2_predictions, average='micro', zero_division='warn'),2))\n",
        "\n",
        "#Micro Recall\n",
        "recall_MLTSVM.append(round(m.recall_score(y2_test, MLTSVM2_predictions, average='micro',zero_division='warn'),2))\n",
        "recall_MLKNN.append(round(m.recall_score(y2_test, MLKNN2_predictions, average='micro',zero_division='warn'),2))\n",
        "recall_BRKNNa.append(round(m.recall_score(y2_test, BR2_predictions, average='micro',zero_division='warn'),2))\n",
        "#Micro F1 measure\n",
        "f1_measure_MLTSVM.append(round(m.f1_score(y2_test, MLTSVM2_predictions, average='micro',zero_division='warn'),2))\n",
        "f1_measure_MLKNN.append(round(m.f1_score(y2_test, MLKNN2_predictions, average='micro',zero_division='warn'),2))\n",
        "f1_measure_BRKNNa.append(round(m.f1_score(y2_test, BR2_predictions, average='micro',zero_division='warn'),2))"
      ],
      "execution_count": null,
      "outputs": []
    },
    {
      "cell_type": "code",
      "metadata": {
        "id": "t5U-NXnjuqC1",
        "colab": {
          "base_uri": "https://localhost:8080/"
        },
        "outputId": "a279583a-719b-4cee-8cea-a8729caf04fb"
      },
      "source": [
        "print(\"------------------------------\")\n",
        "print(\"\\t(Examples,Labels)\")\n",
        "print(\"------------------------------\")\n",
        "print(\"MLTSVM -> \",MLTSVM2_predictions.shape)\n",
        "print(\"MLKNN  -> \",MLKNN2_predictions.shape)\n",
        "print(\"BRKNNa -> \",BR2_predictions.shape)\n",
        "import sklearn.metrics as m\n",
        "print(\"------------------------------\")\n",
        "print(\"\\tHamming Loss\")\n",
        "print(\"------------------------------\")\n",
        "print(\"MLTSVM -> \",round(m.hamming_loss(y2_test, MLTSVM2_predictions),2))\n",
        "print(\"MLKNN  -> \",round(m.hamming_loss(y2_test, MLKNN2_predictions),2))\n",
        "print(\"BRKNNa -> \",round(m.hamming_loss(y2_test, BR2_predictions),2))\n",
        "print(\"------------------------------\")\n",
        "print(\"\\tAccuracy\")\n",
        "print(\"------------------------------\")\n",
        "print(\"MLTSVM -> \",round(m.accuracy_score(y2_test, MLTSVM2_predictions),2))\n",
        "print(\"MLKNN  -> \",round(m.accuracy_score(y2_test, MLKNN2_predictions),2))\n",
        "print(\"BRKNNa -> \",round(m.accuracy_score(y2_test, BR2_predictions),2))\n",
        "print(\"------------------------------\")\n",
        "print(\"\\tPrecision\")\n",
        "print(\"------------------------------\")\n",
        "print(\"MLTSVM -> \",round(m.precision_score(y2_test, MLTSVM2_predictions, average='micro', zero_division='warn'),2))\n",
        "print(\"MLKNN -> \",round(m.precision_score(y2_test, MLKNN2_predictions, average='micro', zero_division='warn'),2))\n",
        "print(\"BRKNNa -> \",round(m.precision_score(y2_test, BR2_predictions, average='micro', zero_division='warn'),2))\n",
        "print(\"------------------------------\")\n",
        "print(\"\\tRecall\")\n",
        "print(\"------------------------------\")\n",
        "print(\"MLTSVM -> \",round(m.recall_score(y2_test, MLTSVM2_predictions, average='micro',zero_division='warn'),2))\n",
        "print(\"MLTSVM -> \",round(m.recall_score(y2_test, MLKNN2_predictions, average='micro',zero_division='warn'),2))\n",
        "print(\"MLTSVM -> \",round(m.recall_score(y2_test, BR2_predictions, average='micro',zero_division='warn'),2))\n",
        "print(\"------------------------------\")\n",
        "print(\"\\tF1-measure\")\n",
        "print(\"------------------------------\")\n",
        "#f1=2*(p*r)/(p+r)\n",
        "print(\"MLTSVM -> \",round(m.f1_score(y2_test, MLTSVM2_predictions, average='micro',zero_division='warn'),2))\n",
        "print(\"MLTSVM -> \",round(m.f1_score(y2_test, MLKNN2_predictions, average='micro',zero_division='warn'),2))\n",
        "print(\"MLTSVM -> \",round(m.f1_score(y2_test, BR2_predictions, average='micro',zero_division='warn'),2))\n",
        "print()"
      ],
      "execution_count": null,
      "outputs": [
        {
          "output_type": "stream",
          "text": [
            "------------------------------\n",
            "\t(Examples,Labels)\n",
            "------------------------------\n",
            "MLTSVM ->  (508, 53)\n",
            "MLKNN  ->  (508, 53)\n",
            "BRKNNa ->  (508, 53)\n",
            "------------------------------\n",
            "\tHamming Loss\n",
            "------------------------------\n",
            "MLTSVM ->  0.07\n",
            "MLKNN  ->  0.06\n",
            "BRKNNa ->  0.06\n",
            "------------------------------\n",
            "\tAccuracy\n",
            "------------------------------\n",
            "MLTSVM ->  0.02\n",
            "MLKNN  ->  0.06\n",
            "BRKNNa ->  0.08\n",
            "------------------------------\n",
            "\tPrecision\n",
            "------------------------------\n",
            "MLTSVM ->  0.43\n",
            "MLKNN ->  0.64\n",
            "BRKNNa ->  0.62\n",
            "------------------------------\n",
            "\tRecall\n",
            "------------------------------\n",
            "MLTSVM ->  0.38\n",
            "MLTSVM ->  0.35\n",
            "MLTSVM ->  0.16\n",
            "------------------------------\n",
            "\tF1-measure\n",
            "------------------------------\n",
            "MLTSVM ->  0.4\n",
            "MLTSVM ->  0.45\n",
            "MLTSVM ->  0.26\n",
            "\n"
          ],
          "name": "stdout"
        }
      ]
    },
    {
      "cell_type": "markdown",
      "metadata": {
        "id": "2NKIn6OyuqlM"
      },
      "source": [
        "#02 Scene Dataset"
      ]
    },
    {
      "cell_type": "code",
      "metadata": {
        "id": "vuMxWX8Zuvku",
        "colab": {
          "base_uri": "https://localhost:8080/"
        },
        "outputId": "db829680-43df-4373-80e3-ad05802b8a93"
      },
      "source": [
        "#from skmultilearn.dataset import load_dataset\n",
        "x3,y3, _, _ = load_dataset('scene', 'undivided')\n",
        "print(\"Actual Dataset\")\n",
        "print(x3.shape,y3.shape)\n",
        "#change to matrix\n",
        "x3=x3.todense()\n",
        "y3=y3.todense()\n",
        "import pandas as pd\n",
        "#change to dataFrame\n",
        "x3=pd.DataFrame(x3)\n",
        "y3=pd.DataFrame(y3)\n",
        "print(\"Coverted into Dataframe\")\n",
        "print(x3.shape,y3.shape)"
      ],
      "execution_count": null,
      "outputs": [
        {
          "output_type": "stream",
          "text": [
            "scene:undivided - does not exists downloading\n",
            "Downloaded scene-undivided\n",
            "Actual Dataset\n",
            "(2407, 294) (2407, 6)\n",
            "Coverted into Dataframe\n",
            "(2407, 294) (2407, 6)\n"
          ],
          "name": "stdout"
        }
      ]
    },
    {
      "cell_type": "markdown",
      "metadata": {
        "id": "w3AYg-o8uxLL"
      },
      "source": [
        "##Feature Selection"
      ]
    },
    {
      "cell_type": "code",
      "metadata": {
        "id": "yqOULdqzuygV",
        "colab": {
          "base_uri": "https://localhost:8080/"
        },
        "outputId": "9798bc96-c643-479d-e97a-e1e8e067d929"
      },
      "source": [
        "# import the required functions and object.\n",
        "from sklearn.feature_selection import mutual_info_classif\n",
        "from sklearn.feature_selection import SelectKBest\n",
        "import numpy as np\n",
        "import pandas as pd\n",
        "\n",
        "# select the number of features you want to retain.\n",
        "select_k1 = round(len(x3.columns)*0.4)\n",
        "print(\"40% features of medical dataset = \",select_k1)\n",
        "\n",
        "# get only the numerical features.\n",
        "numerical_x3 =x3[x3.select_dtypes([np.number]).columns]\n",
        "features_selected_40=[]\n",
        "features_weights=[]\n",
        "for a in range(len(x3.columns)):\n",
        "   features_weights.append(0)\n",
        "for i in range(len(y3.columns)):\n",
        "  # create the SelectKBest with the mutual info strategy.\n",
        "  selection =SelectKBest(mutual_info_classif, k=select_k1).fit(numerical_x3, y3.iloc[:,i])\n",
        "\n",
        "  # display the retained features.\n",
        "  features=list(x3.columns[selection.get_support()])\n",
        "  labels=y3.columns[i]\n",
        "  features_selected_40.append([labels, features])\n",
        "  #print(features_selected_40[i])\n",
        "\n",
        "  #calculating weight for each feature\n",
        "  #if a feature is correlate to label count them and than divide it by total labels\n",
        "  for f in features:\n",
        "    for count in range(len(x3.columns)):\n",
        "      if(f==x3.columns[count]):\n",
        "        features_weights[count]+=1\n",
        "list_f_w={}\n",
        "#if a feature is correlate to label count them and than divide it by total labels \n",
        "for i in range(len(x3.columns)):\n",
        "  features_weights[i]=round(features_weights[i]/len(x3.columns),3)\n",
        "  list_f_w.update({x3.columns[i] : features_weights[i]})"
      ],
      "execution_count": null,
      "outputs": [
        {
          "output_type": "stream",
          "text": [
            "40% features of medical dataset =  118\n"
          ],
          "name": "stdout"
        }
      ]
    },
    {
      "cell_type": "code",
      "metadata": {
        "id": "tdtm4ikmu0o2"
      },
      "source": [
        "#sort weights\n",
        "import operator\n",
        "sorted_list_f_w = sorted(list_f_w.items(), key=operator.itemgetter(1), reverse=True)\n",
        "import collections\n",
        "sorted_dict_f = collections.OrderedDict(sorted_list_f_w)\n",
        "#print(sorted_dict_f)"
      ],
      "execution_count": null,
      "outputs": []
    },
    {
      "cell_type": "code",
      "metadata": {
        "id": "w4i0cnIQu38R",
        "colab": {
          "base_uri": "https://localhost:8080/"
        },
        "outputId": "ea13546e-21a2-4e7c-d4df-7a3e8fb7a169"
      },
      "source": [
        "#now, access top 50% weighted features(keys)\n",
        "final_features=[]\n",
        "found=False\n",
        "for i in range(round(len(x3.columns)*0.5)):\n",
        "    final_features.append(list(sorted_dict_f.keys())[i])\n",
        "final_features.sort()\n",
        "\n",
        "#drop other than top 50% weighted features\n",
        "selected_features = set(x3.columns).intersection(final_features)\n",
        "\n",
        "#print(set(x.columns))\n",
        "print(selected_features)\n",
        "\n",
        "for i in list(x3.columns):\n",
        "    if i not in selected_features:\n",
        "        x3 = x3.drop(columns=[i])\n",
        "\n",
        "#print(set(x.columns) == selected_features)"
      ],
      "execution_count": null,
      "outputs": [
        {
          "output_type": "stream",
          "text": [
            "{1, 2, 3, 5, 6, 11, 21, 28, 29, 30, 31, 32, 33, 34, 35, 36, 37, 38, 39, 40, 41, 42, 43, 44, 45, 46, 47, 48, 51, 52, 53, 54, 73, 79, 81, 85, 86, 87, 88, 89, 90, 91, 92, 93, 94, 95, 96, 97, 98, 99, 100, 101, 102, 103, 104, 105, 106, 107, 108, 109, 110, 111, 112, 113, 114, 115, 116, 117, 118, 119, 120, 121, 122, 123, 124, 125, 126, 127, 128, 129, 130, 131, 132, 133, 134, 135, 136, 137, 142, 143, 144, 145, 147, 152, 156, 165, 167, 170, 171, 182, 196, 197, 198, 199, 200, 201, 202, 203, 204, 205, 206, 207, 208, 209, 210, 211, 212, 213, 214, 215, 216, 217, 218, 219, 220, 221, 222, 223, 224, 225, 226, 227, 228, 229, 230, 232, 233, 234, 235, 236, 237, 238, 239, 240, 241, 242, 243}\n"
          ],
          "name": "stdout"
        }
      ]
    },
    {
      "cell_type": "code",
      "metadata": {
        "id": "DW1LTOHpu626",
        "colab": {
          "base_uri": "https://localhost:8080/"
        },
        "outputId": "f254c75e-5990-4654-e6d8-45ffc8af0e7f"
      },
      "source": [
        "print(x3.columns)\n",
        "print(final_features)"
      ],
      "execution_count": null,
      "outputs": [
        {
          "output_type": "stream",
          "text": [
            "Int64Index([  1,   2,   3,   5,   6,  11,  21,  28,  29,  30,\n",
            "            ...\n",
            "            234, 235, 236, 237, 238, 239, 240, 241, 242, 243],\n",
            "           dtype='int64', length=147)\n",
            "[1, 2, 3, 5, 6, 11, 21, 28, 29, 30, 31, 32, 33, 34, 35, 36, 37, 38, 39, 40, 41, 42, 43, 44, 45, 46, 47, 48, 51, 52, 53, 54, 73, 79, 81, 85, 86, 87, 88, 89, 90, 91, 92, 93, 94, 95, 96, 97, 98, 99, 100, 101, 102, 103, 104, 105, 106, 107, 108, 109, 110, 111, 112, 113, 114, 115, 116, 117, 118, 119, 120, 121, 122, 123, 124, 125, 126, 127, 128, 129, 130, 131, 132, 133, 134, 135, 136, 137, 142, 143, 144, 145, 147, 152, 156, 165, 167, 170, 171, 182, 196, 197, 198, 199, 200, 201, 202, 203, 204, 205, 206, 207, 208, 209, 210, 211, 212, 213, 214, 215, 216, 217, 218, 219, 220, 221, 222, 223, 224, 225, 226, 227, 228, 229, 230, 232, 233, 234, 235, 236, 237, 238, 239, 240, 241, 242, 243]\n"
          ],
          "name": "stdout"
        }
      ]
    },
    {
      "cell_type": "markdown",
      "metadata": {
        "id": "6ODh61eWu7TH"
      },
      "source": [
        "##MLC"
      ]
    },
    {
      "cell_type": "code",
      "metadata": {
        "id": "zDzIhQqYu-ml",
        "colab": {
          "base_uri": "https://localhost:8080/"
        },
        "outputId": "a340397e-ee7d-4078-966c-c4c63086dcb8"
      },
      "source": [
        "from scipy import sparse as s\n",
        "x3 = s.csr_matrix(x3)\n",
        "y3 = s.csr_matrix(y3)\n",
        "#Train and Test Split\n",
        "from skmultilearn.model_selection import iterative_train_test_split \n",
        "x3_train, y3_train, x3_test, y3_test = iterative_train_test_split(x3, y3, test_size = 0.3)\n",
        "print(x3_train.shape, x3_test.shape, y3_train.shape, y3_test.shape)"
      ],
      "execution_count": null,
      "outputs": [
        {
          "output_type": "stream",
          "text": [
            "(1685, 147) (722, 147) (1685, 6) (722, 6)\n"
          ],
          "name": "stdout"
        }
      ]
    },
    {
      "cell_type": "markdown",
      "metadata": {
        "id": "M47Z_LlBvDDL"
      },
      "source": [
        "###MLTSVM"
      ]
    },
    {
      "cell_type": "code",
      "metadata": {
        "id": "xe-0uXVGvGb2"
      },
      "source": [
        "#from skmultilearn.adapt import MLTSVM\n",
        "classifier1 = MLTSVM(c_k =2**-6)\n",
        "# train\n",
        "classifier1.fit(x3_train, y3_train)\n",
        "# predict\n",
        "MLTSVM3_predictions = classifier1.predict(x3_test)"
      ],
      "execution_count": null,
      "outputs": []
    },
    {
      "cell_type": "markdown",
      "metadata": {
        "id": "1Ww1LoIlvG_j"
      },
      "source": [
        "###MLKNN"
      ]
    },
    {
      "cell_type": "code",
      "metadata": {
        "id": "_yRZeavrvH12"
      },
      "source": [
        "#from skmultilearn.adapt import MLkNN\n",
        "#MLKNN is an adaptation of the kNN lazy learning algorithm for multi-label data.\n",
        "# apply MLkNN for Scene dataset it has 6 labels. \n",
        "classifier2 = MLkNN(k=6)\n",
        "\n",
        "# train\n",
        "classifier2.fit(x3_train, y3_train)\n",
        "\n",
        "# predict\n",
        "MLKNN3_predictions = classifier2.predict(x3_test)"
      ],
      "execution_count": null,
      "outputs": []
    },
    {
      "cell_type": "markdown",
      "metadata": {
        "id": "JexLW-s9vJ7a"
      },
      "source": [
        "###BRKNNa"
      ]
    },
    {
      "cell_type": "code",
      "metadata": {
        "id": "zS0y5mXsvK0_"
      },
      "source": [
        "from skmultilearn.adapt import BRkNNaClassifier\n",
        "classifier3 = BRkNNaClassifier(k=6)\n",
        "# train\n",
        "classifier3.fit(x3_train, y3_train)\n",
        "# predict\n",
        "BR3_predictions = classifier3.predict(x3_test)"
      ],
      "execution_count": null,
      "outputs": []
    },
    {
      "cell_type": "markdown",
      "metadata": {
        "id": "TpgexzmlvPbM"
      },
      "source": [
        "##Measuring Metrics "
      ]
    },
    {
      "cell_type": "code",
      "metadata": {
        "id": "Eyz0WvlNvPvO"
      },
      "source": [
        "import sklearn.metrics as m\n",
        "#Hamming Loss\n",
        "hamming_loss_MLTSVM.append(round(m.hamming_loss(y3_test, MLTSVM3_predictions),2))\n",
        "hamming_loss_MLKNN.append(round(m.hamming_loss(y3_test, MLKNN3_predictions),2))\n",
        "hamming_loss_BRKNNa.append(round(m.hamming_loss(y3_test, BR3_predictions),2))\n",
        "\n",
        "#Accuracy\n",
        "accuracy_MLTSVM.append(round(m.accuracy_score(y3_test, MLTSVM3_predictions),2))\n",
        "accuracy_MLKNN.append(round(m.accuracy_score(y3_test, MLKNN3_predictions),2))\n",
        "accuracy_BRKNNa.append(round(m.accuracy_score(y3_test, BR3_predictions),2))\n",
        "\n",
        "#Micro Precision\n",
        "precision_MLTSVM.append(round(m.precision_score(y3_test, MLTSVM3_predictions, average='micro', zero_division='warn'),2))\n",
        "precision_MLKNN.append(round(m.precision_score(y3_test, MLKNN3_predictions, average='micro', zero_division='warn'),2))\n",
        "precision_BRKNNa.append(round(m.precision_score(y3_test, BR3_predictions, average='micro', zero_division='warn'),2))\n",
        "\n",
        "#Micro Recall\n",
        "recall_MLTSVM.append(round(m.recall_score(y3_test, MLTSVM3_predictions, average='micro',zero_division='warn'),2))\n",
        "recall_MLKNN.append(round(m.recall_score(y3_test, MLKNN3_predictions, average='micro',zero_division='warn'),2))\n",
        "recall_BRKNNa.append(round(m.recall_score(y3_test, BR3_predictions, average='micro',zero_division='warn'),2))\n",
        "#Micro F1 measure\n",
        "f1_measure_MLTSVM.append(round(m.f1_score(y3_test, MLTSVM3_predictions, average='micro',zero_division='warn'),2))\n",
        "f1_measure_MLKNN.append(round(m.f1_score(y3_test, MLKNN3_predictions, average='micro',zero_division='warn'),2))\n",
        "f1_measure_BRKNNa.append(round(m.f1_score(y3_test, BR3_predictions, average='micro',zero_division='warn'),2))"
      ],
      "execution_count": null,
      "outputs": []
    },
    {
      "cell_type": "code",
      "metadata": {
        "id": "lge9OBQ8vV8m",
        "colab": {
          "base_uri": "https://localhost:8080/"
        },
        "outputId": "5bdc9ba8-f22a-49fd-a005-f90b4d672edd"
      },
      "source": [
        "print(\"------------------------------\")\n",
        "print(\"\\t(Examples,Labels\")\n",
        "print(\"------------------------------\")\n",
        "print(\"MLTSVM -> \",MLTSVM3_predictions.shape)\n",
        "print(\"MLKNN  -> \",MLKNN3_predictions.shape)\n",
        "print(\"BRKNNa -> \",BR3_predictions.shape)\n",
        "import sklearn.metrics as m\n",
        "print(\"------------------------------\")\n",
        "print(\"\\tHamming Loss\")\n",
        "print(\"------------------------------\")\n",
        "print(\"MLTSVM -> \",round(m.hamming_loss(y3_test, MLTSVM3_predictions),2))\n",
        "print(\"MLKNN  -> \",round(m.hamming_loss(y3_test, MLKNN3_predictions),2))\n",
        "print(\"BRKNNa -> \",round(m.hamming_loss(y3_test, BR3_predictions),2))\n",
        "print(\"------------------------------\")\n",
        "print(\"\\tAccuracy\")\n",
        "print(\"------------------------------\")\n",
        "print(\"MLTSVM -> \",round(m.accuracy_score(y3_test, MLTSVM3_predictions),2))\n",
        "print(\"MLKNN  -> \",round(m.accuracy_score(y3_test, MLKNN3_predictions),2))\n",
        "print(\"BRKNNa -> \",round(m.accuracy_score(y3_test, BR3_predictions),2))\n",
        "print(\"------------------------------\")\n",
        "print(\"\\tPrecision\")\n",
        "print(\"------------------------------\")\n",
        "print(\"MLTSVM -> \",round(m.precision_score(y3_test, MLTSVM3_predictions, average='micro',zero_division='warn'),2))\n",
        "print(\"MLKNN -> \",round(m.precision_score(y3_test, MLKNN3_predictions, average='micro',zero_division='warn'),2))\n",
        "print(\"BRKNNa -> \",round(m.precision_score(y3_test, BR3_predictions, average='micro',zero_division='warn'),2))\n",
        "print(\"------------------------------\")\n",
        "print(\"\\tRecall\")\n",
        "print(\"------------------------------\")\n",
        "print(\"MLTSVM -> \",round(m.recall_score(y3_test, MLTSVM3_predictions, average='micro',zero_division='warn'),2))\n",
        "print(\"MLKNN -> \",round(m.recall_score(y3_test, MLKNN3_predictions, average='micro',zero_division='warn'),2))\n",
        "print(\"BRKNNa -> \",round(m.recall_score(y3_test, BR3_predictions, average='micro',zero_division='warn'),2))\n",
        "print(\"------------------------------\")\n",
        "print(\"\\tF1-measure\")\n",
        "print(\"------------------------------\")\n",
        "#f1=2*(p*r)/(p+r)\n",
        "print(\"MLTSVM -> \",round(m.f1_score(y3_test, MLTSVM3_predictions, average='micro',zero_division='warn'),2))\n",
        "print(\"MLKNN -> \",round(m.f1_score(y3_test, MLKNN3_predictions, average='micro',zero_division='warn'),2))\n",
        "print(\"BRKNNa -> \",round(m.f1_score(y3_test, BR3_predictions, average='micro',zero_division='warn'),2))\n",
        "print()"
      ],
      "execution_count": null,
      "outputs": [
        {
          "output_type": "stream",
          "text": [
            "------------------------------\n",
            "\t(Examples,Labels\n",
            "------------------------------\n",
            "MLTSVM ->  (722, 6)\n",
            "MLKNN  ->  (722, 6)\n",
            "BRKNNa ->  (722, 6)\n",
            "------------------------------\n",
            "\tHamming Loss\n",
            "------------------------------\n",
            "MLTSVM ->  0.81\n",
            "MLKNN  ->  0.1\n",
            "BRKNNa ->  0.1\n",
            "------------------------------\n",
            "\tAccuracy\n",
            "------------------------------\n",
            "MLTSVM ->  0.0\n",
            "MLKNN  ->  0.59\n",
            "BRKNNa ->  0.55\n",
            "------------------------------\n",
            "\tPrecision\n",
            "------------------------------\n",
            "MLTSVM ->  0.18\n",
            "MLKNN ->  0.78\n",
            "BRKNNa ->  0.8\n",
            "------------------------------\n",
            "\tRecall\n",
            "------------------------------\n",
            "MLTSVM ->  1.0\n",
            "MLKNN ->  0.62\n",
            "BRKNNa ->  0.56\n",
            "------------------------------\n",
            "\tF1-measure\n",
            "------------------------------\n",
            "MLTSVM ->  0.31\n",
            "MLKNN ->  0.69\n",
            "BRKNNa ->  0.66\n",
            "\n"
          ],
          "name": "stdout"
        }
      ]
    },
    {
      "cell_type": "markdown",
      "metadata": {
        "id": "mI1Ms9ScvWhK"
      },
      "source": [
        "#04 Emotions Dataset"
      ]
    },
    {
      "cell_type": "code",
      "metadata": {
        "id": "6aj4IjmMvcaz",
        "colab": {
          "base_uri": "https://localhost:8080/"
        },
        "outputId": "929c0c06-f056-482f-9bba-51fde594b3ac"
      },
      "source": [
        "from skmultilearn.dataset import load_dataset\n",
        "x4,y4, _, _ = load_dataset('emotions', 'undivided')\n",
        "print(\"Actual Dataset\")\n",
        "print(x4.shape,y4.shape)\n",
        "#change to matrix\n",
        "x4=x4.todense()\n",
        "y4=y4.todense()\n",
        "import pandas as pd\n",
        "#change to dataFrame\n",
        "x4=pd.DataFrame(x4)\n",
        "y4=pd.DataFrame(y4)\n",
        "print(\"Coverted into Dataframe\")\n",
        "print(x4.shape,y4.shape)"
      ],
      "execution_count": null,
      "outputs": [
        {
          "output_type": "stream",
          "text": [
            "emotions:undivided - does not exists downloading\n",
            "Downloaded emotions-undivided\n",
            "Actual Dataset\n",
            "(593, 72) (593, 6)\n",
            "Coverted into Dataframe\n",
            "(593, 72) (593, 6)\n"
          ],
          "name": "stdout"
        }
      ]
    },
    {
      "cell_type": "markdown",
      "metadata": {
        "id": "GZ4Wv4Smvd8q"
      },
      "source": [
        "##Feature Selection"
      ]
    },
    {
      "cell_type": "code",
      "metadata": {
        "id": "vdcDumu6vfMQ",
        "colab": {
          "base_uri": "https://localhost:8080/"
        },
        "outputId": "3a156c7d-e7b4-46b8-b667-95d949744bc0"
      },
      "source": [
        "# import the required functions and object.\n",
        "from sklearn.feature_selection import mutual_info_classif\n",
        "from sklearn.feature_selection import SelectKBest\n",
        "import numpy as np\n",
        "import pandas as pd\n",
        "\n",
        "# select the number of features you want to retain.\n",
        "select_k1 = round(len(x4.columns)*0.4)\n",
        "print(\"40% features of medical dataset = \",select_k1)\n",
        "\n",
        "# get only the numerical features.\n",
        "numerical_x4 =x4[x4.select_dtypes([np.number]).columns]\n",
        "features_selected_40=[]\n",
        "features_weights=[]\n",
        "for a in range(len(x4.columns)):\n",
        "   features_weights.append(0)\n",
        "for i in range(len(y4.columns)):\n",
        "  # create the SelectKBest with the mutual info strategy.\n",
        "  selection =SelectKBest(mutual_info_classif, k=select_k1).fit(numerical_x4, y4.iloc[:,i])\n",
        "\n",
        "  # display the retained features.\n",
        "  features=list(x4.columns[selection.get_support()])\n",
        "  labels=y4.columns[i]\n",
        "  features_selected_40.append([labels, features])\n",
        "  #print(features_selected_40[i])\n",
        "\n",
        "  #calculating weight for each feature\n",
        "  #if a feature is correlate to label count them and than divide it by total labels\n",
        "  for f in features:\n",
        "    for count in range(len(x4.columns)):\n",
        "      if(f==x4.columns[count]):\n",
        "        features_weights[count]+=1\n",
        "list_f_w={}\n",
        "#if a feature is correlate to label count them and than divide it by total labels \n",
        "for i in range(len(x4.columns)):\n",
        "  features_weights[i]=round(features_weights[i]/len(x4.columns),3)\n",
        "  list_f_w.update({x4.columns[i] : features_weights[i]})"
      ],
      "execution_count": null,
      "outputs": [
        {
          "output_type": "stream",
          "text": [
            "40% features of medical dataset =  29\n"
          ],
          "name": "stdout"
        }
      ]
    },
    {
      "cell_type": "code",
      "metadata": {
        "id": "Sf7PY4BwvhSs"
      },
      "source": [
        "#sort weights\n",
        "import operator\n",
        "sorted_list_f_w = sorted(list_f_w.items(), key=operator.itemgetter(1), reverse=True)\n",
        "import collections\n",
        "sorted_dict_f = collections.OrderedDict(sorted_list_f_w)\n",
        "#print(sorted_dict_f)"
      ],
      "execution_count": null,
      "outputs": []
    },
    {
      "cell_type": "code",
      "metadata": {
        "id": "VwbS0znXvkE0",
        "colab": {
          "base_uri": "https://localhost:8080/"
        },
        "outputId": "bbf303f3-1dd4-462b-ff9e-84ed148282bf"
      },
      "source": [
        "#now, access top 50% weighted features(keys)\n",
        "final_features=[]\n",
        "found=False\n",
        "for i in range(round(len(x4.columns)*0.5)):\n",
        "    final_features.append(list(sorted_dict_f.keys())[i])\n",
        "final_features.sort()\n",
        "\n",
        "#drop other than top 50% weighted features\n",
        "selected_features = set(x4.columns).intersection(final_features)\n",
        "\n",
        "#print(set(x.columns))\n",
        "print(selected_features)\n",
        "\n",
        "for i in list(x4.columns):\n",
        "    if i not in selected_features:\n",
        "        x4 = x4.drop(columns=[i])\n",
        "\n",
        "#print(set(x.columns) == selected_features)"
      ],
      "execution_count": null,
      "outputs": [
        {
          "output_type": "stream",
          "text": [
            "{0, 1, 2, 3, 4, 16, 17, 18, 23, 25, 26, 27, 29, 33, 35, 36, 37, 39, 40, 41, 42, 43, 44, 45, 46, 47, 53, 56, 57, 58, 59, 60, 61, 62, 63, 71}\n"
          ],
          "name": "stdout"
        }
      ]
    },
    {
      "cell_type": "code",
      "metadata": {
        "id": "Y8bYMVNYvnXt",
        "colab": {
          "base_uri": "https://localhost:8080/"
        },
        "outputId": "72854162-2f0d-4030-f01b-81df11774bb6"
      },
      "source": [
        "print(x4.columns)\n",
        "print(final_features)"
      ],
      "execution_count": null,
      "outputs": [
        {
          "output_type": "stream",
          "text": [
            "Int64Index([ 0,  1,  2,  3,  4, 16, 17, 18, 23, 25, 26, 27, 29, 33, 35, 36, 37,\n",
            "            39, 40, 41, 42, 43, 44, 45, 46, 47, 53, 56, 57, 58, 59, 60, 61, 62,\n",
            "            63, 71],\n",
            "           dtype='int64')\n",
            "[0, 1, 2, 3, 4, 16, 17, 18, 23, 25, 26, 27, 29, 33, 35, 36, 37, 39, 40, 41, 42, 43, 44, 45, 46, 47, 53, 56, 57, 58, 59, 60, 61, 62, 63, 71]\n"
          ],
          "name": "stdout"
        }
      ]
    },
    {
      "cell_type": "markdown",
      "metadata": {
        "id": "5jqPMuZwvp5X"
      },
      "source": [
        "##MLC"
      ]
    },
    {
      "cell_type": "code",
      "metadata": {
        "id": "i60ph5WIvqqZ",
        "colab": {
          "base_uri": "https://localhost:8080/"
        },
        "outputId": "ae97fc33-df0f-4d7d-954b-60ca59ba6a93"
      },
      "source": [
        "from scipy import sparse as s\n",
        "x4 = s.csr_matrix(x4)\n",
        "y4 = s.csr_matrix(y4)\n",
        "#Train and Test Split\n",
        "from skmultilearn.model_selection import iterative_train_test_split \n",
        "x4_train, y4_train, x4_test, y4_test = iterative_train_test_split(x4, y4, test_size = 0.3)\n",
        "print(x4_train.shape, x4_test.shape, y4_train.shape, y4_test.shape)"
      ],
      "execution_count": null,
      "outputs": [
        {
          "output_type": "stream",
          "text": [
            "(417, 36) (176, 36) (417, 6) (176, 6)\n"
          ],
          "name": "stdout"
        }
      ]
    },
    {
      "cell_type": "markdown",
      "metadata": {
        "id": "uJ9xfWWLvvMt"
      },
      "source": [
        "###MLTSVM"
      ]
    },
    {
      "cell_type": "code",
      "metadata": {
        "id": "v4nmqwEtvyYz"
      },
      "source": [
        "from skmultilearn.adapt import MLTSVM\n",
        "classifier1 = MLTSVM(c_k =2**-6)\n",
        "# train\n",
        "classifier1.fit(x4_train, y4_train)\n",
        "# predict\n",
        "MLTSVM4_predictions = classifier1.predict(x4_test)"
      ],
      "execution_count": null,
      "outputs": []
    },
    {
      "cell_type": "markdown",
      "metadata": {
        "id": "w_OKOsvovy4Z"
      },
      "source": [
        "###MLKNN"
      ]
    },
    {
      "cell_type": "code",
      "metadata": {
        "id": "XONUCu2Mvzvv"
      },
      "source": [
        "from skmultilearn.adapt import MLkNN\n",
        "#MLKNN is an adaptation of the kNN lazy learning algorithm for multi-label data.\n",
        "\n",
        "# apply MLkNN for delicious dataset it has 983 labels. \n",
        "classifier2 = MLkNN(k=6)\n",
        "\n",
        "# train\n",
        "classifier2.fit(x4_train, y4_train)\n",
        "\n",
        "# predict\n",
        "MLKNN4_predictions = classifier2.predict(x4_test)"
      ],
      "execution_count": null,
      "outputs": []
    },
    {
      "cell_type": "markdown",
      "metadata": {
        "id": "qiaoBgl0v1eV"
      },
      "source": [
        "###BRKNNa"
      ]
    },
    {
      "cell_type": "code",
      "metadata": {
        "id": "AhnAIUrzv2si"
      },
      "source": [
        "from skmultilearn.adapt import BRkNNaClassifier\n",
        "classifier3 = BRkNNaClassifier(k=6)\n",
        "# train\n",
        "classifier3.fit(x4_train, y4_train)\n",
        "# predict\n",
        "BR4_predictions = classifier3.predict(x4_test)"
      ],
      "execution_count": null,
      "outputs": []
    },
    {
      "cell_type": "markdown",
      "metadata": {
        "id": "BrUnuxgav4-_"
      },
      "source": [
        "##Measuring Metrics "
      ]
    },
    {
      "cell_type": "code",
      "metadata": {
        "id": "iShdU4Awv7Yd"
      },
      "source": [
        "import sklearn.metrics as m\n",
        "#Hamming Loss\n",
        "hamming_loss_MLTSVM.append(round(m.hamming_loss(y4_test, MLTSVM4_predictions),2))\n",
        "hamming_loss_MLKNN.append(round(m.hamming_loss(y4_test, MLKNN4_predictions),2))\n",
        "hamming_loss_BRKNNa.append(round(m.hamming_loss(y4_test, BR4_predictions),2))\n",
        "\n",
        "#Accuracy\n",
        "accuracy_MLTSVM.append(round(m.accuracy_score(y4_test, MLTSVM4_predictions),2))\n",
        "accuracy_MLKNN.append(round(m.accuracy_score(y4_test, MLKNN4_predictions),2))\n",
        "accuracy_BRKNNa.append(round(m.accuracy_score(y4_test, BR4_predictions),2))\n",
        "\n",
        "#Micro Precision\n",
        "precision_MLTSVM.append(round(m.precision_score(y4_test, MLTSVM4_predictions, average='micro', zero_division='warn'),2))\n",
        "precision_MLKNN.append(round(m.precision_score(y4_test, MLKNN4_predictions, average='micro', zero_division='warn'),2))\n",
        "precision_BRKNNa.append(round(m.precision_score(y4_test, BR4_predictions, average='micro', zero_division='warn'),2))\n",
        "\n",
        "#Micro Recall\n",
        "recall_MLTSVM.append(round(m.recall_score(y4_test, MLTSVM4_predictions, average='micro',zero_division='warn'),2))\n",
        "recall_MLKNN.append(round(m.recall_score(y4_test, MLKNN4_predictions, average='micro',zero_division='warn'),2))\n",
        "recall_BRKNNa.append(round(m.recall_score(y4_test, BR4_predictions, average='micro',zero_division='warn'),2))\n",
        "#Micro F1 measure\n",
        "f1_measure_MLTSVM.append(round(m.f1_score(y4_test, MLTSVM4_predictions, average='micro',zero_division='warn'),2))\n",
        "f1_measure_MLKNN.append(round(m.f1_score(y4_test, MLKNN4_predictions, average='micro',zero_division='warn'),2))\n",
        "f1_measure_BRKNNa.append(round(m.f1_score(y4_test, BR4_predictions, average='micro',zero_division='warn'),2))"
      ],
      "execution_count": null,
      "outputs": []
    },
    {
      "cell_type": "code",
      "metadata": {
        "id": "krwNYHE7v9Ef",
        "colab": {
          "base_uri": "https://localhost:8080/"
        },
        "outputId": "269432d4-6f93-4a85-f0f8-1c3b2fb784e7"
      },
      "source": [
        "print(\"------------------------------\")\n",
        "print(\"\\t(Examples,Labels\")\n",
        "print(\"------------------------------\")\n",
        "print(\"MLTSVM -> \",MLTSVM4_predictions.shape)\n",
        "print(\"MLKNN  -> \",MLKNN4_predictions.shape)\n",
        "print(\"BRKNNa -> \",BR4_predictions.shape)\n",
        "import sklearn.metrics as m\n",
        "print(\"------------------------------\")\n",
        "print(\"\\tHamming Loss\")\n",
        "print(\"------------------------------\")\n",
        "print(\"MLTSVM -> \",round(m.hamming_loss(y4_test, MLTSVM4_predictions),2))\n",
        "print(\"MLKNN  -> \",round(m.hamming_loss(y4_test, MLKNN4_predictions),2))\n",
        "print(\"BRKNNa -> \",round(m.hamming_loss(y4_test, BR4_predictions),2))\n",
        "print(\"------------------------------\")\n",
        "print(\"\\tAccuracy\")\n",
        "print(\"------------------------------\")\n",
        "print(\"MLTSVM -> \",round(m.accuracy_score(y4_test, MLTSVM4_predictions),2))\n",
        "print(\"MLKNN  -> \",round(m.accuracy_score(y4_test, MLKNN4_predictions),2))\n",
        "print(\"BRKNNa -> \",round(m.accuracy_score(y4_test, BR4_predictions),2))\n",
        "print(\"\\tPrecision\")\n",
        "print(\"------------------------------\")\n",
        "print(\"MLTSVM -> \",round(m.precision_score(y4_test, MLTSVM4_predictions, average='micro',zero_division='warn'),2))\n",
        "print(\"MLKNN -> \",round(m.precision_score(y4_test, MLKNN4_predictions, average='micro',zero_division='warn'),2))\n",
        "print(\"BRKNNa -> \",round(m.precision_score(y4_test, BR4_predictions, average='micro',zero_division='warn'),2))\n",
        "print(\"------------------------------\")\n",
        "print(\"\\tRecall\")\n",
        "print(\"------------------------------\")\n",
        "print(\"MLTSVM -> \",round(m.recall_score(y4_test, MLTSVM4_predictions, average='micro',zero_division='warn'),2))\n",
        "print(\"MLKNN -> \",round(m.recall_score(y4_test, MLKNN4_predictions, average='micro',zero_division='warn'),2))\n",
        "print(\"BRKNNa -> \",round(m.recall_score(y4_test, BR4_predictions, average='micro',zero_division='warn'),2))\n",
        "print(\"------------------------------\")\n",
        "print(\"\\tF1-measure\")\n",
        "print(\"------------------------------\")\n",
        "#f1=2*(p*r)/(p+r)\n",
        "print(\"MLTSVM -> \",round(m.f1_score(y4_test, MLTSVM4_predictions, average='micro',zero_division='warn'),2))\n",
        "print(\"MLKNN -> \",round(m.f1_score(y4_test, MLKNN4_predictions, average='micro',zero_division='warn'),2))\n",
        "print(\"BHKNNa -> \",round(m.f1_score(y4_test, BR4_predictions, average='micro',zero_division='warn'),2))\n",
        "print()"
      ],
      "execution_count": null,
      "outputs": [
        {
          "output_type": "stream",
          "text": [
            "------------------------------\n",
            "\t(Examples,Labels\n",
            "------------------------------\n",
            "MLTSVM ->  (176, 6)\n",
            "MLKNN  ->  (176, 6)\n",
            "BRKNNa ->  (176, 6)\n",
            "------------------------------\n",
            "\tHamming Loss\n",
            "------------------------------\n",
            "MLTSVM ->  0.68\n",
            "MLKNN  ->  0.27\n",
            "BRKNNa ->  0.26\n",
            "------------------------------\n",
            "\tAccuracy\n",
            "------------------------------\n",
            "MLTSVM ->  0.0\n",
            "MLKNN  ->  0.23\n",
            "BRKNNa ->  0.19\n",
            "\tPrecision\n",
            "------------------------------\n",
            "MLTSVM ->  0.32\n",
            "MLKNN ->  0.59\n",
            "BRKNNa ->  0.64\n",
            "------------------------------\n",
            "\tRecall\n",
            "------------------------------\n",
            "MLTSVM ->  1.0\n",
            "MLKNN ->  0.5\n",
            "BRKNNa ->  0.4\n",
            "------------------------------\n",
            "\tF1-measure\n",
            "------------------------------\n",
            "MLTSVM ->  0.48\n",
            "MLKNN ->  0.54\n",
            "BHKNNa ->  0.49\n",
            "\n"
          ],
          "name": "stdout"
        }
      ]
    },
    {
      "cell_type": "markdown",
      "metadata": {
        "id": "tRQlNiQgv_EH"
      },
      "source": [
        "#05 Genbase Dataset"
      ]
    },
    {
      "cell_type": "code",
      "metadata": {
        "id": "TbyeWO7kwCwm",
        "colab": {
          "base_uri": "https://localhost:8080/"
        },
        "outputId": "ad359a04-21a9-427f-e8ca-1614e1c762e2"
      },
      "source": [
        "from skmultilearn.dataset import load_dataset\n",
        "x5,y5, _, _ = load_dataset('genbase', 'undivided')\n",
        "print(\"Actual Dataset\")\n",
        "print(x5.shape,y5.shape)\n",
        "#change to matrix\n",
        "x5=x5.todense()\n",
        "y5=y5.todense()\n",
        "import pandas as pd\n",
        "#change to dataFrame\n",
        "x5=pd.DataFrame(x5)\n",
        "y5=pd.DataFrame(y5)\n",
        "print(\"Coverted into Dataframe\")\n",
        "print(x5.shape,y5.shape)"
      ],
      "execution_count": null,
      "outputs": [
        {
          "output_type": "stream",
          "text": [
            "genbase:undivided - does not exists downloading\n",
            "Downloaded genbase-undivided\n",
            "Actual Dataset\n",
            "(662, 1186) (662, 27)\n",
            "Coverted into Dataframe\n",
            "(662, 1186) (662, 27)\n"
          ],
          "name": "stdout"
        }
      ]
    },
    {
      "cell_type": "markdown",
      "metadata": {
        "id": "5Wekz8q9wET5"
      },
      "source": [
        "##Feature Selection"
      ]
    },
    {
      "cell_type": "code",
      "metadata": {
        "id": "m_TmkyCwwFzA",
        "colab": {
          "base_uri": "https://localhost:8080/"
        },
        "outputId": "243cf67f-b9f2-48e6-cef7-e4b202e6a6b2"
      },
      "source": [
        "# import the required functions and object.\n",
        "from sklearn.feature_selection import mutual_info_classif\n",
        "from sklearn.feature_selection import SelectKBest\n",
        "import numpy as np\n",
        "import pandas as pd\n",
        "\n",
        "# select the number of features you want to retain.\n",
        "select_k1 = round(len(x5.columns)*0.4)\n",
        "print(\"40% features of medical dataset = \",select_k1)\n",
        "\n",
        "# get only the numerical features.\n",
        "numerical_x5 =x5[x5.select_dtypes([np.number]).columns]\n",
        "features_selected_40=[]\n",
        "features_weights=[]\n",
        "for a in range(len(x5.columns)):\n",
        "   features_weights.append(0)\n",
        "for i in range(len(y5.columns)):\n",
        "  # create the SelectKBest with the mutual info strategy.\n",
        "  selection =SelectKBest(mutual_info_classif, k=select_k1).fit(numerical_x5, y5.iloc[:,i])\n",
        "\n",
        "  # display the retained features.\n",
        "  features=list(x5.columns[selection.get_support()])\n",
        "  labels=y5.columns[i]\n",
        "  features_selected_40.append([labels, features])\n",
        "  #print(features_selected_40[i])\n",
        "\n",
        "  #calculating weight for each feature\n",
        "  #if a feature is correlate to label count them and than divide it by total labels\n",
        "  for f in features:\n",
        "    for count in range(len(x5.columns)):\n",
        "      if(f==x5.columns[count]):\n",
        "        features_weights[count]+=1\n",
        "list_f_w={}\n",
        "#if a feature is correlate to label count them and than divide it by total labels \n",
        "for i in range(len(x5.columns)):\n",
        "  features_weights[i]=round(features_weights[i]/len(x5.columns),3)\n",
        "  list_f_w.update({x5.columns[i] : features_weights[i]})"
      ],
      "execution_count": null,
      "outputs": [
        {
          "output_type": "stream",
          "text": [
            "40% features of medical dataset =  474\n"
          ],
          "name": "stdout"
        }
      ]
    },
    {
      "cell_type": "code",
      "metadata": {
        "id": "Ajq-2VFLwICw"
      },
      "source": [
        "#sort weights\n",
        "import operator\n",
        "sorted_list_f_w = sorted(list_f_w.items(), key=operator.itemgetter(1), reverse=True)\n",
        "import collections\n",
        "sorted_dict_f = collections.OrderedDict(sorted_list_f_w)\n",
        "#print(sorted_dict_f)"
      ],
      "execution_count": null,
      "outputs": []
    },
    {
      "cell_type": "code",
      "metadata": {
        "id": "6doN8KrkwJ4a",
        "colab": {
          "base_uri": "https://localhost:8080/"
        },
        "outputId": "74a1f091-252f-4eeb-8c26-1ee249feb0a5"
      },
      "source": [
        "#now, access top 50% weighted features(keys)\n",
        "final_features=[]\n",
        "found=False\n",
        "for i in range(round(len(x5.columns)*0.5)):\n",
        "    final_features.append(list(sorted_dict_f.keys())[i])\n",
        "final_features.sort()\n",
        "\n",
        "#drop other than top 50% weighted features\n",
        "selected_features = set(x5.columns).intersection(final_features)\n",
        "\n",
        "#print(set(x.columns))\n",
        "print(selected_features)\n",
        "\n",
        "for i in list(x5.columns):\n",
        "    if i not in selected_features:\n",
        "        x5 = x5.drop(columns=[i])\n",
        "\n",
        "#print(set(x.columns) == selected_features)"
      ],
      "execution_count": null,
      "outputs": [
        {
          "output_type": "stream",
          "text": [
            "{0, 5, 6, 7, 8, 11, 13, 15, 16, 17, 20, 22, 28, 31, 32, 34, 35, 36, 37, 40, 42, 52, 53, 62, 63, 66, 67, 68, 70, 73, 74, 79, 80, 84, 86, 87, 88, 89, 91, 92, 93, 105, 106, 109, 110, 111, 120, 121, 132, 134, 135, 141, 143, 145, 146, 147, 153, 154, 155, 159, 162, 164, 167, 169, 171, 172, 174, 175, 177, 178, 182, 184, 185, 186, 187, 191, 192, 193, 194, 199, 200, 201, 202, 204, 205, 206, 208, 214, 215, 220, 221, 225, 230, 231, 232, 235, 240, 241, 245, 249, 253, 258, 260, 261, 262, 263, 268, 270, 273, 278, 280, 282, 284, 285, 295, 301, 302, 303, 305, 309, 313, 317, 318, 323, 328, 329, 336, 338, 341, 343, 344, 347, 351, 352, 353, 356, 357, 358, 359, 367, 369, 371, 374, 380, 381, 384, 388, 391, 394, 395, 398, 399, 400, 405, 406, 409, 412, 416, 417, 418, 425, 426, 427, 431, 436, 439, 440, 442, 443, 446, 448, 449, 451, 452, 453, 455, 457, 458, 462, 463, 464, 469, 473, 476, 478, 480, 481, 482, 483, 485, 486, 487, 488, 493, 495, 497, 498, 502, 503, 505, 509, 511, 515, 516, 518, 520, 522, 526, 528, 530, 535, 538, 539, 541, 545, 547, 552, 554, 555, 557, 558, 563, 564, 566, 568, 570, 575, 577, 580, 582, 584, 589, 597, 600, 602, 603, 604, 612, 613, 614, 617, 618, 619, 624, 625, 626, 627, 630, 631, 634, 635, 636, 637, 639, 641, 643, 644, 646, 651, 656, 658, 659, 667, 670, 671, 675, 676, 678, 679, 681, 684, 685, 688, 690, 691, 693, 695, 696, 698, 699, 700, 702, 708, 711, 713, 715, 718, 720, 723, 727, 728, 729, 731, 734, 735, 737, 742, 743, 745, 746, 747, 748, 749, 753, 755, 758, 759, 762, 765, 766, 767, 768, 769, 770, 772, 775, 782, 783, 786, 787, 793, 800, 803, 804, 805, 807, 809, 810, 812, 815, 820, 823, 824, 825, 830, 831, 834, 837, 838, 839, 840, 843, 844, 845, 846, 847, 848, 849, 850, 852, 853, 854, 855, 856, 858, 859, 860, 861, 862, 863, 864, 865, 866, 867, 868, 869, 870, 871, 872, 873, 874, 878, 879, 881, 882, 883, 884, 885, 886, 887, 888, 889, 890, 891, 892, 893, 894, 895, 896, 897, 898, 899, 900, 901, 902, 903, 904, 905, 907, 908, 910, 911, 912, 913, 914, 915, 916, 917, 918, 919, 920, 921, 922, 923, 924, 926, 927, 928, 929, 930, 931, 933, 935, 937, 938, 939, 942, 943, 944, 945, 946, 948, 949, 950, 951, 952, 955, 957, 958, 960, 961, 962, 963, 965, 966, 967, 968, 970, 972, 973, 975, 976, 979, 980, 981, 982, 984, 985, 986, 987, 988, 992, 993, 994, 995, 996, 999, 1000, 1002, 1004, 1005, 1006, 1007, 1008, 1009, 1010, 1012, 1015, 1016, 1018, 1021, 1025, 1028, 1029, 1030, 1035, 1038, 1039, 1040, 1041, 1042, 1044, 1046, 1048, 1049, 1050, 1051, 1052, 1054, 1057, 1058, 1059, 1064, 1067, 1068, 1070, 1071, 1073, 1075, 1076, 1079, 1080, 1081, 1083, 1086, 1087, 1088, 1089, 1091, 1092, 1094, 1095, 1096, 1097, 1099, 1100, 1101, 1102, 1103, 1104, 1105, 1106, 1107, 1108, 1109, 1110, 1111, 1112, 1113, 1114, 1115, 1116, 1118, 1121, 1122, 1123, 1124, 1125, 1126, 1127, 1128, 1129, 1130, 1132, 1133, 1134, 1135, 1136, 1137, 1138, 1139, 1140, 1144, 1145, 1146, 1147, 1148, 1149, 1154, 1155, 1156, 1157, 1158, 1159, 1160, 1161, 1162, 1164, 1165, 1166, 1167, 1168, 1171, 1172, 1173, 1174, 1175, 1176, 1179, 1180, 1181, 1182, 1183}\n"
          ],
          "name": "stdout"
        }
      ]
    },
    {
      "cell_type": "code",
      "metadata": {
        "id": "69evIjqCwL05",
        "colab": {
          "base_uri": "https://localhost:8080/"
        },
        "outputId": "e9a8afe1-dcaa-4c74-affd-4bcd8a1e9440"
      },
      "source": [
        "print(x5.columns)\n",
        "print(final_features)"
      ],
      "execution_count": null,
      "outputs": [
        {
          "output_type": "stream",
          "text": [
            "Int64Index([   0,    5,    6,    7,    8,   11,   13,   15,   16,   17,\n",
            "            ...\n",
            "            1172, 1173, 1174, 1175, 1176, 1179, 1180, 1181, 1182, 1183],\n",
            "           dtype='int64', length=593)\n",
            "[0, 5, 6, 7, 8, 11, 13, 15, 16, 17, 20, 22, 28, 31, 32, 34, 35, 36, 37, 40, 42, 52, 53, 62, 63, 66, 67, 68, 70, 73, 74, 79, 80, 84, 86, 87, 88, 89, 91, 92, 93, 105, 106, 109, 110, 111, 120, 121, 132, 134, 135, 141, 143, 145, 146, 147, 153, 154, 155, 159, 162, 164, 167, 169, 171, 172, 174, 175, 177, 178, 182, 184, 185, 186, 187, 191, 192, 193, 194, 199, 200, 201, 202, 204, 205, 206, 208, 214, 215, 220, 221, 225, 230, 231, 232, 235, 240, 241, 245, 249, 253, 258, 260, 261, 262, 263, 268, 270, 273, 278, 280, 282, 284, 285, 295, 301, 302, 303, 305, 309, 313, 317, 318, 323, 328, 329, 336, 338, 341, 343, 344, 347, 351, 352, 353, 356, 357, 358, 359, 367, 369, 371, 374, 380, 381, 384, 388, 391, 394, 395, 398, 399, 400, 405, 406, 409, 412, 416, 417, 418, 425, 426, 427, 431, 436, 439, 440, 442, 443, 446, 448, 449, 451, 452, 453, 455, 457, 458, 462, 463, 464, 469, 473, 476, 478, 480, 481, 482, 483, 485, 486, 487, 488, 493, 495, 497, 498, 502, 503, 505, 509, 511, 515, 516, 518, 520, 522, 526, 528, 530, 535, 538, 539, 541, 545, 547, 552, 554, 555, 557, 558, 563, 564, 566, 568, 570, 575, 577, 580, 582, 584, 589, 597, 600, 602, 603, 604, 612, 613, 614, 617, 618, 619, 624, 625, 626, 627, 630, 631, 634, 635, 636, 637, 639, 641, 643, 644, 646, 651, 656, 658, 659, 667, 670, 671, 675, 676, 678, 679, 681, 684, 685, 688, 690, 691, 693, 695, 696, 698, 699, 700, 702, 708, 711, 713, 715, 718, 720, 723, 727, 728, 729, 731, 734, 735, 737, 742, 743, 745, 746, 747, 748, 749, 753, 755, 758, 759, 762, 765, 766, 767, 768, 769, 770, 772, 775, 782, 783, 786, 787, 793, 800, 803, 804, 805, 807, 809, 810, 812, 815, 820, 823, 824, 825, 830, 831, 834, 837, 838, 839, 840, 843, 844, 845, 846, 847, 848, 849, 850, 852, 853, 854, 855, 856, 858, 859, 860, 861, 862, 863, 864, 865, 866, 867, 868, 869, 870, 871, 872, 873, 874, 878, 879, 881, 882, 883, 884, 885, 886, 887, 888, 889, 890, 891, 892, 893, 894, 895, 896, 897, 898, 899, 900, 901, 902, 903, 904, 905, 907, 908, 910, 911, 912, 913, 914, 915, 916, 917, 918, 919, 920, 921, 922, 923, 924, 926, 927, 928, 929, 930, 931, 933, 935, 937, 938, 939, 942, 943, 944, 945, 946, 948, 949, 950, 951, 952, 955, 957, 958, 960, 961, 962, 963, 965, 966, 967, 968, 970, 972, 973, 975, 976, 979, 980, 981, 982, 984, 985, 986, 987, 988, 992, 993, 994, 995, 996, 999, 1000, 1002, 1004, 1005, 1006, 1007, 1008, 1009, 1010, 1012, 1015, 1016, 1018, 1021, 1025, 1028, 1029, 1030, 1035, 1038, 1039, 1040, 1041, 1042, 1044, 1046, 1048, 1049, 1050, 1051, 1052, 1054, 1057, 1058, 1059, 1064, 1067, 1068, 1070, 1071, 1073, 1075, 1076, 1079, 1080, 1081, 1083, 1086, 1087, 1088, 1089, 1091, 1092, 1094, 1095, 1096, 1097, 1099, 1100, 1101, 1102, 1103, 1104, 1105, 1106, 1107, 1108, 1109, 1110, 1111, 1112, 1113, 1114, 1115, 1116, 1118, 1121, 1122, 1123, 1124, 1125, 1126, 1127, 1128, 1129, 1130, 1132, 1133, 1134, 1135, 1136, 1137, 1138, 1139, 1140, 1144, 1145, 1146, 1147, 1148, 1149, 1154, 1155, 1156, 1157, 1158, 1159, 1160, 1161, 1162, 1164, 1165, 1166, 1167, 1168, 1171, 1172, 1173, 1174, 1175, 1176, 1179, 1180, 1181, 1182, 1183]\n"
          ],
          "name": "stdout"
        }
      ]
    },
    {
      "cell_type": "markdown",
      "metadata": {
        "id": "RZdSy5h1wOX8"
      },
      "source": [
        "##MLC"
      ]
    },
    {
      "cell_type": "code",
      "metadata": {
        "id": "05qkqPdewO3M",
        "colab": {
          "base_uri": "https://localhost:8080/"
        },
        "outputId": "e0e68a5d-98f1-42c9-8af1-8dec5174d244"
      },
      "source": [
        "from scipy import sparse as s\n",
        "x5 = s.csr_matrix(x5)\n",
        "y5 = s.csr_matrix(y5)\n",
        "#Train and test split\n",
        "from skmultilearn.model_selection import iterative_train_test_split \n",
        "x5_train, y5_train, x5_test, y5_test = iterative_train_test_split(x5, y5, test_size = 0.3)\n",
        "print(x5_train.shape, x5_test.shape, y5_train.shape, y5_test.shape)"
      ],
      "execution_count": null,
      "outputs": [
        {
          "output_type": "stream",
          "text": [
            "(463, 593) (199, 593) (463, 27) (199, 27)\n"
          ],
          "name": "stdout"
        }
      ]
    },
    {
      "cell_type": "markdown",
      "metadata": {
        "id": "cMze6W5gwUT8"
      },
      "source": [
        "###MLTSVM"
      ]
    },
    {
      "cell_type": "code",
      "metadata": {
        "id": "5YnbK437wWeB"
      },
      "source": [
        "from skmultilearn.adapt import MLTSVM\n",
        "classifier1 = MLTSVM(c_k =2**-6)\n",
        "# train\n",
        "classifier1.fit(x5_train, y5_train)\n",
        "# predict\n",
        "MLTSVM5_predictions = classifier1.predict(x5_test)"
      ],
      "execution_count": null,
      "outputs": []
    },
    {
      "cell_type": "markdown",
      "metadata": {
        "id": "HYamOxn2wW-A"
      },
      "source": [
        "###MLKNN"
      ]
    },
    {
      "cell_type": "code",
      "metadata": {
        "id": "NGAtWfx6wXyT"
      },
      "source": [
        "from skmultilearn.adapt import MLkNN\n",
        "#MLKNN is an adaptation of the kNN lazy learning algorithm for multi-label data.\n",
        "\n",
        "# apply MLkNN for delicious dataset it has 983 labels. \n",
        "classifier2 = MLkNN(k=27)\n",
        "\n",
        "# train\n",
        "classifier2.fit(x5_train, y5_train)\n",
        "\n",
        "# predict\n",
        "MLKNN5_predictions = classifier2.predict(x5_test)"
      ],
      "execution_count": null,
      "outputs": []
    },
    {
      "cell_type": "markdown",
      "metadata": {
        "id": "jZRw7excwady"
      },
      "source": [
        "###BRKNNa"
      ]
    },
    {
      "cell_type": "code",
      "metadata": {
        "id": "d2OhgqMvwcWz"
      },
      "source": [
        "from skmultilearn.adapt import BRkNNaClassifier\n",
        "classifier3 = BRkNNaClassifier(k=27)\n",
        "# train\n",
        "classifier3.fit(x5_train, y5_train)\n",
        "# predict\n",
        "BR5_predictions = classifier3.predict(x5_test)"
      ],
      "execution_count": null,
      "outputs": []
    },
    {
      "cell_type": "markdown",
      "metadata": {
        "id": "4AynYCmmwemU"
      },
      "source": [
        "##Measuring Metrics "
      ]
    },
    {
      "cell_type": "code",
      "metadata": {
        "id": "qecBqsJTwg6-"
      },
      "source": [
        "import sklearn.metrics as m\n",
        "#Hamming Loss\n",
        "hamming_loss_MLTSVM.append(round(m.hamming_loss(y5_test, MLTSVM5_predictions),2))\n",
        "hamming_loss_MLKNN.append(round(m.hamming_loss(y5_test, MLKNN5_predictions),2))\n",
        "hamming_loss_BRKNNa.append(round(m.hamming_loss(y5_test, BR5_predictions),2))\n",
        "\n",
        "#Accuracy\n",
        "accuracy_MLTSVM.append(round(m.accuracy_score(y5_test, MLTSVM5_predictions),2))\n",
        "accuracy_MLKNN.append(round(m.accuracy_score(y5_test, MLKNN5_predictions),2))\n",
        "accuracy_BRKNNa.append(round(m.accuracy_score(y5_test, BR5_predictions),2))\n",
        "\n",
        "#Micro Precision\n",
        "precision_MLTSVM.append(round(m.precision_score(y5_test, MLTSVM5_predictions, average='micro', zero_division='warn'),2))\n",
        "precision_MLKNN.append(round(m.precision_score(y5_test, MLKNN5_predictions, average='micro', zero_division='warn'),2))\n",
        "precision_BRKNNa.append(round(m.precision_score(y5_test, BR5_predictions, average='micro', zero_division='warn'),2))\n",
        "\n",
        "#Micro Recall\n",
        "recall_MLTSVM.append(round(m.recall_score(y5_test, MLTSVM5_predictions, average='micro',zero_division='warn'),2))\n",
        "recall_MLKNN.append(round(m.recall_score(y5_test, MLKNN5_predictions, average='micro',zero_division='warn'),2))\n",
        "recall_BRKNNa.append(round(m.recall_score(y5_test, BR5_predictions, average='micro',zero_division='warn'),2))\n",
        "#Micro F1 measure\n",
        "f1_measure_MLTSVM.append(round(m.f1_score(y5_test, MLTSVM5_predictions, average='micro',zero_division='warn'),2))\n",
        "f1_measure_MLKNN.append(round(m.f1_score(y5_test, MLKNN5_predictions, average='micro',zero_division='warn'),2))\n",
        "f1_measure_BRKNNa.append(round(m.f1_score(y5_test, BR5_predictions, average='micro',zero_division='warn'),2))"
      ],
      "execution_count": null,
      "outputs": []
    },
    {
      "cell_type": "code",
      "metadata": {
        "id": "jpsaLNCtwiZv",
        "colab": {
          "base_uri": "https://localhost:8080/"
        },
        "outputId": "041f2dfa-b31b-45e4-e19e-6146ba804ffe"
      },
      "source": [
        "print(\"------------------------------\")\n",
        "print(\"\\t(Examples,Labels\")\n",
        "print(\"------------------------------\")\n",
        "print(\"MLTSVM -> \",MLTSVM5_predictions.shape)\n",
        "print(\"MLKNN  -> \",MLKNN5_predictions.shape)\n",
        "print(\"BRKNNa -> \",BR5_predictions.shape)\n",
        "import sklearn.metrics as m\n",
        "print(\"------------------------------\")\n",
        "print(\"\\tHamming Loss\")\n",
        "print(\"------------------------------\")\n",
        "print(\"MLTSVM -> \",round(m.hamming_loss(y5_test, MLTSVM5_predictions),2))\n",
        "print(\"MLKNN  -> \",round(m.hamming_loss(y5_test, MLKNN5_predictions),2))\n",
        "print(\"BRKNNa -> \",round(m.hamming_loss(y5_test, BR5_predictions),2))\n",
        "print(\"------------------------------\")\n",
        "print(\"\\tAccuracy\")\n",
        "print(\"------------------------------\")\n",
        "print(\"MLTSVM -> \",round(m.accuracy_score(y5_test, MLTSVM5_predictions),2))\n",
        "print(\"MLKNN  -> \",round(m.accuracy_score(y5_test, MLKNN5_predictions),2))\n",
        "print(\"BRKNNa -> \",round(m.accuracy_score(y5_test, BR5_predictions),2))\n",
        "print(\"------------------------------\")\n",
        "print(\"\\tPrecision\")\n",
        "print(\"------------------------------\")\n",
        "print(\"MLTSVM -> \",round(m.precision_score(y5_test, MLTSVM5_predictions, average='micro',zero_division='warn'),2))\n",
        "print(\"MLKNN -> \",round(m.precision_score(y5_test, MLKNN5_predictions, average='micro',zero_division='warn'),2))\n",
        "print(\"MLKNNa -> \",round(m.precision_score(y5_test, BR5_predictions, average='micro',zero_division='warn'),2))\n",
        "print(\"------------------------------\")\n",
        "print(\"\\tRecall\")\n",
        "print(\"------------------------------\")\n",
        "print(\"MLTSVM -> \",round(m.recall_score(y5_test, MLTSVM5_predictions, average='micro',zero_division='warn'),2))\n",
        "print(\"MLKNN -> \",round(m.recall_score(y5_test, MLKNN5_predictions, average='micro',zero_division='warn'),2))\n",
        "print(\"BRKNNa -> \",round(m.recall_score(y5_test, BR5_predictions, average='micro',zero_division='warn'),2))\n",
        "print(\"------------------------------\")\n",
        "print(\"\\tF1-measure\")\n",
        "print(\"------------------------------\")\n",
        "#f1=2*(p*r)/(p+r)\n",
        "print(\"MLTSVM -> \",round(m.f1_score(y5_test, MLTSVM5_predictions, average='micro',zero_division='warn'),2))\n",
        "print(\"MLKNN -> \",round(m.f1_score(y5_test, MLKNN5_predictions, average='micro',zero_division='warn'),2))\n",
        "print(\"BRKNNa -> \",round(m.f1_score(y5_test, BR5_predictions, average='micro',zero_division='warn'),2))\n",
        "print()"
      ],
      "execution_count": null,
      "outputs": [
        {
          "output_type": "stream",
          "text": [
            "------------------------------\n",
            "\t(Examples,Labels\n",
            "------------------------------\n",
            "MLTSVM ->  (199, 27)\n",
            "MLKNN  ->  (199, 27)\n",
            "BRKNNa ->  (199, 27)\n",
            "------------------------------\n",
            "\tHamming Loss\n",
            "------------------------------\n",
            "MLTSVM ->  0.03\n",
            "MLKNN  ->  0.04\n",
            "BRKNNa ->  0.04\n",
            "------------------------------\n",
            "\tAccuracy\n",
            "------------------------------\n",
            "MLTSVM ->  0.55\n",
            "MLKNN  ->  0.15\n",
            "BRKNNa ->  0.15\n",
            "------------------------------\n",
            "\tPrecision\n",
            "------------------------------\n",
            "MLTSVM ->  0.68\n",
            "MLKNN ->  0.81\n",
            "MLKNNa ->  0.76\n",
            "------------------------------\n",
            "\tRecall\n",
            "------------------------------\n",
            "MLTSVM ->  0.85\n",
            "MLKNN ->  0.12\n",
            "BRKNNa ->  0.12\n",
            "------------------------------\n",
            "\tF1-measure\n",
            "------------------------------\n",
            "MLTSVM ->  0.75\n",
            "MLKNN ->  0.21\n",
            "BRKNNa ->  0.21\n",
            "\n"
          ],
          "name": "stdout"
        }
      ]
    },
    {
      "cell_type": "markdown",
      "metadata": {
        "id": "a6qBbMQWwoJN"
      },
      "source": [
        "#Results based on EVALUATION MEASURES"
      ]
    },
    {
      "cell_type": "markdown",
      "metadata": {
        "id": "REuuvtZ1wq6X"
      },
      "source": [
        "##Hamming Loss"
      ]
    },
    {
      "cell_type": "code",
      "metadata": {
        "id": "IJN6SZeOwpi7",
        "colab": {
          "base_uri": "https://localhost:8080/"
        },
        "outputId": "0c6aa83e-0308-4693-952e-d0e33f7768a3"
      },
      "source": [
        "import matplotlib.pyplot as plt\n",
        "dataset=['medical','enron','scene','emotions','gebase']\n",
        "print(hamming_loss_MLKNN)\n",
        "fig, ax=plt.subplots()\n",
        "ax.plot(dataset,hamming_loss_MLTSVM, label='MLTSVM',marker='H')\n",
        "ax.plot(dataset,hamming_loss_MLKNN, label='MLKNN',marker='>')\n",
        "ax.plot(dataset,hamming_loss_BRKNNa, label='BRKNNa',marker='*')\n",
        "ax.legend(loc='upper left')\n",
        "ax.set_title('Mutual Information-40% FS')\n",
        "ax.set_xlabel('Datasets')\n",
        "ax.set_ylabel('Hamming Loss')\n",
        "plt.tight_layout()\n",
        "plt.savefig('MI-40-hamming loss')"
      ],
      "execution_count": null,
      "outputs": [
        {
          "output_type": "stream",
          "text": [
            "[0.02, 0.06, 0.1, 0.27, 0.04]\n"
          ],
          "name": "stdout"
        },
        {
          "output_type": "display_data",
          "data": {
            "image/png": "[encoded data removed]",
            "text/plain": [
              "<Figure size 432x288 with 1 Axes>"
            ]
          },
          "metadata": {
            "tags": [],
            "needs_background": "light"
          }
        }
      ]
    },
    {
      "cell_type": "markdown",
      "metadata": {
        "id": "jTGXAnOPwvvn"
      },
      "source": [
        "##Accuracy"
      ]
    },
    {
      "cell_type": "code",
      "metadata": {
        "id": "uJxOvmbcwvSM",
        "colab": {
          "base_uri": "https://localhost:8080/"
        },
        "outputId": "ba6418a9-dc82-4460-a722-6d2297635793"
      },
      "source": [
        "#import matplotlib.pyplot as plt\n",
        "fig, ax=plt.subplots()\n",
        "ax.plot(dataset,accuracy_MLTSVM, label='MLTSVM',marker='H')\n",
        "ax.plot(dataset,accuracy_MLKNN, label='MLKNN',marker='>' )\n",
        "ax.plot(dataset,accuracy_BRKNNa, label='BRKNNa',marker='*')\n",
        "ax.legend(loc='upper left')\n",
        "ax.set_title('Mutual Information-40% FS')\n",
        "ax.set_xlabel('Datasets')\n",
        "ax.set_ylabel('Accuracy')\n",
        "plt.savefig('MI-40-Accuracy')"
      ],
      "execution_count": null,
      "outputs": [
        {
          "output_type": "display_data",
          "data": {
            "image/png": "[encoded data removed]",
            "text/plain": [
              "<Figure size 432x288 with 1 Axes>"
            ]
          },
          "metadata": {
            "tags": [],
            "needs_background": "light"
          }
        }
      ]
    },
    {
      "cell_type": "markdown",
      "metadata": {
        "id": "C8kIL_2FwzdF"
      },
      "source": [
        "##Precision"
      ]
    },
    {
      "cell_type": "code",
      "metadata": {
        "id": "EkXLMns_w0uN",
        "colab": {
          "base_uri": "https://localhost:8080/"
        },
        "outputId": "c261d180-9b2c-4f69-e880-67c7508b0eff"
      },
      "source": [
        "fig, ax=plt.subplots()\n",
        "ax.plot(dataset,precision_MLTSVM, label='MLTSVM',marker='H')\n",
        "ax.plot(dataset,precision_MLKNN, label='MLKNN',marker='>')\n",
        "ax.plot(dataset,precision_BRKNNa, label='BRKNNa',marker='*')\n",
        "ax.legend(loc='lower left')\n",
        "ax.set_title('Mutual Information-40% FS')\n",
        "ax.set_xlabel('Datasets')\n",
        "ax.set_ylabel('Micro Precision')\n",
        "plt.tight_layout()\n",
        "plt.savefig('MI-40-Precision')"
      ],
      "execution_count": null,
      "outputs": [
        {
          "output_type": "display_data",
          "data": {
            "image/png": "[encoded data removed]",
            "text/plain": [
              "<Figure size 432x288 with 1 Axes>"
            ]
          },
          "metadata": {
            "tags": [],
            "needs_background": "light"
          }
        }
      ]
    },
    {
      "cell_type": "markdown",
      "metadata": {
        "id": "iUGBludfw3Fs"
      },
      "source": [
        "##Recall"
      ]
    },
    {
      "cell_type": "code",
      "metadata": {
        "id": "C_Qlm4fXw31x",
        "colab": {
          "base_uri": "https://localhost:8080/"
        },
        "outputId": "55627b8d-b521-4e7a-9bda-b9132cdb638d"
      },
      "source": [
        "fig, ax=plt.subplots()\n",
        "ax.plot(dataset,recall_MLTSVM, label='MLTSVM',marker='H')\n",
        "ax.plot(dataset,recall_MLKNN, label='MLKNN',marker='>')\n",
        "ax.plot(dataset,recall_BRKNNa, label='BRKNNa',marker='*')\n",
        "ax.legend(loc='upper left')\n",
        "ax.set_title('Mutual Information-40% FS')\n",
        "ax.set_xlabel('Datasets')\n",
        "ax.set_ylabel('Micro Recall')\n",
        "plt.tight_layout()\n",
        "plt.savefig('MI-40-Recall')"
      ],
      "execution_count": null,
      "outputs": [
        {
          "output_type": "display_data",
          "data": {
            "image/png": "[encoded data removed]",
            "text/plain": [
              "<Figure size 432x288 with 1 Axes>"
            ]
          },
          "metadata": {
            "tags": [],
            "needs_background": "light"
          }
        }
      ]
    },
    {
      "cell_type": "markdown",
      "metadata": {
        "id": "ohSxETkbw6Ri"
      },
      "source": [
        "##F1 Measure"
      ]
    },
    {
      "cell_type": "code",
      "metadata": {
        "id": "UmIJ2639w7eQ",
        "colab": {
          "base_uri": "https://localhost:8080/",
          "height": 297
        },
        "outputId": "a9c340f5-11b4-476e-9b68-f656616185a6"
      },
      "source": [
        "#F1 measure\n",
        "fig, ax=plt.subplots()\n",
        "ax.plot(dataset,f1_measure_MLTSVM, label='MLTSVM',marker='H')\n",
        "ax.plot(dataset,f1_measure_MLKNN, label='MLKNN',marker='>')\n",
        "ax.plot(dataset,f1_measure_BRKNNa, label='BRKNNa',marker='*')\n",
        "ax.legend(loc=4)\n",
        "ax.set_title('Mutual Information-40% FS')\n",
        "ax.set_xlabel('Datasets')\n",
        "ax.set_ylabel('Micro F1 measure')\n",
        "plt.tight_layout()\n",
        "plt.savefig('MI-40-f1 measure')"
      ],
      "execution_count": null,
      "outputs": [
        {
          "output_type": "display_data",
          "data": {
            "image/png": "[encoded data removed]",
            "text/plain": [
              "<Figure size 432x288 with 1 Axes>"
            ]
          },
          "metadata": {
            "tags": [],
            "needs_background": "light"
          }
        }
      ]
    }
  ]
}