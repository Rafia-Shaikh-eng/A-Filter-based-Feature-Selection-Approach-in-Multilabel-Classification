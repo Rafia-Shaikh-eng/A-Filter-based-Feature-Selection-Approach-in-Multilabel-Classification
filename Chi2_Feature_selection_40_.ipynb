{
  "cells": [
    {
      "cell_type": "markdown",
      "metadata": {
        "id": "view-in-github",
        "colab_type": "text"
      },
      "source": [
        "<a href=\"https://colab.research.google.com/github/Rafia-Shaikh-eng/A-Filter-based-Feature-Selection-Approach-in-Multilabel-Classification/blob/main/Chi2_Feature_selection_40_.ipynb\" target=\"_parent\"><img src=\"https://colab.research.google.com/assets/colab-badge.svg\" alt=\"Open In Colab\"/></a>"
      ]
    },
    {
      "cell_type": "code",
      "execution_count": null,
      "metadata": {
        "colab": {
          "base_uri": "https://localhost:8080/"
        },
        "id": "gEINO1wDNec-",
        "outputId": "0d421baf-a8cf-495e-8769-db52299c3d0f"
      },
      "outputs": [
        {
          "name": "stdout",
          "output_type": "stream",
          "text": [
            "Requirement already satisfied: scikit-multilearn in /home/rafia/anaconda3/lib/python3.7/site-packages (0.2.0)\n",
            "Requirement already satisfied: arff in /home/rafia/anaconda3/lib/python3.7/site-packages (0.9)\n"
          ]
        }
      ],
      "source": [
        "# if the scikit-multilearn not installed run this cell\n",
        "!pip install scikit-multilearn\n",
        "# most of the datasets in Weka Arff format for this installed this library\n",
        "!pip install arff"
      ]
    },
    {
      "cell_type": "code",
      "execution_count": null,
      "metadata": {
        "id": "6pzoQRBHMsMM"
      },
      "outputs": [],
      "source": [
        "#03 classifiers hamming loss list\n",
        "hamming_loss_MLTSVM=[]\n",
        "hamming_loss_MLKNN=[]\n",
        "hamming_loss_BRKNNa=[]\n",
        "#03 classifier accuracy list\n",
        "accuracy_MLTSVM=[]\n",
        "accuracy_MLKNN=[]\n",
        "accuracy_BRKNNa=[]\n",
        "#03 classifier precision list\n",
        "precision_MLTSVM=[]\n",
        "precision_MLKNN=[]\n",
        "precision_BRKNNa=[]\n",
        "#03 classifier recall list\n",
        "recall_MLTSVM=[]\n",
        "recall_MLKNN=[]\n",
        "recall_BRKNNa=[]\n",
        "#03 classifier f1 measure list\n",
        "f1_measure_MLTSVM=[]\n",
        "f1_measure_MLKNN=[]\n",
        "f1_measure_BRKNNa=[]"
      ]
    },
    {
      "cell_type": "markdown",
      "metadata": {
        "id": "nLW4iBPpNedL"
      },
      "source": [
        "# Feature selection"
      ]
    },
    {
      "cell_type": "markdown",
      "metadata": {
        "id": "E75HF1g4NedM"
      },
      "source": [
        "### 01- Medical dataset"
      ]
    },
    {
      "cell_type": "code",
      "execution_count": null,
      "metadata": {
        "colab": {
          "base_uri": "https://localhost:8080/"
        },
        "id": "ske9K2ieNedN",
        "outputId": "2c5c8ca5-4e35-4e46-bd03-56f5b9aa7906"
      },
      "outputs": [
        {
          "name": "stdout",
          "output_type": "stream",
          "text": [
            "medical:undivided - exists, not redownloading\n",
            "Actual Dataset\n",
            "(978, 1449) (978, 45)\n",
            "Coverted into Dataframe\n",
            "(978, 1449) (978, 45)\n"
          ]
        }
      ],
      "source": [
        "#Load Medical Dataset\n",
        "from skmultilearn.dataset import load_dataset\n",
        "x1,y1, _, _ = load_dataset('medical', 'undivided')\n",
        "print(\"Actual Dataset\")\n",
        "print(x1.shape,y1.shape)\n",
        "#change to matrix\n",
        "x1=x1.todense()\n",
        "y1=y1.todense()\n",
        "import pandas as pd\n",
        "#change to dataFrame\n",
        "x1=pd.DataFrame(x1)\n",
        "y1=pd.DataFrame(y1)\n",
        "print(\"Coverted into Dataframe\")\n",
        "print(x1.shape,y1.shape)"
      ]
    },
    {
      "cell_type": "markdown",
      "metadata": {
        "id": "nO7JGE5MNedO"
      },
      "source": [
        "### II-Chi2"
      ]
    },
    {
      "cell_type": "code",
      "execution_count": null,
      "metadata": {
        "colab": {
          "base_uri": "https://localhost:8080/"
        },
        "id": "BWdzxue3NedO",
        "outputId": "cbc61075-184e-4e89-b310-d101e5f72a3e"
      },
      "outputs": [
        {
          "name": "stdout",
          "output_type": "stream",
          "text": [
            "40% features of medical dataset =  580\n"
          ]
        }
      ],
      "source": [
        "# import the required functions and object.\n",
        "from sklearn.feature_selection import chi2\n",
        "from sklearn.feature_selection import SelectKBest\n",
        "import numpy as np\n",
        "import pandas as pd\n",
        "\n",
        "# select the number of features you want to retain.\n",
        "select_k1 = round(len(x1.columns)*0.4)\n",
        "print(\"40% features of medical dataset = \",select_k1)\n",
        "\n",
        "features_selected_40=[]\n",
        "features_weights=[]\n",
        "for a in range(len(x1.columns)):\n",
        "   features_weights.append(0)\n",
        "for i in range(len(y1.columns)):\n",
        "  # apply the chi2 score on the data and target (target should be binary).\n",
        "  selection = SelectKBest(chi2, k=select_k1).fit(x1, y1.iloc[:,i])\n",
        "\n",
        "  # display the retained features.\n",
        "  features=list(x1.columns[selection.get_support()])\n",
        "  labels=y1.columns[i]\n",
        "  features_selected_40.append([labels, features])\n",
        "  #print(features_selected_40[i])\n",
        "\n",
        "  #calculating weight for each feature\n",
        "  #if a feature is correlate to label count them and than divide it by total labels\n",
        "  for f in features:\n",
        "    for count in range(len(x1.columns)):\n",
        "      if(f==x1.columns[count]):\n",
        "        features_weights[count]+=1\n",
        "list_f_w={}\n",
        "#if a feature is correlate to label count them and than divide it by total labels\n",
        "for i in range(len(x1.columns)):\n",
        "  features_weights[i]=round(features_weights[i]/len(x1.columns),3)\n",
        "  list_f_w.update({x1.columns[i] : features_weights[i]})"
      ]
    },
    {
      "cell_type": "code",
      "execution_count": null,
      "metadata": {
        "id": "CqWghiRPNedP"
      },
      "outputs": [],
      "source": [
        "#sort weights\n",
        "import operator\n",
        "sorted_list_f_w = sorted(list_f_w.items(), key=operator.itemgetter(1), reverse=True)\n",
        "import collections\n",
        "sorted_dict_f = collections.OrderedDict(sorted_list_f_w)\n",
        "#print(sorted_dict_f)"
      ]
    },
    {
      "cell_type": "code",
      "execution_count": null,
      "metadata": {
        "colab": {
          "base_uri": "https://localhost:8080/"
        },
        "id": "ovg-TTkFNedQ",
        "outputId": "e4d2b972-c77e-4f7e-8fd5-e0070ffadf1f"
      },
      "outputs": [
        {
          "name": "stdout",
          "output_type": "stream",
          "text": [
            "{0, 1, 2, 3, 4, 5, 6, 7, 8, 9, 10, 11, 12, 13, 14, 15, 16, 17, 18, 19, 20, 21, 22, 23, 24, 25, 26, 27, 28, 29, 30, 31, 32, 33, 34, 35, 36, 37, 38, 39, 40, 41, 42, 43, 44, 45, 46, 47, 48, 49, 50, 51, 52, 53, 54, 55, 56, 57, 58, 59, 60, 61, 62, 63, 64, 65, 66, 67, 68, 69, 70, 71, 72, 73, 74, 75, 76, 77, 78, 79, 80, 81, 82, 83, 84, 85, 86, 87, 88, 89, 90, 91, 92, 93, 94, 95, 96, 97, 98, 99, 100, 101, 102, 103, 104, 105, 106, 107, 108, 109, 110, 111, 112, 113, 114, 115, 116, 117, 118, 119, 120, 121, 122, 123, 124, 125, 126, 127, 128, 129, 130, 131, 132, 133, 134, 135, 136, 137, 138, 139, 140, 141, 142, 143, 144, 145, 146, 147, 148, 149, 150, 151, 152, 153, 154, 155, 156, 157, 158, 159, 160, 161, 162, 163, 164, 165, 166, 167, 168, 169, 170, 171, 173, 174, 179, 180, 181, 184, 191, 193, 195, 196, 198, 199, 201, 202, 207, 213, 217, 218, 219, 224, 225, 229, 231, 234, 236, 237, 241, 248, 249, 250, 252, 253, 254, 257, 258, 259, 260, 262, 265, 266, 272, 281, 282, 284, 285, 290, 293, 294, 297, 305, 308, 311, 315, 320, 323, 325, 327, 328, 334, 335, 341, 342, 345, 346, 347, 349, 350, 352, 353, 354, 355, 361, 363, 366, 370, 371, 372, 373, 388, 389, 390, 392, 393, 403, 406, 409, 410, 411, 412, 419, 421, 422, 423, 424, 426, 427, 430, 432, 433, 435, 437, 438, 441, 442, 446, 448, 452, 458, 461, 464, 468, 470, 472, 473, 474, 475, 476, 480, 481, 483, 486, 487, 488, 490, 496, 498, 499, 500, 501, 502, 504, 505, 507, 508, 512, 518, 521, 522, 523, 524, 526, 527, 529, 531, 532, 533, 534, 535, 537, 538, 539, 543, 544, 546, 547, 548, 551, 552, 555, 560, 562, 563, 564, 565, 570, 571, 572, 573, 576, 578, 579, 581, 582, 585, 586, 589, 590, 592, 594, 595, 596, 604, 605, 607, 615, 621, 625, 628, 630, 632, 634, 640, 641, 643, 645, 647, 649, 650, 651, 653, 657, 663, 666, 669, 670, 671, 673, 679, 680, 682, 683, 685, 686, 688, 689, 690, 697, 699, 700, 701, 703, 704, 705, 707, 708, 709, 710, 713, 716, 718, 719, 727, 732, 737, 741, 742, 743, 745, 746, 749, 752, 754, 764, 765, 766, 767, 768, 772, 774, 775, 780, 781, 783, 784, 785, 791, 792, 793, 798, 799, 802, 804, 808, 810, 813, 814, 819, 822, 823, 824, 825, 827, 831, 833, 834, 835, 836, 837, 840, 841, 842, 843, 845, 848, 849, 850, 851, 852, 854, 855, 856, 858, 859, 865, 866, 867, 871, 873, 875, 885, 886, 887, 891, 892, 896, 900, 901, 905, 906, 907, 916, 923, 926, 927, 928, 931, 933, 934, 935, 938, 939, 940, 942, 943, 944, 950, 956, 961, 965, 968, 970, 971, 975, 976, 979, 981, 982, 983, 986, 987, 989, 991, 994, 995, 997, 1000, 1001, 1002, 1003, 1004, 1006, 1010, 1011, 1017, 1021, 1022, 1023, 1024, 1026, 1029, 1030, 1036, 1037, 1039, 1051, 1057, 1058, 1059, 1061, 1064, 1068, 1070, 1072, 1074, 1077, 1079, 1081, 1084, 1085, 1086, 1087, 1088, 1089, 1091, 1092, 1093, 1095, 1096, 1097, 1099, 1101, 1102, 1106, 1109, 1110, 1117, 1120, 1123, 1125, 1128, 1134, 1137, 1138, 1139, 1145, 1146, 1147, 1153, 1154, 1155, 1157, 1159, 1161, 1167, 1168, 1170, 1172, 1174, 1177, 1178, 1183, 1184, 1187, 1188, 1189, 1190, 1192, 1193, 1195, 1196, 1197, 1199, 1201, 1204, 1206, 1212, 1213, 1219, 1221, 1224, 1225, 1226, 1227, 1228, 1229, 1233, 1234, 1238, 1239, 1242, 1244, 1246, 1247, 1248, 1249, 1250, 1252, 1253, 1255, 1259, 1261, 1262, 1263, 1268, 1270, 1271, 1272, 1273, 1275, 1277, 1282, 1288, 1289, 1290, 1292, 1294, 1301, 1302, 1304, 1307, 1308, 1309, 1312, 1315, 1316, 1320, 1323, 1324, 1327, 1337, 1340, 1343, 1344, 1346, 1349, 1352, 1353, 1356, 1358, 1363, 1364, 1366, 1369, 1371, 1373, 1374, 1376, 1379, 1382, 1385, 1386, 1388, 1389, 1391, 1392, 1393, 1394, 1395, 1397, 1398, 1399, 1400, 1401, 1403, 1404, 1406, 1408, 1414, 1415, 1416, 1417, 1418, 1419, 1420, 1423, 1424, 1425, 1429, 1430, 1431, 1432, 1433, 1436, 1438, 1439, 1441, 1442, 1443, 1444, 1445, 1446, 1448}\n"
          ]
        }
      ],
      "source": [
        "#now, access top 50% weighted features(keys)\n",
        "final_features=[]\n",
        "found=False\n",
        "for i in range(round(len(x1.columns)*0.5)):\n",
        "    final_features.append(list(sorted_dict_f.keys())[i])\n",
        "final_features.sort()\n",
        "\n",
        "#drop other than top 50% weighted features\n",
        "selected_features = set(x1.columns).intersection(final_features)\n",
        "\n",
        "#print(set(x.columns))\n",
        "print(selected_features)\n",
        "\n",
        "for i in list(x1.columns):\n",
        "    if i not in selected_features:\n",
        "        x1 = x1.drop(columns=[i])\n",
        "\n",
        "#print(set(x.columns) == selected_features)\n"
      ]
    },
    {
      "cell_type": "code",
      "execution_count": null,
      "metadata": {
        "colab": {
          "base_uri": "https://localhost:8080/",
          "height": 427
        },
        "id": "6SIDNGnxNedQ",
        "outputId": "53271c67-20f7-4a43-e81e-7bffcf500463"
      },
      "outputs": [
        {
          "data": {
            "text/html": [
              "<div>\n",
              "<style scoped>\n",
              "    .dataframe tbody tr th:only-of-type {\n",
              "        vertical-align: middle;\n",
              "    }\n",
              "\n",
              "    .dataframe tbody tr th {\n",
              "        vertical-align: top;\n",
              "    }\n",
              "\n",
              "    .dataframe thead th {\n",
              "        text-align: right;\n",
              "    }\n",
              "</style>\n",
              "<table border=\"1\" class=\"dataframe\">\n",
              "  <thead>\n",
              "    <tr style=\"text-align: right;\">\n",
              "      <th></th>\n",
              "      <th>0</th>\n",
              "      <th>1</th>\n",
              "      <th>2</th>\n",
              "      <th>3</th>\n",
              "      <th>4</th>\n",
              "      <th>5</th>\n",
              "      <th>6</th>\n",
              "      <th>7</th>\n",
              "      <th>8</th>\n",
              "      <th>9</th>\n",
              "      <th>...</th>\n",
              "      <th>1436</th>\n",
              "      <th>1438</th>\n",
              "      <th>1439</th>\n",
              "      <th>1441</th>\n",
              "      <th>1442</th>\n",
              "      <th>1443</th>\n",
              "      <th>1444</th>\n",
              "      <th>1445</th>\n",
              "      <th>1446</th>\n",
              "      <th>1448</th>\n",
              "    </tr>\n",
              "  </thead>\n",
              "  <tbody>\n",
              "    <tr>\n",
              "      <th>0</th>\n",
              "      <td>0.0</td>\n",
              "      <td>0.0</td>\n",
              "      <td>0.0</td>\n",
              "      <td>0.0</td>\n",
              "      <td>0.0</td>\n",
              "      <td>0.0</td>\n",
              "      <td>0.0</td>\n",
              "      <td>0.0</td>\n",
              "      <td>0.0</td>\n",
              "      <td>0.0</td>\n",
              "      <td>...</td>\n",
              "      <td>0.0</td>\n",
              "      <td>0.0</td>\n",
              "      <td>0.0</td>\n",
              "      <td>0.0</td>\n",
              "      <td>0.0</td>\n",
              "      <td>0.0</td>\n",
              "      <td>0.0</td>\n",
              "      <td>0.0</td>\n",
              "      <td>0.0</td>\n",
              "      <td>0.0</td>\n",
              "    </tr>\n",
              "    <tr>\n",
              "      <th>1</th>\n",
              "      <td>1.0</td>\n",
              "      <td>0.0</td>\n",
              "      <td>0.0</td>\n",
              "      <td>0.0</td>\n",
              "      <td>0.0</td>\n",
              "      <td>0.0</td>\n",
              "      <td>0.0</td>\n",
              "      <td>1.0</td>\n",
              "      <td>0.0</td>\n",
              "      <td>0.0</td>\n",
              "      <td>...</td>\n",
              "      <td>0.0</td>\n",
              "      <td>0.0</td>\n",
              "      <td>0.0</td>\n",
              "      <td>0.0</td>\n",
              "      <td>0.0</td>\n",
              "      <td>0.0</td>\n",
              "      <td>0.0</td>\n",
              "      <td>0.0</td>\n",
              "      <td>0.0</td>\n",
              "      <td>0.0</td>\n",
              "    </tr>\n",
              "    <tr>\n",
              "      <th>2</th>\n",
              "      <td>1.0</td>\n",
              "      <td>0.0</td>\n",
              "      <td>0.0</td>\n",
              "      <td>0.0</td>\n",
              "      <td>0.0</td>\n",
              "      <td>0.0</td>\n",
              "      <td>0.0</td>\n",
              "      <td>1.0</td>\n",
              "      <td>0.0</td>\n",
              "      <td>0.0</td>\n",
              "      <td>...</td>\n",
              "      <td>0.0</td>\n",
              "      <td>0.0</td>\n",
              "      <td>0.0</td>\n",
              "      <td>0.0</td>\n",
              "      <td>0.0</td>\n",
              "      <td>0.0</td>\n",
              "      <td>0.0</td>\n",
              "      <td>0.0</td>\n",
              "      <td>0.0</td>\n",
              "      <td>0.0</td>\n",
              "    </tr>\n",
              "    <tr>\n",
              "      <th>3</th>\n",
              "      <td>1.0</td>\n",
              "      <td>0.0</td>\n",
              "      <td>0.0</td>\n",
              "      <td>0.0</td>\n",
              "      <td>0.0</td>\n",
              "      <td>0.0</td>\n",
              "      <td>0.0</td>\n",
              "      <td>0.0</td>\n",
              "      <td>0.0</td>\n",
              "      <td>0.0</td>\n",
              "      <td>...</td>\n",
              "      <td>0.0</td>\n",
              "      <td>0.0</td>\n",
              "      <td>0.0</td>\n",
              "      <td>0.0</td>\n",
              "      <td>0.0</td>\n",
              "      <td>0.0</td>\n",
              "      <td>0.0</td>\n",
              "      <td>0.0</td>\n",
              "      <td>0.0</td>\n",
              "      <td>0.0</td>\n",
              "    </tr>\n",
              "    <tr>\n",
              "      <th>4</th>\n",
              "      <td>0.0</td>\n",
              "      <td>0.0</td>\n",
              "      <td>0.0</td>\n",
              "      <td>0.0</td>\n",
              "      <td>0.0</td>\n",
              "      <td>0.0</td>\n",
              "      <td>0.0</td>\n",
              "      <td>1.0</td>\n",
              "      <td>0.0</td>\n",
              "      <td>0.0</td>\n",
              "      <td>...</td>\n",
              "      <td>0.0</td>\n",
              "      <td>0.0</td>\n",
              "      <td>0.0</td>\n",
              "      <td>0.0</td>\n",
              "      <td>0.0</td>\n",
              "      <td>0.0</td>\n",
              "      <td>0.0</td>\n",
              "      <td>0.0</td>\n",
              "      <td>0.0</td>\n",
              "      <td>0.0</td>\n",
              "    </tr>\n",
              "    <tr>\n",
              "      <th>...</th>\n",
              "      <td>...</td>\n",
              "      <td>...</td>\n",
              "      <td>...</td>\n",
              "      <td>...</td>\n",
              "      <td>...</td>\n",
              "      <td>...</td>\n",
              "      <td>...</td>\n",
              "      <td>...</td>\n",
              "      <td>...</td>\n",
              "      <td>...</td>\n",
              "      <td>...</td>\n",
              "      <td>...</td>\n",
              "      <td>...</td>\n",
              "      <td>...</td>\n",
              "      <td>...</td>\n",
              "      <td>...</td>\n",
              "      <td>...</td>\n",
              "      <td>...</td>\n",
              "      <td>...</td>\n",
              "      <td>...</td>\n",
              "      <td>...</td>\n",
              "    </tr>\n",
              "    <tr>\n",
              "      <th>973</th>\n",
              "      <td>0.0</td>\n",
              "      <td>0.0</td>\n",
              "      <td>0.0</td>\n",
              "      <td>0.0</td>\n",
              "      <td>0.0</td>\n",
              "      <td>0.0</td>\n",
              "      <td>0.0</td>\n",
              "      <td>0.0</td>\n",
              "      <td>0.0</td>\n",
              "      <td>0.0</td>\n",
              "      <td>...</td>\n",
              "      <td>0.0</td>\n",
              "      <td>0.0</td>\n",
              "      <td>0.0</td>\n",
              "      <td>0.0</td>\n",
              "      <td>0.0</td>\n",
              "      <td>0.0</td>\n",
              "      <td>0.0</td>\n",
              "      <td>1.0</td>\n",
              "      <td>0.0</td>\n",
              "      <td>0.0</td>\n",
              "    </tr>\n",
              "    <tr>\n",
              "      <th>974</th>\n",
              "      <td>1.0</td>\n",
              "      <td>0.0</td>\n",
              "      <td>0.0</td>\n",
              "      <td>0.0</td>\n",
              "      <td>0.0</td>\n",
              "      <td>0.0</td>\n",
              "      <td>0.0</td>\n",
              "      <td>0.0</td>\n",
              "      <td>0.0</td>\n",
              "      <td>0.0</td>\n",
              "      <td>...</td>\n",
              "      <td>0.0</td>\n",
              "      <td>0.0</td>\n",
              "      <td>0.0</td>\n",
              "      <td>0.0</td>\n",
              "      <td>0.0</td>\n",
              "      <td>1.0</td>\n",
              "      <td>0.0</td>\n",
              "      <td>0.0</td>\n",
              "      <td>0.0</td>\n",
              "      <td>0.0</td>\n",
              "    </tr>\n",
              "    <tr>\n",
              "      <th>975</th>\n",
              "      <td>1.0</td>\n",
              "      <td>0.0</td>\n",
              "      <td>0.0</td>\n",
              "      <td>0.0</td>\n",
              "      <td>0.0</td>\n",
              "      <td>0.0</td>\n",
              "      <td>0.0</td>\n",
              "      <td>0.0</td>\n",
              "      <td>0.0</td>\n",
              "      <td>0.0</td>\n",
              "      <td>...</td>\n",
              "      <td>0.0</td>\n",
              "      <td>0.0</td>\n",
              "      <td>0.0</td>\n",
              "      <td>0.0</td>\n",
              "      <td>0.0</td>\n",
              "      <td>1.0</td>\n",
              "      <td>0.0</td>\n",
              "      <td>0.0</td>\n",
              "      <td>0.0</td>\n",
              "      <td>0.0</td>\n",
              "    </tr>\n",
              "    <tr>\n",
              "      <th>976</th>\n",
              "      <td>0.0</td>\n",
              "      <td>0.0</td>\n",
              "      <td>0.0</td>\n",
              "      <td>0.0</td>\n",
              "      <td>0.0</td>\n",
              "      <td>0.0</td>\n",
              "      <td>0.0</td>\n",
              "      <td>0.0</td>\n",
              "      <td>0.0</td>\n",
              "      <td>0.0</td>\n",
              "      <td>...</td>\n",
              "      <td>0.0</td>\n",
              "      <td>0.0</td>\n",
              "      <td>0.0</td>\n",
              "      <td>0.0</td>\n",
              "      <td>0.0</td>\n",
              "      <td>0.0</td>\n",
              "      <td>0.0</td>\n",
              "      <td>0.0</td>\n",
              "      <td>0.0</td>\n",
              "      <td>0.0</td>\n",
              "    </tr>\n",
              "    <tr>\n",
              "      <th>977</th>\n",
              "      <td>1.0</td>\n",
              "      <td>0.0</td>\n",
              "      <td>0.0</td>\n",
              "      <td>0.0</td>\n",
              "      <td>0.0</td>\n",
              "      <td>0.0</td>\n",
              "      <td>0.0</td>\n",
              "      <td>0.0</td>\n",
              "      <td>0.0</td>\n",
              "      <td>0.0</td>\n",
              "      <td>...</td>\n",
              "      <td>0.0</td>\n",
              "      <td>0.0</td>\n",
              "      <td>0.0</td>\n",
              "      <td>0.0</td>\n",
              "      <td>0.0</td>\n",
              "      <td>0.0</td>\n",
              "      <td>0.0</td>\n",
              "      <td>0.0</td>\n",
              "      <td>0.0</td>\n",
              "      <td>0.0</td>\n",
              "    </tr>\n",
              "  </tbody>\n",
              "</table>\n",
              "<p>978 rows × 724 columns</p>\n",
              "</div>"
            ],
            "text/plain": [
              "     0     1     2     3     4     5     6     7     8     9     ...  1436  \\\n",
              "0     0.0   0.0   0.0   0.0   0.0   0.0   0.0   0.0   0.0   0.0  ...   0.0   \n",
              "1     1.0   0.0   0.0   0.0   0.0   0.0   0.0   1.0   0.0   0.0  ...   0.0   \n",
              "2     1.0   0.0   0.0   0.0   0.0   0.0   0.0   1.0   0.0   0.0  ...   0.0   \n",
              "3     1.0   0.0   0.0   0.0   0.0   0.0   0.0   0.0   0.0   0.0  ...   0.0   \n",
              "4     0.0   0.0   0.0   0.0   0.0   0.0   0.0   1.0   0.0   0.0  ...   0.0   \n",
              "..    ...   ...   ...   ...   ...   ...   ...   ...   ...   ...  ...   ...   \n",
              "973   0.0   0.0   0.0   0.0   0.0   0.0   0.0   0.0   0.0   0.0  ...   0.0   \n",
              "974   1.0   0.0   0.0   0.0   0.0   0.0   0.0   0.0   0.0   0.0  ...   0.0   \n",
              "975   1.0   0.0   0.0   0.0   0.0   0.0   0.0   0.0   0.0   0.0  ...   0.0   \n",
              "976   0.0   0.0   0.0   0.0   0.0   0.0   0.0   0.0   0.0   0.0  ...   0.0   \n",
              "977   1.0   0.0   0.0   0.0   0.0   0.0   0.0   0.0   0.0   0.0  ...   0.0   \n",
              "\n",
              "     1438  1439  1441  1442  1443  1444  1445  1446  1448  \n",
              "0     0.0   0.0   0.0   0.0   0.0   0.0   0.0   0.0   0.0  \n",
              "1     0.0   0.0   0.0   0.0   0.0   0.0   0.0   0.0   0.0  \n",
              "2     0.0   0.0   0.0   0.0   0.0   0.0   0.0   0.0   0.0  \n",
              "3     0.0   0.0   0.0   0.0   0.0   0.0   0.0   0.0   0.0  \n",
              "4     0.0   0.0   0.0   0.0   0.0   0.0   0.0   0.0   0.0  \n",
              "..    ...   ...   ...   ...   ...   ...   ...   ...   ...  \n",
              "973   0.0   0.0   0.0   0.0   0.0   0.0   1.0   0.0   0.0  \n",
              "974   0.0   0.0   0.0   0.0   1.0   0.0   0.0   0.0   0.0  \n",
              "975   0.0   0.0   0.0   0.0   1.0   0.0   0.0   0.0   0.0  \n",
              "976   0.0   0.0   0.0   0.0   0.0   0.0   0.0   0.0   0.0  \n",
              "977   0.0   0.0   0.0   0.0   0.0   0.0   0.0   0.0   0.0  \n",
              "\n",
              "[978 rows x 724 columns]"
            ]
          },
          "execution_count": 7,
          "metadata": {},
          "output_type": "execute_result"
        }
      ],
      "source": [
        "x1"
      ]
    },
    {
      "cell_type": "code",
      "execution_count": null,
      "metadata": {
        "colab": {
          "base_uri": "https://localhost:8080/"
        },
        "id": "R7H0VCpSNedR",
        "outputId": "2c8ae91c-5528-474f-8ad2-de77987f43ec"
      },
      "outputs": [
        {
          "name": "stdout",
          "output_type": "stream",
          "text": [
            "Int64Index([   0,    1,    2,    3,    4,    5,    6,    7,    8,    9,\n",
            "            ...\n",
            "            1436, 1438, 1439, 1441, 1442, 1443, 1444, 1445, 1446, 1448],\n",
            "           dtype='int64', length=724)\n",
            "[0, 1, 2, 3, 4, 5, 6, 7, 8, 9, 10, 11, 12, 13, 14, 15, 16, 17, 18, 19, 20, 21, 22, 23, 24, 25, 26, 27, 28, 29, 30, 31, 32, 33, 34, 35, 36, 37, 38, 39, 40, 41, 42, 43, 44, 45, 46, 47, 48, 49, 50, 51, 52, 53, 54, 55, 56, 57, 58, 59, 60, 61, 62, 63, 64, 65, 66, 67, 68, 69, 70, 71, 72, 73, 74, 75, 76, 77, 78, 79, 80, 81, 82, 83, 84, 85, 86, 87, 88, 89, 90, 91, 92, 93, 94, 95, 96, 97, 98, 99, 100, 101, 102, 103, 104, 105, 106, 107, 108, 109, 110, 111, 112, 113, 114, 115, 116, 117, 118, 119, 120, 121, 122, 123, 124, 125, 126, 127, 128, 129, 130, 131, 132, 133, 134, 135, 136, 137, 138, 139, 140, 141, 142, 143, 144, 145, 146, 147, 148, 149, 150, 151, 152, 153, 154, 155, 156, 157, 158, 159, 160, 161, 162, 163, 164, 165, 166, 167, 168, 169, 170, 171, 173, 174, 179, 180, 181, 184, 191, 193, 195, 196, 198, 199, 201, 202, 207, 213, 217, 218, 219, 224, 225, 229, 231, 234, 236, 237, 241, 248, 249, 250, 252, 253, 254, 257, 258, 259, 260, 262, 265, 266, 272, 281, 282, 284, 285, 290, 293, 294, 297, 305, 308, 311, 315, 320, 323, 325, 327, 328, 334, 335, 341, 342, 345, 346, 347, 349, 350, 352, 353, 354, 355, 361, 363, 366, 370, 371, 372, 373, 388, 389, 390, 392, 393, 403, 406, 409, 410, 411, 412, 419, 421, 422, 423, 424, 426, 427, 430, 432, 433, 435, 437, 438, 441, 442, 446, 448, 452, 458, 461, 464, 468, 470, 472, 473, 474, 475, 476, 480, 481, 483, 486, 487, 488, 490, 496, 498, 499, 500, 501, 502, 504, 505, 507, 508, 512, 518, 521, 522, 523, 524, 526, 527, 529, 531, 532, 533, 534, 535, 537, 538, 539, 543, 544, 546, 547, 548, 551, 552, 555, 560, 562, 563, 564, 565, 570, 571, 572, 573, 576, 578, 579, 581, 582, 585, 586, 589, 590, 592, 594, 595, 596, 604, 605, 607, 615, 621, 625, 628, 630, 632, 634, 640, 641, 643, 645, 647, 649, 650, 651, 653, 657, 663, 666, 669, 670, 671, 673, 679, 680, 682, 683, 685, 686, 688, 689, 690, 697, 699, 700, 701, 703, 704, 705, 707, 708, 709, 710, 713, 716, 718, 719, 727, 732, 737, 741, 742, 743, 745, 746, 749, 752, 754, 764, 765, 766, 767, 768, 772, 774, 775, 780, 781, 783, 784, 785, 791, 792, 793, 798, 799, 802, 804, 808, 810, 813, 814, 819, 822, 823, 824, 825, 827, 831, 833, 834, 835, 836, 837, 840, 841, 842, 843, 845, 848, 849, 850, 851, 852, 854, 855, 856, 858, 859, 865, 866, 867, 871, 873, 875, 885, 886, 887, 891, 892, 896, 900, 901, 905, 906, 907, 916, 923, 926, 927, 928, 931, 933, 934, 935, 938, 939, 940, 942, 943, 944, 950, 956, 961, 965, 968, 970, 971, 975, 976, 979, 981, 982, 983, 986, 987, 989, 991, 994, 995, 997, 1000, 1001, 1002, 1003, 1004, 1006, 1010, 1011, 1017, 1021, 1022, 1023, 1024, 1026, 1029, 1030, 1036, 1037, 1039, 1051, 1057, 1058, 1059, 1061, 1064, 1068, 1070, 1072, 1074, 1077, 1079, 1081, 1084, 1085, 1086, 1087, 1088, 1089, 1091, 1092, 1093, 1095, 1096, 1097, 1099, 1101, 1102, 1106, 1109, 1110, 1117, 1120, 1123, 1125, 1128, 1134, 1137, 1138, 1139, 1145, 1146, 1147, 1153, 1154, 1155, 1157, 1159, 1161, 1167, 1168, 1170, 1172, 1174, 1177, 1178, 1183, 1184, 1187, 1188, 1189, 1190, 1192, 1193, 1195, 1196, 1197, 1199, 1201, 1204, 1206, 1212, 1213, 1219, 1221, 1224, 1225, 1226, 1227, 1228, 1229, 1233, 1234, 1238, 1239, 1242, 1244, 1246, 1247, 1248, 1249, 1250, 1252, 1253, 1255, 1259, 1261, 1262, 1263, 1268, 1270, 1271, 1272, 1273, 1275, 1277, 1282, 1288, 1289, 1290, 1292, 1294, 1301, 1302, 1304, 1307, 1308, 1309, 1312, 1315, 1316, 1320, 1323, 1324, 1327, 1337, 1340, 1343, 1344, 1346, 1349, 1352, 1353, 1356, 1358, 1363, 1364, 1366, 1369, 1371, 1373, 1374, 1376, 1379, 1382, 1385, 1386, 1388, 1389, 1391, 1392, 1393, 1394, 1395, 1397, 1398, 1399, 1400, 1401, 1403, 1404, 1406, 1408, 1414, 1415, 1416, 1417, 1418, 1419, 1420, 1423, 1424, 1425, 1429, 1430, 1431, 1432, 1433, 1436, 1438, 1439, 1441, 1442, 1443, 1444, 1445, 1446, 1448]\n"
          ]
        }
      ],
      "source": [
        "print(x1.columns)\n",
        "print(final_features)"
      ]
    },
    {
      "cell_type": "code",
      "execution_count": null,
      "metadata": {
        "id": "uic6kqMhNedR"
      },
      "outputs": [],
      "source": [
        "from scipy import sparse as s\n",
        "x1 = s.csr_matrix(x1)\n",
        "y1 = s.csr_matrix(y1)"
      ]
    },
    {
      "cell_type": "markdown",
      "metadata": {
        "id": "VES9OskFSQUr"
      },
      "source": [
        "### Train , test split"
      ]
    },
    {
      "cell_type": "code",
      "execution_count": null,
      "metadata": {
        "colab": {
          "base_uri": "https://localhost:8080/"
        },
        "id": "fpvF18xYNedS",
        "outputId": "c55f92f8-058a-4430-acce-4dbbf5b5973f"
      },
      "outputs": [
        {
          "name": "stdout",
          "output_type": "stream",
          "text": [
            "(686, 724) (292, 724) (686, 45) (292, 45)\n"
          ]
        }
      ],
      "source": [
        "from skmultilearn.model_selection import iterative_train_test_split\n",
        "x1_train, y1_train, x1_test, y1_test = iterative_train_test_split(x1, y1, test_size = 0.3)\n",
        "print(x1_train.shape, x1_test.shape, y1_train.shape, y1_test.shape)"
      ]
    },
    {
      "cell_type": "code",
      "execution_count": null,
      "metadata": {
        "colab": {
          "base_uri": "https://localhost:8080/"
        },
        "id": "p1w72ConNedS",
        "outputId": "39a51878-0e51-4a04-dec0-7292b4c78217"
      },
      "outputs": [
        {
          "name": "stdout",
          "output_type": "stream",
          "text": [
            "(686, 724) (292, 724) (686, 45) (292, 45)\n"
          ]
        }
      ],
      "source": [
        "print(x1_train.shape,x1_test.shape,y1_train.shape, y1_test.shape)"
      ]
    },
    {
      "cell_type": "markdown",
      "metadata": {
        "id": "zdfpWvN8SWbO"
      },
      "source": [
        "# MLC"
      ]
    },
    {
      "cell_type": "code",
      "execution_count": null,
      "metadata": {
        "id": "z5RoLhDnNedT"
      },
      "outputs": [],
      "source": [
        "#MLTSVM\n",
        "from skmultilearn.adapt import MLTSVM\n",
        "classifier1 = MLTSVM(max_iteration=1000,c_k=2**-6)\n",
        "# train\n",
        "classifier1.fit(x1_train, y1_train)\n",
        "# predict\n",
        "MLTSVM1_predictions = classifier1.predict(x1_test)"
      ]
    },
    {
      "cell_type": "code",
      "execution_count": null,
      "metadata": {
        "id": "rvSSDUMrNedT",
        "outputId": "2362f6de-1fb3-4168-a80c-40f047799ab1"
      },
      "outputs": [
        {
          "name": "stderr",
          "output_type": "stream",
          "text": [
            "/home/rafia/anaconda3/lib/python3.7/site-packages/sklearn/utils/validation.py:70: FutureWarning: Pass n_neighbors=45 as keyword args. From version 0.25 passing these as positional arguments will result in an error\n",
            "  FutureWarning)\n"
          ]
        }
      ],
      "source": [
        "#MLKNN\n",
        "from skmultilearn.adapt import MLkNN\n",
        "#MLKNN is an adaptation of the kNN lazy learning algorithm for multi-label data.\n",
        "# apply MLkNN for medical dataset it has 45 labels.\n",
        "classifier2 = MLkNN(k=45)\n",
        "# train\n",
        "classifier2.fit(x1_train, y1_train)\n",
        "# predict\n",
        "MLKNN1_predictions = classifier2.predict(x1_test)"
      ]
    },
    {
      "cell_type": "code",
      "execution_count": null,
      "metadata": {
        "id": "qUoHC6mrNedT"
      },
      "outputs": [],
      "source": [
        "from skmultilearn.adapt import BRkNNaClassifier\n",
        "classifier3 = BRkNNaClassifier(k=45)\n",
        "# train\n",
        "classifier3.fit(x1_train, y1_train)\n",
        "# predict\n",
        "BR1_predictions = classifier3.predict(x1_test)"
      ]
    },
    {
      "cell_type": "markdown",
      "metadata": {
        "id": "tiOCUyzFZszv"
      },
      "source": [
        "### 01-Results"
      ]
    },
    {
      "cell_type": "code",
      "execution_count": null,
      "metadata": {
        "id": "ZvlqeEVyM5qM"
      },
      "outputs": [],
      "source": [
        "import sklearn.metrics as m\n",
        "#Hamming Loss\n",
        "hamming_loss_MLTSVM.append(round(m.hamming_loss(y1_test, MLTSVM1_predictions),2))\n",
        "hamming_loss_MLKNN.append(round(m.hamming_loss(y1_test, MLKNN1_predictions),2))\n",
        "hamming_loss_BRKNNa.append(round(m.hamming_loss(y1_test, BR1_predictions),2))\n",
        "\n",
        "#Accuracy\n",
        "accuracy_MLTSVM.append(round(m.accuracy_score(y1_test, MLTSVM1_predictions),2))\n",
        "accuracy_MLKNN.append(round(m.accuracy_score(y1_test, MLKNN1_predictions),2))\n",
        "accuracy_BRKNNa.append(round(m.accuracy_score(y1_test, BR1_predictions),2))\n",
        "\n",
        "#Micro Precision\n",
        "precision_MLTSVM.append(round(m.precision_score(y1_test, MLTSVM1_predictions, average='micro', zero_division='warn'),2))\n",
        "precision_MLKNN.append(round(m.precision_score(y1_test, MLKNN1_predictions, average='micro', zero_division='warn'),2))\n",
        "precision_BRKNNa.append(round(m.precision_score(y1_test, BR1_predictions, average='micro', zero_division='warn'),2))\n",
        "\n",
        "#Micro Recall\n",
        "recall_MLTSVM.append(round(m.recall_score(y1_test, MLTSVM1_predictions, average='micro',zero_division='warn'),2))\n",
        "recall_MLKNN.append(round(m.recall_score(y1_test, MLKNN1_predictions, average='micro',zero_division='warn'),2))\n",
        "recall_BRKNNa.append(round(m.recall_score(y1_test, BR1_predictions, average='micro',zero_division='warn'),2))\n",
        "#Micro F1 measure\n",
        "f1_measure_MLTSVM.append(round(m.f1_score(y1_test, MLTSVM1_predictions, average='micro',zero_division='warn'),2))\n",
        "f1_measure_MLKNN.append(round(m.f1_score(y1_test, MLKNN1_predictions, average='micro',zero_division='warn'),2))\n",
        "f1_measure_BRKNNa.append(round(m.f1_score(y1_test, BR1_predictions, average='micro',zero_division='warn'),2))"
      ]
    },
    {
      "cell_type": "code",
      "execution_count": null,
      "metadata": {
        "colab": {
          "base_uri": "https://localhost:8080/"
        },
        "id": "73mzwGOoNedU",
        "outputId": "344a57a7-60e7-40f5-da25-e94a952a4e55"
      },
      "outputs": [
        {
          "name": "stdout",
          "output_type": "stream",
          "text": [
            "------------------------------\n",
            "\t(Examples,Labels)\n",
            "------------------------------\n",
            "MLTSVM ->  (292, 45)\n",
            "MLKNN  ->  (292, 45)\n",
            "BRKNNa ->  (292, 45)\n",
            "------------------------------\n",
            "\tHamming Loss\n",
            "------------------------------\n",
            "MLTSVM ->  0.02\n",
            "MLKNN  ->  0.02\n",
            "BRKNNa ->  0.02\n",
            "------------------------------\n",
            "\tAccuracy\n",
            "------------------------------\n",
            "MLTSVM ->  0.5\n",
            "MLKNN  ->  0.43\n",
            "BRKNNa ->  0.27\n",
            "------------------------------\n",
            "\tPrecision\n",
            "------------------------------\n",
            "MLTSVM ->  0.75\n",
            "MLKNN ->  0.85\n",
            "BRKNNa ->  0.87\n",
            "------------------------------\n",
            "\tRecall\n",
            "------------------------------\n",
            "MLTSVM ->  0.67\n",
            "MLTSVM ->  0.5\n",
            "MLTSVM ->  0.31\n",
            "------------------------------\n",
            "\tF1-measure\n",
            "------------------------------\n",
            "MLTSVM ->  0.71\n",
            "MLTSVM ->  0.63\n",
            "MLTSVM ->  0.46\n",
            "\n"
          ]
        }
      ],
      "source": [
        "print(\"------------------------------\")\n",
        "print(\"\\t(Examples,Labels)\")\n",
        "print(\"------------------------------\")\n",
        "print(\"MLTSVM -> \",MLTSVM1_predictions.shape)\n",
        "print(\"MLKNN  -> \",MLKNN1_predictions.shape)\n",
        "print(\"BRKNNa -> \",BR1_predictions.shape)\n",
        "import sklearn.metrics as m\n",
        "print(\"------------------------------\")\n",
        "print(\"\\tHamming Loss\")\n",
        "print(\"------------------------------\")\n",
        "print(\"MLTSVM -> \",round(m.hamming_loss(y1_test, MLTSVM1_predictions),2))\n",
        "print(\"MLKNN  -> \",round(m.hamming_loss(y1_test, MLKNN1_predictions),2))\n",
        "print(\"BRKNNa -> \",round(m.hamming_loss(y1_test, BR1_predictions),2))\n",
        "print(\"------------------------------\")\n",
        "print(\"\\tAccuracy\")\n",
        "print(\"------------------------------\")\n",
        "print(\"MLTSVM -> \",round(m.accuracy_score(y1_test, MLTSVM1_predictions),2))\n",
        "print(\"MLKNN  -> \",round(m.accuracy_score(y1_test, MLKNN1_predictions),2))\n",
        "print(\"BRKNNa -> \",round(m.accuracy_score(y1_test, BR1_predictions),2))\n",
        "print(\"------------------------------\")\n",
        "print(\"\\tPrecision\")\n",
        "print(\"------------------------------\")\n",
        "print(\"MLTSVM -> \",round(m.precision_score(y1_test, MLTSVM1_predictions, average='micro', zero_division='warn'),2))\n",
        "print(\"MLKNN -> \",round(m.precision_score(y1_test, MLKNN1_predictions, average='micro', zero_division='warn'),2))\n",
        "print(\"BRKNNa -> \",round(m.precision_score(y1_test, BR1_predictions, average='micro', zero_division='warn'),2))\n",
        "print(\"------------------------------\")\n",
        "print(\"\\tRecall\")\n",
        "print(\"------------------------------\")\n",
        "print(\"MLTSVM -> \",round(m.recall_score(y1_test, MLTSVM1_predictions, average='micro',zero_division='warn'),2))\n",
        "print(\"MLTSVM -> \",round(m.recall_score(y1_test, MLKNN1_predictions, average='micro',zero_division='warn'),2))\n",
        "print(\"MLTSVM -> \",round(m.recall_score(y1_test, BR1_predictions, average='micro',zero_division='warn'),2))\n",
        "print(\"------------------------------\")\n",
        "print(\"\\tF1-measure\")\n",
        "print(\"------------------------------\")\n",
        "#f1=2*(p*r)/(p+r)\n",
        "print(\"MLTSVM -> \",round(m.f1_score(y1_test, MLTSVM1_predictions, average='micro',zero_division='warn'),2))\n",
        "print(\"MLTSVM -> \",round(m.f1_score(y1_test, MLKNN1_predictions, average='micro',zero_division='warn'),2))\n",
        "print(\"MLTSVM -> \",round(m.f1_score(y1_test, BR1_predictions, average='micro',zero_division='warn'),2))\n",
        "print()"
      ]
    },
    {
      "cell_type": "markdown",
      "metadata": {
        "id": "j2SpFMp_SJNH"
      },
      "source": [
        "### 02- Enron dataset"
      ]
    },
    {
      "cell_type": "code",
      "execution_count": null,
      "metadata": {
        "colab": {
          "base_uri": "https://localhost:8080/"
        },
        "id": "fLyQTODwSK-K",
        "outputId": "80dcee55-7028-4eeb-f9d4-802a38d6cade"
      },
      "outputs": [
        {
          "name": "stdout",
          "output_type": "stream",
          "text": [
            "enron:undivided - exists, not redownloading\n",
            "Actual Dataset\n",
            "(1702, 1001) (1702, 53)\n",
            "Coverted into Dataframe\n",
            "(1702, 1001) (1702, 53)\n"
          ]
        }
      ],
      "source": [
        "from skmultilearn.dataset import load_dataset\n",
        "x2,y2, _, _ = load_dataset('enron', 'undivided')\n",
        "print(\"Actual Dataset\")\n",
        "print(x2.shape,y2.shape)\n",
        "#change to matrix\n",
        "x2=x2.todense()\n",
        "y2=y2.todense()\n",
        "import pandas as pd\n",
        "#change to dataFrame\n",
        "x2=pd.DataFrame(x2)\n",
        "y2=pd.DataFrame(y2)\n",
        "print(\"Coverted into Dataframe\")\n",
        "print(x2.shape,y2.shape)"
      ]
    },
    {
      "cell_type": "markdown",
      "metadata": {
        "id": "9QSnWrydTcdD"
      },
      "source": [
        "### II-Chi2"
      ]
    },
    {
      "cell_type": "code",
      "execution_count": null,
      "metadata": {
        "colab": {
          "base_uri": "https://localhost:8080/"
        },
        "id": "X0WstDTlSvJl",
        "outputId": "cff2f14e-fe36-4470-ab79-e22e554cc3a6"
      },
      "outputs": [
        {
          "name": "stdout",
          "output_type": "stream",
          "text": [
            "40% features of medical dataset =  400\n"
          ]
        }
      ],
      "source": [
        "# import the required functions and object.\n",
        "from sklearn.feature_selection import chi2\n",
        "from sklearn.feature_selection import SelectKBest\n",
        "import numpy as np\n",
        "import pandas as pd\n",
        "\n",
        "# select the number of features you want to retain.\n",
        "select_k1 = round(len(x2.columns)*0.4)\n",
        "print(\"40% features of medical dataset = \",select_k1)\n",
        "\n",
        "features_selected_40=[]\n",
        "features_weights=[]\n",
        "for a in range(len(x2.columns)):\n",
        "   features_weights.append(0)\n",
        "for i in range(len(y2.columns)):\n",
        "  # apply the chi2 score on the data and target (target should be binary).\n",
        "  selection = SelectKBest(chi2, k=select_k1).fit(x2, y2.iloc[:,i])\n",
        "\n",
        "  # display the retained features.\n",
        "  features=list(x2.columns[selection.get_support()])\n",
        "  labels=y2.columns[i]\n",
        "  features_selected_40.append([labels, features])\n",
        "  #print(features_selected_40[i])\n",
        "\n",
        "  #calculating weight for each feature\n",
        "  #if a feature is correlate to label count them and than divide it by total labels\n",
        "  for f in features:\n",
        "    for count in range(len(x2.columns)):\n",
        "      if(f==x2.columns[count]):\n",
        "        features_weights[count]+=1\n",
        "list_f_w={}\n",
        "#if a feature is correlate to label count them and than divide it by total labels\n",
        "for i in range(len(x2.columns)):\n",
        "  features_weights[i]=round(features_weights[i]/len(x2.columns),3)\n",
        "  list_f_w.update({x2.columns[i] : features_weights[i]})"
      ]
    },
    {
      "cell_type": "code",
      "execution_count": null,
      "metadata": {
        "id": "bpJNS84vUutv"
      },
      "outputs": [],
      "source": [
        "#sort weights\n",
        "import operator\n",
        "sorted_list_f_w = sorted(list_f_w.items(), key=operator.itemgetter(1), reverse=True)\n",
        "import collections\n",
        "sorted_dict_f = collections.OrderedDict(sorted_list_f_w)\n",
        "#print(sorted_dict_f)"
      ]
    },
    {
      "cell_type": "code",
      "execution_count": null,
      "metadata": {
        "colab": {
          "base_uri": "https://localhost:8080/"
        },
        "id": "Tnx7LRxwUYvD",
        "outputId": "a0284352-4bb8-47b2-a882-2fdad3fb801c"
      },
      "outputs": [
        {
          "name": "stdout",
          "output_type": "stream",
          "text": [
            "{2, 14, 25, 26, 30, 60, 63, 64, 72, 74, 75, 76, 77, 78, 79, 81, 83, 86, 88, 90, 91, 93, 94, 95, 98, 101, 102, 103, 105, 106, 109, 110, 111, 113, 114, 117, 119, 122, 123, 129, 130, 131, 132, 133, 135, 136, 137, 138, 140, 141, 143, 144, 146, 147, 149, 150, 151, 155, 156, 161, 162, 163, 164, 165, 166, 170, 172, 178, 180, 181, 182, 183, 184, 185, 186, 187, 192, 193, 195, 196, 198, 199, 200, 202, 203, 204, 207, 210, 212, 214, 215, 217, 221, 222, 223, 226, 227, 228, 229, 230, 233, 234, 235, 236, 238, 239, 241, 243, 244, 246, 247, 248, 249, 251, 252, 253, 254, 255, 256, 258, 260, 262, 263, 266, 267, 270, 271, 273, 276, 278, 279, 280, 287, 288, 289, 290, 291, 292, 295, 296, 297, 298, 300, 301, 303, 305, 308, 309, 317, 319, 320, 321, 322, 323, 325, 326, 328, 329, 331, 332, 333, 335, 336, 339, 342, 344, 345, 347, 349, 353, 356, 358, 361, 364, 368, 369, 370, 371, 372, 373, 374, 376, 377, 378, 379, 380, 383, 384, 385, 388, 390, 394, 402, 403, 404, 405, 407, 408, 409, 410, 412, 413, 414, 418, 420, 421, 423, 425, 426, 427, 428, 430, 431, 433, 434, 435, 436, 437, 440, 441, 443, 444, 446, 447, 448, 449, 451, 452, 456, 457, 458, 459, 460, 461, 462, 463, 464, 466, 467, 468, 469, 470, 471, 472, 475, 476, 477, 479, 480, 481, 482, 483, 486, 487, 490, 491, 492, 494, 497, 498, 499, 500, 501, 502, 504, 505, 506, 507, 510, 515, 516, 517, 521, 525, 528, 529, 530, 531, 532, 534, 536, 539, 540, 541, 543, 545, 546, 548, 552, 553, 556, 560, 561, 562, 564, 565, 566, 568, 570, 571, 572, 573, 574, 575, 577, 578, 581, 583, 584, 592, 593, 594, 595, 596, 603, 605, 608, 609, 610, 612, 618, 619, 621, 623, 625, 632, 638, 641, 644, 645, 646, 649, 650, 651, 652, 660, 662, 663, 664, 668, 669, 673, 674, 676, 677, 680, 681, 682, 683, 685, 692, 693, 694, 697, 700, 701, 704, 705, 707, 708, 709, 710, 711, 712, 714, 715, 717, 718, 720, 721, 727, 729, 732, 734, 736, 737, 739, 741, 753, 755, 759, 761, 764, 765, 766, 767, 768, 771, 774, 775, 776, 779, 782, 783, 786, 789, 790, 791, 792, 793, 797, 800, 802, 803, 804, 808, 810, 811, 815, 816, 817, 819, 821, 823, 824, 825, 826, 840, 841, 843, 844, 846, 848, 849, 850, 853, 856, 858, 859, 863, 864, 865, 866, 867, 868, 870, 872, 875, 876, 880, 884, 886, 887, 891, 893, 895, 897, 898, 903, 911, 912, 913, 914, 915, 917, 918, 920, 921, 926, 929, 932, 933, 938, 939, 940, 943, 944, 946, 947, 948, 949, 950, 951, 959, 960, 962, 963, 964, 966, 967, 970, 971, 972, 973, 977, 978, 979, 980, 982, 983, 985, 986, 992, 993, 994, 996, 997, 998, 999, 1000}\n"
          ]
        }
      ],
      "source": [
        "#now, access top 50% weighted features(keys)\n",
        "final_features=[]\n",
        "found=False\n",
        "for i in range(round(len(x2.columns)*0.5)):\n",
        "    final_features.append(list(sorted_dict_f.keys())[i])\n",
        "final_features.sort()\n",
        "\n",
        "#drop other than top 50% weighted features\n",
        "selected_features = set(x2.columns).intersection(final_features)\n",
        "\n",
        "#print(set(x.columns))\n",
        "print(selected_features)\n",
        "\n",
        "for i in list(x2.columns):\n",
        "    if i not in selected_features:\n",
        "        x2 = x2.drop(columns=[i])\n",
        "\n",
        "#print(set(x.columns) == selected_features)"
      ]
    },
    {
      "cell_type": "code",
      "execution_count": null,
      "metadata": {
        "colab": {
          "base_uri": "https://localhost:8080/",
          "height": 427
        },
        "id": "YUT1_teTVk_9",
        "outputId": "d4155e38-f1dd-4b41-87e7-8b139275984a"
      },
      "outputs": [
        {
          "data": {
            "text/html": [
              "<div>\n",
              "<style scoped>\n",
              "    .dataframe tbody tr th:only-of-type {\n",
              "        vertical-align: middle;\n",
              "    }\n",
              "\n",
              "    .dataframe tbody tr th {\n",
              "        vertical-align: top;\n",
              "    }\n",
              "\n",
              "    .dataframe thead th {\n",
              "        text-align: right;\n",
              "    }\n",
              "</style>\n",
              "<table border=\"1\" class=\"dataframe\">\n",
              "  <thead>\n",
              "    <tr style=\"text-align: right;\">\n",
              "      <th></th>\n",
              "      <th>2</th>\n",
              "      <th>14</th>\n",
              "      <th>25</th>\n",
              "      <th>26</th>\n",
              "      <th>30</th>\n",
              "      <th>60</th>\n",
              "      <th>63</th>\n",
              "      <th>64</th>\n",
              "      <th>72</th>\n",
              "      <th>74</th>\n",
              "      <th>...</th>\n",
              "      <th>985</th>\n",
              "      <th>986</th>\n",
              "      <th>992</th>\n",
              "      <th>993</th>\n",
              "      <th>994</th>\n",
              "      <th>996</th>\n",
              "      <th>997</th>\n",
              "      <th>998</th>\n",
              "      <th>999</th>\n",
              "      <th>1000</th>\n",
              "    </tr>\n",
              "  </thead>\n",
              "  <tbody>\n",
              "    <tr>\n",
              "      <th>0</th>\n",
              "      <td>0.0</td>\n",
              "      <td>0.0</td>\n",
              "      <td>0.0</td>\n",
              "      <td>0.0</td>\n",
              "      <td>0.0</td>\n",
              "      <td>0.0</td>\n",
              "      <td>0.0</td>\n",
              "      <td>0.0</td>\n",
              "      <td>0.0</td>\n",
              "      <td>0.0</td>\n",
              "      <td>...</td>\n",
              "      <td>0.0</td>\n",
              "      <td>0.0</td>\n",
              "      <td>0.0</td>\n",
              "      <td>0.0</td>\n",
              "      <td>0.0</td>\n",
              "      <td>0.0</td>\n",
              "      <td>0.0</td>\n",
              "      <td>0.0</td>\n",
              "      <td>0.0</td>\n",
              "      <td>0.0</td>\n",
              "    </tr>\n",
              "    <tr>\n",
              "      <th>1</th>\n",
              "      <td>0.0</td>\n",
              "      <td>0.0</td>\n",
              "      <td>0.0</td>\n",
              "      <td>0.0</td>\n",
              "      <td>0.0</td>\n",
              "      <td>0.0</td>\n",
              "      <td>0.0</td>\n",
              "      <td>1.0</td>\n",
              "      <td>0.0</td>\n",
              "      <td>0.0</td>\n",
              "      <td>...</td>\n",
              "      <td>0.0</td>\n",
              "      <td>0.0</td>\n",
              "      <td>0.0</td>\n",
              "      <td>0.0</td>\n",
              "      <td>0.0</td>\n",
              "      <td>0.0</td>\n",
              "      <td>0.0</td>\n",
              "      <td>0.0</td>\n",
              "      <td>0.0</td>\n",
              "      <td>0.0</td>\n",
              "    </tr>\n",
              "    <tr>\n",
              "      <th>2</th>\n",
              "      <td>0.0</td>\n",
              "      <td>0.0</td>\n",
              "      <td>0.0</td>\n",
              "      <td>0.0</td>\n",
              "      <td>0.0</td>\n",
              "      <td>0.0</td>\n",
              "      <td>0.0</td>\n",
              "      <td>0.0</td>\n",
              "      <td>0.0</td>\n",
              "      <td>0.0</td>\n",
              "      <td>...</td>\n",
              "      <td>0.0</td>\n",
              "      <td>0.0</td>\n",
              "      <td>0.0</td>\n",
              "      <td>0.0</td>\n",
              "      <td>0.0</td>\n",
              "      <td>0.0</td>\n",
              "      <td>0.0</td>\n",
              "      <td>0.0</td>\n",
              "      <td>0.0</td>\n",
              "      <td>0.0</td>\n",
              "    </tr>\n",
              "    <tr>\n",
              "      <th>3</th>\n",
              "      <td>0.0</td>\n",
              "      <td>0.0</td>\n",
              "      <td>0.0</td>\n",
              "      <td>0.0</td>\n",
              "      <td>0.0</td>\n",
              "      <td>0.0</td>\n",
              "      <td>0.0</td>\n",
              "      <td>0.0</td>\n",
              "      <td>0.0</td>\n",
              "      <td>0.0</td>\n",
              "      <td>...</td>\n",
              "      <td>0.0</td>\n",
              "      <td>0.0</td>\n",
              "      <td>0.0</td>\n",
              "      <td>0.0</td>\n",
              "      <td>0.0</td>\n",
              "      <td>0.0</td>\n",
              "      <td>0.0</td>\n",
              "      <td>0.0</td>\n",
              "      <td>0.0</td>\n",
              "      <td>0.0</td>\n",
              "    </tr>\n",
              "    <tr>\n",
              "      <th>4</th>\n",
              "      <td>0.0</td>\n",
              "      <td>0.0</td>\n",
              "      <td>0.0</td>\n",
              "      <td>0.0</td>\n",
              "      <td>0.0</td>\n",
              "      <td>0.0</td>\n",
              "      <td>0.0</td>\n",
              "      <td>0.0</td>\n",
              "      <td>0.0</td>\n",
              "      <td>0.0</td>\n",
              "      <td>...</td>\n",
              "      <td>0.0</td>\n",
              "      <td>0.0</td>\n",
              "      <td>0.0</td>\n",
              "      <td>0.0</td>\n",
              "      <td>0.0</td>\n",
              "      <td>0.0</td>\n",
              "      <td>1.0</td>\n",
              "      <td>0.0</td>\n",
              "      <td>0.0</td>\n",
              "      <td>0.0</td>\n",
              "    </tr>\n",
              "    <tr>\n",
              "      <th>...</th>\n",
              "      <td>...</td>\n",
              "      <td>...</td>\n",
              "      <td>...</td>\n",
              "      <td>...</td>\n",
              "      <td>...</td>\n",
              "      <td>...</td>\n",
              "      <td>...</td>\n",
              "      <td>...</td>\n",
              "      <td>...</td>\n",
              "      <td>...</td>\n",
              "      <td>...</td>\n",
              "      <td>...</td>\n",
              "      <td>...</td>\n",
              "      <td>...</td>\n",
              "      <td>...</td>\n",
              "      <td>...</td>\n",
              "      <td>...</td>\n",
              "      <td>...</td>\n",
              "      <td>...</td>\n",
              "      <td>...</td>\n",
              "      <td>...</td>\n",
              "    </tr>\n",
              "    <tr>\n",
              "      <th>1697</th>\n",
              "      <td>0.0</td>\n",
              "      <td>0.0</td>\n",
              "      <td>1.0</td>\n",
              "      <td>0.0</td>\n",
              "      <td>1.0</td>\n",
              "      <td>0.0</td>\n",
              "      <td>0.0</td>\n",
              "      <td>0.0</td>\n",
              "      <td>0.0</td>\n",
              "      <td>0.0</td>\n",
              "      <td>...</td>\n",
              "      <td>0.0</td>\n",
              "      <td>0.0</td>\n",
              "      <td>0.0</td>\n",
              "      <td>0.0</td>\n",
              "      <td>0.0</td>\n",
              "      <td>0.0</td>\n",
              "      <td>1.0</td>\n",
              "      <td>1.0</td>\n",
              "      <td>0.0</td>\n",
              "      <td>0.0</td>\n",
              "    </tr>\n",
              "    <tr>\n",
              "      <th>1698</th>\n",
              "      <td>0.0</td>\n",
              "      <td>0.0</td>\n",
              "      <td>1.0</td>\n",
              "      <td>0.0</td>\n",
              "      <td>1.0</td>\n",
              "      <td>0.0</td>\n",
              "      <td>0.0</td>\n",
              "      <td>0.0</td>\n",
              "      <td>0.0</td>\n",
              "      <td>0.0</td>\n",
              "      <td>...</td>\n",
              "      <td>0.0</td>\n",
              "      <td>0.0</td>\n",
              "      <td>0.0</td>\n",
              "      <td>0.0</td>\n",
              "      <td>0.0</td>\n",
              "      <td>1.0</td>\n",
              "      <td>1.0</td>\n",
              "      <td>1.0</td>\n",
              "      <td>1.0</td>\n",
              "      <td>0.0</td>\n",
              "    </tr>\n",
              "    <tr>\n",
              "      <th>1699</th>\n",
              "      <td>0.0</td>\n",
              "      <td>0.0</td>\n",
              "      <td>1.0</td>\n",
              "      <td>0.0</td>\n",
              "      <td>1.0</td>\n",
              "      <td>0.0</td>\n",
              "      <td>0.0</td>\n",
              "      <td>0.0</td>\n",
              "      <td>0.0</td>\n",
              "      <td>0.0</td>\n",
              "      <td>...</td>\n",
              "      <td>0.0</td>\n",
              "      <td>0.0</td>\n",
              "      <td>0.0</td>\n",
              "      <td>0.0</td>\n",
              "      <td>0.0</td>\n",
              "      <td>0.0</td>\n",
              "      <td>1.0</td>\n",
              "      <td>0.0</td>\n",
              "      <td>0.0</td>\n",
              "      <td>0.0</td>\n",
              "    </tr>\n",
              "    <tr>\n",
              "      <th>1700</th>\n",
              "      <td>0.0</td>\n",
              "      <td>0.0</td>\n",
              "      <td>1.0</td>\n",
              "      <td>0.0</td>\n",
              "      <td>1.0</td>\n",
              "      <td>0.0</td>\n",
              "      <td>0.0</td>\n",
              "      <td>0.0</td>\n",
              "      <td>0.0</td>\n",
              "      <td>0.0</td>\n",
              "      <td>...</td>\n",
              "      <td>0.0</td>\n",
              "      <td>0.0</td>\n",
              "      <td>0.0</td>\n",
              "      <td>0.0</td>\n",
              "      <td>0.0</td>\n",
              "      <td>1.0</td>\n",
              "      <td>1.0</td>\n",
              "      <td>1.0</td>\n",
              "      <td>1.0</td>\n",
              "      <td>0.0</td>\n",
              "    </tr>\n",
              "    <tr>\n",
              "      <th>1701</th>\n",
              "      <td>0.0</td>\n",
              "      <td>0.0</td>\n",
              "      <td>1.0</td>\n",
              "      <td>0.0</td>\n",
              "      <td>1.0</td>\n",
              "      <td>0.0</td>\n",
              "      <td>0.0</td>\n",
              "      <td>0.0</td>\n",
              "      <td>0.0</td>\n",
              "      <td>0.0</td>\n",
              "      <td>...</td>\n",
              "      <td>0.0</td>\n",
              "      <td>0.0</td>\n",
              "      <td>0.0</td>\n",
              "      <td>0.0</td>\n",
              "      <td>0.0</td>\n",
              "      <td>1.0</td>\n",
              "      <td>1.0</td>\n",
              "      <td>1.0</td>\n",
              "      <td>1.0</td>\n",
              "      <td>0.0</td>\n",
              "    </tr>\n",
              "  </tbody>\n",
              "</table>\n",
              "<p>1702 rows × 500 columns</p>\n",
              "</div>"
            ],
            "text/plain": [
              "      2     14    25    26    30    60    63    64    72    74    ...  985   \\\n",
              "0      0.0   0.0   0.0   0.0   0.0   0.0   0.0   0.0   0.0   0.0  ...   0.0   \n",
              "1      0.0   0.0   0.0   0.0   0.0   0.0   0.0   1.0   0.0   0.0  ...   0.0   \n",
              "2      0.0   0.0   0.0   0.0   0.0   0.0   0.0   0.0   0.0   0.0  ...   0.0   \n",
              "3      0.0   0.0   0.0   0.0   0.0   0.0   0.0   0.0   0.0   0.0  ...   0.0   \n",
              "4      0.0   0.0   0.0   0.0   0.0   0.0   0.0   0.0   0.0   0.0  ...   0.0   \n",
              "...    ...   ...   ...   ...   ...   ...   ...   ...   ...   ...  ...   ...   \n",
              "1697   0.0   0.0   1.0   0.0   1.0   0.0   0.0   0.0   0.0   0.0  ...   0.0   \n",
              "1698   0.0   0.0   1.0   0.0   1.0   0.0   0.0   0.0   0.0   0.0  ...   0.0   \n",
              "1699   0.0   0.0   1.0   0.0   1.0   0.0   0.0   0.0   0.0   0.0  ...   0.0   \n",
              "1700   0.0   0.0   1.0   0.0   1.0   0.0   0.0   0.0   0.0   0.0  ...   0.0   \n",
              "1701   0.0   0.0   1.0   0.0   1.0   0.0   0.0   0.0   0.0   0.0  ...   0.0   \n",
              "\n",
              "      986   992   993   994   996   997   998   999   1000  \n",
              "0      0.0   0.0   0.0   0.0   0.0   0.0   0.0   0.0   0.0  \n",
              "1      0.0   0.0   0.0   0.0   0.0   0.0   0.0   0.0   0.0  \n",
              "2      0.0   0.0   0.0   0.0   0.0   0.0   0.0   0.0   0.0  \n",
              "3      0.0   0.0   0.0   0.0   0.0   0.0   0.0   0.0   0.0  \n",
              "4      0.0   0.0   0.0   0.0   0.0   1.0   0.0   0.0   0.0  \n",
              "...    ...   ...   ...   ...   ...   ...   ...   ...   ...  \n",
              "1697   0.0   0.0   0.0   0.0   0.0   1.0   1.0   0.0   0.0  \n",
              "1698   0.0   0.0   0.0   0.0   1.0   1.0   1.0   1.0   0.0  \n",
              "1699   0.0   0.0   0.0   0.0   0.0   1.0   0.0   0.0   0.0  \n",
              "1700   0.0   0.0   0.0   0.0   1.0   1.0   1.0   1.0   0.0  \n",
              "1701   0.0   0.0   0.0   0.0   1.0   1.0   1.0   1.0   0.0  \n",
              "\n",
              "[1702 rows x 500 columns]"
            ]
          },
          "execution_count": 21,
          "metadata": {},
          "output_type": "execute_result"
        }
      ],
      "source": [
        "x2"
      ]
    },
    {
      "cell_type": "code",
      "execution_count": null,
      "metadata": {
        "colab": {
          "base_uri": "https://localhost:8080/"
        },
        "id": "8PCvCXsiVqV6",
        "outputId": "4bca0528-e529-4ad3-bef8-4e1e0c6d7b8e"
      },
      "outputs": [
        {
          "name": "stdout",
          "output_type": "stream",
          "text": [
            "Int64Index([   2,   14,   25,   26,   30,   60,   63,   64,   72,   74,\n",
            "            ...\n",
            "             985,  986,  992,  993,  994,  996,  997,  998,  999, 1000],\n",
            "           dtype='int64', length=500)\n",
            "[2, 14, 25, 26, 30, 60, 63, 64, 72, 74, 75, 76, 77, 78, 79, 81, 83, 86, 88, 90, 91, 93, 94, 95, 98, 101, 102, 103, 105, 106, 109, 110, 111, 113, 114, 117, 119, 122, 123, 129, 130, 131, 132, 133, 135, 136, 137, 138, 140, 141, 143, 144, 146, 147, 149, 150, 151, 155, 156, 161, 162, 163, 164, 165, 166, 170, 172, 178, 180, 181, 182, 183, 184, 185, 186, 187, 192, 193, 195, 196, 198, 199, 200, 202, 203, 204, 207, 210, 212, 214, 215, 217, 221, 222, 223, 226, 227, 228, 229, 230, 233, 234, 235, 236, 238, 239, 241, 243, 244, 246, 247, 248, 249, 251, 252, 253, 254, 255, 256, 258, 260, 262, 263, 266, 267, 270, 271, 273, 276, 278, 279, 280, 287, 288, 289, 290, 291, 292, 295, 296, 297, 298, 300, 301, 303, 305, 308, 309, 317, 319, 320, 321, 322, 323, 325, 326, 328, 329, 331, 332, 333, 335, 336, 339, 342, 344, 345, 347, 349, 353, 356, 358, 361, 364, 368, 369, 370, 371, 372, 373, 374, 376, 377, 378, 379, 380, 383, 384, 385, 388, 390, 394, 402, 403, 404, 405, 407, 408, 409, 410, 412, 413, 414, 418, 420, 421, 423, 425, 426, 427, 428, 430, 431, 433, 434, 435, 436, 437, 440, 441, 443, 444, 446, 447, 448, 449, 451, 452, 456, 457, 458, 459, 460, 461, 462, 463, 464, 466, 467, 468, 469, 470, 471, 472, 475, 476, 477, 479, 480, 481, 482, 483, 486, 487, 490, 491, 492, 494, 497, 498, 499, 500, 501, 502, 504, 505, 506, 507, 510, 515, 516, 517, 521, 525, 528, 529, 530, 531, 532, 534, 536, 539, 540, 541, 543, 545, 546, 548, 552, 553, 556, 560, 561, 562, 564, 565, 566, 568, 570, 571, 572, 573, 574, 575, 577, 578, 581, 583, 584, 592, 593, 594, 595, 596, 603, 605, 608, 609, 610, 612, 618, 619, 621, 623, 625, 632, 638, 641, 644, 645, 646, 649, 650, 651, 652, 660, 662, 663, 664, 668, 669, 673, 674, 676, 677, 680, 681, 682, 683, 685, 692, 693, 694, 697, 700, 701, 704, 705, 707, 708, 709, 710, 711, 712, 714, 715, 717, 718, 720, 721, 727, 729, 732, 734, 736, 737, 739, 741, 753, 755, 759, 761, 764, 765, 766, 767, 768, 771, 774, 775, 776, 779, 782, 783, 786, 789, 790, 791, 792, 793, 797, 800, 802, 803, 804, 808, 810, 811, 815, 816, 817, 819, 821, 823, 824, 825, 826, 840, 841, 843, 844, 846, 848, 849, 850, 853, 856, 858, 859, 863, 864, 865, 866, 867, 868, 870, 872, 875, 876, 880, 884, 886, 887, 891, 893, 895, 897, 898, 903, 911, 912, 913, 914, 915, 917, 918, 920, 921, 926, 929, 932, 933, 938, 939, 940, 943, 944, 946, 947, 948, 949, 950, 951, 959, 960, 962, 963, 964, 966, 967, 970, 971, 972, 973, 977, 978, 979, 980, 982, 983, 985, 986, 992, 993, 994, 996, 997, 998, 999, 1000]\n"
          ]
        }
      ],
      "source": [
        "print(x2.columns)\n",
        "print(final_features)"
      ]
    },
    {
      "cell_type": "code",
      "execution_count": null,
      "metadata": {
        "id": "KpKxFbYAVqsc"
      },
      "outputs": [],
      "source": [
        "from scipy import sparse as s\n",
        "x2 = s.csr_matrix(x2)\n",
        "y2 = s.csr_matrix(y2)"
      ]
    },
    {
      "cell_type": "code",
      "execution_count": null,
      "metadata": {
        "colab": {
          "base_uri": "https://localhost:8080/"
        },
        "id": "SEmqmbj6Vv_k",
        "outputId": "cacf6376-dc3f-4be9-bba5-cee71479e6ab"
      },
      "outputs": [
        {
          "name": "stdout",
          "output_type": "stream",
          "text": [
            "(1181, 500) (521, 500) (1181, 53) (521, 53)\n"
          ]
        }
      ],
      "source": [
        "from skmultilearn.model_selection import iterative_train_test_split\n",
        "x2_train, y2_train, x2_test, y2_test = iterative_train_test_split(x2, y2, test_size = 0.3)\n",
        "print(x2_train.shape, x2_test.shape, y2_train.shape, y2_test.shape)"
      ]
    },
    {
      "cell_type": "markdown",
      "metadata": {
        "id": "sdVEOMlOYPL9"
      },
      "source": [
        "#MLC"
      ]
    },
    {
      "cell_type": "code",
      "execution_count": null,
      "metadata": {
        "id": "QJnvqBWQYDKK"
      },
      "outputs": [],
      "source": [
        "#from skmultilearn.adapt import MLTSVM\n",
        "classifier1 = MLTSVM(c_k =2**-6)\n",
        "# train\n",
        "classifier1.fit(x2_train, y2_train)\n",
        "# predict\n",
        "MLTSVM2_predictions = classifier1.predict(x2_test)"
      ]
    },
    {
      "cell_type": "code",
      "execution_count": null,
      "metadata": {
        "id": "F-E0e0M9YVKj",
        "outputId": "817a6da1-fbdf-442e-eb49-e3c1661870b4"
      },
      "outputs": [
        {
          "name": "stderr",
          "output_type": "stream",
          "text": [
            "/home/rafia/anaconda3/lib/python3.7/site-packages/sklearn/utils/validation.py:70: FutureWarning: Pass n_neighbors=53 as keyword args. From version 0.25 passing these as positional arguments will result in an error\n",
            "  FutureWarning)\n"
          ]
        }
      ],
      "source": [
        "from skmultilearn.adapt import MLkNN\n",
        "#MLKNN is an adaptation of the kNN lazy learning algorithm for multi-label data.\n",
        "# apply MLkNN for enron dataset it has 53 labels.\n",
        "classifier2 = MLkNN(k=53)\n",
        "\n",
        "# train\n",
        "classifier2.fit(x2_train, y2_train)\n",
        "\n",
        "# predict\n",
        "MLKNN2_predictions = classifier2.predict(x2_test)"
      ]
    },
    {
      "cell_type": "code",
      "execution_count": null,
      "metadata": {
        "id": "8t8rd46OYoDZ"
      },
      "outputs": [],
      "source": [
        "from skmultilearn.adapt import BRkNNaClassifier\n",
        "classifier3 = BRkNNaClassifier(k=53)\n",
        "# train\n",
        "classifier3.fit(x2_train, y2_train)\n",
        "# predict\n",
        "BR2_predictions = classifier3.predict(x2_test)"
      ]
    },
    {
      "cell_type": "markdown",
      "metadata": {
        "id": "1z2wgl9iZzW7"
      },
      "source": [
        "### 02- Results"
      ]
    },
    {
      "cell_type": "code",
      "execution_count": null,
      "metadata": {
        "id": "8i6MEgcpRNCb"
      },
      "outputs": [],
      "source": [
        "import sklearn.metrics as m\n",
        "#Hamming Loss\n",
        "hamming_loss_MLTSVM.append(round(m.hamming_loss(y2_test, MLTSVM2_predictions),2))\n",
        "hamming_loss_MLKNN.append(round(m.hamming_loss(y2_test, MLKNN2_predictions),2))\n",
        "hamming_loss_BRKNNa.append(round(m.hamming_loss(y2_test, BR2_predictions),2))\n",
        "\n",
        "#Accuracy\n",
        "accuracy_MLTSVM.append(round(m.accuracy_score(y2_test, MLTSVM2_predictions),2))\n",
        "accuracy_MLKNN.append(round(m.accuracy_score(y2_test, MLKNN2_predictions),2))\n",
        "accuracy_BRKNNa.append(round(m.accuracy_score(y2_test, BR2_predictions),2))\n",
        "\n",
        "#Micro Precision\n",
        "precision_MLTSVM.append(round(m.precision_score(y2_test, MLTSVM2_predictions, average='micro', zero_division='warn'),2))\n",
        "precision_MLKNN.append(round(m.precision_score(y2_test, MLKNN2_predictions, average='micro', zero_division='warn'),2))\n",
        "precision_BRKNNa.append(round(m.precision_score(y2_test, BR2_predictions, average='micro', zero_division='warn'),2))\n",
        "\n",
        "#Micro Recall\n",
        "recall_MLTSVM.append(round(m.recall_score(y2_test, MLTSVM2_predictions, average='micro',zero_division='warn'),2))\n",
        "recall_MLKNN.append(round(m.recall_score(y2_test, MLKNN2_predictions, average='micro',zero_division='warn'),2))\n",
        "recall_BRKNNa.append(round(m.recall_score(y2_test, BR2_predictions, average='micro',zero_division='warn'),2))\n",
        "#Micro F1 measure\n",
        "f1_measure_MLTSVM.append(round(m.f1_score(y2_test, MLTSVM2_predictions, average='micro',zero_division='warn'),2))\n",
        "f1_measure_MLKNN.append(round(m.f1_score(y2_test, MLKNN2_predictions, average='micro',zero_division='warn'),2))\n",
        "f1_measure_BRKNNa.append(round(m.f1_score(y2_test, BR2_predictions, average='micro',zero_division='warn'),2))"
      ]
    },
    {
      "cell_type": "code",
      "execution_count": null,
      "metadata": {
        "colab": {
          "base_uri": "https://localhost:8080/"
        },
        "id": "Y0HmyyHWYztU",
        "outputId": "b7c168cf-9ab1-4068-e154-2bdd53f2d872"
      },
      "outputs": [
        {
          "name": "stdout",
          "output_type": "stream",
          "text": [
            "------------------------------\n",
            "\t(Examples,Labels)\n",
            "------------------------------\n",
            "MLTSVM ->  (521, 53)\n",
            "MLKNN  ->  (521, 53)\n",
            "BRKNNa ->  (521, 53)\n",
            "------------------------------\n",
            "\tHamming Loss\n",
            "------------------------------\n",
            "MLTSVM ->  0.07\n",
            "MLKNN  ->  0.06\n",
            "BRKNNa ->  0.06\n",
            "------------------------------\n",
            "\tAccuracy\n",
            "------------------------------\n",
            "MLTSVM ->  0.02\n",
            "MLKNN  ->  0.06\n",
            "BRKNNa ->  0.07\n",
            "------------------------------\n",
            "\tPrecision\n",
            "------------------------------\n",
            "MLTSVM ->  0.44\n",
            "MLKNN ->  0.63\n",
            "BRKNNa ->  0.5\n",
            "------------------------------\n",
            "\tRecall\n",
            "------------------------------\n",
            "MLTSVM ->  0.4\n",
            "MLTSVM ->  0.3\n",
            "MLTSVM ->  0.13\n",
            "------------------------------\n",
            "\tF1-measure\n",
            "------------------------------\n",
            "MLTSVM ->  0.41\n",
            "MLTSVM ->  0.41\n",
            "MLTSVM ->  0.21\n",
            "\n"
          ]
        }
      ],
      "source": [
        "print(\"------------------------------\")\n",
        "print(\"\\t(Examples,Labels)\")\n",
        "print(\"------------------------------\")\n",
        "print(\"MLTSVM -> \",MLTSVM2_predictions.shape)\n",
        "print(\"MLKNN  -> \",MLKNN2_predictions.shape)\n",
        "print(\"BRKNNa -> \",BR2_predictions.shape)\n",
        "import sklearn.metrics as m\n",
        "print(\"------------------------------\")\n",
        "print(\"\\tHamming Loss\")\n",
        "print(\"------------------------------\")\n",
        "print(\"MLTSVM -> \",round(m.hamming_loss(y2_test, MLTSVM2_predictions),2))\n",
        "print(\"MLKNN  -> \",round(m.hamming_loss(y2_test, MLKNN2_predictions),2))\n",
        "print(\"BRKNNa -> \",round(m.hamming_loss(y2_test, BR2_predictions),2))\n",
        "print(\"------------------------------\")\n",
        "print(\"\\tAccuracy\")\n",
        "print(\"------------------------------\")\n",
        "print(\"MLTSVM -> \",round(m.accuracy_score(y2_test, MLTSVM2_predictions),2))\n",
        "print(\"MLKNN  -> \",round(m.accuracy_score(y2_test, MLKNN2_predictions),2))\n",
        "print(\"BRKNNa -> \",round(m.accuracy_score(y2_test, BR2_predictions),2))\n",
        "print(\"------------------------------\")\n",
        "print(\"\\tPrecision\")\n",
        "print(\"------------------------------\")\n",
        "print(\"MLTSVM -> \",round(m.precision_score(y2_test, MLTSVM2_predictions, average='micro', zero_division='warn'),2))\n",
        "print(\"MLKNN -> \",round(m.precision_score(y2_test, MLKNN2_predictions, average='micro', zero_division='warn'),2))\n",
        "print(\"BRKNNa -> \",round(m.precision_score(y2_test, BR2_predictions, average='micro', zero_division='warn'),2))\n",
        "print(\"------------------------------\")\n",
        "print(\"\\tRecall\")\n",
        "print(\"------------------------------\")\n",
        "print(\"MLTSVM -> \",round(m.recall_score(y2_test, MLTSVM2_predictions, average='micro',zero_division='warn'),2))\n",
        "print(\"MLTSVM -> \",round(m.recall_score(y2_test, MLKNN2_predictions, average='micro',zero_division='warn'),2))\n",
        "print(\"MLTSVM -> \",round(m.recall_score(y2_test, BR2_predictions, average='micro',zero_division='warn'),2))\n",
        "print(\"------------------------------\")\n",
        "print(\"\\tF1-measure\")\n",
        "print(\"------------------------------\")\n",
        "#f1=2*(p*r)/(p+r)\n",
        "print(\"MLTSVM -> \",round(m.f1_score(y2_test, MLTSVM2_predictions, average='micro',zero_division='warn'),2))\n",
        "print(\"MLTSVM -> \",round(m.f1_score(y2_test, MLKNN2_predictions, average='micro',zero_division='warn'),2))\n",
        "print(\"MLTSVM -> \",round(m.f1_score(y2_test, BR2_predictions, average='micro',zero_division='warn'),2))\n",
        "print()"
      ]
    },
    {
      "cell_type": "markdown",
      "metadata": {
        "id": "yzaak1ASfCfg"
      },
      "source": [
        "## 03- Scene dataset"
      ]
    },
    {
      "cell_type": "code",
      "execution_count": null,
      "metadata": {
        "colab": {
          "base_uri": "https://localhost:8080/"
        },
        "id": "2XNJ0pxUaFKu",
        "outputId": "d239b49a-e4cb-41aa-ee1a-e3f273cac34c"
      },
      "outputs": [
        {
          "name": "stdout",
          "output_type": "stream",
          "text": [
            "scene:undivided - exists, not redownloading\n",
            "Actual Dataset\n",
            "(2407, 294) (2407, 6)\n",
            "Coverted into Dataframe\n",
            "(2407, 294) (2407, 6)\n"
          ]
        }
      ],
      "source": [
        "#from skmultilearn.dataset import load_dataset\n",
        "x3,y3, _, _ = load_dataset('scene', 'undivided')\n",
        "print(\"Actual Dataset\")\n",
        "print(x3.shape,y3.shape)\n",
        "#change to matrix\n",
        "x3=x3.todense()\n",
        "y3=y3.todense()\n",
        "import pandas as pd\n",
        "#change to dataFrame\n",
        "x3=pd.DataFrame(x3)\n",
        "y3=pd.DataFrame(y3)\n",
        "print(\"Coverted into Dataframe\")\n",
        "print(x3.shape,y3.shape)"
      ]
    },
    {
      "cell_type": "markdown",
      "metadata": {
        "id": "h2C5aCbTlSTG"
      },
      "source": [
        "## II-Chi2"
      ]
    },
    {
      "cell_type": "code",
      "execution_count": null,
      "metadata": {
        "colab": {
          "base_uri": "https://localhost:8080/"
        },
        "id": "cQgalo_3fosV",
        "outputId": "40984f96-01d5-493c-b17e-ef9c41b56585"
      },
      "outputs": [
        {
          "name": "stdout",
          "output_type": "stream",
          "text": [
            "40% features of medical dataset =  118\n"
          ]
        }
      ],
      "source": [
        "# import the required functions and object.\n",
        "from sklearn.feature_selection import chi2\n",
        "from sklearn.feature_selection import SelectKBest\n",
        "import numpy as np\n",
        "import pandas as pd\n",
        "\n",
        "# select the number of features you want to retain.\n",
        "select_k1 = round(len(x3.columns)*0.4)\n",
        "print(\"40% features of medical dataset = \",select_k1)\n",
        "\n",
        "features_selected_40=[]\n",
        "features_weights=[]\n",
        "for a in range(len(x3.columns)):\n",
        "   features_weights.append(0)\n",
        "for i in range(len(y3.columns)):\n",
        "  # apply the chi2 score on the data and target (target should be binary).\n",
        "  selection = SelectKBest(chi2, k=select_k1).fit(x3, y3.iloc[:,i])\n",
        "\n",
        "  # display the retained features.\n",
        "  features=list(x3.columns[selection.get_support()])\n",
        "  labels=y3.columns[i]\n",
        "  features_selected_40.append([labels, features])\n",
        "  #print(features_selected_40[i])\n",
        "\n",
        "  #calculating weight for each feature\n",
        "  #if a feature is correlate to label count them and than divide it by total labels\n",
        "  for f in features:\n",
        "    for count in range(len(x3.columns)):\n",
        "      if(f==x3.columns[count]):\n",
        "        features_weights[count]+=1\n",
        "list_f_w={}\n",
        "#if a feature is correlate to label count them and than divide it by total labels\n",
        "for i in range(len(x3.columns)):\n",
        "  features_weights[i]=round(features_weights[i]/len(x3.columns),3)\n",
        "  list_f_w.update({x3.columns[i] : features_weights[i]})"
      ]
    },
    {
      "cell_type": "code",
      "execution_count": null,
      "metadata": {
        "id": "igQUvgYffwjf"
      },
      "outputs": [],
      "source": [
        "#sort weights\n",
        "import operator\n",
        "sorted_list_f_w = sorted(list_f_w.items(), key=operator.itemgetter(1), reverse=True)\n",
        "import collections\n",
        "sorted_dict_f = collections.OrderedDict(sorted_list_f_w)\n",
        "#print(sorted_dict_f)"
      ]
    },
    {
      "cell_type": "code",
      "execution_count": null,
      "metadata": {
        "colab": {
          "base_uri": "https://localhost:8080/"
        },
        "id": "KClrdfsuhXju",
        "outputId": "fa53057e-8f3a-40c1-90c6-40c57957567f"
      },
      "outputs": [
        {
          "name": "stdout",
          "output_type": "stream",
          "text": [
            "{0, 28, 29, 30, 31, 32, 33, 34, 35, 36, 37, 38, 39, 40, 41, 42, 43, 44, 45, 46, 47, 48, 50, 51, 52, 53, 54, 55, 56, 62, 79, 80, 81, 82, 83, 84, 85, 86, 87, 88, 89, 90, 91, 92, 93, 94, 95, 96, 97, 98, 99, 100, 101, 102, 103, 104, 105, 106, 107, 108, 109, 110, 111, 112, 113, 114, 115, 116, 117, 118, 119, 120, 121, 122, 123, 124, 125, 126, 127, 128, 129, 130, 131, 132, 133, 134, 135, 136, 137, 138, 150, 155, 156, 157, 158, 163, 164, 169, 170, 171, 172, 173, 179, 196, 197, 198, 199, 200, 201, 202, 203, 204, 205, 206, 207, 208, 209, 210, 211, 212, 213, 214, 215, 216, 217, 218, 219, 220, 221, 222, 223, 224, 225, 226, 227, 228, 229, 230, 245, 250, 251, 258, 259, 266, 273, 274, 275}\n"
          ]
        }
      ],
      "source": [
        "#now, access top 50% weighted features(keys)\n",
        "final_features=[]\n",
        "found=False\n",
        "for i in range(round(len(x3.columns)*0.5)):\n",
        "    final_features.append(list(sorted_dict_f.keys())[i])\n",
        "final_features.sort()\n",
        "\n",
        "#drop other than top 50% weighted features\n",
        "selected_features = set(x3.columns).intersection(final_features)\n",
        "\n",
        "#print(set(x.columns))\n",
        "print(selected_features)\n",
        "\n",
        "for i in list(x3.columns):\n",
        "    if i not in selected_features:\n",
        "        x3 = x3.drop(columns=[i])\n",
        "\n",
        "#print(set(x.columns) == selected_features)"
      ]
    },
    {
      "cell_type": "code",
      "execution_count": null,
      "metadata": {
        "colab": {
          "base_uri": "https://localhost:8080/",
          "height": 427
        },
        "id": "3XxjTQXzha_V",
        "outputId": "9151dbd4-0e83-42e0-da32-d9993851be2a"
      },
      "outputs": [
        {
          "data": {
            "text/html": [
              "<div>\n",
              "<style scoped>\n",
              "    .dataframe tbody tr th:only-of-type {\n",
              "        vertical-align: middle;\n",
              "    }\n",
              "\n",
              "    .dataframe tbody tr th {\n",
              "        vertical-align: top;\n",
              "    }\n",
              "\n",
              "    .dataframe thead th {\n",
              "        text-align: right;\n",
              "    }\n",
              "</style>\n",
              "<table border=\"1\" class=\"dataframe\">\n",
              "  <thead>\n",
              "    <tr style=\"text-align: right;\">\n",
              "      <th></th>\n",
              "      <th>0</th>\n",
              "      <th>28</th>\n",
              "      <th>29</th>\n",
              "      <th>30</th>\n",
              "      <th>31</th>\n",
              "      <th>32</th>\n",
              "      <th>33</th>\n",
              "      <th>34</th>\n",
              "      <th>35</th>\n",
              "      <th>36</th>\n",
              "      <th>...</th>\n",
              "      <th>230</th>\n",
              "      <th>245</th>\n",
              "      <th>250</th>\n",
              "      <th>251</th>\n",
              "      <th>258</th>\n",
              "      <th>259</th>\n",
              "      <th>266</th>\n",
              "      <th>273</th>\n",
              "      <th>274</th>\n",
              "      <th>275</th>\n",
              "    </tr>\n",
              "  </thead>\n",
              "  <tbody>\n",
              "    <tr>\n",
              "      <th>0</th>\n",
              "      <td>0.646467</td>\n",
              "      <td>0.546262</td>\n",
              "      <td>0.566969</td>\n",
              "      <td>0.612951</td>\n",
              "      <td>0.621101</td>\n",
              "      <td>0.653561</td>\n",
              "      <td>0.694546</td>\n",
              "      <td>0.574777</td>\n",
              "      <td>0.710196</td>\n",
              "      <td>0.614510</td>\n",
              "      <td>...</td>\n",
              "      <td>0.530216</td>\n",
              "      <td>0.001898</td>\n",
              "      <td>0.084242</td>\n",
              "      <td>0.159080</td>\n",
              "      <td>0.096029</td>\n",
              "      <td>0.026930</td>\n",
              "      <td>0.252143</td>\n",
              "      <td>0.048767</td>\n",
              "      <td>0.085062</td>\n",
              "      <td>0.072274</td>\n",
              "    </tr>\n",
              "    <tr>\n",
              "      <th>1</th>\n",
              "      <td>0.770156</td>\n",
              "      <td>0.636677</td>\n",
              "      <td>0.653249</td>\n",
              "      <td>0.621813</td>\n",
              "      <td>0.613890</td>\n",
              "      <td>0.596795</td>\n",
              "      <td>0.596297</td>\n",
              "      <td>0.692224</td>\n",
              "      <td>0.634007</td>\n",
              "      <td>0.605896</td>\n",
              "      <td>...</td>\n",
              "      <td>0.634069</td>\n",
              "      <td>0.002222</td>\n",
              "      <td>0.050018</td>\n",
              "      <td>0.015733</td>\n",
              "      <td>0.170231</td>\n",
              "      <td>0.070917</td>\n",
              "      <td>0.072342</td>\n",
              "      <td>0.133331</td>\n",
              "      <td>0.090761</td>\n",
              "      <td>0.138334</td>\n",
              "    </tr>\n",
              "    <tr>\n",
              "      <th>2</th>\n",
              "      <td>0.793984</td>\n",
              "      <td>0.754620</td>\n",
              "      <td>0.775176</td>\n",
              "      <td>0.723823</td>\n",
              "      <td>0.676656</td>\n",
              "      <td>0.633313</td>\n",
              "      <td>0.552341</td>\n",
              "      <td>0.417900</td>\n",
              "      <td>0.622198</td>\n",
              "      <td>0.652387</td>\n",
              "      <td>...</td>\n",
              "      <td>0.627013</td>\n",
              "      <td>0.041683</td>\n",
              "      <td>0.022118</td>\n",
              "      <td>0.020369</td>\n",
              "      <td>0.018168</td>\n",
              "      <td>0.064507</td>\n",
              "      <td>0.006149</td>\n",
              "      <td>0.025505</td>\n",
              "      <td>0.027821</td>\n",
              "      <td>0.353377</td>\n",
              "    </tr>\n",
              "    <tr>\n",
              "      <th>3</th>\n",
              "      <td>0.938563</td>\n",
              "      <td>0.782931</td>\n",
              "      <td>0.774347</td>\n",
              "      <td>0.750613</td>\n",
              "      <td>0.706845</td>\n",
              "      <td>0.612971</td>\n",
              "      <td>0.647101</td>\n",
              "      <td>0.645833</td>\n",
              "      <td>0.736683</td>\n",
              "      <td>0.719352</td>\n",
              "      <td>...</td>\n",
              "      <td>0.693281</td>\n",
              "      <td>0.007494</td>\n",
              "      <td>0.089880</td>\n",
              "      <td>0.032423</td>\n",
              "      <td>0.085017</td>\n",
              "      <td>0.000906</td>\n",
              "      <td>0.045153</td>\n",
              "      <td>0.020989</td>\n",
              "      <td>0.015197</td>\n",
              "      <td>0.209978</td>\n",
              "    </tr>\n",
              "    <tr>\n",
              "      <th>4</th>\n",
              "      <td>0.512130</td>\n",
              "      <td>0.450048</td>\n",
              "      <td>0.742275</td>\n",
              "      <td>0.784539</td>\n",
              "      <td>0.903786</td>\n",
              "      <td>0.834243</td>\n",
              "      <td>0.766266</td>\n",
              "      <td>0.657113</td>\n",
              "      <td>0.276264</td>\n",
              "      <td>0.394086</td>\n",
              "      <td>...</td>\n",
              "      <td>0.531412</td>\n",
              "      <td>0.007056</td>\n",
              "      <td>0.001849</td>\n",
              "      <td>0.001522</td>\n",
              "      <td>0.007811</td>\n",
              "      <td>0.381498</td>\n",
              "      <td>0.138157</td>\n",
              "      <td>0.293732</td>\n",
              "      <td>0.221770</td>\n",
              "      <td>0.094467</td>\n",
              "    </tr>\n",
              "    <tr>\n",
              "      <th>...</th>\n",
              "      <td>...</td>\n",
              "      <td>...</td>\n",
              "      <td>...</td>\n",
              "      <td>...</td>\n",
              "      <td>...</td>\n",
              "      <td>...</td>\n",
              "      <td>...</td>\n",
              "      <td>...</td>\n",
              "      <td>...</td>\n",
              "      <td>...</td>\n",
              "      <td>...</td>\n",
              "      <td>...</td>\n",
              "      <td>...</td>\n",
              "      <td>...</td>\n",
              "      <td>...</td>\n",
              "      <td>...</td>\n",
              "      <td>...</td>\n",
              "      <td>...</td>\n",
              "      <td>...</td>\n",
              "      <td>...</td>\n",
              "      <td>...</td>\n",
              "    </tr>\n",
              "    <tr>\n",
              "      <th>2402</th>\n",
              "      <td>0.875782</td>\n",
              "      <td>0.676792</td>\n",
              "      <td>0.592367</td>\n",
              "      <td>0.731435</td>\n",
              "      <td>0.657937</td>\n",
              "      <td>0.637698</td>\n",
              "      <td>0.595739</td>\n",
              "      <td>0.351003</td>\n",
              "      <td>0.398997</td>\n",
              "      <td>0.408165</td>\n",
              "      <td>...</td>\n",
              "      <td>0.609672</td>\n",
              "      <td>0.010378</td>\n",
              "      <td>0.008949</td>\n",
              "      <td>0.072524</td>\n",
              "      <td>0.063696</td>\n",
              "      <td>0.029199</td>\n",
              "      <td>0.020406</td>\n",
              "      <td>0.247398</td>\n",
              "      <td>0.270002</td>\n",
              "      <td>0.034304</td>\n",
              "    </tr>\n",
              "    <tr>\n",
              "      <th>2403</th>\n",
              "      <td>0.657706</td>\n",
              "      <td>0.758531</td>\n",
              "      <td>0.641721</td>\n",
              "      <td>0.317995</td>\n",
              "      <td>0.785125</td>\n",
              "      <td>0.848287</td>\n",
              "      <td>0.697095</td>\n",
              "      <td>0.340406</td>\n",
              "      <td>0.413697</td>\n",
              "      <td>0.584736</td>\n",
              "      <td>...</td>\n",
              "      <td>0.552560</td>\n",
              "      <td>0.003680</td>\n",
              "      <td>0.053993</td>\n",
              "      <td>0.245133</td>\n",
              "      <td>0.078334</td>\n",
              "      <td>0.001116</td>\n",
              "      <td>0.001428</td>\n",
              "      <td>0.228740</td>\n",
              "      <td>0.067197</td>\n",
              "      <td>0.045875</td>\n",
              "    </tr>\n",
              "    <tr>\n",
              "      <th>2404</th>\n",
              "      <td>0.952281</td>\n",
              "      <td>0.759234</td>\n",
              "      <td>0.737589</td>\n",
              "      <td>0.693773</td>\n",
              "      <td>0.627783</td>\n",
              "      <td>0.725664</td>\n",
              "      <td>0.652865</td>\n",
              "      <td>0.719472</td>\n",
              "      <td>0.469030</td>\n",
              "      <td>0.557299</td>\n",
              "      <td>...</td>\n",
              "      <td>0.434078</td>\n",
              "      <td>0.001380</td>\n",
              "      <td>0.000095</td>\n",
              "      <td>0.000430</td>\n",
              "      <td>0.000572</td>\n",
              "      <td>0.032782</td>\n",
              "      <td>0.038606</td>\n",
              "      <td>0.013954</td>\n",
              "      <td>0.007926</td>\n",
              "      <td>0.019648</td>\n",
              "    </tr>\n",
              "    <tr>\n",
              "      <th>2405</th>\n",
              "      <td>0.883990</td>\n",
              "      <td>0.674484</td>\n",
              "      <td>0.810507</td>\n",
              "      <td>0.721839</td>\n",
              "      <td>0.775078</td>\n",
              "      <td>0.706114</td>\n",
              "      <td>0.615897</td>\n",
              "      <td>0.776181</td>\n",
              "      <td>0.591499</td>\n",
              "      <td>0.695034</td>\n",
              "      <td>...</td>\n",
              "      <td>0.569193</td>\n",
              "      <td>0.015183</td>\n",
              "      <td>0.052325</td>\n",
              "      <td>0.119040</td>\n",
              "      <td>0.139951</td>\n",
              "      <td>0.076896</td>\n",
              "      <td>0.045770</td>\n",
              "      <td>0.061706</td>\n",
              "      <td>0.026170</td>\n",
              "      <td>0.030315</td>\n",
              "    </tr>\n",
              "    <tr>\n",
              "      <th>2406</th>\n",
              "      <td>0.974915</td>\n",
              "      <td>0.895341</td>\n",
              "      <td>0.682445</td>\n",
              "      <td>0.652931</td>\n",
              "      <td>0.805303</td>\n",
              "      <td>0.974356</td>\n",
              "      <td>0.973889</td>\n",
              "      <td>0.980737</td>\n",
              "      <td>0.755840</td>\n",
              "      <td>0.592020</td>\n",
              "      <td>...</td>\n",
              "      <td>0.424752</td>\n",
              "      <td>0.001067</td>\n",
              "      <td>0.012888</td>\n",
              "      <td>0.007306</td>\n",
              "      <td>0.002794</td>\n",
              "      <td>0.008432</td>\n",
              "      <td>0.031112</td>\n",
              "      <td>0.048487</td>\n",
              "      <td>0.013047</td>\n",
              "      <td>0.016693</td>\n",
              "    </tr>\n",
              "  </tbody>\n",
              "</table>\n",
              "<p>2407 rows × 147 columns</p>\n",
              "</div>"
            ],
            "text/plain": [
              "           0         28        29        30        31        32        33   \\\n",
              "0     0.646467  0.546262  0.566969  0.612951  0.621101  0.653561  0.694546   \n",
              "1     0.770156  0.636677  0.653249  0.621813  0.613890  0.596795  0.596297   \n",
              "2     0.793984  0.754620  0.775176  0.723823  0.676656  0.633313  0.552341   \n",
              "3     0.938563  0.782931  0.774347  0.750613  0.706845  0.612971  0.647101   \n",
              "4     0.512130  0.450048  0.742275  0.784539  0.903786  0.834243  0.766266   \n",
              "...        ...       ...       ...       ...       ...       ...       ...   \n",
              "2402  0.875782  0.676792  0.592367  0.731435  0.657937  0.637698  0.595739   \n",
              "2403  0.657706  0.758531  0.641721  0.317995  0.785125  0.848287  0.697095   \n",
              "2404  0.952281  0.759234  0.737589  0.693773  0.627783  0.725664  0.652865   \n",
              "2405  0.883990  0.674484  0.810507  0.721839  0.775078  0.706114  0.615897   \n",
              "2406  0.974915  0.895341  0.682445  0.652931  0.805303  0.974356  0.973889   \n",
              "\n",
              "           34        35        36   ...       230       245       250  \\\n",
              "0     0.574777  0.710196  0.614510  ...  0.530216  0.001898  0.084242   \n",
              "1     0.692224  0.634007  0.605896  ...  0.634069  0.002222  0.050018   \n",
              "2     0.417900  0.622198  0.652387  ...  0.627013  0.041683  0.022118   \n",
              "3     0.645833  0.736683  0.719352  ...  0.693281  0.007494  0.089880   \n",
              "4     0.657113  0.276264  0.394086  ...  0.531412  0.007056  0.001849   \n",
              "...        ...       ...       ...  ...       ...       ...       ...   \n",
              "2402  0.351003  0.398997  0.408165  ...  0.609672  0.010378  0.008949   \n",
              "2403  0.340406  0.413697  0.584736  ...  0.552560  0.003680  0.053993   \n",
              "2404  0.719472  0.469030  0.557299  ...  0.434078  0.001380  0.000095   \n",
              "2405  0.776181  0.591499  0.695034  ...  0.569193  0.015183  0.052325   \n",
              "2406  0.980737  0.755840  0.592020  ...  0.424752  0.001067  0.012888   \n",
              "\n",
              "           251       258       259       266       273       274       275  \n",
              "0     0.159080  0.096029  0.026930  0.252143  0.048767  0.085062  0.072274  \n",
              "1     0.015733  0.170231  0.070917  0.072342  0.133331  0.090761  0.138334  \n",
              "2     0.020369  0.018168  0.064507  0.006149  0.025505  0.027821  0.353377  \n",
              "3     0.032423  0.085017  0.000906  0.045153  0.020989  0.015197  0.209978  \n",
              "4     0.001522  0.007811  0.381498  0.138157  0.293732  0.221770  0.094467  \n",
              "...        ...       ...       ...       ...       ...       ...       ...  \n",
              "2402  0.072524  0.063696  0.029199  0.020406  0.247398  0.270002  0.034304  \n",
              "2403  0.245133  0.078334  0.001116  0.001428  0.228740  0.067197  0.045875  \n",
              "2404  0.000430  0.000572  0.032782  0.038606  0.013954  0.007926  0.019648  \n",
              "2405  0.119040  0.139951  0.076896  0.045770  0.061706  0.026170  0.030315  \n",
              "2406  0.007306  0.002794  0.008432  0.031112  0.048487  0.013047  0.016693  \n",
              "\n",
              "[2407 rows x 147 columns]"
            ]
          },
          "execution_count": 34,
          "metadata": {},
          "output_type": "execute_result"
        }
      ],
      "source": [
        "x3"
      ]
    },
    {
      "cell_type": "code",
      "execution_count": null,
      "metadata": {
        "colab": {
          "base_uri": "https://localhost:8080/"
        },
        "id": "pHBzcNYehglv",
        "outputId": "53e3eafe-5c05-4454-8ee3-f504e5636df7"
      },
      "outputs": [
        {
          "name": "stdout",
          "output_type": "stream",
          "text": [
            "Int64Index([  0,  28,  29,  30,  31,  32,  33,  34,  35,  36,\n",
            "            ...\n",
            "            230, 245, 250, 251, 258, 259, 266, 273, 274, 275],\n",
            "           dtype='int64', length=147)\n",
            "[0, 28, 29, 30, 31, 32, 33, 34, 35, 36, 37, 38, 39, 40, 41, 42, 43, 44, 45, 46, 47, 48, 50, 51, 52, 53, 54, 55, 56, 62, 79, 80, 81, 82, 83, 84, 85, 86, 87, 88, 89, 90, 91, 92, 93, 94, 95, 96, 97, 98, 99, 100, 101, 102, 103, 104, 105, 106, 107, 108, 109, 110, 111, 112, 113, 114, 115, 116, 117, 118, 119, 120, 121, 122, 123, 124, 125, 126, 127, 128, 129, 130, 131, 132, 133, 134, 135, 136, 137, 138, 150, 155, 156, 157, 158, 163, 164, 169, 170, 171, 172, 173, 179, 196, 197, 198, 199, 200, 201, 202, 203, 204, 205, 206, 207, 208, 209, 210, 211, 212, 213, 214, 215, 216, 217, 218, 219, 220, 221, 222, 223, 224, 225, 226, 227, 228, 229, 230, 245, 250, 251, 258, 259, 266, 273, 274, 275]\n"
          ]
        }
      ],
      "source": [
        "print(x3.columns)\n",
        "print(final_features)"
      ]
    },
    {
      "cell_type": "code",
      "execution_count": null,
      "metadata": {
        "id": "OS-4rBx5hnqk"
      },
      "outputs": [],
      "source": [
        "from scipy import sparse as s\n",
        "x3 = s.csr_matrix(x3)\n",
        "y3 = s.csr_matrix(y3)"
      ]
    },
    {
      "cell_type": "code",
      "execution_count": null,
      "metadata": {
        "colab": {
          "base_uri": "https://localhost:8080/"
        },
        "id": "qwFnLZFrhohr",
        "outputId": "c8c3b074-5eaa-4be3-94b5-0643924adc38"
      },
      "outputs": [
        {
          "name": "stdout",
          "output_type": "stream",
          "text": [
            "(1685, 147) (722, 147) (1685, 6) (722, 6)\n"
          ]
        }
      ],
      "source": [
        "from skmultilearn.model_selection import iterative_train_test_split\n",
        "x3_train, y3_train, x3_test, y3_test = iterative_train_test_split(x3, y3, test_size = 0.3)\n",
        "print(x3_train.shape, x3_test.shape, y3_train.shape, y3_test.shape)"
      ]
    },
    {
      "cell_type": "markdown",
      "metadata": {
        "id": "rpL2nnR8hv03"
      },
      "source": [
        "#MLC"
      ]
    },
    {
      "cell_type": "code",
      "execution_count": null,
      "metadata": {
        "id": "Q9j_nbxFhs0Z"
      },
      "outputs": [],
      "source": [
        "#from skmultilearn.adapt import MLTSVM\n",
        "classifier1 = MLTSVM(c_k =2**-6)\n",
        "# train\n",
        "classifier1.fit(x3_train, y3_train)\n",
        "# predict\n",
        "MLTSVM3_predictions = classifier1.predict(x3_test)"
      ]
    },
    {
      "cell_type": "code",
      "execution_count": null,
      "metadata": {
        "id": "Ix9Zq2Fhh6lE",
        "outputId": "15abfddc-fe8c-47c1-cd8f-a068b910aa3e"
      },
      "outputs": [
        {
          "name": "stderr",
          "output_type": "stream",
          "text": [
            "/home/rafia/anaconda3/lib/python3.7/site-packages/sklearn/utils/validation.py:70: FutureWarning: Pass n_neighbors=6 as keyword args. From version 0.25 passing these as positional arguments will result in an error\n",
            "  FutureWarning)\n"
          ]
        }
      ],
      "source": [
        "#from skmultilearn.adapt import MLkNN\n",
        "#MLKNN is an adaptation of the kNN lazy learning algorithm for multi-label data.\n",
        "# apply MLkNN for Scene dataset it has 6 labels.\n",
        "classifier2 = MLkNN(k=6)\n",
        "\n",
        "# train\n",
        "classifier2.fit(x3_train, y3_train)\n",
        "\n",
        "# predict\n",
        "MLKNN3_predictions = classifier2.predict(x3_test)"
      ]
    },
    {
      "cell_type": "code",
      "execution_count": null,
      "metadata": {
        "id": "KJy3NGoCiDzl"
      },
      "outputs": [],
      "source": [
        "from skmultilearn.adapt import BRkNNaClassifier\n",
        "classifier3 = BRkNNaClassifier(k=6)\n",
        "# train\n",
        "classifier3.fit(x3_train, y3_train)\n",
        "# predict\n",
        "BR3_predictions = classifier3.predict(x3_test)"
      ]
    },
    {
      "cell_type": "markdown",
      "metadata": {
        "id": "OlKuLogNZ6Lk"
      },
      "source": [
        "### 03 - Results"
      ]
    },
    {
      "cell_type": "code",
      "execution_count": null,
      "metadata": {
        "id": "SFtZHMNMTfI-"
      },
      "outputs": [],
      "source": [
        "import sklearn.metrics as m\n",
        "#Hamming Loss\n",
        "hamming_loss_MLTSVM.append(round(m.hamming_loss(y3_test, MLTSVM3_predictions),2))\n",
        "hamming_loss_MLKNN.append(round(m.hamming_loss(y3_test, MLKNN3_predictions),2))\n",
        "hamming_loss_BRKNNa.append(round(m.hamming_loss(y3_test, BR3_predictions),2))\n",
        "\n",
        "#Accuracy\n",
        "accuracy_MLTSVM.append(round(m.accuracy_score(y3_test, MLTSVM3_predictions),2))\n",
        "accuracy_MLKNN.append(round(m.accuracy_score(y3_test, MLKNN3_predictions),2))\n",
        "accuracy_BRKNNa.append(round(m.accuracy_score(y3_test, BR3_predictions),2))\n",
        "\n",
        "#Micro Precision\n",
        "precision_MLTSVM.append(round(m.precision_score(y3_test, MLTSVM3_predictions, average='micro', zero_division='warn'),2))\n",
        "precision_MLKNN.append(round(m.precision_score(y3_test, MLKNN3_predictions, average='micro', zero_division='warn'),2))\n",
        "precision_BRKNNa.append(round(m.precision_score(y3_test, BR3_predictions, average='micro', zero_division='warn'),2))\n",
        "\n",
        "#Micro Recall\n",
        "recall_MLTSVM.append(round(m.recall_score(y3_test, MLTSVM3_predictions, average='micro',zero_division='warn'),2))\n",
        "recall_MLKNN.append(round(m.recall_score(y3_test, MLKNN3_predictions, average='micro',zero_division='warn'),2))\n",
        "recall_BRKNNa.append(round(m.recall_score(y3_test, BR3_predictions, average='micro',zero_division='warn'),2))\n",
        "#Micro F1 measure\n",
        "f1_measure_MLTSVM.append(round(m.f1_score(y3_test, MLTSVM3_predictions, average='micro',zero_division='warn'),2))\n",
        "f1_measure_MLKNN.append(round(m.f1_score(y3_test, MLKNN3_predictions, average='micro',zero_division='warn'),2))\n",
        "f1_measure_BRKNNa.append(round(m.f1_score(y3_test, BR3_predictions, average='micro',zero_division='warn'),2))"
      ]
    },
    {
      "cell_type": "code",
      "execution_count": null,
      "metadata": {
        "colab": {
          "base_uri": "https://localhost:8080/"
        },
        "id": "JJDbd-81iJrT",
        "outputId": "ed981ce0-4387-4d99-fe0e-b0545807e680"
      },
      "outputs": [
        {
          "name": "stdout",
          "output_type": "stream",
          "text": [
            "------------------------------\n",
            "\t(Examples,Labels\n",
            "------------------------------\n",
            "MLTSVM ->  (722, 6)\n",
            "MLKNN  ->  (722, 6)\n",
            "BRKNNa ->  (722, 6)\n",
            "------------------------------\n",
            "\tHamming Loss\n",
            "------------------------------\n",
            "MLTSVM ->  0.81\n",
            "MLKNN  ->  0.11\n",
            "BRKNNa ->  0.11\n",
            "------------------------------\n",
            "\tAccuracy\n",
            "------------------------------\n",
            "MLTSVM ->  0.0\n",
            "MLKNN  ->  0.59\n",
            "BRKNNa ->  0.53\n",
            "------------------------------\n",
            "\tPrecision\n",
            "------------------------------\n",
            "MLTSVM ->  0.18\n",
            "MLKNN ->  0.72\n",
            "BRKNNa ->  0.79\n",
            "------------------------------\n",
            "\tRecall\n",
            "------------------------------\n",
            "MLTSVM ->  1.0\n",
            "MLKNN ->  0.64\n",
            "BRKNNa ->  0.54\n",
            "------------------------------\n",
            "\tF1-measure\n",
            "------------------------------\n",
            "MLTSVM ->  0.31\n",
            "MLKNN ->  0.68\n",
            "BRKNNa ->  0.64\n",
            "\n"
          ]
        }
      ],
      "source": [
        "print(\"------------------------------\")\n",
        "print(\"\\t(Examples,Labels\")\n",
        "print(\"------------------------------\")\n",
        "print(\"MLTSVM -> \",MLTSVM3_predictions.shape)\n",
        "print(\"MLKNN  -> \",MLKNN3_predictions.shape)\n",
        "print(\"BRKNNa -> \",BR3_predictions.shape)\n",
        "import sklearn.metrics as m\n",
        "print(\"------------------------------\")\n",
        "print(\"\\tHamming Loss\")\n",
        "print(\"------------------------------\")\n",
        "print(\"MLTSVM -> \",round(m.hamming_loss(y3_test, MLTSVM3_predictions),2))\n",
        "print(\"MLKNN  -> \",round(m.hamming_loss(y3_test, MLKNN3_predictions),2))\n",
        "print(\"BRKNNa -> \",round(m.hamming_loss(y3_test, BR3_predictions),2))\n",
        "print(\"------------------------------\")\n",
        "print(\"\\tAccuracy\")\n",
        "print(\"------------------------------\")\n",
        "print(\"MLTSVM -> \",round(m.accuracy_score(y3_test, MLTSVM3_predictions),2))\n",
        "print(\"MLKNN  -> \",round(m.accuracy_score(y3_test, MLKNN3_predictions),2))\n",
        "print(\"BRKNNa -> \",round(m.accuracy_score(y3_test, BR3_predictions),2))\n",
        "print(\"------------------------------\")\n",
        "print(\"\\tPrecision\")\n",
        "print(\"------------------------------\")\n",
        "print(\"MLTSVM -> \",round(m.precision_score(y3_test, MLTSVM3_predictions, average='micro',zero_division='warn'),2))\n",
        "print(\"MLKNN -> \",round(m.precision_score(y3_test, MLKNN3_predictions, average='micro',zero_division='warn'),2))\n",
        "print(\"BRKNNa -> \",round(m.precision_score(y3_test, BR3_predictions, average='micro',zero_division='warn'),2))\n",
        "print(\"------------------------------\")\n",
        "print(\"\\tRecall\")\n",
        "print(\"------------------------------\")\n",
        "print(\"MLTSVM -> \",round(m.recall_score(y3_test, MLTSVM3_predictions, average='micro',zero_division='warn'),2))\n",
        "print(\"MLKNN -> \",round(m.recall_score(y3_test, MLKNN3_predictions, average='micro',zero_division='warn'),2))\n",
        "print(\"BRKNNa -> \",round(m.recall_score(y3_test, BR3_predictions, average='micro',zero_division='warn'),2))\n",
        "print(\"------------------------------\")\n",
        "print(\"\\tF1-measure\")\n",
        "print(\"------------------------------\")\n",
        "#f1=2*(p*r)/(p+r)\n",
        "print(\"MLTSVM -> \",round(m.f1_score(y3_test, MLTSVM3_predictions, average='micro',zero_division='warn'),2))\n",
        "print(\"MLKNN -> \",round(m.f1_score(y3_test, MLKNN3_predictions, average='micro',zero_division='warn'),2))\n",
        "print(\"BRKNNa -> \",round(m.f1_score(y3_test, BR3_predictions, average='micro',zero_division='warn'),2))\n",
        "print()"
      ]
    },
    {
      "cell_type": "markdown",
      "metadata": {
        "id": "yb0c2jsMjHbo"
      },
      "source": [
        "### 4-Emotions dataset"
      ]
    },
    {
      "cell_type": "markdown",
      "metadata": {
        "id": "W-C76Xx-qSD4"
      },
      "source": [
        "Can not apply chi2 test on it"
      ]
    },
    {
      "cell_type": "markdown",
      "metadata": {
        "id": "a77xqSZbkezm"
      },
      "source": [
        "### 05-Genbase dataset"
      ]
    },
    {
      "cell_type": "code",
      "execution_count": null,
      "metadata": {
        "colab": {
          "base_uri": "https://localhost:8080/"
        },
        "id": "gShUWMAlkWw9",
        "outputId": "9d7f93fd-fb59-403e-e712-a75eb500d6a5"
      },
      "outputs": [
        {
          "name": "stdout",
          "output_type": "stream",
          "text": [
            "genbase:undivided - exists, not redownloading\n",
            "Actual Dataset\n",
            "(662, 1186) (662, 27)\n",
            "Coverted into Dataframe\n",
            "(662, 1186) (662, 27)\n"
          ]
        }
      ],
      "source": [
        "from skmultilearn.dataset import load_dataset\n",
        "x5,y5, _, _ = load_dataset('genbase', 'undivided')\n",
        "print(\"Actual Dataset\")\n",
        "print(x5.shape,y5.shape)\n",
        "#change to matrix\n",
        "x5=x5.todense()\n",
        "y5=y5.todense()\n",
        "import pandas as pd\n",
        "#change to dataFrame\n",
        "x5=pd.DataFrame(x5)\n",
        "y5=pd.DataFrame(y5)\n",
        "print(\"Coverted into Dataframe\")\n",
        "print(x5.shape,y5.shape)"
      ]
    },
    {
      "cell_type": "code",
      "execution_count": null,
      "metadata": {
        "colab": {
          "base_uri": "https://localhost:8080/"
        },
        "id": "87khqzoo15JA",
        "outputId": "beb08faa-2d82-45d7-bb8c-4b667b0467ee"
      },
      "outputs": [
        {
          "name": "stdout",
          "output_type": "stream",
          "text": [
            "40% features of medical dataset =  474\n"
          ]
        }
      ],
      "source": [
        "# import the required functions and object.\n",
        "from sklearn.feature_selection import chi2\n",
        "from sklearn.feature_selection import SelectKBest\n",
        "import numpy as np\n",
        "import pandas as pd\n",
        "\n",
        "# select the number of features you want to retain.\n",
        "select_k1 = round(len(x5.columns)*0.4)\n",
        "print(\"40% features of medical dataset = \",select_k1)\n",
        "\n",
        "features_selected_20=[]\n",
        "features_weights=[]\n",
        "for a in range(len(x5.columns)):\n",
        "   features_weights.append(0)\n",
        "for i in range(len(y5.columns)):\n",
        "  # apply the chi2 score on the data and target (target should be binary).\n",
        "  selection = SelectKBest(chi2, k=select_k1).fit(x5,y5.iloc[:,i])\n",
        "\n",
        "  # display the retained features.\n",
        "  features=list(x5.columns[selection.get_support()])\n",
        "  labels=y5.columns[i]\n",
        "  features_selected_40.append([labels, features])\n",
        "  #print(features_selected_40[i])\n",
        "\n",
        "  #calculating weight for each feature\n",
        "  #if a feature is correlate to label count them and than divide it by total labels\n",
        "  for f in features:\n",
        "    for count in range(len(x5.columns)):\n",
        "      if(f==x5.columns[count]):\n",
        "        features_weights[count]+=1\n",
        "list_f_w={}\n",
        "#if a feature is correlate to label count them and than divide it by total labels\n",
        "for i in range(len(x5.columns)):\n",
        "  features_weights[i]=round(features_weights[i]/len(x5.columns),3)\n",
        "  list_f_w.update({x5.columns[i] : features_weights[i]})"
      ]
    },
    {
      "cell_type": "code",
      "execution_count": null,
      "metadata": {
        "id": "67V9FB6A2BDg"
      },
      "outputs": [],
      "source": [
        "#sort weights\n",
        "import operator\n",
        "sorted_list_f_w = sorted(list_f_w.items(), key=operator.itemgetter(1), reverse=True)\n",
        "import collections\n",
        "sorted_dict_f = collections.OrderedDict(sorted_list_f_w)\n",
        "#print(sorted_dict_f)"
      ]
    },
    {
      "cell_type": "code",
      "execution_count": null,
      "metadata": {
        "colab": {
          "base_uri": "https://localhost:8080/"
        },
        "id": "yAo5ZUK32Gf5",
        "outputId": "cca1cd5d-4d76-4fd4-b29f-6f3b230d21e6"
      },
      "outputs": [
        {
          "name": "stdout",
          "output_type": "stream",
          "text": [
            "{0, 1, 2, 3, 4, 5, 6, 7, 8, 9, 10, 11, 12, 13, 14, 15, 16, 17, 18, 19, 20, 21, 22, 23, 24, 25, 26, 27, 28, 29, 30, 31, 32, 33, 34, 35, 36, 37, 38, 39, 40, 41, 42, 43, 44, 45, 46, 47, 48, 49, 50, 51, 52, 53, 54, 55, 56, 57, 58, 59, 60, 61, 62, 63, 64, 65, 66, 67, 68, 69, 70, 71, 72, 73, 74, 75, 76, 77, 78, 79, 80, 81, 82, 83, 84, 85, 86, 87, 88, 89, 90, 91, 92, 93, 94, 95, 96, 97, 98, 99, 100, 101, 102, 103, 104, 105, 106, 107, 108, 109, 110, 111, 112, 113, 114, 115, 116, 117, 118, 119, 120, 121, 122, 123, 124, 125, 126, 127, 128, 143, 147, 183, 188, 204, 254, 271, 289, 308, 360, 398, 507, 517, 520, 536, 643, 731, 734, 740, 741, 742, 743, 744, 745, 746, 747, 748, 749, 750, 751, 752, 753, 754, 755, 756, 757, 758, 759, 760, 761, 762, 763, 764, 765, 766, 767, 768, 769, 770, 771, 772, 773, 774, 775, 776, 777, 778, 779, 780, 781, 782, 783, 784, 785, 786, 787, 788, 789, 790, 791, 792, 793, 794, 795, 796, 797, 798, 799, 800, 801, 802, 803, 804, 805, 806, 807, 808, 809, 810, 811, 812, 813, 814, 815, 816, 817, 818, 819, 820, 821, 822, 823, 824, 825, 826, 827, 828, 829, 830, 831, 832, 833, 834, 835, 836, 837, 838, 839, 840, 841, 842, 843, 844, 845, 846, 847, 848, 849, 850, 851, 852, 853, 854, 855, 856, 857, 858, 859, 860, 861, 862, 863, 864, 865, 866, 867, 868, 869, 870, 871, 872, 873, 874, 875, 876, 877, 878, 879, 880, 881, 882, 883, 884, 885, 886, 887, 888, 889, 890, 891, 892, 893, 894, 895, 896, 897, 898, 899, 900, 901, 902, 903, 904, 905, 906, 907, 908, 909, 910, 911, 912, 913, 914, 915, 916, 917, 918, 919, 920, 921, 922, 923, 924, 925, 926, 927, 928, 929, 930, 931, 932, 933, 934, 935, 936, 937, 938, 939, 940, 941, 942, 943, 944, 945, 946, 947, 948, 949, 950, 951, 952, 953, 954, 955, 956, 957, 958, 959, 960, 961, 962, 963, 964, 965, 966, 967, 968, 969, 970, 971, 972, 973, 974, 975, 976, 977, 978, 979, 980, 981, 982, 983, 984, 985, 986, 987, 988, 989, 990, 991, 992, 993, 994, 995, 996, 997, 998, 999, 1000, 1001, 1002, 1003, 1004, 1005, 1006, 1007, 1008, 1009, 1010, 1011, 1012, 1013, 1014, 1015, 1016, 1017, 1018, 1019, 1020, 1021, 1022, 1023, 1024, 1025, 1026, 1027, 1028, 1029, 1030, 1031, 1032, 1033, 1034, 1035, 1036, 1037, 1038, 1039, 1040, 1041, 1042, 1043, 1044, 1045, 1046, 1047, 1048, 1049, 1050, 1051, 1052, 1053, 1054, 1055, 1056, 1057, 1058, 1059, 1060, 1061, 1062, 1063, 1064, 1065, 1066, 1067, 1068, 1069, 1070, 1071, 1072, 1073, 1074, 1075, 1076, 1077, 1078, 1079, 1080, 1081, 1082, 1083, 1084, 1085, 1086, 1087, 1088, 1089, 1090, 1091, 1092, 1093, 1094, 1095, 1096, 1097, 1098, 1099, 1100, 1101, 1102, 1103, 1104, 1105, 1106, 1107, 1108, 1109, 1110, 1111, 1112, 1113, 1114, 1115, 1116, 1117, 1118, 1119, 1120, 1121, 1122, 1123, 1124, 1125, 1126, 1127, 1128, 1129, 1130, 1131, 1132, 1133, 1134, 1135, 1136, 1137, 1138, 1139, 1140, 1141, 1142, 1143, 1144, 1145, 1146, 1147, 1148, 1149, 1150, 1151, 1152, 1153, 1154, 1155, 1156, 1157, 1158, 1159, 1160, 1161, 1162, 1163, 1164, 1165, 1166, 1167, 1168, 1169, 1170, 1171, 1172, 1173, 1174, 1175, 1176, 1177, 1178, 1179, 1180, 1181, 1182, 1183, 1184, 1185}\n"
          ]
        }
      ],
      "source": [
        "#now, access top 50% weighted features(keys)\n",
        "final_features=[]\n",
        "found=False\n",
        "for i in range(round(len(x5.columns)*0.5)):\n",
        "    final_features.append(list(sorted_dict_f.keys())[i])\n",
        "final_features.sort()\n",
        "\n",
        "#drop other than top 50% weighted features\n",
        "selected_features = set(x5.columns).intersection(final_features)\n",
        "\n",
        "#print(set(x.columns))\n",
        "print(selected_features)\n",
        "\n",
        "for i in list(x5.columns):\n",
        "    if i not in selected_features:\n",
        "        x5 = x5.drop(columns=[i])\n",
        "\n",
        "#print(set(x.columns) == selected_features)"
      ]
    },
    {
      "cell_type": "code",
      "execution_count": null,
      "metadata": {
        "colab": {
          "base_uri": "https://localhost:8080/",
          "height": 427
        },
        "id": "au7w7Eil2Odj",
        "outputId": "854c00c3-3ad1-48f2-e95b-af1f1b927c05"
      },
      "outputs": [
        {
          "data": {
            "text/html": [
              "<div>\n",
              "<style scoped>\n",
              "    .dataframe tbody tr th:only-of-type {\n",
              "        vertical-align: middle;\n",
              "    }\n",
              "\n",
              "    .dataframe tbody tr th {\n",
              "        vertical-align: top;\n",
              "    }\n",
              "\n",
              "    .dataframe thead th {\n",
              "        text-align: right;\n",
              "    }\n",
              "</style>\n",
              "<table border=\"1\" class=\"dataframe\">\n",
              "  <thead>\n",
              "    <tr style=\"text-align: right;\">\n",
              "      <th></th>\n",
              "      <th>0</th>\n",
              "      <th>1</th>\n",
              "      <th>2</th>\n",
              "      <th>3</th>\n",
              "      <th>4</th>\n",
              "      <th>5</th>\n",
              "      <th>6</th>\n",
              "      <th>7</th>\n",
              "      <th>8</th>\n",
              "      <th>9</th>\n",
              "      <th>...</th>\n",
              "      <th>1176</th>\n",
              "      <th>1177</th>\n",
              "      <th>1178</th>\n",
              "      <th>1179</th>\n",
              "      <th>1180</th>\n",
              "      <th>1181</th>\n",
              "      <th>1182</th>\n",
              "      <th>1183</th>\n",
              "      <th>1184</th>\n",
              "      <th>1185</th>\n",
              "    </tr>\n",
              "  </thead>\n",
              "  <tbody>\n",
              "    <tr>\n",
              "      <th>0</th>\n",
              "      <td>0.0</td>\n",
              "      <td>1.0</td>\n",
              "      <td>1.0</td>\n",
              "      <td>1.0</td>\n",
              "      <td>1.0</td>\n",
              "      <td>1.0</td>\n",
              "      <td>1.0</td>\n",
              "      <td>1.0</td>\n",
              "      <td>1.0</td>\n",
              "      <td>1.0</td>\n",
              "      <td>...</td>\n",
              "      <td>1.0</td>\n",
              "      <td>1.0</td>\n",
              "      <td>1.0</td>\n",
              "      <td>1.0</td>\n",
              "      <td>1.0</td>\n",
              "      <td>1.0</td>\n",
              "      <td>1.0</td>\n",
              "      <td>1.0</td>\n",
              "      <td>1.0</td>\n",
              "      <td>1.0</td>\n",
              "    </tr>\n",
              "    <tr>\n",
              "      <th>1</th>\n",
              "      <td>1.0</td>\n",
              "      <td>1.0</td>\n",
              "      <td>1.0</td>\n",
              "      <td>1.0</td>\n",
              "      <td>1.0</td>\n",
              "      <td>0.0</td>\n",
              "      <td>1.0</td>\n",
              "      <td>1.0</td>\n",
              "      <td>1.0</td>\n",
              "      <td>1.0</td>\n",
              "      <td>...</td>\n",
              "      <td>1.0</td>\n",
              "      <td>1.0</td>\n",
              "      <td>1.0</td>\n",
              "      <td>1.0</td>\n",
              "      <td>1.0</td>\n",
              "      <td>1.0</td>\n",
              "      <td>1.0</td>\n",
              "      <td>1.0</td>\n",
              "      <td>1.0</td>\n",
              "      <td>1.0</td>\n",
              "    </tr>\n",
              "    <tr>\n",
              "      <th>2</th>\n",
              "      <td>2.0</td>\n",
              "      <td>1.0</td>\n",
              "      <td>1.0</td>\n",
              "      <td>1.0</td>\n",
              "      <td>1.0</td>\n",
              "      <td>1.0</td>\n",
              "      <td>1.0</td>\n",
              "      <td>1.0</td>\n",
              "      <td>1.0</td>\n",
              "      <td>1.0</td>\n",
              "      <td>...</td>\n",
              "      <td>1.0</td>\n",
              "      <td>1.0</td>\n",
              "      <td>1.0</td>\n",
              "      <td>1.0</td>\n",
              "      <td>1.0</td>\n",
              "      <td>1.0</td>\n",
              "      <td>1.0</td>\n",
              "      <td>1.0</td>\n",
              "      <td>1.0</td>\n",
              "      <td>1.0</td>\n",
              "    </tr>\n",
              "    <tr>\n",
              "      <th>3</th>\n",
              "      <td>3.0</td>\n",
              "      <td>1.0</td>\n",
              "      <td>1.0</td>\n",
              "      <td>1.0</td>\n",
              "      <td>1.0</td>\n",
              "      <td>1.0</td>\n",
              "      <td>1.0</td>\n",
              "      <td>1.0</td>\n",
              "      <td>1.0</td>\n",
              "      <td>1.0</td>\n",
              "      <td>...</td>\n",
              "      <td>1.0</td>\n",
              "      <td>1.0</td>\n",
              "      <td>1.0</td>\n",
              "      <td>1.0</td>\n",
              "      <td>1.0</td>\n",
              "      <td>1.0</td>\n",
              "      <td>1.0</td>\n",
              "      <td>1.0</td>\n",
              "      <td>1.0</td>\n",
              "      <td>1.0</td>\n",
              "    </tr>\n",
              "    <tr>\n",
              "      <th>4</th>\n",
              "      <td>4.0</td>\n",
              "      <td>1.0</td>\n",
              "      <td>1.0</td>\n",
              "      <td>1.0</td>\n",
              "      <td>1.0</td>\n",
              "      <td>1.0</td>\n",
              "      <td>1.0</td>\n",
              "      <td>1.0</td>\n",
              "      <td>1.0</td>\n",
              "      <td>1.0</td>\n",
              "      <td>...</td>\n",
              "      <td>1.0</td>\n",
              "      <td>1.0</td>\n",
              "      <td>1.0</td>\n",
              "      <td>1.0</td>\n",
              "      <td>1.0</td>\n",
              "      <td>1.0</td>\n",
              "      <td>1.0</td>\n",
              "      <td>1.0</td>\n",
              "      <td>1.0</td>\n",
              "      <td>1.0</td>\n",
              "    </tr>\n",
              "    <tr>\n",
              "      <th>...</th>\n",
              "      <td>...</td>\n",
              "      <td>...</td>\n",
              "      <td>...</td>\n",
              "      <td>...</td>\n",
              "      <td>...</td>\n",
              "      <td>...</td>\n",
              "      <td>...</td>\n",
              "      <td>...</td>\n",
              "      <td>...</td>\n",
              "      <td>...</td>\n",
              "      <td>...</td>\n",
              "      <td>...</td>\n",
              "      <td>...</td>\n",
              "      <td>...</td>\n",
              "      <td>...</td>\n",
              "      <td>...</td>\n",
              "      <td>...</td>\n",
              "      <td>...</td>\n",
              "      <td>...</td>\n",
              "      <td>...</td>\n",
              "      <td>...</td>\n",
              "    </tr>\n",
              "    <tr>\n",
              "      <th>657</th>\n",
              "      <td>657.0</td>\n",
              "      <td>1.0</td>\n",
              "      <td>1.0</td>\n",
              "      <td>1.0</td>\n",
              "      <td>1.0</td>\n",
              "      <td>1.0</td>\n",
              "      <td>1.0</td>\n",
              "      <td>1.0</td>\n",
              "      <td>1.0</td>\n",
              "      <td>1.0</td>\n",
              "      <td>...</td>\n",
              "      <td>1.0</td>\n",
              "      <td>1.0</td>\n",
              "      <td>1.0</td>\n",
              "      <td>1.0</td>\n",
              "      <td>1.0</td>\n",
              "      <td>1.0</td>\n",
              "      <td>1.0</td>\n",
              "      <td>1.0</td>\n",
              "      <td>1.0</td>\n",
              "      <td>1.0</td>\n",
              "    </tr>\n",
              "    <tr>\n",
              "      <th>658</th>\n",
              "      <td>658.0</td>\n",
              "      <td>1.0</td>\n",
              "      <td>1.0</td>\n",
              "      <td>1.0</td>\n",
              "      <td>1.0</td>\n",
              "      <td>0.0</td>\n",
              "      <td>1.0</td>\n",
              "      <td>1.0</td>\n",
              "      <td>1.0</td>\n",
              "      <td>1.0</td>\n",
              "      <td>...</td>\n",
              "      <td>1.0</td>\n",
              "      <td>1.0</td>\n",
              "      <td>1.0</td>\n",
              "      <td>1.0</td>\n",
              "      <td>1.0</td>\n",
              "      <td>1.0</td>\n",
              "      <td>1.0</td>\n",
              "      <td>1.0</td>\n",
              "      <td>1.0</td>\n",
              "      <td>1.0</td>\n",
              "    </tr>\n",
              "    <tr>\n",
              "      <th>659</th>\n",
              "      <td>659.0</td>\n",
              "      <td>1.0</td>\n",
              "      <td>1.0</td>\n",
              "      <td>1.0</td>\n",
              "      <td>1.0</td>\n",
              "      <td>1.0</td>\n",
              "      <td>1.0</td>\n",
              "      <td>1.0</td>\n",
              "      <td>1.0</td>\n",
              "      <td>1.0</td>\n",
              "      <td>...</td>\n",
              "      <td>1.0</td>\n",
              "      <td>1.0</td>\n",
              "      <td>1.0</td>\n",
              "      <td>1.0</td>\n",
              "      <td>1.0</td>\n",
              "      <td>1.0</td>\n",
              "      <td>1.0</td>\n",
              "      <td>1.0</td>\n",
              "      <td>1.0</td>\n",
              "      <td>1.0</td>\n",
              "    </tr>\n",
              "    <tr>\n",
              "      <th>660</th>\n",
              "      <td>660.0</td>\n",
              "      <td>1.0</td>\n",
              "      <td>1.0</td>\n",
              "      <td>1.0</td>\n",
              "      <td>1.0</td>\n",
              "      <td>1.0</td>\n",
              "      <td>1.0</td>\n",
              "      <td>1.0</td>\n",
              "      <td>1.0</td>\n",
              "      <td>1.0</td>\n",
              "      <td>...</td>\n",
              "      <td>1.0</td>\n",
              "      <td>1.0</td>\n",
              "      <td>1.0</td>\n",
              "      <td>1.0</td>\n",
              "      <td>1.0</td>\n",
              "      <td>1.0</td>\n",
              "      <td>1.0</td>\n",
              "      <td>1.0</td>\n",
              "      <td>1.0</td>\n",
              "      <td>1.0</td>\n",
              "    </tr>\n",
              "    <tr>\n",
              "      <th>661</th>\n",
              "      <td>661.0</td>\n",
              "      <td>1.0</td>\n",
              "      <td>1.0</td>\n",
              "      <td>1.0</td>\n",
              "      <td>1.0</td>\n",
              "      <td>0.0</td>\n",
              "      <td>1.0</td>\n",
              "      <td>1.0</td>\n",
              "      <td>1.0</td>\n",
              "      <td>1.0</td>\n",
              "      <td>...</td>\n",
              "      <td>1.0</td>\n",
              "      <td>1.0</td>\n",
              "      <td>1.0</td>\n",
              "      <td>1.0</td>\n",
              "      <td>1.0</td>\n",
              "      <td>1.0</td>\n",
              "      <td>1.0</td>\n",
              "      <td>1.0</td>\n",
              "      <td>1.0</td>\n",
              "      <td>1.0</td>\n",
              "    </tr>\n",
              "  </tbody>\n",
              "</table>\n",
              "<p>662 rows × 593 columns</p>\n",
              "</div>"
            ],
            "text/plain": [
              "      0     1     2     3     4     5     6     7     8     9     ...  1176  \\\n",
              "0      0.0   1.0   1.0   1.0   1.0   1.0   1.0   1.0   1.0   1.0  ...   1.0   \n",
              "1      1.0   1.0   1.0   1.0   1.0   0.0   1.0   1.0   1.0   1.0  ...   1.0   \n",
              "2      2.0   1.0   1.0   1.0   1.0   1.0   1.0   1.0   1.0   1.0  ...   1.0   \n",
              "3      3.0   1.0   1.0   1.0   1.0   1.0   1.0   1.0   1.0   1.0  ...   1.0   \n",
              "4      4.0   1.0   1.0   1.0   1.0   1.0   1.0   1.0   1.0   1.0  ...   1.0   \n",
              "..     ...   ...   ...   ...   ...   ...   ...   ...   ...   ...  ...   ...   \n",
              "657  657.0   1.0   1.0   1.0   1.0   1.0   1.0   1.0   1.0   1.0  ...   1.0   \n",
              "658  658.0   1.0   1.0   1.0   1.0   0.0   1.0   1.0   1.0   1.0  ...   1.0   \n",
              "659  659.0   1.0   1.0   1.0   1.0   1.0   1.0   1.0   1.0   1.0  ...   1.0   \n",
              "660  660.0   1.0   1.0   1.0   1.0   1.0   1.0   1.0   1.0   1.0  ...   1.0   \n",
              "661  661.0   1.0   1.0   1.0   1.0   0.0   1.0   1.0   1.0   1.0  ...   1.0   \n",
              "\n",
              "     1177  1178  1179  1180  1181  1182  1183  1184  1185  \n",
              "0     1.0   1.0   1.0   1.0   1.0   1.0   1.0   1.0   1.0  \n",
              "1     1.0   1.0   1.0   1.0   1.0   1.0   1.0   1.0   1.0  \n",
              "2     1.0   1.0   1.0   1.0   1.0   1.0   1.0   1.0   1.0  \n",
              "3     1.0   1.0   1.0   1.0   1.0   1.0   1.0   1.0   1.0  \n",
              "4     1.0   1.0   1.0   1.0   1.0   1.0   1.0   1.0   1.0  \n",
              "..    ...   ...   ...   ...   ...   ...   ...   ...   ...  \n",
              "657   1.0   1.0   1.0   1.0   1.0   1.0   1.0   1.0   1.0  \n",
              "658   1.0   1.0   1.0   1.0   1.0   1.0   1.0   1.0   1.0  \n",
              "659   1.0   1.0   1.0   1.0   1.0   1.0   1.0   1.0   1.0  \n",
              "660   1.0   1.0   1.0   1.0   1.0   1.0   1.0   1.0   1.0  \n",
              "661   1.0   1.0   1.0   1.0   1.0   1.0   1.0   1.0   1.0  \n",
              "\n",
              "[662 rows x 593 columns]"
            ]
          },
          "execution_count": 47,
          "metadata": {},
          "output_type": "execute_result"
        }
      ],
      "source": [
        "x5"
      ]
    },
    {
      "cell_type": "code",
      "execution_count": null,
      "metadata": {
        "colab": {
          "base_uri": "https://localhost:8080/"
        },
        "id": "U6X1jFSZ2TGF",
        "outputId": "6ec63898-d47c-452e-e05e-8cfc45b9ee8b"
      },
      "outputs": [
        {
          "name": "stdout",
          "output_type": "stream",
          "text": [
            "Int64Index([   0,    1,    2,    3,    4,    5,    6,    7,    8,    9,\n",
            "            ...\n",
            "            1176, 1177, 1178, 1179, 1180, 1181, 1182, 1183, 1184, 1185],\n",
            "           dtype='int64', length=593)\n",
            "[0, 1, 2, 3, 4, 5, 6, 7, 8, 9, 10, 11, 12, 13, 14, 15, 16, 17, 18, 19, 20, 21, 22, 23, 24, 25, 26, 27, 28, 29, 30, 31, 32, 33, 34, 35, 36, 37, 38, 39, 40, 41, 42, 43, 44, 45, 46, 47, 48, 49, 50, 51, 52, 53, 54, 55, 56, 57, 58, 59, 60, 61, 62, 63, 64, 65, 66, 67, 68, 69, 70, 71, 72, 73, 74, 75, 76, 77, 78, 79, 80, 81, 82, 83, 84, 85, 86, 87, 88, 89, 90, 91, 92, 93, 94, 95, 96, 97, 98, 99, 100, 101, 102, 103, 104, 105, 106, 107, 108, 109, 110, 111, 112, 113, 114, 115, 116, 117, 118, 119, 120, 121, 122, 123, 124, 125, 126, 127, 128, 143, 147, 183, 188, 204, 254, 271, 289, 308, 360, 398, 507, 517, 520, 536, 643, 731, 734, 740, 741, 742, 743, 744, 745, 746, 747, 748, 749, 750, 751, 752, 753, 754, 755, 756, 757, 758, 759, 760, 761, 762, 763, 764, 765, 766, 767, 768, 769, 770, 771, 772, 773, 774, 775, 776, 777, 778, 779, 780, 781, 782, 783, 784, 785, 786, 787, 788, 789, 790, 791, 792, 793, 794, 795, 796, 797, 798, 799, 800, 801, 802, 803, 804, 805, 806, 807, 808, 809, 810, 811, 812, 813, 814, 815, 816, 817, 818, 819, 820, 821, 822, 823, 824, 825, 826, 827, 828, 829, 830, 831, 832, 833, 834, 835, 836, 837, 838, 839, 840, 841, 842, 843, 844, 845, 846, 847, 848, 849, 850, 851, 852, 853, 854, 855, 856, 857, 858, 859, 860, 861, 862, 863, 864, 865, 866, 867, 868, 869, 870, 871, 872, 873, 874, 875, 876, 877, 878, 879, 880, 881, 882, 883, 884, 885, 886, 887, 888, 889, 890, 891, 892, 893, 894, 895, 896, 897, 898, 899, 900, 901, 902, 903, 904, 905, 906, 907, 908, 909, 910, 911, 912, 913, 914, 915, 916, 917, 918, 919, 920, 921, 922, 923, 924, 925, 926, 927, 928, 929, 930, 931, 932, 933, 934, 935, 936, 937, 938, 939, 940, 941, 942, 943, 944, 945, 946, 947, 948, 949, 950, 951, 952, 953, 954, 955, 956, 957, 958, 959, 960, 961, 962, 963, 964, 965, 966, 967, 968, 969, 970, 971, 972, 973, 974, 975, 976, 977, 978, 979, 980, 981, 982, 983, 984, 985, 986, 987, 988, 989, 990, 991, 992, 993, 994, 995, 996, 997, 998, 999, 1000, 1001, 1002, 1003, 1004, 1005, 1006, 1007, 1008, 1009, 1010, 1011, 1012, 1013, 1014, 1015, 1016, 1017, 1018, 1019, 1020, 1021, 1022, 1023, 1024, 1025, 1026, 1027, 1028, 1029, 1030, 1031, 1032, 1033, 1034, 1035, 1036, 1037, 1038, 1039, 1040, 1041, 1042, 1043, 1044, 1045, 1046, 1047, 1048, 1049, 1050, 1051, 1052, 1053, 1054, 1055, 1056, 1057, 1058, 1059, 1060, 1061, 1062, 1063, 1064, 1065, 1066, 1067, 1068, 1069, 1070, 1071, 1072, 1073, 1074, 1075, 1076, 1077, 1078, 1079, 1080, 1081, 1082, 1083, 1084, 1085, 1086, 1087, 1088, 1089, 1090, 1091, 1092, 1093, 1094, 1095, 1096, 1097, 1098, 1099, 1100, 1101, 1102, 1103, 1104, 1105, 1106, 1107, 1108, 1109, 1110, 1111, 1112, 1113, 1114, 1115, 1116, 1117, 1118, 1119, 1120, 1121, 1122, 1123, 1124, 1125, 1126, 1127, 1128, 1129, 1130, 1131, 1132, 1133, 1134, 1135, 1136, 1137, 1138, 1139, 1140, 1141, 1142, 1143, 1144, 1145, 1146, 1147, 1148, 1149, 1150, 1151, 1152, 1153, 1154, 1155, 1156, 1157, 1158, 1159, 1160, 1161, 1162, 1163, 1164, 1165, 1166, 1167, 1168, 1169, 1170, 1171, 1172, 1173, 1174, 1175, 1176, 1177, 1178, 1179, 1180, 1181, 1182, 1183, 1184, 1185]\n"
          ]
        }
      ],
      "source": [
        "print(x5.columns)\n",
        "print(final_features)"
      ]
    },
    {
      "cell_type": "code",
      "execution_count": null,
      "metadata": {
        "id": "GvQTLUQE2TZg"
      },
      "outputs": [],
      "source": [
        "from scipy import sparse as s\n",
        "x5 = s.csr_matrix(x5)\n",
        "y5 = s.csr_matrix(y5)"
      ]
    },
    {
      "cell_type": "code",
      "execution_count": null,
      "metadata": {
        "colab": {
          "base_uri": "https://localhost:8080/"
        },
        "id": "zTSeX3Pb2cbq",
        "outputId": "9b67c278-87e5-4b62-9d20-c3f5f7874aa2"
      },
      "outputs": [
        {
          "name": "stdout",
          "output_type": "stream",
          "text": [
            "(463, 593) (199, 593) (463, 27) (199, 27)\n"
          ]
        }
      ],
      "source": [
        "from skmultilearn.model_selection import iterative_train_test_split\n",
        "x5_train, y5_train, x5_test, y5_test = iterative_train_test_split(x5, y5, test_size = 0.3)\n",
        "print(x5_train.shape, x5_test.shape, y5_train.shape, y5_test.shape)"
      ]
    },
    {
      "cell_type": "code",
      "execution_count": null,
      "metadata": {
        "id": "dxAxsEQW2hfA"
      },
      "outputs": [],
      "source": [
        "from skmultilearn.adapt import MLTSVM\n",
        "classifier1 = MLTSVM(c_k =2**-6)\n",
        "# train\n",
        "classifier1.fit(x5_train, y5_train)\n",
        "# predict\n",
        "MLTSVM5_predictions = classifier1.predict(x5_test)"
      ]
    },
    {
      "cell_type": "code",
      "execution_count": null,
      "metadata": {
        "id": "GwJwkwKF2lbs",
        "outputId": "92befa75-0c77-4779-c659-3a6c5ab02203"
      },
      "outputs": [
        {
          "name": "stderr",
          "output_type": "stream",
          "text": [
            "/home/rafia/anaconda3/lib/python3.7/site-packages/sklearn/utils/validation.py:70: FutureWarning: Pass n_neighbors=27 as keyword args. From version 0.25 passing these as positional arguments will result in an error\n",
            "  FutureWarning)\n"
          ]
        }
      ],
      "source": [
        "from skmultilearn.adapt import MLkNN\n",
        "#MLKNN is an adaptation of the kNN lazy learning algorithm for multi-label data.\n",
        "\n",
        "# apply MLkNN for delicious dataset it has 983 labels.\n",
        "classifier2 = MLkNN(k=27)\n",
        "\n",
        "# train\n",
        "classifier2.fit(x5_train, y5_train)\n",
        "\n",
        "# predict\n",
        "MLKNN5_predictions = classifier2.predict(x5_test)"
      ]
    },
    {
      "cell_type": "code",
      "execution_count": null,
      "metadata": {
        "id": "f_Eaj_uz25Kw"
      },
      "outputs": [],
      "source": [
        "from skmultilearn.adapt import BRkNNaClassifier\n",
        "classifier3 = BRkNNaClassifier(k=27)\n",
        "# train\n",
        "classifier3.fit(x5_train, y5_train)\n",
        "# predict\n",
        "BR5_predictions = classifier3.predict(x5_test)"
      ]
    },
    {
      "cell_type": "markdown",
      "metadata": {
        "id": "hQkF8EgtaLPO"
      },
      "source": [
        "### 05 - Results"
      ]
    },
    {
      "cell_type": "code",
      "execution_count": null,
      "metadata": {
        "id": "kZimEjtKW0It"
      },
      "outputs": [],
      "source": [
        "import sklearn.metrics as m\n",
        "#Hamming Loss\n",
        "hamming_loss_MLTSVM.append(round(m.hamming_loss(y5_test, MLTSVM5_predictions),2))\n",
        "hamming_loss_MLKNN.append(round(m.hamming_loss(y5_test, MLKNN5_predictions),2))\n",
        "hamming_loss_BRKNNa.append(round(m.hamming_loss(y5_test, BR5_predictions),2))\n",
        "\n",
        "#Accuracy\n",
        "accuracy_MLTSVM.append(round(m.accuracy_score(y5_test, MLTSVM5_predictions),2))\n",
        "accuracy_MLKNN.append(round(m.accuracy_score(y5_test, MLKNN5_predictions),2))\n",
        "accuracy_BRKNNa.append(round(m.accuracy_score(y5_test, BR5_predictions),2))\n",
        "\n",
        "#Micro Precision\n",
        "precision_MLTSVM.append(round(m.precision_score(y5_test, MLTSVM5_predictions, average='micro', zero_division='warn'),2))\n",
        "precision_MLKNN.append(round(m.precision_score(y5_test, MLKNN5_predictions, average='micro', zero_division='warn'),2))\n",
        "precision_BRKNNa.append(round(m.precision_score(y5_test, BR5_predictions, average='micro', zero_division='warn'),2))\n",
        "\n",
        "#Micro Recall\n",
        "recall_MLTSVM.append(round(m.recall_score(y5_test, MLTSVM5_predictions, average='micro',zero_division='warn'),2))\n",
        "recall_MLKNN.append(round(m.recall_score(y5_test, MLKNN5_predictions, average='micro',zero_division='warn'),2))\n",
        "recall_BRKNNa.append(round(m.recall_score(y5_test, BR5_predictions, average='micro',zero_division='warn'),2))\n",
        "#Micro F1 measure\n",
        "f1_measure_MLTSVM.append(round(m.f1_score(y5_test, MLTSVM5_predictions, average='micro',zero_division='warn'),2))\n",
        "f1_measure_MLKNN.append(round(m.f1_score(y5_test, MLKNN5_predictions, average='micro',zero_division='warn'),2))\n",
        "f1_measure_BRKNNa.append(round(m.f1_score(y5_test, BR5_predictions, average='micro',zero_division='warn'),2))"
      ]
    },
    {
      "cell_type": "code",
      "execution_count": null,
      "metadata": {
        "colab": {
          "base_uri": "https://localhost:8080/"
        },
        "id": "T5Gjb-ox2_af",
        "outputId": "c24a9f04-9d55-48dc-b6fc-0132026eefbe"
      },
      "outputs": [
        {
          "name": "stdout",
          "output_type": "stream",
          "text": [
            "------------------------------\n",
            "\t(Examples,Labels\n",
            "------------------------------\n",
            "MLTSVM ->  (199, 27)\n",
            "MLKNN  ->  (199, 27)\n",
            "BRKNNa ->  (199, 27)\n",
            "------------------------------\n",
            "\tHamming Loss\n",
            "------------------------------\n",
            "MLTSVM ->  0.02\n",
            "MLKNN  ->  0.04\n",
            "BRKNNa ->  0.04\n",
            "------------------------------\n",
            "\tAccuracy\n",
            "------------------------------\n",
            "MLTSVM ->  0.57\n",
            "MLKNN  ->  0.14\n",
            "BRKNNa ->  0.15\n",
            "------------------------------\n",
            "\tPrecision\n",
            "------------------------------\n",
            "MLTSVM ->  0.73\n",
            "MLKNN ->  0.85\n",
            "MLKNNa ->  0.76\n",
            "------------------------------\n",
            "\tRecall\n",
            "------------------------------\n",
            "MLTSVM ->  0.84\n",
            "MLKNN ->  0.11\n",
            "BRKNNa ->  0.12\n",
            "------------------------------\n",
            "\tF1-measure\n",
            "------------------------------\n",
            "MLTSVM ->  0.78\n",
            "MLKNN ->  0.19\n",
            "BRKNNa ->  0.21\n",
            "\n"
          ]
        }
      ],
      "source": [
        "print(\"------------------------------\")\n",
        "print(\"\\t(Examples,Labels\")\n",
        "print(\"------------------------------\")\n",
        "print(\"MLTSVM -> \",MLTSVM5_predictions.shape)\n",
        "print(\"MLKNN  -> \",MLKNN5_predictions.shape)\n",
        "print(\"BRKNNa -> \",BR5_predictions.shape)\n",
        "import sklearn.metrics as m\n",
        "print(\"------------------------------\")\n",
        "print(\"\\tHamming Loss\")\n",
        "print(\"------------------------------\")\n",
        "print(\"MLTSVM -> \",round(m.hamming_loss(y5_test, MLTSVM5_predictions),2))\n",
        "print(\"MLKNN  -> \",round(m.hamming_loss(y5_test, MLKNN5_predictions),2))\n",
        "print(\"BRKNNa -> \",round(m.hamming_loss(y5_test, BR5_predictions),2))\n",
        "print(\"------------------------------\")\n",
        "print(\"\\tAccuracy\")\n",
        "print(\"------------------------------\")\n",
        "print(\"MLTSVM -> \",round(m.accuracy_score(y5_test, MLTSVM5_predictions),2))\n",
        "print(\"MLKNN  -> \",round(m.accuracy_score(y5_test, MLKNN5_predictions),2))\n",
        "print(\"BRKNNa -> \",round(m.accuracy_score(y5_test, BR5_predictions),2))\n",
        "print(\"------------------------------\")\n",
        "print(\"\\tPrecision\")\n",
        "print(\"------------------------------\")\n",
        "print(\"MLTSVM -> \",round(m.precision_score(y5_test, MLTSVM5_predictions, average='micro',zero_division='warn'),2))\n",
        "print(\"MLKNN -> \",round(m.precision_score(y5_test, MLKNN5_predictions, average='micro',zero_division='warn'),2))\n",
        "print(\"MLKNNa -> \",round(m.precision_score(y5_test, BR5_predictions, average='micro',zero_division='warn'),2))\n",
        "print(\"------------------------------\")\n",
        "print(\"\\tRecall\")\n",
        "print(\"------------------------------\")\n",
        "print(\"MLTSVM -> \",round(m.recall_score(y5_test, MLTSVM5_predictions, average='micro',zero_division='warn'),2))\n",
        "print(\"MLKNN -> \",round(m.recall_score(y5_test, MLKNN5_predictions, average='micro',zero_division='warn'),2))\n",
        "print(\"BRKNNa -> \",round(m.recall_score(y5_test, BR5_predictions, average='micro',zero_division='warn'),2))\n",
        "print(\"------------------------------\")\n",
        "print(\"\\tF1-measure\")\n",
        "print(\"------------------------------\")\n",
        "#f1=2*(p*r)/(p+r)\n",
        "print(\"MLTSVM -> \",round(m.f1_score(y5_test, MLTSVM5_predictions, average='micro',zero_division='warn'),2))\n",
        "print(\"MLKNN -> \",round(m.f1_score(y5_test, MLKNN5_predictions, average='micro',zero_division='warn'),2))\n",
        "print(\"BRKNNa -> \",round(m.f1_score(y5_test, BR5_predictions, average='micro',zero_division='warn'),2))\n",
        "print()"
      ]
    },
    {
      "cell_type": "code",
      "execution_count": null,
      "metadata": {
        "colab": {
          "base_uri": "https://localhost:8080/",
          "height": 315
        },
        "id": "kqH8Ak98_OWR",
        "outputId": "3a467e18-a8f1-49db-a39c-d64229fa4829"
      },
      "outputs": [
        {
          "name": "stdout",
          "output_type": "stream",
          "text": [
            "[0.02, 0.06, 0.11, 0.04]\n"
          ]
        },
        {
          "data": {
            "image/png": "[encoded data removed]",
            "text/plain": [
              "<Figure size 432x288 with 1 Axes>"
            ]
          },
          "metadata": {
            "needs_background": "light"
          },
          "output_type": "display_data"
        }
      ],
      "source": [
        "import matplotlib.pyplot as plt\n",
        "dataset=['medical','enron','scene','gebase']\n",
        "print(hamming_loss_MLKNN)\n",
        "fig, ax=plt.subplots()\n",
        "ax.plot(dataset,hamming_loss_MLTSVM, label='MLTSVM',marker='H')\n",
        "ax.plot(dataset,hamming_loss_MLKNN, label='MLKNN',marker='>')\n",
        "ax.plot(dataset,hamming_loss_BRKNNa, label='BRKNNa',marker='*')\n",
        "ax.legend(loc='upper left')\n",
        "ax.set_title('Chi2 for 40% FS')\n",
        "ax.set_xlabel('Datasets')\n",
        "ax.set_ylabel('Hamming Loss')\n",
        "plt.tight_layout()\n",
        "plt.savefig('chi-40-hamming loss')"
      ]
    },
    {
      "cell_type": "code",
      "execution_count": null,
      "metadata": {
        "colab": {
          "base_uri": "https://localhost:8080/",
          "height": 295
        },
        "id": "7rTyZfCiDIdU",
        "outputId": "974e1ef2-2a3b-471d-96d3-729b7348ce37"
      },
      "outputs": [
        {
          "data": {
            "image/png": "[encoded data removed]",
            "text/plain": [
              "<Figure size 432x288 with 1 Axes>"
            ]
          },
          "metadata": {
            "needs_background": "light"
          },
          "output_type": "display_data"
        }
      ],
      "source": [
        "#import matplotlib.pyplot as plt\n",
        "fig, ax=plt.subplots()\n",
        "ax.plot(dataset,accuracy_MLTSVM, label='MLTSVM',marker='H')\n",
        "ax.plot(dataset,accuracy_MLKNN, label='MLKNN',marker='>')\n",
        "ax.plot(dataset,accuracy_BRKNNa, label='BRKNNa',marker='*')\n",
        "ax.legend(loc='upper left')\n",
        "ax.set_title('Chi2 for 40% FS')\n",
        "ax.set_xlabel('Datasets')\n",
        "ax.set_ylabel('Accuracy')\n",
        "plt.savefig('chi-40-Accuracy')"
      ]
    },
    {
      "cell_type": "code",
      "execution_count": null,
      "metadata": {
        "colab": {
          "base_uri": "https://localhost:8080/",
          "height": 297
        },
        "id": "xeZnDK3uHBWu",
        "outputId": "12960db6-417c-422f-b5b2-e69ae15461a4"
      },
      "outputs": [
        {
          "data": {
            "image/png": "[encoded data removed]",
            "text/plain": [
              "<Figure size 432x288 with 1 Axes>"
            ]
          },
          "metadata": {
            "needs_background": "light"
          },
          "output_type": "display_data"
        }
      ],
      "source": [
        "fig, ax=plt.subplots()\n",
        "ax.plot(dataset,precision_MLTSVM, label='MLTSVM',marker='H')\n",
        "ax.plot(dataset,precision_MLKNN, label='MLKNN',marker='>')\n",
        "ax.plot(dataset,precision_BRKNNa, label='BRKNNa',marker='*')\n",
        "ax.legend(loc='lower left')\n",
        "ax.set_title('Chi2 for 40% FS')\n",
        "ax.set_xlabel('Datasets')\n",
        "ax.set_ylabel('Micro Precision')\n",
        "plt.tight_layout()\n",
        "plt.savefig('chi-40-Precision')"
      ]
    },
    {
      "cell_type": "code",
      "execution_count": null,
      "metadata": {
        "colab": {
          "base_uri": "https://localhost:8080/",
          "height": 297
        },
        "id": "chPCvWelJuS4",
        "outputId": "477a52d1-9d0f-47f2-fddd-cac4bda8fb4a"
      },
      "outputs": [
        {
          "data": {
            "image/png": "[encoded data removed]",
            "text/plain": [
              "<Figure size 432x288 with 1 Axes>"
            ]
          },
          "metadata": {
            "needs_background": "light"
          },
          "output_type": "display_data"
        }
      ],
      "source": [
        "fig, ax=plt.subplots()\n",
        "ax.plot(dataset,recall_MLTSVM, label='MLTSVM',marker='H')\n",
        "ax.plot(dataset,recall_MLKNN, label='MLKNN',marker='>')\n",
        "ax.plot(dataset,recall_BRKNNa, label='BRKNNa',marker='*')\n",
        "ax.legend(loc='upper left')\n",
        "ax.set_title('Chi2 for 40% FS')\n",
        "ax.set_xlabel('Datasets')\n",
        "ax.set_ylabel('Micro Recall')\n",
        "plt.tight_layout()\n",
        "plt.savefig('chi-40-Recall')"
      ]
    },
    {
      "cell_type": "code",
      "execution_count": null,
      "metadata": {
        "colab": {
          "base_uri": "https://localhost:8080/",
          "height": 297
        },
        "id": "QcScDEztLD37",
        "outputId": "f9056e48-35bd-43dd-9121-b1dc9a6b9cb4"
      },
      "outputs": [
        {
          "data": {
            "image/png": "[encoded data removed]",
            "text/plain": [
              "<Figure size 432x288 with 1 Axes>"
            ]
          },
          "metadata": {
            "needs_background": "light"
          },
          "output_type": "display_data"
        }
      ],
      "source": [
        "#F1 measure\n",
        "fig, ax=plt.subplots()\n",
        "ax.plot(dataset,f1_measure_MLTSVM, label='MLTSVM',marker='H')\n",
        "ax.plot(dataset,f1_measure_MLKNN, label='MLKNN',marker='>')\n",
        "ax.plot(dataset,f1_measure_BRKNNa, label='BRKNNa',marker='*')\n",
        "ax.legend(loc='lower left')\n",
        "ax.set_title('Chi2 for 40% FS')\n",
        "ax.set_xlabel('Datasets')\n",
        "ax.set_ylabel('Micro F1 measure')\n",
        "plt.tight_layout()\n",
        "plt.savefig('chi-40-f1 measure')"
      ]
    },
    {
      "cell_type": "code",
      "execution_count": null,
      "metadata": {
        "id": "x6y5HDY3r3Rr"
      },
      "outputs": [],
      "source": []
    }
  ],
  "metadata": {
    "accelerator": "TPU",
    "colab": {
      "provenance": [],
      "toc_visible": true,
      "include_colab_link": true
    },
    "kernelspec": {
      "display_name": "Python 3",
      "language": "python",
      "name": "python3"
    },
    "language_info": {
      "codemirror_mode": {
        "name": "ipython",
        "version": 3
      },
      "file_extension": ".py",
      "mimetype": "text/x-python",
      "name": "python",
      "nbconvert_exporter": "python",
      "pygments_lexer": "ipython3",
      "version": "3.7.9"
    }
  },
  "nbformat": 4,
  "nbformat_minor": 0
}